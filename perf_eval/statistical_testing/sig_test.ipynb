{
 "cells": [
  {
   "cell_type": "markdown",
   "metadata": {},
   "source": [
    "# Significance testing"
   ]
  },
  {
   "cell_type": "code",
   "execution_count": 1,
   "metadata": {},
   "outputs": [],
   "source": [
    "import numpy as np\n",
    "import pandas as pd\n",
    "import os\n",
    "from checkFissFus2 import get_fiss_fus_all , fiss_fus_reassigned_label\n",
    "from significance_test import sliding_window_cumsum,regularization,apply_function_to_arrays,convert_to_sig_test, apply_function_folder\n",
    "import matplotlib.pyplot as plt\n",
    "import pingouin as pg"
   ]
  },
  {
   "cell_type": "markdown",
   "metadata": {},
   "source": [
    "## import and prepare data"
   ]
  },
  {
   "cell_type": "markdown",
   "metadata": {},
   "source": [
    "### import data"
   ]
  },
  {
   "cell_type": "code",
   "execution_count": 2,
   "metadata": {},
   "outputs": [],
   "source": [
    "dir_path_tox_adjusted = \"../nellie_output/toxicity/adjusted\"\n",
    "dir_path_mdivi_adjusted = \"../nellie_output/mdivi/adjusted\"\n",
    "\n",
    "dir_path_mdivi_self = \"../self_event/mdivi/num_area\"\n",
    "dir_path_tox_self = \"../self_event/toxicity/num_area\"\n",
    "\n",
    "#dir_tox_meter = \"D:/Internship/NTU/my_script/mitometer_output/toxin\"\n",
    "#dir_mdivi_meter = \"D:/Internship/NTU/my_script/mitometer_output/mdivi\"\n",
    "\n",
    "dir_path_tox = \"../nellie_output/toxicity/0.25\"\n",
    "dir_path_mdivi = \"../nellie_output/mdivi/0.25\"\n",
    "\n",
    "dir_raw_tox = \"D:/Internship/NTU/nellie_output/nellie_output/toxins/\"\n",
    "dir_raw_mdivi = \"D:/Internship/NTU/nellie_output/nellie_output/mdivi/\""
   ]
  },
  {
   "cell_type": "code",
   "execution_count": 3,
   "metadata": {},
   "outputs": [],
   "source": [
    "\n",
    "#mitometer\n",
    "#fission_tox_meter, fusion_tox_meter, fiss_frame_meter, fus_frame_meter = get_fiss_fus_all(dir_tox_meter)\n",
    "#fission_mdivi_meter, fusion_mdivi_meter, fiss_frame_meter_tox, fus_frame_meter_tox = get_fiss_fus_all(dir_mdivi_meter, isBound_to_min= False)\n",
    "\n",
    "#after area threshold adjustment\n",
    "fission_tox_adjusted, fusion_tox_adjusted, fiss_frame_meter, fus_frame_meter = get_fiss_fus_all(dir_path_tox_adjusted)\n",
    "fission_mdivi_adjusted, fusion_mdivi_adjusted, fiss_frame_meter_tox, fus_frame_meter_tox = get_fiss_fus_all(dir_path_mdivi_adjusted, isBound_to_min= False)\n",
    "\n",
    "#before area threshod adjustment\n",
    "fission_tox, fusion_tox, fiss_frame_meter, fus_frame_meter = get_fiss_fus_all(dir_path_tox)\n",
    "fission_mdivi, fusion_mdivi, fiss_frame_meter_tox, fus_frame_meter_tox = get_fiss_fus_all(dir_path_mdivi, isBound_to_min= False)\n",
    "\n",
    "#self event\n",
    "fission_mdivi_self, fusion_mdivi_self, fiss_self_frame_mdivi, fus_self_frame_mdivi = get_fiss_fus_all(dir_path_mdivi_self, isBound_to_min= False)\n",
    "fission_tox_self, fusion_tox_self, fiss_self_frame, fus_self_frame = get_fiss_fus_all(dir_path_tox_self)\n",
    "\n",
    "#fission fusion from Nellie author \n",
    "out_tox = apply_function_folder(dir_raw_tox, keywords=\"features_components\", func=fiss_fus_reassigned_label)\n",
    "out_mdivi = apply_function_folder(dir_raw_mdivi, keywords=\"features_components\", func=fiss_fus_reassigned_label)"
   ]
  },
  {
   "cell_type": "markdown",
   "metadata": {},
   "source": [
    "### fission/fusion from Nellie's Author"
   ]
  },
  {
   "cell_type": "code",
   "execution_count": 4,
   "metadata": {},
   "outputs": [],
   "source": [
    "out_tox_copy = out_tox.copy()\n",
    "x = out_tox.keys()\n",
    "for key in x:\n",
    "    condition = key.split(\"_\")[2].split(\".\")[0]\n",
    "    out_tox_copy[condition] = out_tox_copy.pop((key))"
   ]
  },
  {
   "cell_type": "code",
   "execution_count": 5,
   "metadata": {},
   "outputs": [],
   "source": [
    "out_mdivi_copy = out_mdivi.copy()\n",
    "x = out_mdivi.keys()\n",
    "for key in x:\n",
    "    condition = key.split(\"_\")[1] +\"_\" +  key.split(\"_\")[2].split(\".\")[0]\n",
    "    out_mdivi_copy[condition] = out_mdivi_copy.pop((key))"
   ]
  },
  {
   "cell_type": "code",
   "execution_count": 6,
   "metadata": {},
   "outputs": [],
   "source": [
    "fission_tox_nellie = [out_tox_copy[\"control\"][2],out_tox_copy[\"FCCP\"][2],out_tox_copy[\"oligomycin\"][2],out_tox_copy[\"Rotenone\"][2]]\n",
    "fusion_tox_nellie = [out_tox_copy[\"control\"][3],out_tox_copy[\"FCCP\"][3],out_tox_copy[\"oligomycin\"][3],out_tox_copy[\"Rotenone\"][3]]\n",
    "minimum = np.min([len(x) for x in fission_tox_nellie])\n",
    "fission_tox_nellie = np.array([x[0:minimum] for x in fission_tox_nellie]).flatten()\n",
    "fusion_tox_nellie = np.array([x[0:minimum] for x in fusion_tox_nellie]).flatten()"
   ]
  },
  {
   "cell_type": "code",
   "execution_count": 7,
   "metadata": {},
   "outputs": [],
   "source": [
    "fission_mdivi_nellie = [out_mdivi_copy[\"control_3\"][2],out_mdivi_copy[\"mdivi_3\"][2]]\n",
    "fusion_mdivi_nellie = [out_mdivi_copy[\"control_3\"][3],out_mdivi_copy[\"mdivi_3\"][3]]\n",
    "\n",
    "fission_mdivi_nellie_10min = [out_mdivi_copy[\"control_10min\"][2],out_mdivi_copy[\"mdivi_10min\"][2]]\n",
    "fusion_mdivi_nellie_10min = [out_mdivi_copy[\"control_10min\"][3],out_mdivi_copy[\"mdivi_10min\"][3]]\n",
    "\n",
    "minimum_normal = np.min([len(x) for x in fission_mdivi_nellie])\n",
    "minimum_10min = np.min([len(x) for x in fission_mdivi_nellie_10min])\n",
    "\n",
    "fission_mdivi_nellie = np.array([x[0:minimum_normal] for x in fission_mdivi_nellie]).flatten()\n",
    "fusion_mdivi_nellie = np.array([x[0:minimum_normal] for x in fusion_mdivi_nellie]).flatten()\n",
    "fission_mdivi_nellie_10min = np.array([x[0:minimum_10min] for x in fission_mdivi_nellie_10min]).flatten()\n",
    "fusion_mdivi_nellie_10min = np.array([x[0:minimum_10min] for x in fusion_mdivi_nellie_10min]).flatten()\n"
   ]
  },
  {
   "cell_type": "markdown",
   "metadata": {},
   "source": [
    "### fission fusion algo output"
   ]
  },
  {
   "cell_type": "code",
   "execution_count": 8,
   "metadata": {},
   "outputs": [],
   "source": [
    "#len(fusion_mdivi_meter[0]), len(fusion_mdivi_meter[1]), len(fusion_mdivi_meter[2]),  len(fusion_mdivi_meter[3])\n",
    "#fusion_mdivi_meter[2] = fusion_mdivi_meter[2][0:61]\n",
    "#fission_mdivi_meter[2] = fission_mdivi_meter[2][0:61]"
   ]
  },
  {
   "cell_type": "code",
   "execution_count": 9,
   "metadata": {},
   "outputs": [],
   "source": [
    "#fusion_mdivi_meter"
   ]
  },
  {
   "cell_type": "markdown",
   "metadata": {},
   "source": [
    "### take a minimum df value"
   ]
  },
  {
   "cell_type": "code",
   "execution_count": 10,
   "metadata": {},
   "outputs": [],
   "source": [
    "\n",
    "# control 10min, control 3, mdivi 10min, mdivi 3\n",
    "#extract result from mdivi (fission, self_fission, fusion, self_fusion) in 10 second and 1 second interval\n",
    "\n",
    "# 10 min fission\n",
    "fission_mdivi_10min = np.array([fission_mdivi[0],fission_mdivi[2] ])\n",
    "fusion_mdivi_10min = np.array([fusion_mdivi[0],fusion_mdivi[2] ])\n",
    "fission_mdivi_self_10min = np.array([fission_mdivi_self[0],fission_mdivi_self[2] ])\n",
    "fusion_mdivi_self_10min = np.array([fusion_mdivi_self[0],fusion_mdivi_self[2] ])\n",
    "#fission_mdivi_10min_meter = np.array([fission_mdivi_meter[0],fission_mdivi_meter[2] ])\n",
    "#fusion_mdivi_10min_meter = np.array([fusion_mdivi_meter[0],fusion_mdivi_meter[2] ])\n",
    "\n",
    "fission_mdivi_10min_adjusted = np.array([fission_mdivi_adjusted[0],fission_mdivi_adjusted[2] ])\n",
    "fusion_mdivi_10min_adjusted = np.array([fusion_mdivi_adjusted[0],fusion_mdivi_adjusted[2] ])\n",
    "\n",
    "# 1.3 second fission\n",
    "fission_mdivi = np.array([x[0:minimum_normal] for x in [fission_mdivi[1],fission_mdivi[3] ]])\n",
    "fusion_mdivi = np.array([x[0:minimum_normal] for x in[fusion_mdivi[1],fusion_mdivi[3] ]])\n",
    "fission_mdivi_self = np.array([x[0:minimum_normal] for x in[fission_mdivi_self[1],fission_mdivi_self[3] ]])\n",
    "fusion_mdivi_self = np.array([x[0:minimum_normal] for x in[fusion_mdivi_self[1],fusion_mdivi_self[3] ]])\n",
    "#fission_mdivi_meter = np.array([x[0:minimum_normal] for x in[fission_mdivi_meter[1],fission_mdivi_meter[3] ]])\n",
    "#fusion_mdivi_meter = np.array([x[0:minimum_normal] for x in[fusion_mdivi_meter[1],fusion_mdivi_meter[3] ]])\n",
    "\n",
    "fission_mdivi_adjusted = np.array([x[0:minimum_normal] for x in[fission_mdivi_adjusted[1],fission_mdivi_adjusted[3] ]])\n",
    "fusion_mdivi_adjusted =np.array([x[0:minimum_normal] for x in [fusion_mdivi_adjusted[1],fusion_mdivi_adjusted[3] ]])\n",
    "\n",
    "\n",
    "\n",
    "#all event\n",
    "fission_mdivi_all = fission_mdivi + fission_mdivi_self\n",
    "fusion_mdivi_all = fusion_mdivi + fusion_mdivi_self\n",
    "\n",
    "fission_mdivi_10min_all = fission_mdivi_10min + fission_mdivi_self_10min\n",
    "fusion_mdivi_10min_all = fusion_mdivi_10min + fusion_mdivi_self_10min\n",
    "\n",
    "minimum_tox = min(len(fission_tox[0]), len(fission_tox[1]), len(fission_tox[2]), len(fission_tox[3]))"
   ]
  },
  {
   "cell_type": "markdown",
   "metadata": {},
   "source": [
    "### Area and label number"
   ]
  },
  {
   "cell_type": "code",
   "execution_count": 11,
   "metadata": {},
   "outputs": [],
   "source": [
    "def get_label_info(path,name,max_size):\n",
    "    df = pd.read_csv(path)\n",
    "    mini_df = df[['t', 'label', 'area_raw' , 'solidity_raw', 'aspect_ratio_mean', 'divergence_mean' , 'convergence_mean', 'reassigned_label_raw'] ]\n",
    "\n",
    "    frames = np.unique(mini_df['t'])\n",
    "    label_num_all = []\n",
    "    area_all = []\n",
    "    raw_label_all = []\n",
    "    frame_all = []\n",
    "    for frame in frames:\n",
    "        mini_df_frame = mini_df[mini_df['t'] == frame]\n",
    "        label_num = len(np.unique(mini_df_frame['reassigned_label_raw']))\n",
    "        area = np.sum(mini_df_frame['area_raw']) # can also do average area\n",
    "        raw_label = len(np.unique(mini_df_frame['label']))\n",
    "        \n",
    "        if len(label_num_all) < max_size:\n",
    "            label_num_all.append(label_num)\n",
    "            area_all.append(area)\n",
    "            raw_label_all.append(raw_label) \n",
    "            frame_all.append(frame)\n",
    "\n",
    "    return np.array(label_num_all), np.array(area_all), np.array(raw_label_all), np.array(frame_all)"
   ]
  },
  {
   "cell_type": "code",
   "execution_count": 12,
   "metadata": {},
   "outputs": [],
   "source": [
    "# check number of label over time/frame \n",
    "# check area over time/frame\n",
    "#stream_frame = ['1','1','1','1','5','5','10','10']\n",
    "#stream_con = ['0','0.5','1','2','1','0.5','0','2']\n",
    "stream_file = ['control','FCCP','oligomycin','Rotenone']\n",
    "\n",
    "main_dir = \"D:/Internship/NTU/nellie_output/nellie_output/toxins/\"\n",
    "label_num_all = []\n",
    "area_all = []\n",
    "raw_label_all = []\n",
    "frame_all = []\n",
    "\n",
    "\n",
    "for s in range(len(stream_file)):\n",
    "    # 1st part check area and number of label\n",
    "    #im_concen = stream_con[s]\n",
    "    im_concen = stream_file[s]\n",
    "\n",
    "    #file_path_feature = main_dir + \"ins1_\" + im_concen + \".ome-ch0-features_components.csv\"\n",
    "    #file_path_feature = main_dir + \"/\" + im_frame + \"_resized_\" + im_concen + \"_glu_1min_#1.ome-ch0-features_components.csv\"\n",
    "    file_path_feature = main_dir + \"time_ins_\" + im_concen + \".ome-ch0-features_components.csv\"\n",
    "    label_num, area, raw_label, frame = get_label_info(file_path_feature, im_concen, max_size = 137)\n",
    "    if len(label_num_all) == 0:\n",
    "        label_num_all = [label_num]\n",
    "        area_all = [area]\n",
    "        raw_label_all = [raw_label]\n",
    "        frame_all = [frame]\n",
    "\n",
    "    else:\n",
    "        label_num_all.append(label_num)\n",
    "        area_all.append(area)\n",
    "        raw_label_all.append(raw_label)\n",
    "        frame_all.append(frame)"
   ]
  },
  {
   "cell_type": "markdown",
   "metadata": {},
   "source": [
    "## fission fusion ratio before and after the area threshold adjustment for toxicity data"
   ]
  },
  {
   "cell_type": "code",
   "execution_count": 13,
   "metadata": {},
   "outputs": [
    {
     "name": "stdout",
     "output_type": "stream",
     "text": [
      "759 1245 619 503\n",
      "616 914 479 441\n",
      "1.2321428571428572 1.3621444201312911 1.4036281179138321 1.1405895691609977\n"
     ]
    }
   ],
   "source": [
    "# \n",
    "print(np.sum(fission_tox_adjusted[0]),np.sum(fission_tox_adjusted[1]), np.sum(fission_tox_adjusted[2]), np.sum(fission_tox_adjusted[3]))\n",
    "print(np.sum(fusion_tox_adjusted[0]),np.sum(fusion_tox_adjusted[1]), np.sum(fusion_tox_adjusted[2]), np.sum(fusion_tox_adjusted[3]))\n",
    "\n",
    "print(np.sum(fission_tox_adjusted[0]) / np.sum(fusion_tox_adjusted[0]) ,np.sum(fission_tox_adjusted[1]) / np.sum(fusion_tox_adjusted[1]), \n",
    "      np.sum(fission_tox_adjusted[2]) / np.sum(fusion_tox_adjusted[3]), np.sum(fission_tox_adjusted[3]) / np.sum(fusion_tox_adjusted[3]))"
   ]
  },
  {
   "cell_type": "code",
   "execution_count": 14,
   "metadata": {},
   "outputs": [
    {
     "name": "stdout",
     "output_type": "stream",
     "text": [
      "880 1300 712 549\n",
      "883 1327 714 603\n",
      "0.9966024915062288 0.9796533534287868 1.1807628524046434 0.9104477611940298\n"
     ]
    }
   ],
   "source": [
    "print(np.sum(fission_tox[0]),np.sum(fission_tox[1]), np.sum(fission_tox[2]), np.sum(fission_tox[3]))\n",
    "print(np.sum(fusion_tox[0]),np.sum(fusion_tox[1]), np.sum(fusion_tox[2]), np.sum(fusion_tox[3]))\n",
    "\n",
    "print(np.sum(fission_tox[0]) / np.sum(fusion_tox[0]) ,np.sum(fission_tox[1]) / np.sum(fusion_tox[1]), \n",
    "      np.sum(fission_tox[2]) / np.sum(fusion_tox[3]), np.sum(fission_tox[3]) / np.sum(fusion_tox[3]))\n"
   ]
  },
  {
   "cell_type": "markdown",
   "metadata": {},
   "source": [
    "## fission fusion ratio before and after area threshold adjustment for MDIVI"
   ]
  },
  {
   "cell_type": "code",
   "execution_count": 15,
   "metadata": {},
   "outputs": [
    {
     "name": "stdout",
     "output_type": "stream",
     "text": [
      "fission 394 367 216 217\n",
      "fusion 322 286 216 217\n",
      "control , mdivi, control 10min, mdivi 10min\n",
      "1.2236024844720497 1.2832167832167831 2.076923076923077 1.0\n"
     ]
    }
   ],
   "source": [
    "#order: control , mdivi , control 10min, mdivi 10 min\n",
    "print(\"fission\", np.sum(fission_mdivi_adjusted[0]),np.sum(fission_mdivi_adjusted[1]), np.sum(fission_mdivi_10min_adjusted[0]), np.sum(fission_mdivi_10min_adjusted[1]))\n",
    "print(\"fusion\",np.sum(fusion_mdivi_adjusted[0]),np.sum(fusion_mdivi_adjusted[1]), np.sum(fission_mdivi_10min_adjusted[0]), np.sum(fission_mdivi_10min_adjusted[1]))\n",
    "\n",
    "print(\"control , mdivi, control 10min, mdivi 10min\")\n",
    "print(np.sum(fission_mdivi_adjusted[0]) / np.sum(fusion_mdivi_adjusted[0]) ,np.sum(fission_mdivi_adjusted[1]) / np.sum(fusion_mdivi_adjusted[1]), \n",
    "      np.sum(fission_mdivi_10min_adjusted[0]) / np.sum(fusion_mdivi_10min_adjusted[0]), np.sum(fission_mdivi_10min_adjusted[1]) / np.sum(fission_mdivi_10min_adjusted[1]))"
   ]
  },
  {
   "cell_type": "code",
   "execution_count": 16,
   "metadata": {},
   "outputs": [
    {
     "name": "stdout",
     "output_type": "stream",
     "text": [
      "fission 452 421 300 262\n",
      "fusion 463 410 286 298\n",
      "control , mdivi, control 10min, mdivi 10min\n",
      "0.9762419006479481 1.026829268292683 1.048951048951049 0.8791946308724832\n"
     ]
    }
   ],
   "source": [
    "#order: control , mdivi , control 10min, mdivi 10 min\n",
    "print(\"fission\",np.sum(fission_mdivi[0]),np.sum(fission_mdivi[1]), np.sum(fission_mdivi_10min[0]), np.sum(fission_mdivi_10min[1]))\n",
    "print(\"fusion\",np.sum(fusion_mdivi[0]),np.sum(fusion_mdivi[1]), np.sum(fusion_mdivi_10min[0]), np.sum(fusion_mdivi_10min[1]))\n",
    "\n",
    "print(\"control , mdivi, control 10min, mdivi 10min\")\n",
    "print(np.sum(fission_mdivi[0]) / np.sum(fusion_mdivi[0]) ,np.sum(fission_mdivi[1]) / np.sum(fusion_mdivi[1]), \n",
    "      np.sum(fission_mdivi_10min[0]) / np.sum(fusion_mdivi_10min[0]), np.sum(fission_mdivi_10min[1]) / np.sum(fusion_mdivi_10min[1]))"
   ]
  },
  {
   "cell_type": "markdown",
   "metadata": {},
   "source": [
    "## Regularization and data preparation"
   ]
  },
  {
   "cell_type": "code",
   "execution_count": 17,
   "metadata": {},
   "outputs": [],
   "source": [
    "#column name\n",
    "toxins = np.repeat(['control', 'FCCP', 'oligomycin', 'rotenone'], minimum_tox)\n",
    "toxins_mdivi = np.repeat(['control', 'mdivi'], minimum_normal)\n",
    "toxins_mdivi_10min = np.repeat(['control_10min', 'mdivi_10min'], minimum_10min)\n",
    "assess_method_tox = np.repeat(['algorithm' , 'mitometer'], minimum_tox*4)\n",
    "assess_mdivi = np.repeat(['algorithm' , 'mitometer'], minimum_normal*4)\n",
    "assess_mdivi_10min= np.repeat(['algorithm' , 'mitometer'], minimum_10min*4)"
   ]
  },
  {
   "cell_type": "markdown",
   "metadata": {},
   "source": [
    "### toxins"
   ]
  },
  {
   "cell_type": "code",
   "execution_count": 18,
   "metadata": {},
   "outputs": [],
   "source": [
    "# data preparation with regularization (0 -> epsilon)\n",
    "# window == 62 137\n",
    "\n",
    "apply_regularization = False\n",
    "epsilon = 0.01\n",
    "\n",
    "fusion_tox,fusion_tox_pd = convert_to_sig_test(fusion_tox , toxins, regularization_=False, epsilon_=epsilon)\n",
    "fission_tox, fission_tox_pd = convert_to_sig_test(fission_tox, toxins, regularization_=False, epsilon_=epsilon)\n",
    "\n",
    "fusion_tox_adjusted,fusion_tox_adjusted_pd = convert_to_sig_test(fusion_tox_adjusted , toxins, regularization_=False, epsilon_=epsilon)\n",
    "fission_tox_adjusted, fission_tox_adjusted_pd = convert_to_sig_test(fission_tox_adjusted, toxins, regularization_=False, epsilon_=epsilon)\n",
    "\n",
    "fission_tox_self , fission_tox_self_pd= convert_to_sig_test(fission_tox_self,toxins, regularization_=False, epsilon_=epsilon)\n",
    "fusion_tox_self, fusion_tox_self_pd = convert_to_sig_test(fusion_tox_self, toxins,regularization_=False, epsilon_=epsilon)\n",
    "\n",
    "#fusion_tox_meter , fusion_tox_meter_pd = convert_to_sig_test(fusion_tox_meter, toxins,regularization_=False, epsilon_=epsilon)\n",
    "#fission_tox_meter, fission_tox_meter_pd = convert_to_sig_test(fission_tox_meter,toxins, regularization_=False, epsilon_=epsilon)\n",
    "\n",
    "fission_tox_nellie = pd.DataFrame({\"toxin\": toxins,'event': fission_tox_nellie})\n",
    "fusion_tox_nellie = pd.DataFrame({\"toxin\": toxins,'event': fusion_tox_nellie})\n",
    "\n",
    "fission_tox_all = fission_tox + fission_tox_self\n",
    "fusion_tox_all = fusion_tox + fusion_tox_self   \n",
    "fission_tox_all_pd = pd.DataFrame({\"toxin\": toxins,'event': fission_tox_all})\n",
    "fusion_tox_all_pd = pd.DataFrame({\"toxin\": toxins,'event': fusion_tox_all})\n",
    "\n",
    "fission_tox_adjusted_all = fission_tox_adjusted + fission_tox_self\n",
    "fusion_tox_adjusted_all = fusion_tox_adjusted + fusion_tox_self   \n",
    "fission_tox_adjusted_all_pd = pd.DataFrame({\"toxin\": toxins,'event': fission_tox_adjusted_all})\n",
    "fusion_tox_adjusted_all_pd = pd.DataFrame({\"toxin\": toxins,'event': fusion_tox_adjusted_all})\n",
    "\n",
    "#FF ratio\n",
    "ff_ratio = fission_tox / np.where(fusion_tox == 0, 1, fusion_tox)\n",
    "ff_ratio_all = fission_tox_all/np.where(fusion_tox_all == 0, 1, fusion_tox_all)\n",
    "ff_ratio_self = fission_tox_self/np.where(fusion_tox_self == 0, 1, fusion_tox_self)\n",
    "#ff_ratio_meter_tox = fission_tox_meter/ fusion_tox_meter\n",
    "ff_ratio_adjusted = fission_tox_adjusted / np.where(fusion_tox_adjusted == 0, 1, fusion_tox_adjusted)\n",
    "\n",
    "ff_ratio_pd = pd.DataFrame({\"toxin\": toxins,'event': ff_ratio})\n",
    "ff_ratio_all_pd = pd.DataFrame({\"toxin\": toxins,'event': ff_ratio_all})\n",
    "ff_ratio_self_pd = pd.DataFrame({\"toxin\": toxins,'event': ff_ratio_self})\n",
    "#ff_ratio_meter_pd = pd.DataFrame({\"toxin\": toxins,'event': ff_ratio_meter_tox})\n",
    "ff_ratio_adjusted_pd = pd.DataFrame({\"toxin\": toxins,'event': ff_ratio_adjusted})"
   ]
  },
  {
   "cell_type": "markdown",
   "metadata": {},
   "source": [
    "### MDIVI"
   ]
  },
  {
   "cell_type": "code",
   "execution_count": 19,
   "metadata": {},
   "outputs": [],
   "source": [
    "\n",
    "apply_regularization = False\n",
    "epsilon = 0.01\n",
    "\n",
    "''' 60s data'''\n",
    "fusion_mdivi , fusion_mdivi_pd= convert_to_sig_test(fusion_mdivi, col_value=toxins_mdivi,regularization_=False,epsilon_=epsilon)\n",
    "fission_mdivi, fission_mdivi_pd = convert_to_sig_test(fission_mdivi, col_value= toxins_mdivi, regularization_=False,epsilon_=epsilon)\n",
    "#new adjust data\n",
    "fusion_mdivi_adjusted , fusion_mdivi_adjusted_pd= convert_to_sig_test(fusion_mdivi_adjusted, col_value=toxins_mdivi,regularization_=False,epsilon_=epsilon)\n",
    "fission_mdivi_adjusted, fission_mdivi_adjusted_pd = convert_to_sig_test(fission_mdivi_adjusted, col_value= toxins_mdivi, regularization_=False,epsilon_=epsilon)\n",
    "\n",
    "fusion_mdivi_self , fusion_mdivi_self_pd= convert_to_sig_test(fusion_mdivi_self, col_value=toxins_mdivi,regularization_=False,epsilon_=epsilon)\n",
    "fission_mdivi_self, fission_mdivi_self_pd = convert_to_sig_test(fission_mdivi_self, col_value=toxins_mdivi,regularization_=False,epsilon_=epsilon)\n",
    "\n",
    "#fusion_mdivi_meter, fusion_mdivi_meter_pd = convert_to_sig_test(fusion_mdivi_meter,col_value=toxins_mdivi, regularization_=False,epsilon_=epsilon)\n",
    "#fission_mdivi_meter,fission_mdivi_meter_pd  = convert_to_sig_test(fission_mdivi_meter, col_value=toxins_mdivi, regularization_=False,epsilon_=epsilon)\n",
    "\n",
    "'''10 min data'''\n",
    "fission_mdivi_10min , fission_mdivi_10min_pd= convert_to_sig_test(fission_mdivi_10min, col_value= toxins_mdivi_10min,regularization_=False,epsilon_=epsilon)\n",
    "fusion_mdivi_10min , fusion_mdivi_10min_pd= convert_to_sig_test(fusion_mdivi_10min,col_value= toxins_mdivi_10min, regularization_=False,epsilon_=epsilon)\n",
    "\n",
    "fission_mdivi_10min_adjusted , fission_mdivi_10min_adjusted_pd= convert_to_sig_test(fission_mdivi_10min_adjusted, col_value= toxins_mdivi_10min,regularization_=False,epsilon_=epsilon)\n",
    "fusion_mdivi_10min_adjusted , fusion_mdivi_10min_adjusted_pd= convert_to_sig_test(fusion_mdivi_10min_adjusted,col_value= toxins_mdivi_10min, regularization_=False,epsilon_=epsilon)\n",
    "\n",
    "fission_mdivi_self_10min , fission_mdivi_self_10min_pd= convert_to_sig_test(fission_mdivi_self_10min,col_value=toxins_mdivi_10min, regularization_=False,epsilon_=epsilon)\n",
    "fusion_mdivi_self_10min, fusion_mdivi_self_10min_pd = convert_to_sig_test(fusion_mdivi_self_10min,col_value=toxins_mdivi_10min, regularization_=False,epsilon_=epsilon)\n",
    "\n",
    "#fission_mdivi_10min_meter ,fission_mdivi_meter_10min_pd = convert_to_sig_test(fission_mdivi_10min_meter, col_value=toxins_mdivi_10min,regularization_=False,epsilon_=epsilon)\n",
    "#fusion_mdivi_10min_meter, fusion_mdivi_meter_10min_pd = convert_to_sig_test(fusion_mdivi_10min_meter,col_value=toxins_mdivi_10min, regularization_=False,epsilon_=epsilon)\n"
   ]
  },
  {
   "cell_type": "code",
   "execution_count": 20,
   "metadata": {},
   "outputs": [
    {
     "name": "stdout",
     "output_type": "stream",
     "text": [
      "(278,)\n",
      "(278,)\n",
      "(122,)\n",
      "(122,)\n"
     ]
    }
   ],
   "source": [
    "print(fission_mdivi.shape)\n",
    "print(fission_mdivi_self.shape)\n",
    "\n",
    "print(toxins_mdivi_10min.shape)\n",
    "print(fission_mdivi_nellie_10min.shape)"
   ]
  },
  {
   "cell_type": "code",
   "execution_count": 21,
   "metadata": {},
   "outputs": [],
   "source": [
    "fission_mdivi_all_10min = fission_mdivi_10min + fission_mdivi_self_10min\n",
    "fusion_mdivi_all_10min = fusion_mdivi_10min + fusion_mdivi_self_10min\n",
    "fission_mdivi_all = fission_mdivi + fission_mdivi_self\n",
    "fusion_mdivi_all = fusion_mdivi + fusion_mdivi_self\n",
    "\n",
    "fission_mdivi_all_pd = pd.DataFrame({\"toxin\": toxins_mdivi,'event': fission_mdivi_all})\n",
    "fusion_mdivi_all_pd = pd.DataFrame({\"toxin\": toxins_mdivi,'event': fusion_mdivi_all})\n",
    "fission_mdivi_all_10min_pd = pd.DataFrame({\"toxin\": toxins_mdivi_10min,'event': fission_mdivi_all_10min})\n",
    "fusion_mdivi_all_10min_pd = pd.DataFrame({\"toxin\": toxins_mdivi_10min,'event': fusion_mdivi_all_10min})\n",
    "\n",
    "fission_mdivi_nellie = pd.DataFrame({\"toxin\": toxins_mdivi,'event': fission_mdivi_nellie})\n",
    "fusion_mdivi_nellie = pd.DataFrame({\"toxin\": toxins_mdivi,'event': fusion_mdivi_nellie})\n",
    "fission_mdivi_nellie_10min = pd.DataFrame({\"toxin\": toxins_mdivi_10min,'event': fission_mdivi_nellie_10min})\n",
    "fusion_mdivi_nellie_10min = pd.DataFrame({\"toxin\": toxins_mdivi_10min,'event': fusion_mdivi_nellie_10min})\n",
    "\n",
    "#for ff ratio\n",
    "ff_ratio_mdivi = fission_mdivi / np.where(fusion_mdivi == 0, 1, fusion_mdivi)\n",
    "ff_ratio_mdivi_adjusted = fission_mdivi_adjusted / np.where(fusion_mdivi_adjusted == 0, 1, fusion_mdivi_adjusted)\n",
    "ff_ratio_all_mdivi = fission_mdivi_all/np.where(fusion_mdivi_all == 0, 1, fusion_mdivi_all)\n",
    "ff_ratio_self_mdivi = fission_mdivi_self/np.where(fusion_mdivi_self == 0, 1, fusion_mdivi_self)\n",
    "#ff_ratio_mito_mdivi = fission_mdivi_meter / fusion_mdivi_meter \n",
    "\n",
    "ff_ratio_mdivi_10min = fission_mdivi_10min / np.where(fusion_mdivi_10min == 0, 1, fusion_mdivi_10min) \n",
    "ff_ratio_mdivi_adjusted_10min = fission_mdivi_10min_adjusted /np.where(fusion_mdivi_10min_adjusted == 0, 1, fusion_mdivi_10min_adjusted)  \n",
    "ff_ratio_all_mdivi_10min = fission_mdivi_all_10min/np.where(fusion_mdivi_all_10min == 0, 1, fusion_mdivi_all_10min) \n",
    "ff_ratio_self_mdivi_10min = fission_mdivi_self_10min/np.where(fusion_mdivi_self_10min == 0, 1, fusion_mdivi_self_10min) \n",
    "#ff_ratio_mito_mdivi_10min = fission_mdivi_10min_meter / fusion_mdivi_10min_meter\n",
    "\n",
    "ff_ratio_mdivi = pd.DataFrame({\"toxin\": toxins_mdivi,'event': ff_ratio_mdivi})\n",
    "ff_ratio_mdivi_adjusted = pd.DataFrame({\"toxin\": toxins_mdivi,'event': ff_ratio_mdivi_adjusted})\n",
    "ff_ratio_all_mdivi = pd.DataFrame({\"toxin\": toxins_mdivi,'event': ff_ratio_all_mdivi})\n",
    "ff_ratio_self_mdivi = pd.DataFrame({\"toxin\": toxins_mdivi,'event': ff_ratio_self_mdivi})\n",
    "#ff_ratio_mito_mdivi = pd.DataFrame({\"toxin\": toxins_mdivi,'event': ff_ratio_mito_mdivi})\n",
    "\n",
    "ff_ratio_mdivi_10min = pd.DataFrame({\"toxin\": toxins_mdivi_10min,'event': ff_ratio_mdivi_10min})\n",
    "ff_ratio_mdivi_adjusted_10min = pd.DataFrame({\"toxin\": toxins_mdivi_10min,'event': ff_ratio_mdivi_adjusted_10min})\n",
    "ff_ratio_all_mdivi_10min = pd.DataFrame({\"toxin\": toxins_mdivi_10min,'event': ff_ratio_all_mdivi_10min})\n",
    "ff_ratio_self_mdivi_10min = pd.DataFrame({\"toxin\": toxins_mdivi_10min,'event': ff_ratio_self_mdivi_10min})\n",
    "#ff_ratio_mito_mdivi_10min = pd.DataFrame({\"toxin\": toxins_mdivi_10min,'event': ff_ratio_mito_mdivi_10min})"
   ]
  },
  {
   "cell_type": "markdown",
   "metadata": {},
   "source": [
    "## Statistical Analysis\n",
    "Assumption before using ANOVA = \n",
    "1. Normality: each group should be normally distributed\n",
    "2. Homogeneity of variance: the variance of the residuals should be approximately equal for all groups\n",
    "3. Independent observations: the observations in each group must be independent of each other"
   ]
  },
  {
   "cell_type": "markdown",
   "metadata": {},
   "source": [
    "### Statistical analysis of toxins with my algorithm\n"
   ]
  },
  {
   "cell_type": "markdown",
   "metadata": {},
   "source": [
    "#### 1. check assumption"
   ]
  },
  {
   "cell_type": "code",
   "execution_count": 22,
   "metadata": {},
   "outputs": [
    {
     "name": "stdout",
     "output_type": "stream",
     "text": [
      "                   W          pval  normal\n",
      "toxin                                     \n",
      "control     0.968105  2.685394e-03   False\n",
      "FCCP        0.917609  4.214017e-07   False\n",
      "oligomycin  0.811430  5.477192e-12   False\n",
      "rotenone    0.926134  1.443198e-06   False\n",
      "               W          pval  equal_var\n",
      "levene  16.05322  5.172778e-10      False\n"
     ]
    }
   ],
   "source": [
    "# fission\n",
    "normality = pg.normality(data = fission_tox_pd, dv = 'event', group = 'toxin')\n",
    "homogeneity = pg.homoscedasticity(data = fission_tox_pd, dv = 'event', group = 'toxin')\n",
    "print(normality)\n",
    "print(homogeneity)"
   ]
  },
  {
   "cell_type": "code",
   "execution_count": 23,
   "metadata": {},
   "outputs": [
    {
     "name": "stdout",
     "output_type": "stream",
     "text": [
      "                   W          pval  normal\n",
      "toxin                                     \n",
      "control     0.976081  1.639644e-02   False\n",
      "FCCP        0.814869  7.298806e-12   False\n",
      "oligomycin  0.797365  1.754231e-12   False\n",
      "rotenone    0.955406  1.999841e-04   False\n",
      "                W          pval  equal_var\n",
      "levene  17.404154  8.383049e-11      False\n"
     ]
    }
   ],
   "source": [
    "#fusion\n",
    "normality = pg.normality(data = fusion_tox_pd, dv = 'event', group = 'toxin')\n",
    "homogeneity = pg.homoscedasticity(data = fusion_tox_pd, dv = 'event', group = 'toxin')\n",
    "print(normality)\n",
    "print(homogeneity)"
   ]
  },
  {
   "cell_type": "code",
   "execution_count": 24,
   "metadata": {},
   "outputs": [
    {
     "name": "stdout",
     "output_type": "stream",
     "text": [
      "                   W          pval  normal\n",
      "toxin                                     \n",
      "control     0.577077  3.472399e-18   False\n",
      "FCCP        0.836820  4.995801e-11   False\n",
      "oligomycin  0.753391  6.870377e-14   False\n",
      "rotenone    0.802839  2.714356e-12   False\n",
      "               W      pval  equal_var\n",
      "levene  0.484796  0.692978       True\n"
     ]
    }
   ],
   "source": [
    "# self ff ratio\n",
    "normality = pg.normality(data = ff_ratio_pd, dv = 'event', group = 'toxin')\n",
    "homogeneity = pg.homoscedasticity(data = ff_ratio_pd, dv = 'event', group = 'toxin')\n",
    "print(normality)\n",
    "print(homogeneity)"
   ]
  },
  {
   "cell_type": "code",
   "execution_count": 25,
   "metadata": {},
   "outputs": [
    {
     "ename": "NameError",
     "evalue": "name 'fusion_tox_meter_pd' is not defined",
     "output_type": "error",
     "traceback": [
      "\u001b[1;31m---------------------------------------------------------------------------\u001b[0m",
      "\u001b[1;31mNameError\u001b[0m                                 Traceback (most recent call last)",
      "Cell \u001b[1;32mIn[25], line 2\u001b[0m\n\u001b[0;32m      1\u001b[0m \u001b[38;5;66;03m#mitometer\u001b[39;00m\n\u001b[1;32m----> 2\u001b[0m normality \u001b[38;5;241m=\u001b[39m pg\u001b[38;5;241m.\u001b[39mnormality(data \u001b[38;5;241m=\u001b[39m \u001b[43mfusion_tox_meter_pd\u001b[49m, dv \u001b[38;5;241m=\u001b[39m \u001b[38;5;124m'\u001b[39m\u001b[38;5;124mevent\u001b[39m\u001b[38;5;124m'\u001b[39m, group \u001b[38;5;241m=\u001b[39m \u001b[38;5;124m'\u001b[39m\u001b[38;5;124mtoxin\u001b[39m\u001b[38;5;124m'\u001b[39m)\n\u001b[0;32m      3\u001b[0m homogeneity \u001b[38;5;241m=\u001b[39m pg\u001b[38;5;241m.\u001b[39mhomoscedasticity(data \u001b[38;5;241m=\u001b[39m fusion_tox_pd, dv \u001b[38;5;241m=\u001b[39m \u001b[38;5;124m'\u001b[39m\u001b[38;5;124mevent\u001b[39m\u001b[38;5;124m'\u001b[39m, group \u001b[38;5;241m=\u001b[39m \u001b[38;5;124m'\u001b[39m\u001b[38;5;124mtoxin\u001b[39m\u001b[38;5;124m'\u001b[39m)\n\u001b[0;32m      4\u001b[0m \u001b[38;5;28mprint\u001b[39m(normality)\n",
      "\u001b[1;31mNameError\u001b[0m: name 'fusion_tox_meter_pd' is not defined"
     ]
    }
   ],
   "source": [
    "#mitometer\n",
    "normality = pg.normality(data = fusion_tox_meter_pd, dv = 'event', group = 'toxin')\n",
    "homogeneity = pg.homoscedasticity(data = fusion_tox_pd, dv = 'event', group = 'toxin')\n",
    "print(normality)\n",
    "print(homogeneity)"
   ]
  },
  {
   "cell_type": "code",
   "execution_count": null,
   "metadata": {},
   "outputs": [
    {
     "ename": "ValueError",
     "evalue": "setting an array element with a sequence. The requested array has an inhomogeneous shape after 1 dimensions. The detected shape was (4,) + inhomogeneous part.",
     "output_type": "error",
     "traceback": [
      "\u001b[1;31m---------------------------------------------------------------------------\u001b[0m",
      "\u001b[1;31mValueError\u001b[0m                                Traceback (most recent call last)",
      "Cell \u001b[1;32mIn[81], line 2\u001b[0m\n\u001b[0;32m      1\u001b[0m \u001b[38;5;66;03m#from author\u001b[39;00m\n\u001b[1;32m----> 2\u001b[0m normality \u001b[38;5;241m=\u001b[39m \u001b[43mpg\u001b[49m\u001b[38;5;241;43m.\u001b[39;49m\u001b[43mnormality\u001b[49m\u001b[43m(\u001b[49m\u001b[43mdata\u001b[49m\u001b[43m \u001b[49m\u001b[38;5;241;43m=\u001b[39;49m\u001b[43m \u001b[49m\u001b[43mfusion_tox_nellie\u001b[49m\u001b[43m,\u001b[49m\u001b[43m \u001b[49m\u001b[43mdv\u001b[49m\u001b[43m \u001b[49m\u001b[38;5;241;43m=\u001b[39;49m\u001b[43m \u001b[49m\u001b[38;5;124;43m'\u001b[39;49m\u001b[38;5;124;43mevent\u001b[39;49m\u001b[38;5;124;43m'\u001b[39;49m\u001b[43m,\u001b[49m\u001b[43m \u001b[49m\u001b[43mgroup\u001b[49m\u001b[43m \u001b[49m\u001b[38;5;241;43m=\u001b[39;49m\u001b[43m \u001b[49m\u001b[38;5;124;43m'\u001b[39;49m\u001b[38;5;124;43mtoxin\u001b[39;49m\u001b[38;5;124;43m'\u001b[39;49m\u001b[43m)\u001b[49m\n\u001b[0;32m      3\u001b[0m homogeneity \u001b[38;5;241m=\u001b[39m pg\u001b[38;5;241m.\u001b[39mhomoscedasticity(data \u001b[38;5;241m=\u001b[39m fusion_tox_nellie, dv \u001b[38;5;241m=\u001b[39m \u001b[38;5;124m'\u001b[39m\u001b[38;5;124mevent\u001b[39m\u001b[38;5;124m'\u001b[39m, group \u001b[38;5;241m=\u001b[39m \u001b[38;5;124m'\u001b[39m\u001b[38;5;124mtoxin\u001b[39m\u001b[38;5;124m'\u001b[39m)\n\u001b[0;32m      4\u001b[0m \u001b[38;5;28mprint\u001b[39m(normality)\n",
      "File \u001b[1;32mc:\\Users\\iceji\\.conda\\envs\\napari-env\\lib\\site-packages\\pingouin\\distribution.py:217\u001b[0m, in \u001b[0;36mnormality\u001b[1;34m(data, dv, group, method, alpha)\u001b[0m\n\u001b[0;32m    215\u001b[0m func \u001b[38;5;241m=\u001b[39m \u001b[38;5;28mgetattr\u001b[39m(scipy\u001b[38;5;241m.\u001b[39mstats, method)\n\u001b[0;32m    216\u001b[0m \u001b[38;5;28;01mif\u001b[39;00m \u001b[38;5;28misinstance\u001b[39m(data, (\u001b[38;5;28mlist\u001b[39m, np\u001b[38;5;241m.\u001b[39mndarray)):\n\u001b[1;32m--> 217\u001b[0m     data \u001b[38;5;241m=\u001b[39m \u001b[43mnp\u001b[49m\u001b[38;5;241;43m.\u001b[39;49m\u001b[43masarray\u001b[49m\u001b[43m(\u001b[49m\u001b[43mdata\u001b[49m\u001b[43m)\u001b[49m\n\u001b[0;32m    218\u001b[0m     \u001b[38;5;28;01massert\u001b[39;00m data\u001b[38;5;241m.\u001b[39mndim \u001b[38;5;241m==\u001b[39m \u001b[38;5;241m1\u001b[39m, \u001b[38;5;124m\"\u001b[39m\u001b[38;5;124mData must be 1D.\u001b[39m\u001b[38;5;124m\"\u001b[39m\n\u001b[0;32m    219\u001b[0m     \u001b[38;5;28;01massert\u001b[39;00m data\u001b[38;5;241m.\u001b[39msize \u001b[38;5;241m>\u001b[39m \u001b[38;5;241m3\u001b[39m, \u001b[38;5;124m\"\u001b[39m\u001b[38;5;124mData must have more than 3 samples.\u001b[39m\u001b[38;5;124m\"\u001b[39m\n",
      "\u001b[1;31mValueError\u001b[0m: setting an array element with a sequence. The requested array has an inhomogeneous shape after 1 dimensions. The detected shape was (4,) + inhomogeneous part."
     ]
    }
   ],
   "source": [
    "#from author\n",
    "normality = pg.normality(data = fusion_tox_nellie, dv = 'event', group = 'toxin')\n",
    "homogeneity = pg.homoscedasticity(data = fusion_tox_nellie, dv = 'event', group = 'toxin')\n",
    "print(normality)\n",
    "print(homogeneity)"
   ]
  },
  {
   "cell_type": "markdown",
   "metadata": {},
   "source": [
    "#### 2. Since the data are neither normal or having a equal variance, we will use kruskal\n",
    "\n",
    "Significance when P < 0.05"
   ]
  },
  {
   "cell_type": "code",
   "execution_count": 26,
   "metadata": {},
   "outputs": [
    {
     "name": "stdout",
     "output_type": "stream",
     "text": [
      "        Source  ddof1           H         p-unc\n",
      "Kruskal  toxin      3  141.446254  1.843361e-30\n",
      "        Source  ddof1           H         p-unc\n",
      "Kruskal  toxin      3  309.264552  9.830112e-67\n",
      "        Source  ddof1           H         p-unc\n",
      "Kruskal  toxin      3  118.797858  1.400645e-25\n",
      "        Source  ddof1           H         p-unc\n",
      "Kruskal  toxin      3  299.814119  1.091437e-64\n",
      "        Source  ddof1           H         p-unc\n",
      "Kruskal  toxin      3  293.827554  2.155829e-63\n",
      "        Source  ddof1           H         p-unc\n",
      "Kruskal  toxin      3  280.861015  1.378889e-60\n",
      " \n",
      " adjusted val\n",
      "        Source  ddof1           H         p-unc\n",
      "Kruskal  toxin      3  149.885528  2.789074e-32\n",
      "        Source  ddof1          H         p-unc\n",
      "Kruskal  toxin      3  69.520212  5.407429e-15\n",
      " \n",
      " mitometer\n",
      " \n",
      " fission_fusion from author\n",
      "        Source  ddof1         H     p-unc\n",
      "Kruskal  toxin      3  0.333146  0.953679\n",
      "        Source  ddof1         H     p-unc\n",
      "Kruskal  toxin      3  1.575536  0.664949\n"
     ]
    }
   ],
   "source": [
    "#before area threshold \n",
    "# Chi square test score with DOF 3 and confidence 0.005 = 12.838\n",
    "print(pg.kruskal(dv = 'event', between =  'toxin', data = fission_tox_pd))\n",
    "print(pg.kruskal(dv = 'event', between =  'toxin', data = fission_tox_all_pd))\n",
    "print(pg.kruskal(dv = 'event', between =  'toxin', data = fusion_tox_pd))\n",
    "print(pg.kruskal(dv = 'event', between =  'toxin', data = fusion_tox_all_pd))\n",
    "print(pg.kruskal(dv = 'event', between =  'toxin', data = fission_tox_self_pd))\n",
    "print(pg.kruskal(dv = 'event', between =  'toxin', data = fusion_tox_self_pd))\n",
    "print(\" \")\n",
    "print(\" adjusted val\")\n",
    "print(pg.kruskal(dv = 'event', between =  'toxin', data = fission_tox_adjusted_pd))\n",
    "print(pg.kruskal(dv = 'event', between =  'toxin', data = fusion_tox_adjusted_pd))\n",
    "\n",
    "print(\" \")\n",
    "print(\" mitometer\")\n",
    "#print(pg.kruskal(dv = 'event', between =  'toxin', data = fission_tox_meter_pd))\n",
    "#print(pg.kruskal(dv = 'event', between =  'toxin', data = fusion_tox_meter_pd))\n",
    "\n",
    "print(\" \")\n",
    "print(\" fission_fusion from author\") # no significance diff from each group\n",
    "print(pg.kruskal(dv = 'event', between =  'toxin', data = fission_tox_nellie))\n",
    "print(pg.kruskal(dv = 'event', between =  'toxin', data = fusion_tox_nellie))\n",
    "# all P is less than 0.05  = all significant for four group of data (rank signed test are all diff)\n",
    "# reject null hypothesis, => means are different for each class (control, FCCP, oligomycin, rotenone)"
   ]
  },
  {
   "cell_type": "markdown",
   "metadata": {},
   "source": [
    "#### 3. Post-hoc Pairwise test for \n",
    "\n",
    "    3.1 fission & fusion before and after adjustment\n",
    "    3.2 fission & fusion all before and after adjustment\n",
    "    3.3 fission & fusion from mitometer  \n",
    "    3.4 fission & fusion from Author script? \n",
    "\n",
    "Pairwise nonparametric test: \n",
    "- U stat: A measure of the central tendencies of the two groups (means or medians; since the Mann–Whitney U test is an ordinal test, medians are usually recommended) The sample sizes, The significance level.\n",
    "- "
   ]
  },
  {
   "cell_type": "markdown",
   "metadata": {},
   "source": [
    "##### fission & fusion, adjusted fission & fusion, "
   ]
  },
  {
   "cell_type": "code",
   "execution_count": 37,
   "metadata": {},
   "outputs": [],
   "source": [
    "fission_tox_adjusted_raw_com = fission_tox_adjusted_pd.copy()\n",
    "fission_tox_adjusted_frame = fission_tox_adjusted_pd.copy()\n",
    "fission_tox_adjusted_component= fission_tox_adjusted_pd.copy()\n",
    "\n",
    "fission_tox_adjusted_raw_com['event'] = fission_tox_adjusted_raw_com['event'] / np.ravel(np.array(raw_label_all))\n",
    "fission_tox_adjusted_frame['event'] = fission_tox_adjusted_frame['event'] / np.ravel(np.array(area_all))\n",
    "fission_tox_adjusted_component['event'] = fission_tox_adjusted_component['event'] / np.ravel(np.array(label_num_all))\n",
    "\n",
    "fusion_tox_adjusted_raw_com = fusion_tox_adjusted_pd.copy()\n",
    "fusion_tox_adjusted_frame = fusion_tox_adjusted_pd.copy()\n",
    "fusion_tox_adjusted_component = fusion_tox_adjusted_pd.copy()\n",
    "\n",
    "fusion_tox_adjusted_raw_com['event'] = fusion_tox_adjusted_raw_com['event'] / np.ravel(np.array(raw_label_all))\n",
    "fusion_tox_adjusted_frame['event'] = fusion_tox_adjusted_frame['event'] / np.ravel(np.array(area_all))\n",
    "fusion_tox_adjusted_component['event'] = fusion_tox_adjusted_component['event'] / np.ravel(np.array(label_num_all))"
   ]
  },
  {
   "cell_type": "code",
   "execution_count": 38,
   "metadata": {},
   "outputs": [
    {
     "name": "stdout",
     "output_type": "stream",
     "text": [
      "adjusted fission\n",
      "  Contrast           A           B  Paired  Parametric    U-val alternative  \\\n",
      "0    toxin        FCCP     control   False       False  13847.0   two-sided   \n",
      "1    toxin        FCCP  oligomycin   False       False  15440.0   two-sided   \n",
      "2    toxin        FCCP    rotenone   False       False  16133.0   two-sided   \n",
      "3    toxin     control  oligomycin   False       False  11968.0   two-sided   \n",
      "4    toxin     control    rotenone   False       False  13338.5   two-sided   \n",
      "5    toxin  oligomycin    rotenone   False       False  11522.0   two-sided   \n",
      "\n",
      "          p-unc        p-corr p-adjust         r  \n",
      "0  8.278303e-12  3.311321e-11     holm  0.137338  \n",
      "1  1.737931e-20  8.689653e-20     holm  0.210265  \n",
      "2  5.256822e-25  3.154093e-24     holm -0.060091  \n",
      "3  7.127939e-05  1.425588e-04     holm  0.171527  \n",
      "4  1.295858e-09  3.887575e-09     holm -0.094228  \n",
      "5  9.884513e-04  9.884513e-04     holm  0.000378  \n"
     ]
    }
   ],
   "source": [
    "print(\"adjusted fission\") # shows all of then are significantly different \n",
    "#check the influence and correlation with Rank Biserial Correlation\n",
    "print(pg.pairwise_tests(dv = 'event', between =  'toxin', data = fission_tox_adjusted_pd, parametric=False,padjust='holm', effsize = 'r'))\n"
   ]
  },
  {
   "cell_type": "code",
   "execution_count": 39,
   "metadata": {},
   "outputs": [
    {
     "name": "stdout",
     "output_type": "stream",
     "text": [
      "                   W          pval  normal\n",
      "toxin                                     \n",
      "control     0.982009  6.785206e-02    True\n",
      "FCCP        0.957398  2.941070e-04   False\n",
      "oligomycin  0.601390  1.104591e-17   False\n",
      "rotenone    0.925163  1.249351e-06   False\n",
      "                W          pval  equal_var\n",
      "levene  28.483698  4.045128e-17      False\n",
      "fission\n",
      "  Contrast           A           B  Paired  Parametric    U-val alternative  \\\n",
      "0    toxin        FCCP     control   False       False  15986.5   two-sided   \n",
      "1    toxin        FCCP  oligomycin   False       False  17115.0   two-sided   \n",
      "2    toxin        FCCP    rotenone   False       False  14378.5   two-sided   \n",
      "3    toxin     control  oligomycin   False       False  12992.0   two-sided   \n",
      "4    toxin     control    rotenone   False       False   8391.5   two-sided   \n",
      "5    toxin  oligomycin    rotenone   False       False   5749.0   two-sided   \n",
      "\n",
      "          p-unc        p-corr p-adjust         r  \n",
      "0  7.828353e-24  3.914177e-23     holm  0.074461  \n",
      "1  4.583968e-32  2.750381e-31     holm  0.096632  \n",
      "2  2.658091e-14  1.063236e-13     holm  0.032830  \n",
      "3  3.801347e-08  8.941610e-08     holm  0.155020  \n",
      "4  1.301934e-01  1.301934e-01     holm -0.088503  \n",
      "5  2.980537e-08  8.941610e-08     holm -0.002073  \n"
     ]
    }
   ],
   "source": [
    "normality = pg.normality(data = fission_tox_adjusted_frame, dv = 'event', group = 'toxin')\n",
    "homogeneity = pg.homoscedasticity(data = fission_tox_adjusted_frame, dv = 'event', group = 'toxin')\n",
    "print(normality)\n",
    "print(homogeneity)\n",
    "\n",
    "print(\"fission\") # shows all of then are significantly different \n",
    "#check the influence and correlation with Rank Biserial Correlation\n",
    "print(pg.pairwise_tests(dv = 'event', between =  'toxin', data = fission_tox_adjusted_frame, parametric=False,padjust='holm', effsize = 'r'))"
   ]
  },
  {
   "cell_type": "code",
   "execution_count": 40,
   "metadata": {},
   "outputs": [
    {
     "name": "stderr",
     "output_type": "stream",
     "text": [
      "C:\\Users\\iceji\\AppData\\Local\\Temp\\ipykernel_33208\\178995657.py:10: FutureWarning: \n",
      "\n",
      "Passing `palette` without assigning `hue` is deprecated and will be removed in v0.14.0. Assign the `x` variable to `hue` and set `legend=False` for the same effect.\n",
      "\n",
      "  bp = sns.boxplot(x='toxin', y='event', data=fission_tox_adjusted_pd,  palette=colors, ax=ax, width=0.5)\n"
     ]
    },
    {
     "data": {
      "image/png": "[encoded data removed]",
      "text/plain": [
       "<Figure size 800x600 with 1 Axes>"
      ]
     },
     "metadata": {},
     "output_type": "display_data"
    }
   ],
   "source": [
    "import seaborn as sns\n",
    "\n",
    "fig = plt.figure(figsize=(8,6))\n",
    "ax = fig.add_subplot(111)\n",
    "\n",
    "# Define colors for boxes\n",
    "colors = ['#a559aa', '#59a89c', '#4682b4', '#f0c571']\n",
    "\n",
    "# Create boxplot with Seaborn\n",
    "bp = sns.boxplot(x='toxin', y='event', data=fission_tox_adjusted_pd,  palette=colors, ax=ax, width=0.5)\n",
    "ax.set(xlabel=\"Toxins\", ylabel=\"fission event\")\n",
    "\n",
    "# Customize fliers (outliers)\n",
    "for flier in ax.collections:  # Fliers are stored as PathCollection\n",
    "    flier.set(marker='D', color='#e7298a', alpha=0.5)\n",
    "\n",
    "# Set title and axis ticks\n",
    "plt.title(\"fission events for different toxins\")\n",
    "ax.tick_params(axis='x', bottom=True)\n",
    "ax.tick_params(axis='y', left=True)\n",
    "\n",
    "# Show plot\n",
    "plt.show()"
   ]
  },
  {
   "cell_type": "code",
   "execution_count": 41,
   "metadata": {},
   "outputs": [
    {
     "name": "stderr",
     "output_type": "stream",
     "text": [
      "C:\\Users\\iceji\\AppData\\Local\\Temp\\ipykernel_33208\\1258156717.py:10: FutureWarning: \n",
      "\n",
      "Passing `palette` without assigning `hue` is deprecated and will be removed in v0.14.0. Assign the `x` variable to `hue` and set `legend=False` for the same effect.\n",
      "\n",
      "  bp = sns.boxplot(x='toxin', y='event', data=fission_tox_adjusted_frame,  palette=colors, ax=ax, width=0.5)\n"
     ]
    },
    {
     "data": {
      "image/png": "[encoded data removed]",
      "text/plain": [
       "<Figure size 800x600 with 1 Axes>"
      ]
     },
     "metadata": {},
     "output_type": "display_data"
    }
   ],
   "source": [
    "import seaborn as sns\n",
    "\n",
    "fig = plt.figure(figsize=(8,6))\n",
    "ax = fig.add_subplot(111)\n",
    "\n",
    "# Define colors for boxes\n",
    "colors = ['#a559aa', '#59a89c', '#4682b4', '#f0c571']\n",
    "\n",
    "# Create boxplot with Seaborn\n",
    "bp = sns.boxplot(x='toxin', y='event', data=fission_tox_adjusted_frame,  palette=colors, ax=ax, width=0.5)\n",
    "ax.set(xlabel=\"Toxins\", ylabel=\"fission event\")\n",
    "\n",
    "# Customize fliers (outliers)\n",
    "for flier in ax.collections:  # Fliers are stored as PathCollection\n",
    "    flier.set(marker='D', color='#e7298a', alpha=0.5)\n",
    "\n",
    "# Set title and axis ticks\n",
    "plt.title(\"fission event per all label for different toxins\")\n",
    "ax.tick_params(axis='x', bottom=True)\n",
    "ax.tick_params(axis='y', left=True)\n",
    "\n",
    "# Show plot\n",
    "plt.show()"
   ]
  },
  {
   "cell_type": "code",
   "execution_count": 42,
   "metadata": {},
   "outputs": [
    {
     "name": "stderr",
     "output_type": "stream",
     "text": [
      "C:\\Users\\iceji\\AppData\\Local\\Temp\\ipykernel_33208\\3918067746.py:10: FutureWarning: \n",
      "\n",
      "Passing `palette` without assigning `hue` is deprecated and will be removed in v0.14.0. Assign the `x` variable to `hue` and set `legend=False` for the same effect.\n",
      "\n",
      "  bp = sns.boxplot(x='toxin', y='event', data=fission_tox_adjusted_component,  palette=colors, ax=ax, width=0.5)\n"
     ]
    },
    {
     "data": {
      "image/png": "[encoded data removed]",
      "text/plain": [
       "<Figure size 800x600 with 1 Axes>"
      ]
     },
     "metadata": {},
     "output_type": "display_data"
    }
   ],
   "source": [
    "import seaborn as sns\n",
    "\n",
    "fig = plt.figure(figsize=(8,6))\n",
    "ax = fig.add_subplot(111)\n",
    "\n",
    "# Define colors for boxes\n",
    "colors = ['#a559aa', '#59a89c', '#4682b4', '#f0c571']\n",
    "\n",
    "# Create boxplot with Seaborn\n",
    "bp = sns.boxplot(x='toxin', y='event', data=fission_tox_adjusted_component,  palette=colors, ax=ax, width=0.5)\n",
    "ax.set(xlabel=\"Toxins\", ylabel=\"fission event\")\n",
    "\n",
    "# Customize fliers (outliers)\n",
    "for flier in ax.collections:  # Fliers are stored as PathCollection\n",
    "    flier.set(marker='D', color='#e7298a', alpha=0.5)\n",
    "\n",
    "# Set title and axis ticks\n",
    "plt.title(\"fission event per all label for different toxins\")\n",
    "ax.tick_params(axis='x', bottom=True)\n",
    "ax.tick_params(axis='y', left=True)\n",
    "\n",
    "# Show plot\n",
    "plt.show()"
   ]
  },
  {
   "cell_type": "code",
   "execution_count": 43,
   "metadata": {},
   "outputs": [
    {
     "name": "stderr",
     "output_type": "stream",
     "text": [
      "C:\\Users\\iceji\\AppData\\Local\\Temp\\ipykernel_33208\\1772209151.py:10: FutureWarning: \n",
      "\n",
      "Passing `palette` without assigning `hue` is deprecated and will be removed in v0.14.0. Assign the `x` variable to `hue` and set `legend=False` for the same effect.\n",
      "\n",
      "  bp = sns.boxplot(x='toxin', y='event', data=fission_tox_adjusted_raw_com,  palette=colors, ax=ax, width=0.5)\n"
     ]
    },
    {
     "data": {
      "image/png": "[encoded data removed]",
      "text/plain": [
       "<Figure size 800x600 with 1 Axes>"
      ]
     },
     "metadata": {},
     "output_type": "display_data"
    }
   ],
   "source": [
    "import seaborn as sns\n",
    "\n",
    "fig = plt.figure(figsize=(8,6))\n",
    "ax = fig.add_subplot(111)\n",
    "\n",
    "# Define colors for boxes\n",
    "colors = ['#a559aa', '#59a89c', '#4682b4', '#f0c571']\n",
    "\n",
    "# Create boxplot with Seaborn\n",
    "bp = sns.boxplot(x='toxin', y='event', data=fission_tox_adjusted_raw_com,  palette=colors, ax=ax, width=0.5)\n",
    "ax.set(xlabel=\"Toxins\", ylabel=\"fission event\")\n",
    "\n",
    "# Customize fliers (outliers)\n",
    "for flier in ax.collections:  # Fliers are stored as PathCollection\n",
    "    flier.set(marker='D', color='#e7298a', alpha=0.5)\n",
    "\n",
    "# Set title and axis ticks\n",
    "plt.title(\"fission event per all label for different toxins\")\n",
    "ax.tick_params(axis='x', bottom=True)\n",
    "ax.tick_params(axis='y', left=True)\n",
    "\n",
    "# Show plot\n",
    "plt.show()"
   ]
  },
  {
   "cell_type": "code",
   "execution_count": 32,
   "metadata": {},
   "outputs": [
    {
     "name": "stdout",
     "output_type": "stream",
     "text": [
      "                   W          pval  normal\n",
      "toxin                                     \n",
      "control     0.972098  6.529658e-03   False\n",
      "FCCP        0.919223  5.288971e-07   False\n",
      "oligomycin  0.882627  5.212892e-09   False\n",
      "rotenone    0.947211  4.413768e-05   False\n",
      "                W          pval  equal_var\n",
      "levene  29.263895  1.490814e-17      False\n",
      "fission\n",
      "  Contrast           A           B  Paired  Parametric    U-val alternative  \\\n",
      "0    toxin        FCCP     control   False       False  14218.0   two-sided   \n",
      "1    toxin        FCCP  oligomycin   False       False  15880.5   two-sided   \n",
      "2    toxin        FCCP    rotenone   False       False  12189.5   two-sided   \n",
      "3    toxin     control  oligomycin   False       False  12952.0   two-sided   \n",
      "4    toxin     control    rotenone   False       False   7883.0   two-sided   \n",
      "5    toxin  oligomycin    rotenone   False       False   5014.5   two-sided   \n",
      "\n",
      "          p-unc        p-corr p-adjust         r  \n",
      "0  1.714855e-13  8.574275e-13     holm  0.251849  \n",
      "1  3.989500e-23  2.393700e-22     holm  0.169530  \n",
      "2  1.898588e-05  3.797176e-05     holm  0.065055  \n",
      "3  5.357408e-08  1.607222e-07     holm  0.141405  \n",
      "4  2.208232e-02  2.208232e-02     holm  0.050103  \n",
      "5  2.680496e-11  1.072199e-10     holm  0.159677  \n"
     ]
    }
   ],
   "source": [
    "normality = pg.normality(data = fusion_tox_adjusted_frame, dv = 'event', group = 'toxin')\n",
    "homogeneity = pg.homoscedasticity(data = fusion_tox_adjusted_frame, dv = 'event', group = 'toxin')\n",
    "print(normality)\n",
    "print(homogeneity)\n",
    "\n",
    "print(\"fission\") # shows all of then are significantly different \n",
    "#check the influence and correlation with Rank Biserial Correlation\n",
    "print(pg.pairwise_tests(dv = 'event', between =  'toxin', data = fusion_tox_adjusted_frame, parametric=False,padjust='holm', effsize = 'r'))"
   ]
  },
  {
   "cell_type": "code",
   "execution_count": 33,
   "metadata": {},
   "outputs": [
    {
     "name": "stderr",
     "output_type": "stream",
     "text": [
      "C:\\Users\\iceji\\AppData\\Local\\Temp\\ipykernel_33208\\2261657995.py:10: FutureWarning: \n",
      "\n",
      "Passing `palette` without assigning `hue` is deprecated and will be removed in v0.14.0. Assign the `x` variable to `hue` and set `legend=False` for the same effect.\n",
      "\n",
      "  bp = sns.boxplot(x='toxin', y='event', data=fusion_tox_adjusted_frame,  palette=colors, ax=ax, width=0.5)\n"
     ]
    },
    {
     "data": {
      "image/png": "[encoded data removed]",
      "text/plain": [
       "<Figure size 800x600 with 1 Axes>"
      ]
     },
     "metadata": {},
     "output_type": "display_data"
    }
   ],
   "source": [
    "import seaborn as sns\n",
    "\n",
    "fig = plt.figure(figsize=(8,6))\n",
    "ax = fig.add_subplot(111)\n",
    "\n",
    "# Define colors for boxes\n",
    "colors = ['#a559aa', '#59a89c', '#4682b4', '#f0c571']\n",
    "\n",
    "# Create boxplot with Seaborn\n",
    "bp = sns.boxplot(x='toxin', y='event', data=fusion_tox_adjusted_frame,  palette=colors, ax=ax, width=0.5)\n",
    "ax.set(xlabel=\"Toxins\", ylabel=\"fission event\")\n",
    "\n",
    "# Customize fliers (outliers)\n",
    "for flier in ax.collections:  # Fliers are stored as PathCollection\n",
    "    flier.set(marker='D', color='#e7298a', alpha=0.5)\n",
    "\n",
    "# Set title and axis ticks\n",
    "plt.title(\"fission event per all label for different toxins\")\n",
    "ax.tick_params(axis='x', bottom=True)\n",
    "ax.tick_params(axis='y', left=True)\n",
    "\n",
    "# Show plot\n",
    "plt.show()"
   ]
  },
  {
   "cell_type": "markdown",
   "metadata": {},
   "source": []
  },
  {
   "cell_type": "code",
   "execution_count": 34,
   "metadata": {},
   "outputs": [
    {
     "name": "stdout",
     "output_type": "stream",
     "text": [
      "adjusted fusion\n",
      "  Contrast           A           B  Paired  Parametric    U-val alternative  \\\n",
      "0    toxin        FCCP     control   False       False  11703.0   two-sided   \n",
      "1    toxin        FCCP  oligomycin   False       False  13579.5   two-sided   \n",
      "2    toxin        FCCP    rotenone   False       False  13968.0   two-sided   \n",
      "3    toxin     control  oligomycin   False       False  11853.5   two-sided   \n",
      "4    toxin     control    rotenone   False       False  12310.5   two-sided   \n",
      "5    toxin  oligomycin    rotenone   False       False  10052.5   two-sided   \n",
      "\n",
      "          p-unc        p-corr p-adjust         r  \n",
      "0  3.799473e-04  7.598946e-04     holm  0.292101  \n",
      "1  1.232068e-10  6.160342e-10     holm  0.191349  \n",
      "2  2.088923e-12  1.253354e-11     holm  0.048802  \n",
      "3  1.457693e-04  4.373078e-04     holm  0.145674  \n",
      "4  6.887215e-06  2.754886e-05     holm  0.038123  \n",
      "5  3.033447e-01  3.033447e-01     holm  0.150918  \n"
     ]
    }
   ],
   "source": [
    "print(\"adjusted fusion\") # shows all of then are significantly different \n",
    "#check the influence and correlation with Rank Biserial Correlation\n",
    "print(pg.pairwise_tests(dv = 'event', between =  'toxin', data = fusion_tox_adjusted_pd, parametric=False, padjust='holm',effsize = 'r'))"
   ]
  },
  {
   "cell_type": "code",
   "execution_count": 35,
   "metadata": {},
   "outputs": [
    {
     "name": "stderr",
     "output_type": "stream",
     "text": [
      "C:\\Users\\iceji\\AppData\\Local\\Temp\\ipykernel_33208\\2749559227.py:10: FutureWarning: \n",
      "\n",
      "Passing `palette` without assigning `hue` is deprecated and will be removed in v0.14.0. Assign the `x` variable to `hue` and set `legend=False` for the same effect.\n",
      "\n",
      "  bp = sns.boxplot(x='toxin', y='event', data=fusion_tox_adjusted_all_pd,  palette=colors, ax=ax, width=0.5)\n"
     ]
    },
    {
     "data": {
      "image/png": "[encoded data removed]",
      "text/plain": [
       "<Figure size 800x600 with 1 Axes>"
      ]
     },
     "metadata": {},
     "output_type": "display_data"
    }
   ],
   "source": [
    "import seaborn as sns\n",
    "\n",
    "fig = plt.figure(figsize=(8,6))\n",
    "ax = fig.add_subplot(111)\n",
    "\n",
    "# Define colors for boxes\n",
    "colors = ['#a559aa', '#59a89c', '#4682b4', '#f0c571']\n",
    "\n",
    "# Create boxplot with Seaborn\n",
    "bp = sns.boxplot(x='toxin', y='event', data=fusion_tox_adjusted_all_pd,  palette=colors, ax=ax, width=0.5)\n",
    "ax.set(xlabel=\"Toxins\", ylabel=\"fission event\")\n",
    "\n",
    "# Customize fliers (outliers)\n",
    "for flier in ax.collections:  # Fliers are stored as PathCollection\n",
    "    flier.set(marker='D', color='#e7298a', alpha=0.5)\n",
    "\n",
    "# Set title and axis ticks\n",
    "plt.title(\"fission event per all label for different toxins\")\n",
    "ax.tick_params(axis='x', bottom=True)\n",
    "ax.tick_params(axis='y', left=True)\n",
    "\n",
    "# Show plot\n",
    "plt.show()"
   ]
  },
  {
   "cell_type": "code",
   "execution_count": 36,
   "metadata": {},
   "outputs": [
    {
     "name": "stderr",
     "output_type": "stream",
     "text": [
      "C:\\Users\\iceji\\AppData\\Local\\Temp\\ipykernel_33208\\4239190865.py:6: MatplotlibDeprecationWarning: The 'labels' parameter of boxplot() has been renamed 'tick_labels' since Matplotlib 3.9; support for the old name will be dropped in 3.11.\n",
      "  bp = ax.boxplot(fusion_tox_adjusted, patch_artist = True,labels=[ 'control', 'FCCP', 'oligomycin', 'Rotenone'])\n"
     ]
    },
    {
     "ename": "ValueError",
     "evalue": "Dimensions of labels and X must be compatible",
     "output_type": "error",
     "traceback": [
      "\u001b[1;31m---------------------------------------------------------------------------\u001b[0m",
      "\u001b[1;31mValueError\u001b[0m                                Traceback (most recent call last)",
      "Cell \u001b[1;32mIn[36], line 6\u001b[0m\n\u001b[0;32m      3\u001b[0m fig \u001b[38;5;241m=\u001b[39m plt\u001b[38;5;241m.\u001b[39mfigure(figsize \u001b[38;5;241m=\u001b[39m(\u001b[38;5;241m10\u001b[39m, \u001b[38;5;241m7\u001b[39m))\n\u001b[0;32m      4\u001b[0m ax \u001b[38;5;241m=\u001b[39m fig\u001b[38;5;241m.\u001b[39madd_subplot(\u001b[38;5;241m111\u001b[39m)\n\u001b[1;32m----> 6\u001b[0m bp \u001b[38;5;241m=\u001b[39m \u001b[43max\u001b[49m\u001b[38;5;241;43m.\u001b[39;49m\u001b[43mboxplot\u001b[49m\u001b[43m(\u001b[49m\u001b[43mfusion_tox_adjusted\u001b[49m\u001b[43m,\u001b[49m\u001b[43m \u001b[49m\u001b[43mpatch_artist\u001b[49m\u001b[43m \u001b[49m\u001b[38;5;241;43m=\u001b[39;49m\u001b[43m \u001b[49m\u001b[38;5;28;43;01mTrue\u001b[39;49;00m\u001b[43m,\u001b[49m\u001b[43mlabels\u001b[49m\u001b[38;5;241;43m=\u001b[39;49m\u001b[43m[\u001b[49m\u001b[43m \u001b[49m\u001b[38;5;124;43m'\u001b[39;49m\u001b[38;5;124;43mcontrol\u001b[39;49m\u001b[38;5;124;43m'\u001b[39;49m\u001b[43m,\u001b[49m\u001b[43m \u001b[49m\u001b[38;5;124;43m'\u001b[39;49m\u001b[38;5;124;43mFCCP\u001b[39;49m\u001b[38;5;124;43m'\u001b[39;49m\u001b[43m,\u001b[49m\u001b[43m \u001b[49m\u001b[38;5;124;43m'\u001b[39;49m\u001b[38;5;124;43moligomycin\u001b[39;49m\u001b[38;5;124;43m'\u001b[39;49m\u001b[43m,\u001b[49m\u001b[43m \u001b[49m\u001b[38;5;124;43m'\u001b[39;49m\u001b[38;5;124;43mRotenone\u001b[39;49m\u001b[38;5;124;43m'\u001b[39;49m\u001b[43m]\u001b[49m\u001b[43m)\u001b[49m\n\u001b[0;32m      8\u001b[0m colors \u001b[38;5;241m=\u001b[39m [\u001b[38;5;124m'\u001b[39m\u001b[38;5;124m#a559aa\u001b[39m\u001b[38;5;124m'\u001b[39m, \u001b[38;5;124m'\u001b[39m\u001b[38;5;124m#59a89c\u001b[39m\u001b[38;5;124m'\u001b[39m, \u001b[38;5;124m'\u001b[39m\u001b[38;5;124m#082a54\u001b[39m\u001b[38;5;124m'\u001b[39m, \u001b[38;5;124m'\u001b[39m\u001b[38;5;124m#f0c571\u001b[39m\u001b[38;5;124m'\u001b[39m]\n\u001b[0;32m     10\u001b[0m \u001b[38;5;28;01mfor\u001b[39;00m patch, color \u001b[38;5;129;01min\u001b[39;00m \u001b[38;5;28mzip\u001b[39m(bp[\u001b[38;5;124m'\u001b[39m\u001b[38;5;124mboxes\u001b[39m\u001b[38;5;124m'\u001b[39m], colors):\n",
      "File \u001b[1;32mc:\\Users\\iceji\\.conda\\envs\\napari-env\\lib\\site-packages\\matplotlib\\__init__.py:1473\u001b[0m, in \u001b[0;36m_preprocess_data.<locals>.inner\u001b[1;34m(ax, data, *args, **kwargs)\u001b[0m\n\u001b[0;32m   1470\u001b[0m \u001b[38;5;129m@functools\u001b[39m\u001b[38;5;241m.\u001b[39mwraps(func)\n\u001b[0;32m   1471\u001b[0m \u001b[38;5;28;01mdef\u001b[39;00m \u001b[38;5;21minner\u001b[39m(ax, \u001b[38;5;241m*\u001b[39margs, data\u001b[38;5;241m=\u001b[39m\u001b[38;5;28;01mNone\u001b[39;00m, \u001b[38;5;241m*\u001b[39m\u001b[38;5;241m*\u001b[39mkwargs):\n\u001b[0;32m   1472\u001b[0m     \u001b[38;5;28;01mif\u001b[39;00m data \u001b[38;5;129;01mis\u001b[39;00m \u001b[38;5;28;01mNone\u001b[39;00m:\n\u001b[1;32m-> 1473\u001b[0m         \u001b[38;5;28;01mreturn\u001b[39;00m func(\n\u001b[0;32m   1474\u001b[0m             ax,\n\u001b[0;32m   1475\u001b[0m             \u001b[38;5;241m*\u001b[39m\u001b[38;5;28mmap\u001b[39m(sanitize_sequence, args),\n\u001b[0;32m   1476\u001b[0m             \u001b[38;5;241m*\u001b[39m\u001b[38;5;241m*\u001b[39m{k: sanitize_sequence(v) \u001b[38;5;28;01mfor\u001b[39;00m k, v \u001b[38;5;129;01min\u001b[39;00m kwargs\u001b[38;5;241m.\u001b[39mitems()})\n\u001b[0;32m   1478\u001b[0m     bound \u001b[38;5;241m=\u001b[39m new_sig\u001b[38;5;241m.\u001b[39mbind(ax, \u001b[38;5;241m*\u001b[39margs, \u001b[38;5;241m*\u001b[39m\u001b[38;5;241m*\u001b[39mkwargs)\n\u001b[0;32m   1479\u001b[0m     auto_label \u001b[38;5;241m=\u001b[39m (bound\u001b[38;5;241m.\u001b[39marguments\u001b[38;5;241m.\u001b[39mget(label_namer)\n\u001b[0;32m   1480\u001b[0m                   \u001b[38;5;129;01mor\u001b[39;00m bound\u001b[38;5;241m.\u001b[39mkwargs\u001b[38;5;241m.\u001b[39mget(label_namer))\n",
      "File \u001b[1;32mc:\\Users\\iceji\\.conda\\envs\\napari-env\\lib\\site-packages\\matplotlib\\_api\\deprecation.py:300\u001b[0m, in \u001b[0;36mrename_parameter.<locals>.wrapper\u001b[1;34m(*args, **kwargs)\u001b[0m\n\u001b[0;32m    295\u001b[0m     warn_deprecated(\n\u001b[0;32m    296\u001b[0m         since, message\u001b[38;5;241m=\u001b[39m\u001b[38;5;124mf\u001b[39m\u001b[38;5;124m\"\u001b[39m\u001b[38;5;124mThe \u001b[39m\u001b[38;5;132;01m{\u001b[39;00mold\u001b[38;5;132;01m!r}\u001b[39;00m\u001b[38;5;124m parameter of \u001b[39m\u001b[38;5;132;01m{\u001b[39;00mfunc\u001b[38;5;241m.\u001b[39m\u001b[38;5;18m__name__\u001b[39m\u001b[38;5;132;01m}\u001b[39;00m\u001b[38;5;124m() \u001b[39m\u001b[38;5;124m\"\u001b[39m\n\u001b[0;32m    297\u001b[0m         \u001b[38;5;124mf\u001b[39m\u001b[38;5;124m\"\u001b[39m\u001b[38;5;124mhas been renamed \u001b[39m\u001b[38;5;132;01m{\u001b[39;00mnew\u001b[38;5;132;01m!r}\u001b[39;00m\u001b[38;5;124m since Matplotlib \u001b[39m\u001b[38;5;132;01m{\u001b[39;00msince\u001b[38;5;132;01m}\u001b[39;00m\u001b[38;5;124m; support \u001b[39m\u001b[38;5;124m\"\u001b[39m\n\u001b[0;32m    298\u001b[0m         \u001b[38;5;124mf\u001b[39m\u001b[38;5;124m\"\u001b[39m\u001b[38;5;124mfor the old name will be dropped %(removal)s.\u001b[39m\u001b[38;5;124m\"\u001b[39m)\n\u001b[0;32m    299\u001b[0m     kwargs[new] \u001b[38;5;241m=\u001b[39m kwargs\u001b[38;5;241m.\u001b[39mpop(old)\n\u001b[1;32m--> 300\u001b[0m \u001b[38;5;28;01mreturn\u001b[39;00m func(\u001b[38;5;241m*\u001b[39margs, \u001b[38;5;241m*\u001b[39m\u001b[38;5;241m*\u001b[39mkwargs)\n",
      "File \u001b[1;32mc:\\Users\\iceji\\.conda\\envs\\napari-env\\lib\\site-packages\\matplotlib\\axes\\_axes.py:4039\u001b[0m, in \u001b[0;36mAxes.boxplot\u001b[1;34m(self, x, notch, sym, vert, whis, positions, widths, patch_artist, bootstrap, usermedians, conf_intervals, meanline, showmeans, showcaps, showbox, showfliers, boxprops, tick_labels, flierprops, medianprops, meanprops, capprops, whiskerprops, manage_ticks, autorange, zorder, capwidths, label)\u001b[0m\n\u001b[0;32m   4036\u001b[0m \u001b[38;5;28;01mif\u001b[39;00m bootstrap \u001b[38;5;129;01mis\u001b[39;00m \u001b[38;5;28;01mNone\u001b[39;00m:\n\u001b[0;32m   4037\u001b[0m     bootstrap \u001b[38;5;241m=\u001b[39m mpl\u001b[38;5;241m.\u001b[39mrcParams[\u001b[38;5;124m'\u001b[39m\u001b[38;5;124mboxplot.bootstrap\u001b[39m\u001b[38;5;124m'\u001b[39m]\n\u001b[1;32m-> 4039\u001b[0m bxpstats \u001b[38;5;241m=\u001b[39m \u001b[43mcbook\u001b[49m\u001b[38;5;241;43m.\u001b[39;49m\u001b[43mboxplot_stats\u001b[49m\u001b[43m(\u001b[49m\u001b[43mx\u001b[49m\u001b[43m,\u001b[49m\u001b[43m \u001b[49m\u001b[43mwhis\u001b[49m\u001b[38;5;241;43m=\u001b[39;49m\u001b[43mwhis\u001b[49m\u001b[43m,\u001b[49m\u001b[43m \u001b[49m\u001b[43mbootstrap\u001b[49m\u001b[38;5;241;43m=\u001b[39;49m\u001b[43mbootstrap\u001b[49m\u001b[43m,\u001b[49m\n\u001b[0;32m   4040\u001b[0m \u001b[43m                               \u001b[49m\u001b[43mlabels\u001b[49m\u001b[38;5;241;43m=\u001b[39;49m\u001b[43mtick_labels\u001b[49m\u001b[43m,\u001b[49m\u001b[43m \u001b[49m\u001b[43mautorange\u001b[49m\u001b[38;5;241;43m=\u001b[39;49m\u001b[43mautorange\u001b[49m\u001b[43m)\u001b[49m\n\u001b[0;32m   4041\u001b[0m \u001b[38;5;28;01mif\u001b[39;00m notch \u001b[38;5;129;01mis\u001b[39;00m \u001b[38;5;28;01mNone\u001b[39;00m:\n\u001b[0;32m   4042\u001b[0m     notch \u001b[38;5;241m=\u001b[39m mpl\u001b[38;5;241m.\u001b[39mrcParams[\u001b[38;5;124m'\u001b[39m\u001b[38;5;124mboxplot.notch\u001b[39m\u001b[38;5;124m'\u001b[39m]\n",
      "File \u001b[1;32mc:\\Users\\iceji\\.conda\\envs\\napari-env\\lib\\site-packages\\matplotlib\\cbook.py:1260\u001b[0m, in \u001b[0;36mboxplot_stats\u001b[1;34m(X, whis, bootstrap, labels, autorange)\u001b[0m\n\u001b[0;32m   1258\u001b[0m     labels \u001b[38;5;241m=\u001b[39m itertools\u001b[38;5;241m.\u001b[39mrepeat(\u001b[38;5;28;01mNone\u001b[39;00m)\n\u001b[0;32m   1259\u001b[0m \u001b[38;5;28;01melif\u001b[39;00m \u001b[38;5;28mlen\u001b[39m(labels) \u001b[38;5;241m!=\u001b[39m ncols:\n\u001b[1;32m-> 1260\u001b[0m     \u001b[38;5;28;01mraise\u001b[39;00m \u001b[38;5;167;01mValueError\u001b[39;00m(\u001b[38;5;124m\"\u001b[39m\u001b[38;5;124mDimensions of labels and X must be compatible\u001b[39m\u001b[38;5;124m\"\u001b[39m)\n\u001b[0;32m   1262\u001b[0m input_whis \u001b[38;5;241m=\u001b[39m whis\n\u001b[0;32m   1263\u001b[0m \u001b[38;5;28;01mfor\u001b[39;00m ii, (x, label) \u001b[38;5;129;01min\u001b[39;00m \u001b[38;5;28menumerate\u001b[39m(\u001b[38;5;28mzip\u001b[39m(X, labels)):\n\u001b[0;32m   1264\u001b[0m \n\u001b[0;32m   1265\u001b[0m     \u001b[38;5;66;03m# empty dict\u001b[39;00m\n",
      "\u001b[1;31mValueError\u001b[0m: Dimensions of labels and X must be compatible"
     ]
    },
    {
     "data": {
      "image/png": "[encoded data removed]",
      "text/plain": [
       "<Figure size 1000x700 with 1 Axes>"
      ]
     },
     "metadata": {},
     "output_type": "display_data"
    }
   ],
   "source": [
    "import matplotlib.pyplot as plt\n",
    "\n",
    "fig = plt.figure(figsize =(10, 7))\n",
    "ax = fig.add_subplot(111)\n",
    "\n",
    "bp = ax.boxplot(fusion_tox_adjusted, patch_artist = True,labels=[ 'control', 'FCCP', 'oligomycin', 'Rotenone'])\n",
    "\n",
    "colors = ['#a559aa', '#59a89c', '#082a54', '#f0c571']\n",
    "\n",
    "for patch, color in zip(bp['boxes'], colors):\n",
    "    patch.set_facecolor(color)\n",
    "\n",
    "for whisker in bp['whiskers']:\n",
    "    whisker.set(color ='#8B008B',\n",
    "                linewidth = 1.5,\n",
    "                linestyle =\":\")\n",
    "\n",
    "# changing color and linewidth of\n",
    "for cap in bp['caps']:\n",
    "    cap.set(color ='#8B008B',\n",
    "            linewidth = 2)\n",
    "\n",
    "for median in bp['medians']:\n",
    "    median.set(color ='red',\n",
    "               linewidth = 1)\n",
    "\n",
    "# changing style of fliers\n",
    "for flier in bp['fliers']:\n",
    "    flier.set(marker ='D',\n",
    "              color ='#e7298a',\n",
    "              alpha = 0.5)\n",
    "\n",
    "#ax.set_yticklabels(['d_1', 'd_2', \n",
    "#                    'd_3', 'd_4'])\n",
    "# \n",
    "plt.title(\"Customized box plot\")\n",
    "\n",
    "ax.get_xaxis().tick_bottom()\n",
    "ax.get_yaxis().tick_left()\n",
    "\n",
    "plt.show()"
   ]
  },
  {
   "cell_type": "markdown",
   "metadata": {},
   "source": [
    "##### Fission all & fusion all (with self fission / fusion)"
   ]
  },
  {
   "cell_type": "code",
   "execution_count": null,
   "metadata": {},
   "outputs": [
    {
     "name": "stdout",
     "output_type": "stream",
     "text": [
      "fission all\n",
      "  Contrast           A           B  Paired  Parametric    U-val alternative  \\\n",
      "0    toxin        FCCP     control   False       False  17957.5   two-sided   \n",
      "1    toxin        FCCP  oligomycin   False       False  18110.0   two-sided   \n",
      "2    toxin        FCCP    rotenone   False       False  18340.5   two-sided   \n",
      "3    toxin     control  oligomycin   False       False  10936.5   two-sided   \n",
      "4    toxin     control    rotenone   False       False  13440.0   two-sided   \n",
      "5    toxin  oligomycin    rotenone   False       False  12243.0   two-sided   \n",
      "\n",
      "          p-unc        p-corr p-adjust         r  \n",
      "0  4.012893e-39  1.605157e-38     holm  0.148353  \n",
      "1  1.762581e-40  8.812906e-40     holm  0.108334  \n",
      "2  1.594819e-42  9.568917e-42     holm  0.154758  \n",
      "3  1.735966e-02  1.735966e-02     holm  0.356664  \n",
      "4  5.345371e-10  1.603611e-09     holm  0.237370  \n",
      "5  1.180852e-05  2.361704e-05     holm  0.210533  \n"
     ]
    }
   ],
   "source": [
    "print(\"fission all\") # shows all of then are significantly different \n",
    "#check the influence and correlation with Rank Biserial Correlation\n",
    "print(pg.pairwise_tests(dv = 'event', between =  'toxin', data = fission_tox_self_pd, parametric=False,padjust='holm', effsize = 'r'))"
   ]
  },
  {
   "cell_type": "code",
   "execution_count": null,
   "metadata": {},
   "outputs": [
    {
     "name": "stdout",
     "output_type": "stream",
     "text": [
      "fusion all\n",
      "  Contrast           A           B  Paired  Parametric    U-val alternative  \\\n",
      "0    toxin        FCCP     control   False       False  17876.5   two-sided   \n",
      "1    toxin        FCCP  oligomycin   False       False  17987.5   two-sided   \n",
      "2    toxin        FCCP    rotenone   False       False  18143.5   two-sided   \n",
      "3    toxin     control  oligomycin   False       False  10293.5   two-sided   \n",
      "4    toxin     control    rotenone   False       False  12843.5   two-sided   \n",
      "5    toxin  oligomycin    rotenone   False       False  12387.0   two-sided   \n",
      "\n",
      "          p-unc        p-corr p-adjust         r  \n",
      "0  1.894701e-38  7.578804e-38     holm  0.124009  \n",
      "1  1.987698e-39  9.938491e-39     holm  0.121058  \n",
      "2  8.693538e-41  5.216123e-40     holm  0.191230  \n",
      "3  1.631317e-01  1.631317e-01     holm  0.060392  \n",
      "4  1.151339e-07  3.454017e-07     holm  0.228764  \n",
      "5  4.039769e-06  8.079538e-06     holm  0.212683  \n"
     ]
    }
   ],
   "source": [
    "print(\"fusion all\") # shows all of then are significantly different \n",
    "#check the influence and correlation with Rank Biserial Correlation\n",
    "print(pg.pairwise_tests(dv = 'event', between =  'toxin', data = fusion_tox_self_pd, parametric=False,padjust='holm', effsize = 'r'))"
   ]
  },
  {
   "cell_type": "markdown",
   "metadata": {},
   "source": [
    "##### Fission fusion from mitometer"
   ]
  },
  {
   "cell_type": "code",
   "execution_count": null,
   "metadata": {},
   "outputs": [
    {
     "name": "stdout",
     "output_type": "stream",
     "text": [
      "fission mitometer\n",
      "  Contrast           A           B  Paired  Parametric    U-val alternative  \\\n",
      "0    toxin        FCCP     control   False       False  13272.5   two-sided   \n",
      "1    toxin        FCCP  oligomycin   False       False  12536.0   two-sided   \n",
      "2    toxin        FCCP    rotenone   False       False  10952.5   two-sided   \n",
      "3    toxin     control  oligomycin   False       False   8606.0   two-sided   \n",
      "4    toxin     control    rotenone   False       False   6989.0   two-sided   \n",
      "5    toxin  oligomycin    rotenone   False       False   7755.0   two-sided   \n",
      "\n",
      "          p-unc    hedges  \n",
      "0  1.545791e-11  0.827871  \n",
      "1  8.304499e-08  0.642336  \n",
      "2  9.553068e-03  0.344610  \n",
      "3  1.205285e-01 -0.207947  \n",
      "4  1.190099e-05 -0.549661  \n",
      "5  3.848848e-03 -0.335201  \n"
     ]
    }
   ],
   "source": [
    "print(\"fission mitometer\") # shows all of then are significantly different \n",
    "#check the influence and correlation with Rank Biserial Correlation\n",
    "print(pg.pairwise_tests(dv = 'event', between =  'toxin', data = fission_tox_meter_pd, parametric=False))"
   ]
  },
  {
   "cell_type": "code",
   "execution_count": null,
   "metadata": {},
   "outputs": [
    {
     "name": "stdout",
     "output_type": "stream",
     "text": [
      "fusion mitometer\n",
      "  Contrast           A           B  Paired  Parametric   U-val alternative  \\\n",
      "0    toxin        FCCP     control   False       False  8957.0   two-sided   \n",
      "1    toxin        FCCP  oligomycin   False       False  9031.5   two-sided   \n",
      "2    toxin        FCCP    rotenone   False       False  7665.5   two-sided   \n",
      "3    toxin     control  oligomycin   False       False  9460.5   two-sided   \n",
      "4    toxin     control    rotenone   False       False  8082.5   two-sided   \n",
      "5    toxin  oligomycin    rotenone   False       False  8005.0   two-sided   \n",
      "\n",
      "      p-unc    hedges  \n",
      "0  0.242317 -0.167300  \n",
      "1  0.327657 -0.135699  \n",
      "2  0.000096 -0.515472  \n",
      "3  0.846050  0.033647  \n",
      "4  0.004733 -0.380774  \n",
      "5  0.002577 -0.410264  \n"
     ]
    }
   ],
   "source": [
    "print(\"fusion mitometer\") # shows all of then are significantly different \n",
    "#check the influence and correlation with Rank Biserial Correlation\n",
    "print(pg.pairwise_tests(dv = 'event', between =  'toxin', data = fusion_tox_meter_pd, parametric=False))"
   ]
  },
  {
   "cell_type": "markdown",
   "metadata": {},
   "source": [
    "##### fission fusion from nellie"
   ]
  },
  {
   "cell_type": "code",
   "execution_count": null,
   "metadata": {},
   "outputs": [
    {
     "name": "stdout",
     "output_type": "stream",
     "text": [
      "fission nellie\n",
      "  Contrast           A           B  Paired  Parametric   U-val alternative  \\\n",
      "0    toxin        FCCP     control   False       False  9737.5   two-sided   \n",
      "1    toxin        FCCP  oligomycin   False       False  9591.0   two-sided   \n",
      "2    toxin        FCCP    rotenone   False       False  9534.0   two-sided   \n",
      "3    toxin     control  oligomycin   False       False  9295.0   two-sided   \n",
      "4    toxin     control    rotenone   False       False  9193.0   two-sided   \n",
      "5    toxin  oligomycin    rotenone   False       False  9257.0   two-sided   \n",
      "\n",
      "      p-unc  p-corr p-adjust         r  \n",
      "0  0.562350     1.0     holm -0.023779  \n",
      "1  0.733129     1.0     holm -0.155143  \n",
      "2  0.808087     1.0     holm -0.015978  \n",
      "3  0.883703     1.0     holm -0.029409  \n",
      "4  0.756942     1.0     holm  0.022033  \n",
      "5  0.835985     1.0     holm  0.181949  \n"
     ]
    }
   ],
   "source": [
    "print(\"fission nellie\") # shows all of then are significantly different \n",
    "#check the influence and correlation with Rank Biserial Correlation\n",
    "print(pg.pairwise_tests(dv = 'event', between =  'toxin', data = fission_tox_nellie, parametric=False,padjust='holm', effsize = 'r'))"
   ]
  },
  {
   "cell_type": "code",
   "execution_count": null,
   "metadata": {},
   "outputs": [
    {
     "name": "stdout",
     "output_type": "stream",
     "text": [
      "fusion nellie\n",
      "  Contrast           A           B  Paired  Parametric    U-val alternative  \\\n",
      "0    toxin        FCCP     control   False       False   9686.5   two-sided   \n",
      "1    toxin        FCCP  oligomycin   False       False   9375.0   two-sided   \n",
      "2    toxin        FCCP    rotenone   False       False   9993.5   two-sided   \n",
      "3    toxin     control  oligomycin   False       False   9046.0   two-sided   \n",
      "4    toxin     control    rotenone   False       False   9738.0   two-sided   \n",
      "5    toxin  oligomycin    rotenone   False       False  10061.5   two-sided   \n",
      "\n",
      "      p-unc  p-corr p-adjust         r  \n",
      "0  0.620818     1.0     holm -0.060014  \n",
      "1  0.988238     1.0     holm -0.077647  \n",
      "2  0.312035     1.0     holm  0.025597  \n",
      "3  0.580427     1.0     holm  0.146061  \n",
      "4  0.558297     1.0     holm  0.097277  \n",
      "5  0.262824     1.0     holm  0.173865  \n"
     ]
    }
   ],
   "source": [
    "print(\"fusion nellie\") # shows all of then are significantly different \n",
    "#check the influence and correlation with Rank Biserial Correlation\n",
    "print(pg.pairwise_tests(dv = 'event', between =  'toxin', data = fusion_tox_nellie, parametric=False,padjust='holm', effsize = 'r'))"
   ]
  },
  {
   "cell_type": "markdown",
   "metadata": {},
   "source": [
    "##### fission / fusion ratio"
   ]
  },
  {
   "cell_type": "code",
   "execution_count": null,
   "metadata": {},
   "outputs": [
    {
     "name": "stdout",
     "output_type": "stream",
     "text": [
      "fission fusion ratio\n",
      "  Contrast           A           B  Paired  Parametric    U-val alternative  \\\n",
      "0    toxin        FCCP     control   False       False   9540.5   two-sided   \n",
      "1    toxin        FCCP  oligomycin   False       False   9351.5   two-sided   \n",
      "2    toxin        FCCP    rotenone   False       False  10036.0   two-sided   \n",
      "3    toxin     control  oligomycin   False       False   9235.5   two-sided   \n",
      "4    toxin     control    rotenone   False       False   9930.0   two-sided   \n",
      "5    toxin  oligomycin    rotenone   False       False  10062.5   two-sided   \n",
      "\n",
      "      p-unc  p-corr p-adjust         r  \n",
      "0  0.812515     1.0     holm  0.144816  \n",
      "1  0.960449     1.0     holm  0.141226  \n",
      "2  0.320659     1.0     holm -0.029604  \n",
      "3  0.820642     1.0     holm  0.220179  \n",
      "4  0.405573     1.0     holm -0.068325  \n",
      "5  0.300845     1.0     holm  0.005985  \n"
     ]
    }
   ],
   "source": [
    "print(\"fission fusion ratio\") # shows all of then are significantly different \n",
    "#check the influence and correlation with Rank Biserial Correlation\n",
    "print(pg.pairwise_tests(dv = 'event', between =  'toxin', data = ff_ratio_pd, parametric=False,padjust='holm', effsize = 'r'))"
   ]
  },
  {
   "cell_type": "code",
   "execution_count": null,
   "metadata": {},
   "outputs": [
    {
     "name": "stdout",
     "output_type": "stream",
     "text": [
      "fission fusion ratio adjusted\n",
      "  Contrast           A           B  Paired  Parametric    U-val alternative  \\\n",
      "0    toxin        FCCP     control   False       False  10187.0   two-sided   \n",
      "1    toxin        FCCP  oligomycin   False       False   9848.0   two-sided   \n",
      "2    toxin        FCCP    rotenone   False       False  10568.5   two-sided   \n",
      "3    toxin     control  oligomycin   False       False   9079.5   two-sided   \n",
      "4    toxin     control    rotenone   False       False   9789.0   two-sided   \n",
      "5    toxin  oligomycin    rotenone   False       False  10083.0   two-sided   \n",
      "\n",
      "      p-unc    p-corr p-adjust         r  \n",
      "0  0.221186  1.000000     holm  0.162965  \n",
      "1  0.479950  1.000000     holm  0.077126  \n",
      "2  0.070996  0.425975     holm -0.050598  \n",
      "3  0.642121  1.000000     holm  0.094079  \n",
      "4  0.537543  1.000000     holm -0.052607  \n",
      "5  0.286639  1.000000     holm  0.122603  \n"
     ]
    }
   ],
   "source": [
    "print(\"fission fusion ratio adjusted\") # shows all of then are significantly different \n",
    "#check the influence and correlation with Rank Biserial Correlation\n",
    "print(pg.pairwise_tests(dv = 'event', between =  'toxin', data = ff_ratio_adjusted_pd, parametric=False,padjust='holm', effsize = 'r'))"
   ]
  },
  {
   "cell_type": "code",
   "execution_count": null,
   "metadata": {},
   "outputs": [
    {
     "name": "stdout",
     "output_type": "stream",
     "text": [
      "fission fusion ratio all\n",
      "  Contrast           A           B  Paired  Parametric   U-val alternative  \\\n",
      "0    toxin        FCCP     control   False       False  9356.0   two-sided   \n",
      "1    toxin        FCCP  oligomycin   False       False  9721.0   two-sided   \n",
      "2    toxin        FCCP    rotenone   False       False  9803.0   two-sided   \n",
      "3    toxin     control  oligomycin   False       False  9694.0   two-sided   \n",
      "4    toxin     control    rotenone   False       False  9771.5   two-sided   \n",
      "5    toxin  oligomycin    rotenone   False       False  9402.5   two-sided   \n",
      "\n",
      "      p-unc    hedges  \n",
      "0  0.965943  0.094950  \n",
      "1  0.608361  0.136510  \n",
      "2  0.523799  0.064856  \n",
      "3  0.637469  0.054495  \n",
      "4  0.555551 -0.024607  \n",
      "5  0.978703 -0.069950  \n"
     ]
    }
   ],
   "source": [
    "print(\"fission fusion ratio all\") # shows all of then are significantly different \n",
    "#check the influence and correlation with Rank Biserial Correlation\n",
    "print(pg.pairwise_tests(dv = 'event', between =  'toxin', data = ff_ratio_all_pd, parametric=False))"
   ]
  },
  {
   "cell_type": "markdown",
   "metadata": {},
   "source": [
    "### Statistical testing of MDIVI with my algorithm"
   ]
  },
  {
   "cell_type": "markdown",
   "metadata": {},
   "source": [
    "#### 1. Check assumption"
   ]
  },
  {
   "cell_type": "code",
   "execution_count": null,
   "metadata": {},
   "outputs": [
    {
     "name": "stdout",
     "output_type": "stream",
     "text": [
      "                W          pval  normal\n",
      "toxin                                  \n",
      "control  0.894909  1.831708e-08   False\n",
      "mdivi    0.872055  1.335167e-09   False\n",
      "               W      pval  equal_var\n",
      "levene  4.491263  0.034961      False\n"
     ]
    }
   ],
   "source": [
    "# fission mdivi\n",
    "normality = pg.normality(data = fission_mdivi_pd, dv = 'event', group = 'toxin')\n",
    "homogeneity = pg.homoscedasticity(data = fission_mdivi_pd, dv = 'event', group = 'toxin')\n",
    "print(normality)\n",
    "print(homogeneity)"
   ]
  },
  {
   "cell_type": "code",
   "execution_count": null,
   "metadata": {},
   "outputs": [
    {
     "name": "stdout",
     "output_type": "stream",
     "text": [
      "                W          pval  normal\n",
      "toxin                                  \n",
      "control  0.932055  3.068881e-06   False\n",
      "mdivi    0.867810  8.487915e-10   False\n",
      "               W      pval  equal_var\n",
      "levene  2.288583  0.131473       True\n"
     ]
    }
   ],
   "source": [
    "normality = pg.normality(data = fusion_mdivi_pd, dv = 'event', group = 'toxin')\n",
    "homogeneity = pg.homoscedasticity(data = fusion_mdivi_pd, dv = 'event', group = 'toxin')\n",
    "print(normality)\n",
    "print(homogeneity)"
   ]
  },
  {
   "cell_type": "code",
   "execution_count": null,
   "metadata": {},
   "outputs": [
    {
     "name": "stdout",
     "output_type": "stream",
     "text": [
      "                      W      pval  normal\n",
      "toxin                                    \n",
      "control_10min  0.971320  0.161929    True\n",
      "mdivi_10min    0.948128  0.011754   False\n",
      "               W     pval  equal_var\n",
      "levene  0.974486  0.32555       True\n"
     ]
    }
   ],
   "source": [
    "normality = pg.normality(data = fission_mdivi_10min_pd, dv = 'event', group = 'toxin')\n",
    "homogeneity = pg.homoscedasticity(data = fission_mdivi_10min_pd, dv = 'event', group = 'toxin')\n",
    "print(normality)\n",
    "print(homogeneity)"
   ]
  },
  {
   "cell_type": "code",
   "execution_count": null,
   "metadata": {},
   "outputs": [
    {
     "name": "stdout",
     "output_type": "stream",
     "text": [
      "                      W      pval  normal\n",
      "toxin                                    \n",
      "control_10min  0.974518  0.232228    True\n",
      "mdivi_10min    0.925335  0.001141   False\n",
      "               W      pval  equal_var\n",
      "levene  2.091866  0.150692       True\n"
     ]
    }
   ],
   "source": [
    "normality = pg.normality(data = fusion_mdivi_10min_pd, dv = 'event', group = 'toxin')\n",
    "homogeneity = pg.homoscedasticity(data = fusion_mdivi_10min_pd, dv = 'event', group = 'toxin')\n",
    "print(normality)\n",
    "print(homogeneity)"
   ]
  },
  {
   "cell_type": "code",
   "execution_count": null,
   "metadata": {},
   "outputs": [
    {
     "name": "stdout",
     "output_type": "stream",
     "text": [
      "                W          pval  normal\n",
      "toxin                                  \n",
      "control  0.559831  1.159752e-18   False\n",
      "mdivi    0.404555  2.195639e-21   False\n",
      "               W      pval  equal_var\n",
      "levene  6.242931  0.013051      False\n"
     ]
    }
   ],
   "source": [
    "normality = pg.normality(data = fusion_mdivi_meter_pd, dv = 'event', group = 'toxin')\n",
    "homogeneity = pg.homoscedasticity(data = fusion_mdivi_meter_pd, dv = 'event', group = 'toxin')\n",
    "print(normality)\n",
    "print(homogeneity)"
   ]
  },
  {
   "cell_type": "markdown",
   "metadata": {},
   "source": [
    "#### 2. Statistical testing with Mann-Whitney"
   ]
  },
  {
   "cell_type": "code",
   "execution_count": null,
   "metadata": {},
   "outputs": [
    {
     "name": "stdout",
     "output_type": "stream",
     "text": [
      "10s interval \n",
      "       U-val alternative     p-val     RBC     CLES\n",
      "MWU  11209.0   two-sided  0.013898  0.1687  0.58435\n",
      "       U-val alternative     p-val       RBC      CLES\n",
      "MWU  10806.0   two-sided  0.064841  0.126681  0.563341\n",
      "       U-val alternative     p-val       RBC      CLES\n",
      "MWU  10922.5   two-sided  0.042347  0.138828  0.569414\n",
      "       U-val alternative     p-val       RBC      CLES\n",
      "MWU  10635.0   two-sided  0.111955  0.108852  0.554426\n",
      " \n",
      " 1 min interval\n",
      "      U-val alternative     p-val       RBC      CLES\n",
      "MWU  1815.5   two-sided  0.941486 -0.007923  0.496038\n",
      "      U-val alternative     p-val       RBC      CLES\n",
      "MWU  2184.0   two-sided  0.064136  0.193443  0.596721\n",
      "      U-val alternative     p-val      RBC      CLES\n",
      "MWU  1237.5   two-sided  0.001836 -0.32377  0.338115\n",
      "      U-val alternative     p-val       RBC      CLES\n",
      "MWU  1919.5   two-sided  0.639562  0.048907  0.524454\n"
     ]
    }
   ],
   "source": [
    "x = int((fusion_mdivi.shape[0])/2)\n",
    "# control = x, mdivi = y\n",
    "print(\"10s interval \")\n",
    "print(pg.mwu(fusion_mdivi[0:x] , fusion_mdivi[x:-1], alternative='two-sided'))\n",
    "print(pg.mwu(fission_mdivi[0:x] , fission_mdivi[x:-1], alternative='two-sided'))\n",
    "\n",
    "print(pg.mwu(fusion_mdivi_adjusted[0:x] , fusion_mdivi_adjusted[x:-1], alternative='two-sided'))\n",
    "print(pg.mwu(fission_mdivi_adjusted[0:x] , fission_mdivi_adjusted[x:-1], alternative='two-sided'))\n",
    "\n",
    "print(\" \")\n",
    "print(\" 1 min interval\")\n",
    "x = int((fusion_mdivi_10min.shape[0])/2)\n",
    "print(pg.mwu(fusion_mdivi_10min[0:x] , fusion_mdivi_10min[x:-1], alternative='two-sided'))\n",
    "print(pg.mwu(fission_mdivi_10min[0:x] , fission_mdivi_10min[x:-1], alternative='two-sided'))\n",
    "\n",
    "print(pg.mwu(fusion_mdivi_10min_adjusted[0:x] , fusion_mdivi_10min_adjusted[x:-1], alternative='two-sided'))\n",
    "print(pg.mwu(fission_mdivi_10min_adjusted[0:x] , fission_mdivi_10min_adjusted[x:-1], alternative='two-sided'))"
   ]
  },
  {
   "cell_type": "code",
   "execution_count": null,
   "metadata": {},
   "outputs": [
    {
     "name": "stdout",
     "output_type": "stream",
     "text": [
      "10s interval \n",
      "      U-val alternative     p-val       RBC      CLES\n",
      "MWU  7134.0   two-sided  0.321286  0.082878  0.541439\n",
      "      U-val alternative     p-val       RBC      CLES\n",
      "MWU  6316.5   two-sided  0.622321 -0.041211  0.479394\n",
      " \n",
      " 1 min interval\n",
      "     U-val alternative     p-val       RBC      CLES\n",
      "MWU  977.5   two-sided  0.000009 -0.465847  0.267077\n",
      "     U-val alternative     p-val       RBC      CLES\n",
      "MWU  950.0   two-sided  0.000005 -0.480874  0.259563\n"
     ]
    }
   ],
   "source": [
    "print(\"10s interval \")\n",
    "print(pg.mwu(fusion_mdivi_all[0:x] , fusion_mdivi_all[x:-1], alternative='two-sided'))\n",
    "print(pg.mwu(fission_mdivi_all[0:x] , fission_mdivi_all[x:-1], alternative='two-sided'))\n",
    "\n",
    "\n",
    "print(\" \")\n",
    "print(\" 1 min interval\")\n",
    "print(pg.mwu(fusion_mdivi_all_10min[0:x] , fusion_mdivi_all_10min[x:-1], alternative='two-sided'))\n",
    "print(pg.mwu(fission_mdivi_all_10min[0:x] , fission_mdivi_all_10min[x:-1], alternative='two-sided'))"
   ]
  },
  {
   "cell_type": "code",
   "execution_count": null,
   "metadata": {},
   "outputs": [
    {
     "name": "stdout",
     "output_type": "stream",
     "text": [
      "       U-val alternative     p-val       RBC     CLES\n",
      "MWU  10698.0   two-sided  0.014368  0.115421  0.55771\n",
      "       U-val alternative     p-val       RBC      CLES\n",
      "MWU  10522.5   two-sided  0.063727  0.097122  0.548561\n"
     ]
    }
   ],
   "source": [
    "x = int((fusion_mdivi.shape[0])/2)\n",
    "# control = x, mdivi = y\n",
    "print(pg.mwu(fusion_mdivi_meter[0:x] , fusion_mdivi_meter[x:-1], alternative='two-sided'))\n",
    "print(pg.mwu(fission_mdivi_meter[0:x] , fission_mdivi_meter[x:-1], alternative='two-sided'))\n",
    "\n",
    "print(pg.mwu(fusion_mdivi_all[0:x] , fusion_mdivi_all[x:-1], alternative='two-sided'))\n",
    "print(pg.mwu(fission_mdivi_all[0:x] , fission_mdivi_all[x:-1], alternative='two-sided'))\n"
   ]
  },
  {
   "cell_type": "markdown",
   "metadata": {},
   "source": [
    "#### Fission fusion ratio\n"
   ]
  },
  {
   "cell_type": "code",
   "execution_count": null,
   "metadata": {},
   "outputs": [
    {
     "name": "stdout",
     "output_type": "stream",
     "text": [
      "fission fusion ratio\n",
      "  Contrast        A      B  Paired  Parametric   U-val alternative     p-unc  \\\n",
      "0    toxin  control  mdivi   False       False  9753.0   two-sided  0.890563   \n",
      "\n",
      "     hedges  \n",
      "0 -0.227179  \n",
      " \n",
      "fission fusion ratio 10 min\n",
      "  Contrast              A            B  Paired  Parametric   U-val  \\\n",
      "0    toxin  control_10min  mdivi_10min   False       False  2073.0   \n",
      "\n",
      "  alternative     p-unc    hedges  \n",
      "0   two-sided  0.277183 -0.072235  \n"
     ]
    }
   ],
   "source": [
    "print(\"fission fusion ratio\") # shows all of then are significantly different \n",
    "#check the influence and correlation with Rank Biserial Correlation\n",
    "print(pg.pairwise_tests(dv = 'event', between =  'toxin', data = ff_ratio_mdivi, parametric=False))\n",
    "\n",
    "print(\" \")\n",
    "print(\"fission fusion ratio 10 min\") # shows all of then are significantly different \n",
    "#check the influence and correlation with Rank Biserial Correlation\n",
    "print(pg.pairwise_tests(dv = 'event', between =  'toxin', data = ff_ratio_mdivi_10min, parametric=False))"
   ]
  },
  {
   "cell_type": "code",
   "execution_count": null,
   "metadata": {},
   "outputs": [
    {
     "name": "stdout",
     "output_type": "stream",
     "text": [
      "fission fusion ratio adjusted\n",
      "  Contrast        A      B  Paired  Parametric    U-val alternative     p-unc  \\\n",
      "0    toxin  control  mdivi   False       False  10080.0   two-sided  0.530682   \n",
      "\n",
      "     hedges  \n",
      "0 -0.112976  \n",
      " \n",
      "fission fusion ratio 10 min adjusted\n",
      "  Contrast              A            B  Paired  Parametric   U-val  \\\n",
      "0    toxin  control_10min  mdivi_10min   False       False  2285.0   \n",
      "\n",
      "  alternative     p-unc   hedges  \n",
      "0   two-sided  0.029476  0.02839  \n"
     ]
    }
   ],
   "source": [
    "print(\"fission fusion ratio adjusted\") # shows all of then are significantly different \n",
    "#check the influence and correlation with Rank Biserial Correlation\n",
    "print(pg.pairwise_tests(dv = 'event', between =  'toxin', data = ff_ratio_mdivi_adjusted, parametric=False))\n",
    "\n",
    "print(\" \")\n",
    "print(\"fission fusion ratio 10 min adjusted\") # shows all of then are significantly different \n",
    "#check the influence and correlation with Rank Biserial Correlation\n",
    "print(pg.pairwise_tests(dv = 'event', between =  'toxin', data = ff_ratio_mdivi_adjusted_10min, parametric=False))"
   ]
  },
  {
   "cell_type": "code",
   "execution_count": null,
   "metadata": {},
   "outputs": [
    {
     "name": "stdout",
     "output_type": "stream",
     "text": [
      "fission fusion ratio all\n",
      "  Contrast        A      B  Paired  Parametric   U-val alternative     p-unc  \\\n",
      "0    toxin  control  mdivi   False       False  9365.0   two-sided  0.659733   \n",
      "\n",
      "     hedges  \n",
      "0 -0.012396  \n",
      " \n",
      "fission fusion ratio 10 min all\n",
      "  Contrast              A            B  Paired  Parametric   U-val  \\\n",
      "0    toxin  control_10min  mdivi_10min   False       False  1927.5   \n",
      "\n",
      "  alternative     p-unc    hedges  \n",
      "0   two-sided  0.733345 -0.015599  \n"
     ]
    }
   ],
   "source": [
    "print(\"fission fusion ratio all\") # shows all of then are significantly different \n",
    "#check the influence and correlation with Rank Biserial Correlation\n",
    "print(pg.pairwise_tests(dv = 'event', between =  'toxin', data = ff_ratio_all_mdivi, parametric=False))\n",
    "\n",
    "print(\" \")\n",
    "print(\"fission fusion ratio 10 min all\") # shows all of then are significantly different \n",
    "#check the influence and correlation with Rank Biserial Correlation\n",
    "print(pg.pairwise_tests(dv = 'event', between =  'toxin', data = ff_ratio_all_mdivi_10min, parametric=False))"
   ]
  },
  {
   "cell_type": "markdown",
   "metadata": {},
   "source": [
    "## Try two way anava analyze significance difference between two algorithm"
   ]
  },
  {
   "cell_type": "code",
   "execution_count": null,
   "metadata": {},
   "outputs": [
    {
     "name": "stdout",
     "output_type": "stream",
     "text": [
      "                   W          pval  normal\n",
      "toxin                                     \n",
      "control     0.176764  6.816448e-33   False\n",
      "FCCP        0.578623  2.772587e-25   False\n",
      "oligomycin  0.354072  5.145356e-30   False\n",
      "rotenone    0.436756  1.885349e-28   False\n",
      "              W      pval  equal_var\n",
      "levene  5.00955  0.001875      False\n"
     ]
    }
   ],
   "source": [
    "#np.mean(ff_ratio_mito_mdivi[0:x])\n",
    "#np.mean(ff_ratio_mito_mdivi[x:-1])\n",
    "\n",
    "df_ff_all = pd.concat((df_ff_ratio ,df_ff_ratio_mito))\n",
    "\n",
    "\n",
    "normality = pg.normality(data = df_ff_all, dv = 'event', group = 'toxin')\n",
    "homogeneity = pg.homoscedasticity(data = df_ff_all, dv = 'event', group = 'toxin')\n",
    "print(normality)\n",
    "print(homogeneity)\n"
   ]
  },
  {
   "cell_type": "code",
   "execution_count": null,
   "metadata": {},
   "outputs": [
    {
     "data": {
      "text/html": [
       "<div>\n",
       "<style scoped>\n",
       "    .dataframe tbody tr th:only-of-type {\n",
       "        vertical-align: middle;\n",
       "    }\n",
       "\n",
       "    .dataframe tbody tr th {\n",
       "        vertical-align: top;\n",
       "    }\n",
       "\n",
       "    .dataframe thead th {\n",
       "        text-align: right;\n",
       "    }\n",
       "</style>\n",
       "<table border=\"1\" class=\"dataframe\">\n",
       "  <thead>\n",
       "    <tr style=\"text-align: right;\">\n",
       "      <th></th>\n",
       "      <th>toxin</th>\n",
       "      <th>event</th>\n",
       "      <th>assessment method</th>\n",
       "    </tr>\n",
       "  </thead>\n",
       "  <tbody>\n",
       "    <tr>\n",
       "      <th>0</th>\n",
       "      <td>control</td>\n",
       "      <td>1.000000</td>\n",
       "      <td>algorithm</td>\n",
       "    </tr>\n",
       "    <tr>\n",
       "      <th>1</th>\n",
       "      <td>control</td>\n",
       "      <td>0.200000</td>\n",
       "      <td>algorithm</td>\n",
       "    </tr>\n",
       "    <tr>\n",
       "      <th>2</th>\n",
       "      <td>control</td>\n",
       "      <td>0.900000</td>\n",
       "      <td>algorithm</td>\n",
       "    </tr>\n",
       "    <tr>\n",
       "      <th>3</th>\n",
       "      <td>control</td>\n",
       "      <td>3.500000</td>\n",
       "      <td>algorithm</td>\n",
       "    </tr>\n",
       "    <tr>\n",
       "      <th>4</th>\n",
       "      <td>control</td>\n",
       "      <td>0.800000</td>\n",
       "      <td>algorithm</td>\n",
       "    </tr>\n",
       "    <tr>\n",
       "      <th>...</th>\n",
       "      <td>...</td>\n",
       "      <td>...</td>\n",
       "      <td>...</td>\n",
       "    </tr>\n",
       "    <tr>\n",
       "      <th>543</th>\n",
       "      <td>rotenone</td>\n",
       "      <td>0.005000</td>\n",
       "      <td>mitometer</td>\n",
       "    </tr>\n",
       "    <tr>\n",
       "      <th>544</th>\n",
       "      <td>rotenone</td>\n",
       "      <td>0.333333</td>\n",
       "      <td>mitometer</td>\n",
       "    </tr>\n",
       "    <tr>\n",
       "      <th>545</th>\n",
       "      <td>rotenone</td>\n",
       "      <td>0.003333</td>\n",
       "      <td>mitometer</td>\n",
       "    </tr>\n",
       "    <tr>\n",
       "      <th>546</th>\n",
       "      <td>rotenone</td>\n",
       "      <td>0.005000</td>\n",
       "      <td>mitometer</td>\n",
       "    </tr>\n",
       "    <tr>\n",
       "      <th>547</th>\n",
       "      <td>rotenone</td>\n",
       "      <td>1.000000</td>\n",
       "      <td>mitometer</td>\n",
       "    </tr>\n",
       "  </tbody>\n",
       "</table>\n",
       "<p>1096 rows × 3 columns</p>\n",
       "</div>"
      ],
      "text/plain": [
       "        toxin     event assessment method\n",
       "0     control  1.000000         algorithm\n",
       "1     control  0.200000         algorithm\n",
       "2     control  0.900000         algorithm\n",
       "3     control  3.500000         algorithm\n",
       "4     control  0.800000         algorithm\n",
       "..        ...       ...               ...\n",
       "543  rotenone  0.005000         mitometer\n",
       "544  rotenone  0.333333         mitometer\n",
       "545  rotenone  0.003333         mitometer\n",
       "546  rotenone  0.005000         mitometer\n",
       "547  rotenone  1.000000         mitometer\n",
       "\n",
       "[1096 rows x 3 columns]"
      ]
     },
     "execution_count": 66,
     "metadata": {},
     "output_type": "execute_result"
    }
   ],
   "source": [
    "df_ff_all[\"assessment method\"] = assess_method_tox\n",
    "df_ff_all"
   ]
  },
  {
   "cell_type": "code",
   "execution_count": null,
   "metadata": {},
   "outputs": [
    {
     "data": {
      "text/html": [
       "<div>\n",
       "<style scoped>\n",
       "    .dataframe tbody tr th:only-of-type {\n",
       "        vertical-align: middle;\n",
       "    }\n",
       "\n",
       "    .dataframe tbody tr th {\n",
       "        vertical-align: top;\n",
       "    }\n",
       "\n",
       "    .dataframe thead th {\n",
       "        text-align: right;\n",
       "    }\n",
       "</style>\n",
       "<table border=\"1\" class=\"dataframe\">\n",
       "  <thead>\n",
       "    <tr style=\"text-align: right;\">\n",
       "      <th></th>\n",
       "      <th>Source</th>\n",
       "      <th>SS</th>\n",
       "      <th>DF</th>\n",
       "      <th>MS</th>\n",
       "      <th>F</th>\n",
       "      <th>p-unc</th>\n",
       "      <th>np2</th>\n",
       "    </tr>\n",
       "  </thead>\n",
       "  <tbody>\n",
       "    <tr>\n",
       "      <th>0</th>\n",
       "      <td>toxin</td>\n",
       "      <td>1.118693e+05</td>\n",
       "      <td>3</td>\n",
       "      <td>37289.774238</td>\n",
       "      <td>5.411805</td>\n",
       "      <td>1.070070e-03</td>\n",
       "      <td>0.014703</td>\n",
       "    </tr>\n",
       "    <tr>\n",
       "      <th>1</th>\n",
       "      <td>assessment method</td>\n",
       "      <td>4.165545e+05</td>\n",
       "      <td>1</td>\n",
       "      <td>416554.458726</td>\n",
       "      <td>60.453875</td>\n",
       "      <td>1.739071e-14</td>\n",
       "      <td>0.052639</td>\n",
       "    </tr>\n",
       "    <tr>\n",
       "      <th>2</th>\n",
       "      <td>toxin * assessment method</td>\n",
       "      <td>2.446709e+05</td>\n",
       "      <td>3</td>\n",
       "      <td>81556.954993</td>\n",
       "      <td>11.836229</td>\n",
       "      <td>1.243662e-07</td>\n",
       "      <td>0.031605</td>\n",
       "    </tr>\n",
       "    <tr>\n",
       "      <th>3</th>\n",
       "      <td>Residual</td>\n",
       "      <td>7.496811e+06</td>\n",
       "      <td>1088</td>\n",
       "      <td>6890.450889</td>\n",
       "      <td>NaN</td>\n",
       "      <td>NaN</td>\n",
       "      <td>NaN</td>\n",
       "    </tr>\n",
       "  </tbody>\n",
       "</table>\n",
       "</div>"
      ],
      "text/plain": [
       "                      Source            SS    DF             MS          F  \\\n",
       "0                      toxin  1.118693e+05     3   37289.774238   5.411805   \n",
       "1          assessment method  4.165545e+05     1  416554.458726  60.453875   \n",
       "2  toxin * assessment method  2.446709e+05     3   81556.954993  11.836229   \n",
       "3                   Residual  7.496811e+06  1088    6890.450889        NaN   \n",
       "\n",
       "          p-unc       np2  \n",
       "0  1.070070e-03  0.014703  \n",
       "1  1.739071e-14  0.052639  \n",
       "2  1.243662e-07  0.031605  \n",
       "3           NaN       NaN  "
      ]
     },
     "execution_count": 71,
     "metadata": {},
     "output_type": "execute_result"
    }
   ],
   "source": [
    "pg.anova(data= df_ff_all, dv = \"event\", between= ['toxin' , 'assessment method'])"
   ]
  },
  {
   "cell_type": "code",
   "execution_count": null,
   "metadata": {},
   "outputs": [
    {
     "data": {
      "text/html": [
       "<div>\n",
       "<style scoped>\n",
       "    .dataframe tbody tr th:only-of-type {\n",
       "        vertical-align: middle;\n",
       "    }\n",
       "\n",
       "    .dataframe tbody tr th {\n",
       "        vertical-align: top;\n",
       "    }\n",
       "\n",
       "    .dataframe thead th {\n",
       "        text-align: right;\n",
       "    }\n",
       "</style>\n",
       "<table border=\"1\" class=\"dataframe\">\n",
       "  <thead>\n",
       "    <tr style=\"text-align: right;\">\n",
       "      <th></th>\n",
       "      <th>A</th>\n",
       "      <th>B</th>\n",
       "      <th>mean(A)</th>\n",
       "      <th>mean(B)</th>\n",
       "      <th>diff</th>\n",
       "      <th>se</th>\n",
       "      <th>T</th>\n",
       "      <th>p-tukey</th>\n",
       "      <th>hedges</th>\n",
       "    </tr>\n",
       "  </thead>\n",
       "  <tbody>\n",
       "    <tr>\n",
       "      <th>0</th>\n",
       "      <td>algorithm</td>\n",
       "      <td>mitometer</td>\n",
       "      <td>10.289456</td>\n",
       "      <td>49.280119</td>\n",
       "      <td>-38.990662</td>\n",
       "      <td>5.11851</td>\n",
       "      <td>-7.617581</td>\n",
       "      <td>0.0</td>\n",
       "      <td>-0.459879</td>\n",
       "    </tr>\n",
       "  </tbody>\n",
       "</table>\n",
       "</div>"
      ],
      "text/plain": [
       "           A          B    mean(A)    mean(B)       diff       se         T  \\\n",
       "0  algorithm  mitometer  10.289456  49.280119 -38.990662  5.11851 -7.617581   \n",
       "\n",
       "   p-tukey    hedges  \n",
       "0      0.0 -0.459879  "
      ]
     },
     "execution_count": 74,
     "metadata": {},
     "output_type": "execute_result"
    }
   ],
   "source": [
    "pg.pairwise_tukey(data= df_ff_all, dv = \"event\", between= 'assessment method')"
   ]
  },
  {
   "cell_type": "code",
   "execution_count": null,
   "metadata": {},
   "outputs": [
    {
     "data": {
      "text/html": [
       "<div>\n",
       "<style scoped>\n",
       "    .dataframe tbody tr th:only-of-type {\n",
       "        vertical-align: middle;\n",
       "    }\n",
       "\n",
       "    .dataframe tbody tr th {\n",
       "        vertical-align: top;\n",
       "    }\n",
       "\n",
       "    .dataframe thead th {\n",
       "        text-align: right;\n",
       "    }\n",
       "</style>\n",
       "<table border=\"1\" class=\"dataframe\">\n",
       "  <thead>\n",
       "    <tr style=\"text-align: right;\">\n",
       "      <th></th>\n",
       "      <th>A</th>\n",
       "      <th>B</th>\n",
       "      <th>mean(A)</th>\n",
       "      <th>mean(B)</th>\n",
       "      <th>diff</th>\n",
       "      <th>se</th>\n",
       "      <th>T</th>\n",
       "      <th>p-tukey</th>\n",
       "      <th>hedges</th>\n",
       "    </tr>\n",
       "  </thead>\n",
       "  <tbody>\n",
       "    <tr>\n",
       "      <th>0</th>\n",
       "      <td>FCCP</td>\n",
       "      <td>control</td>\n",
       "      <td>45.061731</td>\n",
       "      <td>21.788031</td>\n",
       "      <td>23.273700</td>\n",
       "      <td>7.384502</td>\n",
       "      <td>3.151695</td>\n",
       "      <td>0.009035</td>\n",
       "      <td>0.236466</td>\n",
       "    </tr>\n",
       "    <tr>\n",
       "      <th>1</th>\n",
       "      <td>FCCP</td>\n",
       "      <td>oligomycin</td>\n",
       "      <td>45.061731</td>\n",
       "      <td>19.646674</td>\n",
       "      <td>25.415057</td>\n",
       "      <td>7.384502</td>\n",
       "      <td>3.441675</td>\n",
       "      <td>0.003357</td>\n",
       "      <td>0.343601</td>\n",
       "    </tr>\n",
       "    <tr>\n",
       "      <th>2</th>\n",
       "      <td>FCCP</td>\n",
       "      <td>rotenone</td>\n",
       "      <td>45.061731</td>\n",
       "      <td>32.642714</td>\n",
       "      <td>12.419016</td>\n",
       "      <td>7.384502</td>\n",
       "      <td>1.681768</td>\n",
       "      <td>0.333804</td>\n",
       "      <td>0.146130</td>\n",
       "    </tr>\n",
       "    <tr>\n",
       "      <th>3</th>\n",
       "      <td>control</td>\n",
       "      <td>oligomycin</td>\n",
       "      <td>21.788031</td>\n",
       "      <td>19.646674</td>\n",
       "      <td>2.141357</td>\n",
       "      <td>7.384502</td>\n",
       "      <td>0.289980</td>\n",
       "      <td>0.991508</td>\n",
       "      <td>0.024309</td>\n",
       "    </tr>\n",
       "    <tr>\n",
       "      <th>4</th>\n",
       "      <td>control</td>\n",
       "      <td>rotenone</td>\n",
       "      <td>21.788031</td>\n",
       "      <td>32.642714</td>\n",
       "      <td>-10.854684</td>\n",
       "      <td>7.384502</td>\n",
       "      <td>-1.469928</td>\n",
       "      <td>0.456126</td>\n",
       "      <td>-0.111299</td>\n",
       "    </tr>\n",
       "    <tr>\n",
       "      <th>5</th>\n",
       "      <td>oligomycin</td>\n",
       "      <td>rotenone</td>\n",
       "      <td>19.646674</td>\n",
       "      <td>32.642714</td>\n",
       "      <td>-12.996040</td>\n",
       "      <td>7.384502</td>\n",
       "      <td>-1.759908</td>\n",
       "      <td>0.293417</td>\n",
       "      <td>-0.178590</td>\n",
       "    </tr>\n",
       "  </tbody>\n",
       "</table>\n",
       "</div>"
      ],
      "text/plain": [
       "            A           B    mean(A)    mean(B)       diff        se  \\\n",
       "0        FCCP     control  45.061731  21.788031  23.273700  7.384502   \n",
       "1        FCCP  oligomycin  45.061731  19.646674  25.415057  7.384502   \n",
       "2        FCCP    rotenone  45.061731  32.642714  12.419016  7.384502   \n",
       "3     control  oligomycin  21.788031  19.646674   2.141357  7.384502   \n",
       "4     control    rotenone  21.788031  32.642714 -10.854684  7.384502   \n",
       "5  oligomycin    rotenone  19.646674  32.642714 -12.996040  7.384502   \n",
       "\n",
       "          T   p-tukey    hedges  \n",
       "0  3.151695  0.009035  0.236466  \n",
       "1  3.441675  0.003357  0.343601  \n",
       "2  1.681768  0.333804  0.146130  \n",
       "3  0.289980  0.991508  0.024309  \n",
       "4 -1.469928  0.456126 -0.111299  \n",
       "5 -1.759908  0.293417 -0.178590  "
      ]
     },
     "execution_count": 75,
     "metadata": {},
     "output_type": "execute_result"
    }
   ],
   "source": [
    "pg.pairwise_tukey(data= df_ff_all, dv = \"event\", between= 'toxin')"
   ]
  }
 ],
 "metadata": {
  "kernelspec": {
   "display_name": "napari-env",
   "language": "python",
   "name": "python3"
  },
  "language_info": {
   "codemirror_mode": {
    "name": "ipython",
    "version": 3
   },
   "file_extension": ".py",
   "mimetype": "text/x-python",
   "name": "python",
   "nbconvert_exporter": "python",
   "pygments_lexer": "ipython3",
   "version": "3.10.15"
  }
 },
 "nbformat": 4,
 "nbformat_minor": 2
}
