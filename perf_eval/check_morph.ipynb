{
 "cells": [
  {
   "cell_type": "code",
   "execution_count": 126,
   "metadata": {},
   "outputs": [],
   "source": [
    "import numpy as np\n",
    "import matplotlib.pyplot as plt\n",
    "import os\n",
    "import pandas as pd\n",
    "import pingouin as pg"
   ]
  },
  {
   "cell_type": "markdown",
   "metadata": {},
   "source": [
    "# solidity \n",
    "aspect ratio\n",
    "vergence"
   ]
  },
  {
   "cell_type": "code",
   "execution_count": null,
   "metadata": {},
   "outputs": [
    {
     "data": {
      "application/vnd.microsoft.datawrangler.viewer.v0+json": {
       "columns": [
        {
         "name": "index",
         "rawType": "int64",
         "type": "integer"
        },
        {
         "name": "t",
         "rawType": "float64",
         "type": "float"
        },
        {
         "name": "reassigned_label_raw",
         "rawType": "float64",
         "type": "float"
        },
        {
         "name": "area_raw",
         "rawType": "float64",
         "type": "float"
        },
        {
         "name": "solidity_raw",
         "rawType": "float64",
         "type": "float"
        },
        {
         "name": "aspect_ratio_mean",
         "rawType": "float64",
         "type": "float"
        },
        {
         "name": "vergere_mean",
         "rawType": "float64",
         "type": "float"
        }
       ],
       "conversionMethod": "pd.DataFrame",
       "ref": "77572325-3cea-43ce-9060-2c9ab7ba7682",
       "rows": [
        [
         "0",
         "0.0",
         "1.0",
         "0.1904543592471277",
         "0.821917808219178",
         "4.017766952966381",
         null
        ],
        [
         "1",
         "0.0",
         "2.0",
         "0.5586661204582413",
         "0.6956521739130435",
         "7.0925005781214905",
         null
        ],
        [
         "2",
         "0.0",
         "3.0",
         "0.1491892480769167",
         "0.7833333333333333",
         "1.3178147284582873",
         null
        ],
        [
         "3",
         "0.0",
         "4.0",
         "0.6761129753273033",
         "0.5835616438356165",
         "4.569835173979612",
         null
        ],
        [
         "4",
         "0.0",
         "5.0",
         "2.0156419686987683",
         "0.3210313447927199",
         "7.13016071137536",
         null
        ]
       ],
       "shape": {
        "columns": 6,
        "rows": 5
       }
      },
      "text/html": [
       "<div>\n",
       "<style scoped>\n",
       "    .dataframe tbody tr th:only-of-type {\n",
       "        vertical-align: middle;\n",
       "    }\n",
       "\n",
       "    .dataframe tbody tr th {\n",
       "        vertical-align: top;\n",
       "    }\n",
       "\n",
       "    .dataframe thead th {\n",
       "        text-align: right;\n",
       "    }\n",
       "</style>\n",
       "<table border=\"1\" class=\"dataframe\">\n",
       "  <thead>\n",
       "    <tr style=\"text-align: right;\">\n",
       "      <th></th>\n",
       "      <th>t</th>\n",
       "      <th>reassigned_label_raw</th>\n",
       "      <th>area_raw</th>\n",
       "      <th>solidity_raw</th>\n",
       "      <th>aspect_ratio_mean</th>\n",
       "      <th>vergere_mean</th>\n",
       "    </tr>\n",
       "  </thead>\n",
       "  <tbody>\n",
       "    <tr>\n",
       "      <th>0</th>\n",
       "      <td>0.0</td>\n",
       "      <td>1.0</td>\n",
       "      <td>0.190454</td>\n",
       "      <td>0.821918</td>\n",
       "      <td>4.017767</td>\n",
       "      <td>NaN</td>\n",
       "    </tr>\n",
       "    <tr>\n",
       "      <th>1</th>\n",
       "      <td>0.0</td>\n",
       "      <td>2.0</td>\n",
       "      <td>0.558666</td>\n",
       "      <td>0.695652</td>\n",
       "      <td>7.092501</td>\n",
       "      <td>NaN</td>\n",
       "    </tr>\n",
       "    <tr>\n",
       "      <th>2</th>\n",
       "      <td>0.0</td>\n",
       "      <td>3.0</td>\n",
       "      <td>0.149189</td>\n",
       "      <td>0.783333</td>\n",
       "      <td>1.317815</td>\n",
       "      <td>NaN</td>\n",
       "    </tr>\n",
       "    <tr>\n",
       "      <th>3</th>\n",
       "      <td>0.0</td>\n",
       "      <td>4.0</td>\n",
       "      <td>0.676113</td>\n",
       "      <td>0.583562</td>\n",
       "      <td>4.569835</td>\n",
       "      <td>NaN</td>\n",
       "    </tr>\n",
       "    <tr>\n",
       "      <th>4</th>\n",
       "      <td>0.0</td>\n",
       "      <td>5.0</td>\n",
       "      <td>2.015642</td>\n",
       "      <td>0.321031</td>\n",
       "      <td>7.130161</td>\n",
       "      <td>NaN</td>\n",
       "    </tr>\n",
       "  </tbody>\n",
       "</table>\n",
       "</div>"
      ],
      "text/plain": [
       "     t  reassigned_label_raw  area_raw  solidity_raw  aspect_ratio_mean  \\\n",
       "0  0.0                   1.0  0.190454      0.821918           4.017767   \n",
       "1  0.0                   2.0  0.558666      0.695652           7.092501   \n",
       "2  0.0                   3.0  0.149189      0.783333           1.317815   \n",
       "3  0.0                   4.0  0.676113      0.583562           4.569835   \n",
       "4  0.0                   5.0  2.015642      0.321031           7.130161   \n",
       "\n",
       "   vergere_mean  \n",
       "0           NaN  \n",
       "1           NaN  \n",
       "2           NaN  \n",
       "3           NaN  \n",
       "4           NaN  "
      ]
     },
     "execution_count": 127,
     "metadata": {},
     "output_type": "execute_result"
    }
   ],
   "source": [
    "main_dir = \"D:/Internship/NTU/nellie_output/nellie_output/toxins/\"\n",
    "\n",
    "#file_path_feature = main_dir + \"ins1_\" + 'FCCP' + \".ome-ch0-features_components.csv\"\n",
    "#file_path_feature = main_dir + \"/\" + im_frame + \"_resized_\" + im_concen + \"_glu_1min_#1.ome-ch0-features_components.csv\"\n",
    "file_path_feature = main_dir + \"time_ins_\" +\"FCCP\" + \".ome-ch0-features_components.csv\"\n",
    "df = pd.read_csv(file_path_feature)\n",
    "mini_df = df[['t', 'reassigned_label_raw', 'area_raw' , 'solidity_raw', 'aspect_ratio_mean', 'vergere_mean' ] ]\n",
    "mini_df.head()\n"
   ]
  },
  {
   "cell_type": "markdown",
   "metadata": {},
   "source": [
    "what to do ?\n",
    "morphological parameter by time? \n",
    "count by value? "
   ]
  },
  {
   "cell_type": "code",
   "execution_count": 128,
   "metadata": {},
   "outputs": [
    {
     "name": "stdout",
     "output_type": "stream",
     "text": [
      "1.0 56.37005768508886\n",
      "0.08199068183864812 -0.08253797365807398 -0.00027364590971292667\n"
     ]
    }
   ],
   "source": [
    "print(np.min(mini_df[\"aspect_ratio_mean\"]) , np.max(mini_df[\"aspect_ratio_mean\"]))\n",
    "mean_ar = np.mean(mini_df[\"aspect_ratio_mean\"]) \n",
    "std_ar = np.std(mini_df[\"aspect_ratio_mean\"])\n",
    "\n",
    "mean_div = np.mean(mini_df[\"vergere_mean\"]) \n",
    "std_div = np.std(mini_df[\"vergere_mean\"])\n",
    "\n",
    "upper_bound_ar = mean_ar + 3*std_ar\n",
    "upper_bound_div = mean_div + 1*std_div\n",
    "lower_bound_div = mean_div - 1*std_div\n",
    "\n",
    "mask_ar = np.array(mini_df[\"aspect_ratio_mean\"])\n",
    "mask_div = np.array(mini_df[\"vergere_mean\"])\n",
    " \n",
    "ar = mini_df[mask_ar < upper_bound_ar]\n",
    "div = mini_df[mask_div < upper_bound_div]\n",
    "div = div[div['vergere_mean'] > lower_bound_div]\n",
    "\n",
    "print(upper_bound_div,lower_bound_div,mean_div)\n"
   ]
  },
  {
   "cell_type": "code",
   "execution_count": 162,
   "metadata": {},
   "outputs": [
    {
     "name": "stderr",
     "output_type": "stream",
     "text": [
      "c:\\Users\\iceji\\.conda\\envs\\napari-env\\lib\\site-packages\\pingouin\\distribution.py:242: UserWarning: Group 6.0 has less than 4 valid samples. Returning NaN.\n",
      "  warnings.warn(f\"Group {idx} has less than 4 valid samples. Returning NaN.\")\n",
      "c:\\Users\\iceji\\.conda\\envs\\napari-env\\lib\\site-packages\\pingouin\\distribution.py:242: UserWarning: Group 45.0 has less than 4 valid samples. Returning NaN.\n",
      "  warnings.warn(f\"Group {idx} has less than 4 valid samples. Returning NaN.\")\n",
      "c:\\Users\\iceji\\.conda\\envs\\napari-env\\lib\\site-packages\\pingouin\\distribution.py:242: UserWarning: Group 60.0 has less than 4 valid samples. Returning NaN.\n",
      "  warnings.warn(f\"Group {idx} has less than 4 valid samples. Returning NaN.\")\n",
      "c:\\Users\\iceji\\.conda\\envs\\napari-env\\lib\\site-packages\\pingouin\\distribution.py:242: UserWarning: Group 72.0 has less than 4 valid samples. Returning NaN.\n",
      "  warnings.warn(f\"Group {idx} has less than 4 valid samples. Returning NaN.\")\n",
      "c:\\Users\\iceji\\.conda\\envs\\napari-env\\lib\\site-packages\\pingouin\\distribution.py:242: UserWarning: Group 98.0 has less than 4 valid samples. Returning NaN.\n",
      "  warnings.warn(f\"Group {idx} has less than 4 valid samples. Returning NaN.\")\n",
      "c:\\Users\\iceji\\.conda\\envs\\napari-env\\lib\\site-packages\\pingouin\\distribution.py:242: UserWarning: Group 104.0 has less than 4 valid samples. Returning NaN.\n",
      "  warnings.warn(f\"Group {idx} has less than 4 valid samples. Returning NaN.\")\n",
      "c:\\Users\\iceji\\.conda\\envs\\napari-env\\lib\\site-packages\\pingouin\\distribution.py:242: UserWarning: Group 115.0 has less than 4 valid samples. Returning NaN.\n",
      "  warnings.warn(f\"Group {idx} has less than 4 valid samples. Returning NaN.\")\n",
      "c:\\Users\\iceji\\.conda\\envs\\napari-env\\lib\\site-packages\\pingouin\\distribution.py:242: UserWarning: Group 121.0 has less than 4 valid samples. Returning NaN.\n",
      "  warnings.warn(f\"Group {idx} has less than 4 valid samples. Returning NaN.\")\n",
      "c:\\Users\\iceji\\.conda\\envs\\napari-env\\lib\\site-packages\\pingouin\\distribution.py:242: UserWarning: Group 125.0 has less than 4 valid samples. Returning NaN.\n",
      "  warnings.warn(f\"Group {idx} has less than 4 valid samples. Returning NaN.\")\n",
      "c:\\Users\\iceji\\.conda\\envs\\napari-env\\lib\\site-packages\\pingouin\\distribution.py:242: UserWarning: Group 155.0 has less than 4 valid samples. Returning NaN.\n",
      "  warnings.warn(f\"Group {idx} has less than 4 valid samples. Returning NaN.\")\n",
      "c:\\Users\\iceji\\.conda\\envs\\napari-env\\lib\\site-packages\\pingouin\\distribution.py:242: UserWarning: Group 152.0 has less than 4 valid samples. Returning NaN.\n",
      "  warnings.warn(f\"Group {idx} has less than 4 valid samples. Returning NaN.\")\n",
      "c:\\Users\\iceji\\.conda\\envs\\napari-env\\lib\\site-packages\\pingouin\\distribution.py:242: UserWarning: Group 157.0 has less than 4 valid samples. Returning NaN.\n",
      "  warnings.warn(f\"Group {idx} has less than 4 valid samples. Returning NaN.\")\n",
      "c:\\Users\\iceji\\.conda\\envs\\napari-env\\lib\\site-packages\\pingouin\\distribution.py:242: UserWarning: Group 171.0 has less than 4 valid samples. Returning NaN.\n",
      "  warnings.warn(f\"Group {idx} has less than 4 valid samples. Returning NaN.\")\n",
      "c:\\Users\\iceji\\.conda\\envs\\napari-env\\lib\\site-packages\\pingouin\\distribution.py:242: UserWarning: Group 169.0 has less than 4 valid samples. Returning NaN.\n",
      "  warnings.warn(f\"Group {idx} has less than 4 valid samples. Returning NaN.\")\n",
      "c:\\Users\\iceji\\.conda\\envs\\napari-env\\lib\\site-packages\\pingouin\\distribution.py:242: UserWarning: Group 202.0 has less than 4 valid samples. Returning NaN.\n",
      "  warnings.warn(f\"Group {idx} has less than 4 valid samples. Returning NaN.\")\n",
      "c:\\Users\\iceji\\.conda\\envs\\napari-env\\lib\\site-packages\\pingouin\\distribution.py:242: UserWarning: Group 206.0 has less than 4 valid samples. Returning NaN.\n",
      "  warnings.warn(f\"Group {idx} has less than 4 valid samples. Returning NaN.\")\n",
      "c:\\Users\\iceji\\.conda\\envs\\napari-env\\lib\\site-packages\\pingouin\\distribution.py:242: UserWarning: Group 215.0 has less than 4 valid samples. Returning NaN.\n",
      "  warnings.warn(f\"Group {idx} has less than 4 valid samples. Returning NaN.\")\n",
      "c:\\Users\\iceji\\.conda\\envs\\napari-env\\lib\\site-packages\\pingouin\\distribution.py:242: UserWarning: Group 222.0 has less than 4 valid samples. Returning NaN.\n",
      "  warnings.warn(f\"Group {idx} has less than 4 valid samples. Returning NaN.\")\n",
      "c:\\Users\\iceji\\.conda\\envs\\napari-env\\lib\\site-packages\\pingouin\\distribution.py:242: UserWarning: Group 228.0 has less than 4 valid samples. Returning NaN.\n",
      "  warnings.warn(f\"Group {idx} has less than 4 valid samples. Returning NaN.\")\n",
      "c:\\Users\\iceji\\.conda\\envs\\napari-env\\lib\\site-packages\\pingouin\\distribution.py:242: UserWarning: Group 249.0 has less than 4 valid samples. Returning NaN.\n",
      "  warnings.warn(f\"Group {idx} has less than 4 valid samples. Returning NaN.\")\n",
      "c:\\Users\\iceji\\.conda\\envs\\napari-env\\lib\\site-packages\\pingouin\\distribution.py:242: UserWarning: Group 266.0 has less than 4 valid samples. Returning NaN.\n",
      "  warnings.warn(f\"Group {idx} has less than 4 valid samples. Returning NaN.\")\n",
      "c:\\Users\\iceji\\.conda\\envs\\napari-env\\lib\\site-packages\\pingouin\\distribution.py:242: UserWarning: Group 280.0 has less than 4 valid samples. Returning NaN.\n",
      "  warnings.warn(f\"Group {idx} has less than 4 valid samples. Returning NaN.\")\n",
      "c:\\Users\\iceji\\.conda\\envs\\napari-env\\lib\\site-packages\\pingouin\\distribution.py:242: UserWarning: Group 291.0 has less than 4 valid samples. Returning NaN.\n",
      "  warnings.warn(f\"Group {idx} has less than 4 valid samples. Returning NaN.\")\n",
      "c:\\Users\\iceji\\.conda\\envs\\napari-env\\lib\\site-packages\\pingouin\\distribution.py:242: UserWarning: Group 302.0 has less than 4 valid samples. Returning NaN.\n",
      "  warnings.warn(f\"Group {idx} has less than 4 valid samples. Returning NaN.\")\n",
      "c:\\Users\\iceji\\.conda\\envs\\napari-env\\lib\\site-packages\\pingouin\\distribution.py:242: UserWarning: Group 309.0 has less than 4 valid samples. Returning NaN.\n",
      "  warnings.warn(f\"Group {idx} has less than 4 valid samples. Returning NaN.\")\n",
      "c:\\Users\\iceji\\.conda\\envs\\napari-env\\lib\\site-packages\\pingouin\\distribution.py:242: UserWarning: Group 323.0 has less than 4 valid samples. Returning NaN.\n",
      "  warnings.warn(f\"Group {idx} has less than 4 valid samples. Returning NaN.\")\n",
      "c:\\Users\\iceji\\.conda\\envs\\napari-env\\lib\\site-packages\\pingouin\\distribution.py:242: UserWarning: Group 344.0 has less than 4 valid samples. Returning NaN.\n",
      "  warnings.warn(f\"Group {idx} has less than 4 valid samples. Returning NaN.\")\n",
      "c:\\Users\\iceji\\.conda\\envs\\napari-env\\lib\\site-packages\\pingouin\\distribution.py:242: UserWarning: Group 345.0 has less than 4 valid samples. Returning NaN.\n",
      "  warnings.warn(f\"Group {idx} has less than 4 valid samples. Returning NaN.\")\n",
      "c:\\Users\\iceji\\.conda\\envs\\napari-env\\lib\\site-packages\\pingouin\\distribution.py:242: UserWarning: Group 355.0 has less than 4 valid samples. Returning NaN.\n",
      "  warnings.warn(f\"Group {idx} has less than 4 valid samples. Returning NaN.\")\n",
      "c:\\Users\\iceji\\.conda\\envs\\napari-env\\lib\\site-packages\\pingouin\\distribution.py:242: UserWarning: Group 21.0 has less than 4 valid samples. Returning NaN.\n",
      "  warnings.warn(f\"Group {idx} has less than 4 valid samples. Returning NaN.\")\n",
      "c:\\Users\\iceji\\.conda\\envs\\napari-env\\lib\\site-packages\\pingouin\\distribution.py:242: UserWarning: Group 49.0 has less than 4 valid samples. Returning NaN.\n",
      "  warnings.warn(f\"Group {idx} has less than 4 valid samples. Returning NaN.\")\n",
      "c:\\Users\\iceji\\.conda\\envs\\napari-env\\lib\\site-packages\\pingouin\\distribution.py:242: UserWarning: Group 175.0 has less than 4 valid samples. Returning NaN.\n",
      "  warnings.warn(f\"Group {idx} has less than 4 valid samples. Returning NaN.\")\n",
      "c:\\Users\\iceji\\.conda\\envs\\napari-env\\lib\\site-packages\\pingouin\\distribution.py:242: UserWarning: Group 197.0 has less than 4 valid samples. Returning NaN.\n",
      "  warnings.warn(f\"Group {idx} has less than 4 valid samples. Returning NaN.\")\n",
      "c:\\Users\\iceji\\.conda\\envs\\napari-env\\lib\\site-packages\\pingouin\\distribution.py:242: UserWarning: Group 288.0 has less than 4 valid samples. Returning NaN.\n",
      "  warnings.warn(f\"Group {idx} has less than 4 valid samples. Returning NaN.\")\n",
      "c:\\Users\\iceji\\.conda\\envs\\napari-env\\lib\\site-packages\\pingouin\\distribution.py:242: UserWarning: Group 61.0 has less than 4 valid samples. Returning NaN.\n",
      "  warnings.warn(f\"Group {idx} has less than 4 valid samples. Returning NaN.\")\n",
      "c:\\Users\\iceji\\.conda\\envs\\napari-env\\lib\\site-packages\\pingouin\\distribution.py:242: UserWarning: Group 57.0 has less than 4 valid samples. Returning NaN.\n",
      "  warnings.warn(f\"Group {idx} has less than 4 valid samples. Returning NaN.\")\n",
      "c:\\Users\\iceji\\.conda\\envs\\napari-env\\lib\\site-packages\\pingouin\\distribution.py:242: UserWarning: Group 101.0 has less than 4 valid samples. Returning NaN.\n",
      "  warnings.warn(f\"Group {idx} has less than 4 valid samples. Returning NaN.\")\n",
      "c:\\Users\\iceji\\.conda\\envs\\napari-env\\lib\\site-packages\\pingouin\\distribution.py:242: UserWarning: Group 114.0 has less than 4 valid samples. Returning NaN.\n",
      "  warnings.warn(f\"Group {idx} has less than 4 valid samples. Returning NaN.\")\n",
      "c:\\Users\\iceji\\.conda\\envs\\napari-env\\lib\\site-packages\\pingouin\\distribution.py:242: UserWarning: Group 166.0 has less than 4 valid samples. Returning NaN.\n",
      "  warnings.warn(f\"Group {idx} has less than 4 valid samples. Returning NaN.\")\n",
      "c:\\Users\\iceji\\.conda\\envs\\napari-env\\lib\\site-packages\\pingouin\\distribution.py:242: UserWarning: Group 196.0 has less than 4 valid samples. Returning NaN.\n",
      "  warnings.warn(f\"Group {idx} has less than 4 valid samples. Returning NaN.\")\n",
      "c:\\Users\\iceji\\.conda\\envs\\napari-env\\lib\\site-packages\\pingouin\\distribution.py:242: UserWarning: Group 229.0 has less than 4 valid samples. Returning NaN.\n",
      "  warnings.warn(f\"Group {idx} has less than 4 valid samples. Returning NaN.\")\n",
      "c:\\Users\\iceji\\.conda\\envs\\napari-env\\lib\\site-packages\\pingouin\\distribution.py:242: UserWarning: Group 356.0 has less than 4 valid samples. Returning NaN.\n",
      "  warnings.warn(f\"Group {idx} has less than 4 valid samples. Returning NaN.\")\n",
      "c:\\Users\\iceji\\.conda\\envs\\napari-env\\lib\\site-packages\\pingouin\\distribution.py:242: UserWarning: Group 357.0 has less than 4 valid samples. Returning NaN.\n",
      "  warnings.warn(f\"Group {idx} has less than 4 valid samples. Returning NaN.\")\n",
      "c:\\Users\\iceji\\.conda\\envs\\napari-env\\lib\\site-packages\\pingouin\\distribution.py:242: UserWarning: Group 184.0 has less than 4 valid samples. Returning NaN.\n",
      "  warnings.warn(f\"Group {idx} has less than 4 valid samples. Returning NaN.\")\n",
      "c:\\Users\\iceji\\.conda\\envs\\napari-env\\lib\\site-packages\\pingouin\\distribution.py:242: UserWarning: Group 132.0 has less than 4 valid samples. Returning NaN.\n",
      "  warnings.warn(f\"Group {idx} has less than 4 valid samples. Returning NaN.\")\n",
      "c:\\Users\\iceji\\.conda\\envs\\napari-env\\lib\\site-packages\\pingouin\\distribution.py:242: UserWarning: Group 257.0 has less than 4 valid samples. Returning NaN.\n",
      "  warnings.warn(f\"Group {idx} has less than 4 valid samples. Returning NaN.\")\n",
      "c:\\Users\\iceji\\.conda\\envs\\napari-env\\lib\\site-packages\\pingouin\\distribution.py:242: UserWarning: Group 192.0 has less than 4 valid samples. Returning NaN.\n",
      "  warnings.warn(f\"Group {idx} has less than 4 valid samples. Returning NaN.\")\n",
      "c:\\Users\\iceji\\.conda\\envs\\napari-env\\lib\\site-packages\\pingouin\\distribution.py:242: UserWarning: Group 23.0 has less than 4 valid samples. Returning NaN.\n",
      "  warnings.warn(f\"Group {idx} has less than 4 valid samples. Returning NaN.\")\n",
      "c:\\Users\\iceji\\.conda\\envs\\napari-env\\lib\\site-packages\\pingouin\\distribution.py:242: UserWarning: Group 80.0 has less than 4 valid samples. Returning NaN.\n",
      "  warnings.warn(f\"Group {idx} has less than 4 valid samples. Returning NaN.\")\n"
     ]
    },
    {
     "name": "stdout",
     "output_type": "stream",
     "text": [
      "[1.]\n",
      "[2.]\n",
      "[3.]\n",
      "[4.]\n",
      "[5.]\n",
      "[7.]\n",
      "[8.]\n",
      "[9.]\n",
      "[10.]\n",
      "[12.]\n",
      "[13.]\n",
      "[6.]\n",
      "[14.]\n",
      "[17.]\n",
      "[18.]\n",
      "[22.]\n",
      "[19.]\n",
      "[25.]\n",
      "[29.]\n",
      "[28.]\n",
      "[0.]\n",
      "[27.]\n",
      "[30.]\n",
      "[35.]\n",
      "[33.]\n",
      "[36.]\n",
      "[37.]\n",
      "[38.]\n",
      "[40.]\n",
      "[42.]\n",
      "[34.]\n",
      "[47.]\n",
      "[46.]\n",
      "[45.]\n",
      "[48.]\n",
      "[50.]\n",
      "[53.]\n",
      "[55.]\n",
      "[56.]\n",
      "[58.]\n",
      "[60.]\n",
      "[64.]\n",
      "[65.]\n",
      "[67.]\n",
      "[68.]\n",
      "[72.]\n",
      "[71.]\n",
      "[70.]\n",
      "[76.]\n",
      "[75.]\n",
      "[83.]\n",
      "[82.]\n",
      "[87.]\n",
      "[84.]\n",
      "[86.]\n",
      "[90.]\n",
      "[88.]\n",
      "[89.]\n",
      "[95.]\n",
      "[99.]\n",
      "[98.]\n",
      "[102.]\n",
      "[105.]\n",
      "[103.]\n",
      "[109.]\n",
      "[104.]\n",
      "[108.]\n",
      "[110.]\n",
      "[115.]\n",
      "[111.]\n",
      "[112.]\n",
      "[117.]\n",
      "[123.]\n",
      "[118.]\n",
      "[119.]\n",
      "[121.]\n",
      "[122.]\n",
      "[125.]\n",
      "[124.]\n",
      "[129.]\n",
      "[126.]\n",
      "[127.]\n",
      "[134.]\n",
      "[137.]\n",
      "[136.]\n",
      "[138.]\n",
      "[139.]\n",
      "[142.]\n",
      "[141.]\n",
      "[143.]\n",
      "[144.]\n",
      "[146.]\n",
      "[148.]\n",
      "[149.]\n",
      "[151.]\n",
      "[158.]\n",
      "[160.]\n",
      "[155.]\n",
      "[152.]\n",
      "[154.]\n",
      "[153.]\n",
      "[163.]\n",
      "[157.]\n",
      "[161.]\n",
      "[167.]\n",
      "[171.]\n",
      "[169.]\n",
      "[170.]\n",
      "[176.]\n",
      "[179.]\n",
      "[180.]\n",
      "[182.]\n",
      "[183.]\n",
      "[181.]\n",
      "[178.]\n",
      "[177.]\n",
      "[185.]\n",
      "[186.]\n",
      "[187.]\n",
      "[188.]\n",
      "[194.]\n",
      "[193.]\n",
      "[190.]\n",
      "[198.]\n",
      "[200.]\n",
      "[199.]\n",
      "[205.]\n",
      "[201.]\n",
      "[204.]\n",
      "[202.]\n",
      "[206.]\n",
      "[208.]\n",
      "[211.]\n",
      "[209.]\n",
      "[212.]\n",
      "[210.]\n",
      "[214.]\n",
      "[213.]\n",
      "[215.]\n",
      "[216.]\n",
      "[217.]\n",
      "[221.]\n",
      "[219.]\n",
      "[222.]\n",
      "[220.]\n",
      "[224.]\n",
      "[223.]\n",
      "[225.]\n",
      "[228.]\n",
      "[227.]\n",
      "[233.]\n",
      "[231.]\n",
      "[236.]\n",
      "[238.]\n",
      "[237.]\n",
      "[244.]\n",
      "[243.]\n",
      "[239.]\n",
      "[248.]\n",
      "[247.]\n",
      "[249.]\n",
      "[251.]\n",
      "[250.]\n",
      "[252.]\n",
      "[253.]\n",
      "[254.]\n",
      "[255.]\n",
      "[260.]\n",
      "[258.]\n",
      "[262.]\n",
      "[267.]\n",
      "[268.]\n",
      "[269.]\n",
      "[266.]\n",
      "[281.]\n",
      "[274.]\n",
      "[271.]\n",
      "[273.]\n",
      "[275.]\n",
      "[276.]\n",
      "[280.]\n",
      "[279.]\n",
      "[282.]\n",
      "[291.]\n",
      "[287.]\n",
      "[292.]\n",
      "[294.]\n",
      "[295.]\n",
      "[284.]\n",
      "[302.]\n",
      "[299.]\n",
      "[303.]\n",
      "[305.]\n",
      "[304.]\n",
      "[307.]\n",
      "[310.]\n",
      "[309.]\n",
      "[314.]\n",
      "[313.]\n",
      "[317.]\n",
      "[318.]\n",
      "[323.]\n",
      "[322.]\n",
      "[324.]\n",
      "[325.]\n",
      "[327.]\n",
      "[326.]\n",
      "[330.]\n",
      "[334.]\n",
      "[344.]\n",
      "[337.]\n",
      "[338.]\n",
      "[339.]\n",
      "[341.]\n",
      "[342.]\n",
      "[345.]\n",
      "[340.]\n",
      "[346.]\n",
      "[348.]\n",
      "[352.]\n",
      "[353.]\n",
      "[355.]\n",
      "[359.]\n",
      "[358.]\n",
      "[360.]\n",
      "[361.]\n",
      "[21.]\n",
      "[41.]\n",
      "[39.]\n",
      "[44.]\n",
      "[49.]\n",
      "[54.]\n",
      "[77.]\n",
      "[92.]\n",
      "[107.]\n",
      "[116.]\n",
      "[130.]\n",
      "[135.]\n",
      "[165.]\n",
      "[162.]\n",
      "[173.]\n",
      "[175.]\n",
      "[189.]\n",
      "[197.]\n",
      "[207.]\n",
      "[218.]\n",
      "[232.]\n",
      "[263.]\n",
      "[277.]\n",
      "[288.]\n",
      "[308.]\n",
      "[332.]\n",
      "[336.]\n",
      "[349.]\n",
      "[26.]\n",
      "[61.]\n",
      "[57.]\n",
      "[66.]\n",
      "[85.]\n",
      "[101.]\n",
      "[114.]\n",
      "[145.]\n",
      "[166.]\n",
      "[196.]\n",
      "[229.]\n",
      "[241.]\n",
      "[296.]\n",
      "[300.]\n",
      "[331.]\n",
      "[356.]\n",
      "[357.]\n",
      "[51.]\n",
      "[81.]\n",
      "[184.]\n",
      "[235.]\n",
      "[132.]\n",
      "[147.]\n",
      "[191.]\n",
      "[257.]\n",
      "[278.]\n",
      "[350.]\n",
      "[283.]\n",
      "[226.]\n",
      "[270.]\n",
      "[31.]\n",
      "[192.]\n",
      "[23.]\n",
      "[80.]\n",
      "[159.]\n"
     ]
    },
    {
     "data": {
      "text/plain": [
       "Index([  1.0,   2.0,   3.0,   4.0,   5.0,   7.0,   8.0,   9.0,  10.0,  12.0,\n",
       "       ...\n",
       "       278.0, 350.0, 283.0, 226.0, 270.0,  31.0, 192.0,  23.0,  80.0, 159.0],\n",
       "      dtype='float64', name='reassigned_label_raw', length=289)"
      ]
     },
     "execution_count": 162,
     "metadata": {},
     "output_type": "execute_result"
    }
   ],
   "source": [
    "x = pg.normality(data = div, dv = 'vergere_mean', group = 'reassigned_label_raw')\n",
    "indexes =  x.index\n",
    "mask = []\n",
    "for index in indexes:\n",
    "    print(np.unique(mini_df[mini_df[\"reassigned_label_raw\"] == index]['reassigned_label_raw']))\n",
    "\n",
    "\n",
    "indexes"
   ]
  },
  {
   "cell_type": "code",
   "execution_count": null,
   "metadata": {},
   "outputs": [
    {
     "data": {
      "text/plain": [
       "(55844, 6)"
      ]
     },
     "execution_count": 131,
     "metadata": {},
     "output_type": "execute_result"
    }
   ],
   "source": []
  },
  {
   "cell_type": "markdown",
   "metadata": {},
   "source": [
    "# chart"
   ]
  },
  {
   "cell_type": "code",
   "execution_count": 101,
   "metadata": {},
   "outputs": [
    {
     "data": {
      "image/png": "[encoded data removed]",
      "text/plain": [
       "<Figure size 640x480 with 1 Axes>"
      ]
     },
     "metadata": {},
     "output_type": "display_data"
    }
   ],
   "source": [
    "counts, bins = np.histogram(ar[\"aspect_ratio_mean\"], bins=50)  # Create 10 bins for the range 0-1\n",
    "\n",
    "# Bin centers (for bar positioning)\n",
    "bin_centers = (bins[:-1] + bins[1:]) / 2\n",
    "\n",
    "# Plotting\n",
    "plt.bar(bin_centers, counts, width=(bins[1] - bins[0 ]), edgecolor='black', alpha=0.7)\n",
    "plt.xlabel('Value Ranges')\n",
    "plt.ylabel('Counts')\n",
    "plt.title('Bar Chart of Decimal Ranges')\n",
    "plt.xticks(bin_centers, labels=[f'{bins[i]:.1f}-{bins[i+1]:.1f}' for i in range(len(bins)-1)], rotation=45)\n",
    "\n",
    "plt.tight_layout()\n",
    "plt.show()"
   ]
  },
  {
   "cell_type": "code",
   "execution_count": 102,
   "metadata": {},
   "outputs": [
    {
     "data": {
      "image/png": "[encoded data removed]",
      "text/plain": [
       "<Figure size 640x480 with 1 Axes>"
      ]
     },
     "metadata": {},
     "output_type": "display_data"
    }
   ],
   "source": [
    "counts, bins = np.histogram(div[\"vergere_mean\"], bins=50)  # Create 10 bins for the range 0-1\n",
    "\n",
    "# + flow in \n",
    "#  - flow out\n",
    "\n",
    "# Bin centers (for bar positioning)\n",
    "bin_centers = (bins[:-1] + bins[1:]) / 2\n",
    "\n",
    "# Plotting\n",
    "plt.bar(bin_centers, counts, width=(bins[1] - bins[0 ]), edgecolor='black', alpha=0.7)\n",
    "plt.xlabel('Value Ranges')\n",
    "plt.ylabel('Counts')\n",
    "plt.title('Bar Chart of Decimal Ranges')\n",
    "plt.xticks(bin_centers, labels=[f'{bins[i]:.3f}' for i in range(len(bins)-1)], rotation=45)\n",
    "\n",
    "plt.tight_layout()\n",
    "plt.show()"
   ]
  },
  {
   "cell_type": "code",
   "execution_count": null,
   "metadata": {},
   "outputs": [],
   "source": []
  },
  {
   "cell_type": "markdown",
   "metadata": {},
   "source": [
    "# mdivi"
   ]
  },
  {
   "cell_type": "code",
   "execution_count": 103,
   "metadata": {},
   "outputs": [
    {
     "data": {
      "application/vnd.microsoft.datawrangler.viewer.v0+json": {
       "columns": [
        {
         "name": "index",
         "rawType": "int64",
         "type": "integer"
        },
        {
         "name": "t",
         "rawType": "float64",
         "type": "float"
        },
        {
         "name": "reassigned_label_raw",
         "rawType": "float64",
         "type": "float"
        },
        {
         "name": "area_raw",
         "rawType": "float64",
         "type": "float"
        },
        {
         "name": "solidity_raw",
         "rawType": "float64",
         "type": "float"
        },
        {
         "name": "aspect_ratio_mean",
         "rawType": "float64",
         "type": "float"
        },
        {
         "name": "vergere_mean",
         "rawType": "float64",
         "type": "float"
        }
       ],
       "conversionMethod": "pd.DataFrame",
       "ref": "5b4989f5-4695-46a6-9b8f-35af32bd56fa",
       "rows": [
        [
         "0",
         "0.0",
         "1.0",
         "28.282472348198464",
         "0.6061636846043948",
         "2.598591378072259",
         null
        ],
        [
         "1",
         "0.0",
         "2.0",
         "0.0222196752454982",
         "1.0",
         "1.0448154998549657",
         null
        ],
        [
         "2",
         "0.0",
         "3.0",
         "0.0190454359247127",
         "1.0",
         "1.0",
         null
        ],
        [
         "3",
         "0.0",
         "4.0",
         "12.014495829172972",
         "0.4616979751158819",
         "2.515644260136793",
         null
        ],
        [
         "4",
         "0.0",
         "5.0",
         "0.0444393504909964",
         "1.0",
         "2.499999999999997",
         null
        ]
       ],
       "shape": {
        "columns": 6,
        "rows": 5
       }
      },
      "text/html": [
       "<div>\n",
       "<style scoped>\n",
       "    .dataframe tbody tr th:only-of-type {\n",
       "        vertical-align: middle;\n",
       "    }\n",
       "\n",
       "    .dataframe tbody tr th {\n",
       "        vertical-align: top;\n",
       "    }\n",
       "\n",
       "    .dataframe thead th {\n",
       "        text-align: right;\n",
       "    }\n",
       "</style>\n",
       "<table border=\"1\" class=\"dataframe\">\n",
       "  <thead>\n",
       "    <tr style=\"text-align: right;\">\n",
       "      <th></th>\n",
       "      <th>t</th>\n",
       "      <th>reassigned_label_raw</th>\n",
       "      <th>area_raw</th>\n",
       "      <th>solidity_raw</th>\n",
       "      <th>aspect_ratio_mean</th>\n",
       "      <th>vergere_mean</th>\n",
       "    </tr>\n",
       "  </thead>\n",
       "  <tbody>\n",
       "    <tr>\n",
       "      <th>0</th>\n",
       "      <td>0.0</td>\n",
       "      <td>1.0</td>\n",
       "      <td>28.282472</td>\n",
       "      <td>0.606164</td>\n",
       "      <td>2.598591</td>\n",
       "      <td>NaN</td>\n",
       "    </tr>\n",
       "    <tr>\n",
       "      <th>1</th>\n",
       "      <td>0.0</td>\n",
       "      <td>2.0</td>\n",
       "      <td>0.022220</td>\n",
       "      <td>1.000000</td>\n",
       "      <td>1.044815</td>\n",
       "      <td>NaN</td>\n",
       "    </tr>\n",
       "    <tr>\n",
       "      <th>2</th>\n",
       "      <td>0.0</td>\n",
       "      <td>3.0</td>\n",
       "      <td>0.019045</td>\n",
       "      <td>1.000000</td>\n",
       "      <td>1.000000</td>\n",
       "      <td>NaN</td>\n",
       "    </tr>\n",
       "    <tr>\n",
       "      <th>3</th>\n",
       "      <td>0.0</td>\n",
       "      <td>4.0</td>\n",
       "      <td>12.014496</td>\n",
       "      <td>0.461698</td>\n",
       "      <td>2.515644</td>\n",
       "      <td>NaN</td>\n",
       "    </tr>\n",
       "    <tr>\n",
       "      <th>4</th>\n",
       "      <td>0.0</td>\n",
       "      <td>5.0</td>\n",
       "      <td>0.044439</td>\n",
       "      <td>1.000000</td>\n",
       "      <td>2.500000</td>\n",
       "      <td>NaN</td>\n",
       "    </tr>\n",
       "  </tbody>\n",
       "</table>\n",
       "</div>"
      ],
      "text/plain": [
       "     t  reassigned_label_raw   area_raw  solidity_raw  aspect_ratio_mean  \\\n",
       "0  0.0                   1.0  28.282472      0.606164           2.598591   \n",
       "1  0.0                   2.0   0.022220      1.000000           1.044815   \n",
       "2  0.0                   3.0   0.019045      1.000000           1.000000   \n",
       "3  0.0                   4.0  12.014496      0.461698           2.515644   \n",
       "4  0.0                   5.0   0.044439      1.000000           2.500000   \n",
       "\n",
       "   vergere_mean  \n",
       "0           NaN  \n",
       "1           NaN  \n",
       "2           NaN  \n",
       "3           NaN  \n",
       "4           NaN  "
      ]
     },
     "execution_count": 103,
     "metadata": {},
     "output_type": "execute_result"
    }
   ],
   "source": [
    "main_dir = \"D:/Internship/NTU/nellie_output/nellie_output/mdivi/\"\n",
    "\n",
    "file_path_feature = main_dir + \"ins1_\" + 'mdivi_3' + \".ome-ch0-features_components.csv\"\n",
    "#file_path_feature = main_dir + \"/\" + im_frame + \"_resized_\" + im_concen + \"_glu_1min_#1.ome-ch0-features_components.csv\"\n",
    "#file_path_feature = main_dir + \"time_ins_\" +\"FCCP\" + \".ome-ch0-features_components.csv\"\n",
    "df = pd.read_csv(file_path_feature)\n",
    "mini_df = df[['t', 'reassigned_label_raw', 'area_raw' , 'solidity_raw', 'aspect_ratio_mean', 'vergere_mean'] ]\n",
    "mini_df.head()"
   ]
  },
  {
   "cell_type": "code",
   "execution_count": 104,
   "metadata": {},
   "outputs": [
    {
     "name": "stdout",
     "output_type": "stream",
     "text": [
      "1.0 60.76345596729068\n",
      "0.08932099050126499 -0.08943781620705737 -5.8412852896187265e-05\n"
     ]
    },
    {
     "name": "stderr",
     "output_type": "stream",
     "text": [
      "c:\\Users\\iceji\\.conda\\envs\\napari-env\\lib\\site-packages\\pingouin\\distribution.py:242: UserWarning: Group 11.0 has less than 4 valid samples. Returning NaN.\n",
      "  warnings.warn(f\"Group {idx} has less than 4 valid samples. Returning NaN.\")\n",
      "c:\\Users\\iceji\\.conda\\envs\\napari-env\\lib\\site-packages\\pingouin\\distribution.py:242: UserWarning: Group 17.0 has less than 4 valid samples. Returning NaN.\n",
      "  warnings.warn(f\"Group {idx} has less than 4 valid samples. Returning NaN.\")\n",
      "c:\\Users\\iceji\\.conda\\envs\\napari-env\\lib\\site-packages\\pingouin\\distribution.py:242: UserWarning: Group 27.0 has less than 4 valid samples. Returning NaN.\n",
      "  warnings.warn(f\"Group {idx} has less than 4 valid samples. Returning NaN.\")\n",
      "c:\\Users\\iceji\\.conda\\envs\\napari-env\\lib\\site-packages\\pingouin\\distribution.py:242: UserWarning: Group 26.0 has less than 4 valid samples. Returning NaN.\n",
      "  warnings.warn(f\"Group {idx} has less than 4 valid samples. Returning NaN.\")\n",
      "c:\\Users\\iceji\\.conda\\envs\\napari-env\\lib\\site-packages\\pingouin\\distribution.py:242: UserWarning: Group 39.0 has less than 4 valid samples. Returning NaN.\n",
      "  warnings.warn(f\"Group {idx} has less than 4 valid samples. Returning NaN.\")\n",
      "c:\\Users\\iceji\\.conda\\envs\\napari-env\\lib\\site-packages\\pingouin\\distribution.py:242: UserWarning: Group 43.0 has less than 4 valid samples. Returning NaN.\n",
      "  warnings.warn(f\"Group {idx} has less than 4 valid samples. Returning NaN.\")\n",
      "c:\\Users\\iceji\\.conda\\envs\\napari-env\\lib\\site-packages\\pingouin\\distribution.py:242: UserWarning: Group 53.0 has less than 4 valid samples. Returning NaN.\n",
      "  warnings.warn(f\"Group {idx} has less than 4 valid samples. Returning NaN.\")\n",
      "c:\\Users\\iceji\\.conda\\envs\\napari-env\\lib\\site-packages\\pingouin\\distribution.py:242: UserWarning: Group 51.0 has less than 4 valid samples. Returning NaN.\n",
      "  warnings.warn(f\"Group {idx} has less than 4 valid samples. Returning NaN.\")\n",
      "c:\\Users\\iceji\\.conda\\envs\\napari-env\\lib\\site-packages\\pingouin\\distribution.py:242: UserWarning: Group 61.0 has less than 4 valid samples. Returning NaN.\n",
      "  warnings.warn(f\"Group {idx} has less than 4 valid samples. Returning NaN.\")\n",
      "c:\\Users\\iceji\\.conda\\envs\\napari-env\\lib\\site-packages\\pingouin\\distribution.py:242: UserWarning: Group 62.0 has less than 4 valid samples. Returning NaN.\n",
      "  warnings.warn(f\"Group {idx} has less than 4 valid samples. Returning NaN.\")\n",
      "c:\\Users\\iceji\\.conda\\envs\\napari-env\\lib\\site-packages\\pingouin\\distribution.py:242: UserWarning: Group 68.0 has less than 4 valid samples. Returning NaN.\n",
      "  warnings.warn(f\"Group {idx} has less than 4 valid samples. Returning NaN.\")\n",
      "c:\\Users\\iceji\\.conda\\envs\\napari-env\\lib\\site-packages\\pingouin\\distribution.py:242: UserWarning: Group 111.0 has less than 4 valid samples. Returning NaN.\n",
      "  warnings.warn(f\"Group {idx} has less than 4 valid samples. Returning NaN.\")\n",
      "c:\\Users\\iceji\\.conda\\envs\\napari-env\\lib\\site-packages\\pingouin\\distribution.py:242: UserWarning: Group 114.0 has less than 4 valid samples. Returning NaN.\n",
      "  warnings.warn(f\"Group {idx} has less than 4 valid samples. Returning NaN.\")\n",
      "c:\\Users\\iceji\\.conda\\envs\\napari-env\\lib\\site-packages\\pingouin\\distribution.py:242: UserWarning: Group 118.0 has less than 4 valid samples. Returning NaN.\n",
      "  warnings.warn(f\"Group {idx} has less than 4 valid samples. Returning NaN.\")\n",
      "c:\\Users\\iceji\\.conda\\envs\\napari-env\\lib\\site-packages\\pingouin\\distribution.py:242: UserWarning: Group 124.0 has less than 4 valid samples. Returning NaN.\n",
      "  warnings.warn(f\"Group {idx} has less than 4 valid samples. Returning NaN.\")\n",
      "c:\\Users\\iceji\\.conda\\envs\\napari-env\\lib\\site-packages\\pingouin\\distribution.py:242: UserWarning: Group 132.0 has less than 4 valid samples. Returning NaN.\n",
      "  warnings.warn(f\"Group {idx} has less than 4 valid samples. Returning NaN.\")\n",
      "c:\\Users\\iceji\\.conda\\envs\\napari-env\\lib\\site-packages\\pingouin\\distribution.py:242: UserWarning: Group 138.0 has less than 4 valid samples. Returning NaN.\n",
      "  warnings.warn(f\"Group {idx} has less than 4 valid samples. Returning NaN.\")\n",
      "c:\\Users\\iceji\\.conda\\envs\\napari-env\\lib\\site-packages\\pingouin\\distribution.py:242: UserWarning: Group 142.0 has less than 4 valid samples. Returning NaN.\n",
      "  warnings.warn(f\"Group {idx} has less than 4 valid samples. Returning NaN.\")\n",
      "c:\\Users\\iceji\\.conda\\envs\\napari-env\\lib\\site-packages\\pingouin\\distribution.py:242: UserWarning: Group 144.0 has less than 4 valid samples. Returning NaN.\n",
      "  warnings.warn(f\"Group {idx} has less than 4 valid samples. Returning NaN.\")\n",
      "c:\\Users\\iceji\\.conda\\envs\\napari-env\\lib\\site-packages\\pingouin\\distribution.py:242: UserWarning: Group 152.0 has less than 4 valid samples. Returning NaN.\n",
      "  warnings.warn(f\"Group {idx} has less than 4 valid samples. Returning NaN.\")\n",
      "c:\\Users\\iceji\\.conda\\envs\\napari-env\\lib\\site-packages\\pingouin\\distribution.py:242: UserWarning: Group 162.0 has less than 4 valid samples. Returning NaN.\n",
      "  warnings.warn(f\"Group {idx} has less than 4 valid samples. Returning NaN.\")\n",
      "c:\\Users\\iceji\\.conda\\envs\\napari-env\\lib\\site-packages\\pingouin\\distribution.py:242: UserWarning: Group 160.0 has less than 4 valid samples. Returning NaN.\n",
      "  warnings.warn(f\"Group {idx} has less than 4 valid samples. Returning NaN.\")\n",
      "c:\\Users\\iceji\\.conda\\envs\\napari-env\\lib\\site-packages\\pingouin\\distribution.py:242: UserWarning: Group 175.0 has less than 4 valid samples. Returning NaN.\n",
      "  warnings.warn(f\"Group {idx} has less than 4 valid samples. Returning NaN.\")\n",
      "c:\\Users\\iceji\\.conda\\envs\\napari-env\\lib\\site-packages\\pingouin\\distribution.py:242: UserWarning: Group 188.0 has less than 4 valid samples. Returning NaN.\n",
      "  warnings.warn(f\"Group {idx} has less than 4 valid samples. Returning NaN.\")\n",
      "c:\\Users\\iceji\\.conda\\envs\\napari-env\\lib\\site-packages\\pingouin\\distribution.py:242: UserWarning: Group 50.0 has less than 4 valid samples. Returning NaN.\n",
      "  warnings.warn(f\"Group {idx} has less than 4 valid samples. Returning NaN.\")\n",
      "c:\\Users\\iceji\\.conda\\envs\\napari-env\\lib\\site-packages\\pingouin\\distribution.py:242: UserWarning: Group 73.0 has less than 4 valid samples. Returning NaN.\n",
      "  warnings.warn(f\"Group {idx} has less than 4 valid samples. Returning NaN.\")\n",
      "c:\\Users\\iceji\\.conda\\envs\\napari-env\\lib\\site-packages\\pingouin\\distribution.py:242: UserWarning: Group 89.0 has less than 4 valid samples. Returning NaN.\n",
      "  warnings.warn(f\"Group {idx} has less than 4 valid samples. Returning NaN.\")\n",
      "c:\\Users\\iceji\\.conda\\envs\\napari-env\\lib\\site-packages\\pingouin\\distribution.py:242: UserWarning: Group 91.0 has less than 4 valid samples. Returning NaN.\n",
      "  warnings.warn(f\"Group {idx} has less than 4 valid samples. Returning NaN.\")\n",
      "c:\\Users\\iceji\\.conda\\envs\\napari-env\\lib\\site-packages\\pingouin\\distribution.py:242: UserWarning: Group 109.0 has less than 4 valid samples. Returning NaN.\n",
      "  warnings.warn(f\"Group {idx} has less than 4 valid samples. Returning NaN.\")\n",
      "c:\\Users\\iceji\\.conda\\envs\\napari-env\\lib\\site-packages\\pingouin\\distribution.py:242: UserWarning: Group 120.0 has less than 4 valid samples. Returning NaN.\n",
      "  warnings.warn(f\"Group {idx} has less than 4 valid samples. Returning NaN.\")\n",
      "c:\\Users\\iceji\\.conda\\envs\\napari-env\\lib\\site-packages\\pingouin\\distribution.py:242: UserWarning: Group 168.0 has less than 4 valid samples. Returning NaN.\n",
      "  warnings.warn(f\"Group {idx} has less than 4 valid samples. Returning NaN.\")\n",
      "c:\\Users\\iceji\\.conda\\envs\\napari-env\\lib\\site-packages\\pingouin\\distribution.py:242: UserWarning: Group 9.0 has less than 4 valid samples. Returning NaN.\n",
      "  warnings.warn(f\"Group {idx} has less than 4 valid samples. Returning NaN.\")\n",
      "c:\\Users\\iceji\\.conda\\envs\\napari-env\\lib\\site-packages\\pingouin\\distribution.py:242: UserWarning: Group 12.0 has less than 4 valid samples. Returning NaN.\n",
      "  warnings.warn(f\"Group {idx} has less than 4 valid samples. Returning NaN.\")\n",
      "c:\\Users\\iceji\\.conda\\envs\\napari-env\\lib\\site-packages\\pingouin\\distribution.py:242: UserWarning: Group 33.0 has less than 4 valid samples. Returning NaN.\n",
      "  warnings.warn(f\"Group {idx} has less than 4 valid samples. Returning NaN.\")\n",
      "c:\\Users\\iceji\\.conda\\envs\\napari-env\\lib\\site-packages\\pingouin\\distribution.py:242: UserWarning: Group 38.0 has less than 4 valid samples. Returning NaN.\n",
      "  warnings.warn(f\"Group {idx} has less than 4 valid samples. Returning NaN.\")\n",
      "c:\\Users\\iceji\\.conda\\envs\\napari-env\\lib\\site-packages\\pingouin\\distribution.py:242: UserWarning: Group 127.0 has less than 4 valid samples. Returning NaN.\n",
      "  warnings.warn(f\"Group {idx} has less than 4 valid samples. Returning NaN.\")\n",
      "c:\\Users\\iceji\\.conda\\envs\\napari-env\\lib\\site-packages\\pingouin\\distribution.py:242: UserWarning: Group 145.0 has less than 4 valid samples. Returning NaN.\n",
      "  warnings.warn(f\"Group {idx} has less than 4 valid samples. Returning NaN.\")\n",
      "c:\\Users\\iceji\\.conda\\envs\\napari-env\\lib\\site-packages\\pingouin\\distribution.py:242: UserWarning: Group 63.0 has less than 4 valid samples. Returning NaN.\n",
      "  warnings.warn(f\"Group {idx} has less than 4 valid samples. Returning NaN.\")\n",
      "c:\\Users\\iceji\\.conda\\envs\\napari-env\\lib\\site-packages\\pingouin\\distribution.py:242: UserWarning: Group 121.0 has less than 4 valid samples. Returning NaN.\n",
      "  warnings.warn(f\"Group {idx} has less than 4 valid samples. Returning NaN.\")\n",
      "c:\\Users\\iceji\\.conda\\envs\\napari-env\\lib\\site-packages\\pingouin\\distribution.py:242: UserWarning: Group 133.0 has less than 4 valid samples. Returning NaN.\n",
      "  warnings.warn(f\"Group {idx} has less than 4 valid samples. Returning NaN.\")\n",
      "c:\\Users\\iceji\\.conda\\envs\\napari-env\\lib\\site-packages\\pingouin\\distribution.py:242: UserWarning: Group 71.0 has less than 4 valid samples. Returning NaN.\n",
      "  warnings.warn(f\"Group {idx} has less than 4 valid samples. Returning NaN.\")\n",
      "c:\\Users\\iceji\\.conda\\envs\\napari-env\\lib\\site-packages\\pingouin\\distribution.py:242: UserWarning: Group 153.0 has less than 4 valid samples. Returning NaN.\n",
      "  warnings.warn(f\"Group {idx} has less than 4 valid samples. Returning NaN.\")\n",
      "c:\\Users\\iceji\\.conda\\envs\\napari-env\\lib\\site-packages\\pingouin\\distribution.py:242: UserWarning: Group 150.0 has less than 4 valid samples. Returning NaN.\n",
      "  warnings.warn(f\"Group {idx} has less than 4 valid samples. Returning NaN.\")\n",
      "c:\\Users\\iceji\\.conda\\envs\\napari-env\\lib\\site-packages\\pingouin\\distribution.py:242: UserWarning: Group 5.0 has less than 4 valid samples. Returning NaN.\n",
      "  warnings.warn(f\"Group {idx} has less than 4 valid samples. Returning NaN.\")\n",
      "c:\\Users\\iceji\\.conda\\envs\\napari-env\\lib\\site-packages\\pingouin\\distribution.py:242: UserWarning: Group 14.0 has less than 4 valid samples. Returning NaN.\n",
      "  warnings.warn(f\"Group {idx} has less than 4 valid samples. Returning NaN.\")\n",
      "c:\\Users\\iceji\\.conda\\envs\\napari-env\\lib\\site-packages\\pingouin\\distribution.py:242: UserWarning: Group 75.0 has less than 4 valid samples. Returning NaN.\n",
      "  warnings.warn(f\"Group {idx} has less than 4 valid samples. Returning NaN.\")\n",
      "c:\\Users\\iceji\\.conda\\envs\\napari-env\\lib\\site-packages\\pingouin\\distribution.py:242: UserWarning: Group 164.0 has less than 4 valid samples. Returning NaN.\n",
      "  warnings.warn(f\"Group {idx} has less than 4 valid samples. Returning NaN.\")\n"
     ]
    },
    {
     "data": {
      "application/vnd.microsoft.datawrangler.viewer.v0+json": {
       "columns": [
        {
         "name": "reassigned_label_raw",
         "rawType": "float64",
         "type": "float"
        },
        {
         "name": "W",
         "rawType": "float64",
         "type": "float"
        },
        {
         "name": "pval",
         "rawType": "float64",
         "type": "float"
        },
        {
         "name": "normal",
         "rawType": "bool",
         "type": "boolean"
        }
       ],
       "conversionMethod": "pd.DataFrame",
       "ref": "00203a05-5a4c-4510-991e-9934303efca1",
       "rows": [
        [
         "1.0",
         "0.9819231491025974",
         "0.05765518740792449",
         "True"
        ],
        [
         "3.0",
         "0.9694355304713528",
         "0.06980332591233117",
         "True"
        ],
        [
         "9.0",
         "0.9899046579575933",
         "0.22994537843646617",
         "True"
        ],
        [
         "12.0",
         "0.9618320473409427",
         "0.7904330486102513",
         "True"
        ],
        [
         "13.0",
         "0.8503975705077867",
         "0.09615648970447106",
         "True"
        ],
        [
         "18.0",
         "0.9669949623927095",
         "0.8678782030373235",
         "True"
        ],
        [
         "22.0",
         "0.9781792813196075",
         "0.6836399207076467",
         "True"
        ],
        [
         "35.0",
         "0.9835256937901304",
         "0.3362821087943558",
         "True"
        ],
        [
         "33.0",
         "0.9755388040268566",
         "0.2418071082419852",
         "True"
        ],
        [
         "37.0",
         "0.9848040559168723",
         "0.6806526738976952",
         "True"
        ],
        [
         "38.0",
         "0.9503465782678385",
         "0.1868739651280944",
         "True"
        ],
        [
         "48.0",
         "0.9648372472367652",
         "0.061523849268772225",
         "True"
        ],
        [
         "56.0",
         "0.9890032042789054",
         "0.19309542261986767",
         "True"
        ],
        [
         "58.0",
         "0.9778533651438249",
         "0.9530478964115958",
         "True"
        ],
        [
         "64.0",
         "0.9357121378791807",
         "0.05103153638199796",
         "True"
        ],
        [
         "65.0",
         "0.9767560057354461",
         "0.35055410308589674",
         "True"
        ],
        [
         "71.0",
         "0.9860837325588291",
         "0.5136338371566203",
         "True"
        ],
        [
         "70.0",
         "0.9605063110278375",
         "0.1971705430629394",
         "True"
        ],
        [
         "76.0",
         "0.862578121526323",
         "0.1981879896809004",
         "True"
        ],
        [
         "84.0",
         "0.979949949065119",
         "0.7712428687338813",
         "True"
        ],
        [
         "88.0",
         "0.9856768262132173",
         "0.6759404937798992",
         "True"
        ],
        [
         "89.0",
         "0.9636073469083687",
         "0.1494861584490898",
         "True"
        ],
        [
         "103.0",
         "0.9417935186523407",
         "0.5216512362901466",
         "True"
        ],
        [
         "109.0",
         "0.9803182585488763",
         "0.4088170428497494",
         "True"
        ],
        [
         "108.0",
         "0.9285156949851765",
         "0.23091476900431884",
         "True"
        ],
        [
         "111.0",
         "0.9860948850871106",
         "0.48030162631571105",
         "True"
        ],
        [
         "112.0",
         "0.9719488069664366",
         "0.7757186594390311",
         "True"
        ],
        [
         "123.0",
         "0.9911624133355295",
         "0.222185408524621",
         "True"
        ],
        [
         "126.0",
         "0.9797048147716778",
         "0.34248735044996975",
         "True"
        ],
        [
         "127.0",
         "0.9760622394659576",
         "0.1332483178615788",
         "True"
        ],
        [
         "142.0",
         "0.981604001747922",
         "0.9059910484188315",
         "True"
        ],
        [
         "144.0",
         "0.9782182381299239",
         "0.357909508889362",
         "True"
        ],
        [
         "146.0",
         "0.9882510659834651",
         "0.9873015995891365",
         "True"
        ],
        [
         "151.0",
         "0.973670056090184",
         "0.21981995025887086",
         "True"
        ],
        [
         "160.0",
         "0.8456119214507168",
         "0.21226520072722216",
         "True"
        ],
        [
         "163.0",
         "0.9793991151234572",
         "0.3925319353882779",
         "True"
        ],
        [
         "182.0",
         "0.8146038499998324",
         "0.13109477017955812",
         "True"
        ],
        [
         "183.0",
         "0.9890813710372447",
         "0.20410331192415193",
         "True"
        ],
        [
         "178.0",
         "0.9922465565716513",
         "0.9291941053246395",
         "True"
        ],
        [
         "177.0",
         "0.8942124868678656",
         "0.3408505003908786",
         "True"
        ],
        [
         "185.0",
         "0.8480940352887436",
         "0.09112087394754752",
         "True"
        ],
        [
         "187.0",
         "0.9612113982088789",
         "0.7134447401127133",
         "True"
        ],
        [
         "198.0",
         "0.9542286914506848",
         "0.2191193159787176",
         "True"
        ],
        [
         "200.0",
         "0.9711934841313637",
         "0.053870596022905025",
         "True"
        ],
        [
         "199.0",
         "0.9704448982780849",
         "0.47384964671038754",
         "True"
        ],
        [
         "201.0",
         "0.9767739412023846",
         "0.06660293905561793",
         "True"
        ],
        [
         "204.0",
         "0.878720020251186",
         "0.08440080304335831",
         "True"
        ],
        [
         "208.0",
         "0.9421338870038434",
         "0.5769930794274467",
         "True"
        ],
        [
         "213.0",
         "0.9844951792943363",
         "0.10211254276993331",
         "True"
        ],
        [
         "217.0",
         "0.9789092293246392",
         "0.17800376705040527",
         "True"
        ]
       ],
       "shape": {
        "columns": 3,
        "rows": 109
       }
      },
      "text/html": [
       "<div>\n",
       "<style scoped>\n",
       "    .dataframe tbody tr th:only-of-type {\n",
       "        vertical-align: middle;\n",
       "    }\n",
       "\n",
       "    .dataframe tbody tr th {\n",
       "        vertical-align: top;\n",
       "    }\n",
       "\n",
       "    .dataframe thead th {\n",
       "        text-align: right;\n",
       "    }\n",
       "</style>\n",
       "<table border=\"1\" class=\"dataframe\">\n",
       "  <thead>\n",
       "    <tr style=\"text-align: right;\">\n",
       "      <th></th>\n",
       "      <th>W</th>\n",
       "      <th>pval</th>\n",
       "      <th>normal</th>\n",
       "    </tr>\n",
       "    <tr>\n",
       "      <th>reassigned_label_raw</th>\n",
       "      <th></th>\n",
       "      <th></th>\n",
       "      <th></th>\n",
       "    </tr>\n",
       "  </thead>\n",
       "  <tbody>\n",
       "    <tr>\n",
       "      <th>1.0</th>\n",
       "      <td>0.981923</td>\n",
       "      <td>0.057655</td>\n",
       "      <td>True</td>\n",
       "    </tr>\n",
       "    <tr>\n",
       "      <th>3.0</th>\n",
       "      <td>0.969436</td>\n",
       "      <td>0.069803</td>\n",
       "      <td>True</td>\n",
       "    </tr>\n",
       "    <tr>\n",
       "      <th>9.0</th>\n",
       "      <td>0.989905</td>\n",
       "      <td>0.229945</td>\n",
       "      <td>True</td>\n",
       "    </tr>\n",
       "    <tr>\n",
       "      <th>12.0</th>\n",
       "      <td>0.961832</td>\n",
       "      <td>0.790433</td>\n",
       "      <td>True</td>\n",
       "    </tr>\n",
       "    <tr>\n",
       "      <th>13.0</th>\n",
       "      <td>0.850398</td>\n",
       "      <td>0.096156</td>\n",
       "      <td>True</td>\n",
       "    </tr>\n",
       "    <tr>\n",
       "      <th>...</th>\n",
       "      <td>...</td>\n",
       "      <td>...</td>\n",
       "      <td>...</td>\n",
       "    </tr>\n",
       "    <tr>\n",
       "      <th>235.0</th>\n",
       "      <td>0.988820</td>\n",
       "      <td>0.666702</td>\n",
       "      <td>True</td>\n",
       "    </tr>\n",
       "    <tr>\n",
       "      <th>283.0</th>\n",
       "      <td>0.833777</td>\n",
       "      <td>0.064974</td>\n",
       "      <td>True</td>\n",
       "    </tr>\n",
       "    <tr>\n",
       "      <th>226.0</th>\n",
       "      <td>0.974555</td>\n",
       "      <td>0.597310</td>\n",
       "      <td>True</td>\n",
       "    </tr>\n",
       "    <tr>\n",
       "      <th>31.0</th>\n",
       "      <td>0.940232</td>\n",
       "      <td>0.459909</td>\n",
       "      <td>True</td>\n",
       "    </tr>\n",
       "    <tr>\n",
       "      <th>159.0</th>\n",
       "      <td>0.985194</td>\n",
       "      <td>0.355990</td>\n",
       "      <td>True</td>\n",
       "    </tr>\n",
       "  </tbody>\n",
       "</table>\n",
       "<p>109 rows × 3 columns</p>\n",
       "</div>"
      ],
      "text/plain": [
       "                             W      pval  normal\n",
       "reassigned_label_raw                            \n",
       "1.0                   0.981923  0.057655    True\n",
       "3.0                   0.969436  0.069803    True\n",
       "9.0                   0.989905  0.229945    True\n",
       "12.0                  0.961832  0.790433    True\n",
       "13.0                  0.850398  0.096156    True\n",
       "...                        ...       ...     ...\n",
       "235.0                 0.988820  0.666702    True\n",
       "283.0                 0.833777  0.064974    True\n",
       "226.0                 0.974555  0.597310    True\n",
       "31.0                  0.940232  0.459909    True\n",
       "159.0                 0.985194  0.355990    True\n",
       "\n",
       "[109 rows x 3 columns]"
      ]
     },
     "execution_count": 104,
     "metadata": {},
     "output_type": "execute_result"
    }
   ],
   "source": [
    "print(np.min(mini_df[\"aspect_ratio_mean\"]) , np.max(mini_df[\"aspect_ratio_mean\"]))\n",
    "mean_ar = np.mean(mini_df[\"aspect_ratio_mean\"]) \n",
    "std_ar = np.std(mini_df[\"aspect_ratio_mean\"])\n",
    "\n",
    "mean_div = np.mean(mini_df[\"vergere_mean\"]) \n",
    "std_div = np.std(mini_df[\"vergere_mean\"])\n",
    "\n",
    "upper_bound_ar = mean_ar + 3*std_ar\n",
    "upper_bound_div = mean_div + 1*std_div\n",
    "lower_bound_div = mean_div - 1*std_div\n",
    "\n",
    "mask_ar = np.array(mini_df[\"aspect_ratio_mean\"])\n",
    "mask_div = np.array(mini_df[\"vergere_mean\"])\n",
    " \n",
    "ar = mini_df[mask_ar < upper_bound_ar]\n",
    "div = mini_df[mask_div < upper_bound_div]\n",
    "div = div[div['vergere_mean'] > lower_bound_div]\n",
    "\n",
    "print(upper_bound_div,lower_bound_div,mean_div)\n",
    "y = pg.normality(data = div, dv = 'vergere_mean', group = 'reassigned_label_raw')\n",
    "y = x[x['normal'] == True]\n",
    "y"
   ]
  },
  {
   "cell_type": "markdown",
   "metadata": {},
   "source": [
    "# chart"
   ]
  },
  {
   "cell_type": "code",
   "execution_count": 105,
   "metadata": {},
   "outputs": [
    {
     "data": {
      "image/png": "[encoded data removed]",
      "text/plain": [
       "<Figure size 640x480 with 1 Axes>"
      ]
     },
     "metadata": {},
     "output_type": "display_data"
    }
   ],
   "source": [
    "counts, bins = np.histogram(ar[\"aspect_ratio_mean\"], bins=50)  # Create 10 bins for the range 0-1\n",
    "\n",
    "# Bin centers (for bar positioning)\n",
    "bin_centers = (bins[:-1] + bins[1:]) / 2\n",
    "\n",
    "# Plotting\n",
    "plt.bar(bin_centers, counts, width=(bins[1] - bins[0 ]), edgecolor='black', alpha=0.7)\n",
    "plt.xlabel('Value Ranges')\n",
    "plt.ylabel('Counts')\n",
    "plt.title('Bar Chart of Decimal Ranges')\n",
    "plt.xticks(bin_centers, labels=[f'{bins[i]:.1f}-{bins[i+1]:.1f}' for i in range(len(bins)-1)], rotation=45)\n",
    "\n",
    "plt.tight_layout()\n",
    "plt.show()"
   ]
  },
  {
   "cell_type": "code",
   "execution_count": 106,
   "metadata": {},
   "outputs": [
    {
     "data": {
      "image/png": "[encoded data removed]",
      "text/plain": [
       "<Figure size 640x480 with 1 Axes>"
      ]
     },
     "metadata": {},
     "output_type": "display_data"
    }
   ],
   "source": [
    "counts, bins = np.histogram(div[\"vergere_mean\"], bins=50)  # Create 10 bins for the range 0-1\n",
    "\n",
    "# + flow in \n",
    "#  - flow out\n",
    "\n",
    "# Bin centers (for bar positioning)\n",
    "bin_centers = (bins[:-1] + bins[1:]) / 2\n",
    "\n",
    "# Plotting\n",
    "plt.bar(bin_centers, counts, width=(bins[1] - bins[0 ]), edgecolor='black', alpha=0.7)\n",
    "plt.xlabel('Value Ranges')\n",
    "plt.ylabel('Counts')\n",
    "plt.title('Bar Chart of Decimal Ranges')\n",
    "plt.xticks(bin_centers, labels=[f'{bins[i]:.3f}' for i in range(len(bins)-1)], rotation=45)\n",
    "\n",
    "plt.tight_layout()\n",
    "plt.show()"
   ]
  },
  {
   "cell_type": "code",
   "execution_count": null,
   "metadata": {},
   "outputs": [],
   "source": []
  },
  {
   "cell_type": "code",
   "execution_count": null,
   "metadata": {},
   "outputs": [],
   "source": [
    "\n",
    "\n",
    "# check number of label over time/frame \n",
    "# check area over time/frame\n",
    "#stream_frame = ['1','1','1','1','5','5','10','10']\n",
    "#stream_con = ['0','0.5','1','2','1','0.5','0','2']\n",
    "stream_file = ['control','FCCP','oligomycin','Rotenone']\n",
    "#stream_file = ['control_3','control_10min','mdivi_20uM_3','mdivi_20uM_3_10min']\n",
    "main_dir = \"D:/Internship/NTU/nellie_output/nellie_output/mdivi\"\n",
    "\n",
    "for s in range(len(stream_file)):\n",
    "    # 1st part check area and number of label\n",
    "    #im_concen = stream_con[s]\n",
    "    im_concen = stream_file[s]\n",
    "     \n",
    "    #print(im_concen+\"_\"+im_frame)\n",
    "\n",
    "    output_name = im_concen  + \"_\"  + \"area_label_check\"\n",
    "\n",
    "    file_path_feature = main_dir + \"ins1_\" + im_concen + \".ome-ch0-features_components.csv\"\n",
    "    #file_path_feature = main_dir + \"/\" + im_frame + \"_resized_\" + im_concen + \"_glu_1min_#1.ome-ch0-features_components.csv\"\n",
    "    #file_path_feature = main_dir + \"time_ins_\" + im_concen + \".ome-ch0-features_components.csv\"\n",
    "    df = pd.read_csv(file_path_feature)\n",
    "    mini_df = df[['t', 'area_raw' , 'solidity_raw', 'aspect_ratio_mean', 'divergence_mean' , 'convergence_mean'] ]\n",
    "\n",
    "    frames = np.unique(mini_df['t'])\n",
    "    label_num_all = []\n",
    "    area_all = []\n",
    "    raw_label_all = []\n",
    "    for frame in frames:\n",
    "        mini_df_frame = mini_df[mini_df['t'] == frame]\n",
    "        label_num = len(np.unique(mini_df_frame['reassigned_label_raw']))\n",
    "        area = np.sum(mini_df_frame['area_raw'])\n",
    "        raw_label = len(np.unique(mini_df_frame['label']))\n",
    "\n",
    "        label_num_all.append(label_num)\n",
    "        area_all.append(area)\n",
    "        raw_label_all.append(raw_label) \n",
    "    \n",
    "    label_NN_all = pd.DataFrame({ 'label_num': label_num_all, 'area': area_all, 'raw_label': raw_label_all})\n",
    "\n",
    "\n",
    "# fission/fusion over time/frame"
   ]
  }
 ],
 "metadata": {
  "kernelspec": {
   "display_name": "Python 3",
   "language": "python",
   "name": "python3"
  },
  "language_info": {
   "codemirror_mode": {
    "name": "ipython",
    "version": 3
   },
   "file_extension": ".py",
   "mimetype": "text/x-python",
   "name": "python",
   "nbconvert_exporter": "python",
   "pygments_lexer": "ipython3",
   "version": "3.10.15"
  }
 },
 "nbformat": 4,
 "nbformat_minor": 2
}
