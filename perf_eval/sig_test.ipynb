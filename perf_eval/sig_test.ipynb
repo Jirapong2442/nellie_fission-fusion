{
 "cells": [
  {
   "cell_type": "markdown",
   "metadata": {},
   "source": [
    "# Significance testing"
   ]
  },
  {
   "cell_type": "code",
   "execution_count": 1,
   "metadata": {},
   "outputs": [],
   "source": [
    "import numpy as np\n",
    "import pandas as pd\n",
    "import os\n",
    "from checkFissFus2 import get_fiss_fus_all , fiss_fus_reassigned_label\n",
    "from significance_test import sliding_window_cumsum,regularization,apply_function_to_arrays,convert_to_sig_test, apply_function_folder\n",
    "import matplotlib.pyplot as plt\n",
    "import pingouin as pg"
   ]
  },
  {
   "cell_type": "markdown",
   "metadata": {},
   "source": [
    "## import and prepare data"
   ]
  },
  {
   "cell_type": "markdown",
   "metadata": {},
   "source": [
    "### import data"
   ]
  },
  {
   "cell_type": "code",
   "execution_count": 2,
   "metadata": {},
   "outputs": [],
   "source": [
    "dir_path_tox_adjusted = \"../nellie_output/toxicity/adjusted\"\n",
    "dir_path_mdivi_adjusted = \"../nellie_output/mdivi/adjusted\"\n",
    "\n",
    "dir_path_mdivi_self = \"../self_event/mdivi/num_area\"\n",
    "dir_path_tox_self = \"../self_event/toxicity/num_area\"\n",
    "\n",
    "dir_tox_meter = \"D:/Internship/NTU/my_script/mitometer_output/toxin\"\n",
    "dir_mdivi_meter = \"D:/Internship/NTU/my_script/mitometer_output/mdivi\"\n",
    "\n",
    "dir_path_tox = \"../nellie_output/toxicity/0.25\"\n",
    "dir_path_mdivi = \"../nellie_output/mdivi/0.25\"\n",
    "\n",
    "dir_raw_tox = \"D:/Internship/NTU/nellie_output/nellie_output/toxins/\"\n",
    "dir_raw_mdivi = \"D:/Internship/NTU/nellie_output/nellie_output/mdivi/\""
   ]
  },
  {
   "cell_type": "code",
   "execution_count": 3,
   "metadata": {},
   "outputs": [],
   "source": [
    "\n",
    "#mitometer\n",
    "fission_tox_meter, fusion_tox_meter, fiss_frame_meter, fus_frame_meter = get_fiss_fus_all(dir_tox_meter)\n",
    "fission_mdivi_meter, fusion_mdivi_meter, fiss_frame_meter_tox, fus_frame_meter_tox = get_fiss_fus_all(dir_mdivi_meter, isBound_to_min= False)\n",
    "\n",
    "#after area threshold adjustment\n",
    "fission_tox_adjusted, fusion_tox_adjusted, fiss_frame_meter, fus_frame_meter = get_fiss_fus_all(dir_path_tox_adjusted)\n",
    "fission_mdivi_adjusted, fusion_mdivi_adjusted, fiss_frame_meter_tox, fus_frame_meter_tox = get_fiss_fus_all(dir_path_mdivi_adjusted, isBound_to_min= False)\n",
    "\n",
    "#before area threshod adjustment\n",
    "fission_tox, fusion_tox, fiss_frame_meter, fus_frame_meter = get_fiss_fus_all(dir_path_tox)\n",
    "fission_mdivi, fusion_mdivi, fiss_frame_meter_tox, fus_frame_meter_tox = get_fiss_fus_all(dir_path_mdivi, isBound_to_min= False)\n",
    "\n",
    "#self event\n",
    "fission_mdivi_self, fusion_mdivi_self, fiss_self_frame_mdivi, fus_self_frame_mdivi = get_fiss_fus_all(dir_path_mdivi_self, isBound_to_min= False)\n",
    "fission_tox_self, fusion_tox_self, fiss_self_frame, fus_self_frame = get_fiss_fus_all(dir_path_tox_self)\n",
    "\n",
    "#fission fusion from Nellie author \n",
    "out_tox = apply_function_folder(dir_raw_tox, keywords=\"features_components\", func=fiss_fus_reassigned_label)\n",
    "out_mdivi = apply_function_folder(dir_raw_mdivi, keywords=\"features_components\", func=fiss_fus_reassigned_label)"
   ]
  },
  {
   "cell_type": "markdown",
   "metadata": {},
   "source": [
    "### fission/fusion from Nellie's Author"
   ]
  },
  {
   "cell_type": "code",
   "execution_count": 4,
   "metadata": {},
   "outputs": [],
   "source": [
    "out_tox_copy = out_tox.copy()\n",
    "x = out_tox.keys()\n",
    "for key in x:\n",
    "    condition = key.split(\"_\")[2].split(\".\")[0]\n",
    "    out_tox_copy[condition] = out_tox_copy.pop((key))"
   ]
  },
  {
   "cell_type": "code",
   "execution_count": 5,
   "metadata": {},
   "outputs": [],
   "source": [
    "out_mdivi_copy = out_mdivi.copy()\n",
    "x = out_mdivi.keys()\n",
    "for key in x:\n",
    "    condition = key.split(\"_\")[1] +\"_\" +  key.split(\"_\")[2].split(\".\")[0]\n",
    "    out_mdivi_copy[condition] = out_mdivi_copy.pop((key))"
   ]
  },
  {
   "cell_type": "code",
   "execution_count": 6,
   "metadata": {},
   "outputs": [],
   "source": [
    "fission_tox_nellie = [out_tox_copy[\"control\"][2],out_tox_copy[\"FCCP\"][2],out_tox_copy[\"oligomycin\"][2],out_tox_copy[\"Rotenone\"][2]]\n",
    "fusion_tox_nellie = [out_tox_copy[\"control\"][3],out_tox_copy[\"FCCP\"][3],out_tox_copy[\"oligomycin\"][3],out_tox_copy[\"Rotenone\"][3]]\n",
    "minimum = np.min([len(x) for x in fission_tox_nellie])\n",
    "fission_tox_nellie = np.array([x[0:minimum] for x in fission_tox_nellie]).flatten()\n",
    "fusion_tox_nellie = np.array([x[0:minimum] for x in fusion_tox_nellie]).flatten()"
   ]
  },
  {
   "cell_type": "code",
   "execution_count": 7,
   "metadata": {},
   "outputs": [],
   "source": [
    "fission_mdivi_nellie = [out_mdivi_copy[\"control_3\"][2],out_mdivi_copy[\"mdivi_3\"][2]]\n",
    "fusion_mdivi_nellie = [out_mdivi_copy[\"control_3\"][3],out_mdivi_copy[\"mdivi_3\"][3]]\n",
    "\n",
    "fission_mdivi_nellie_10min = [out_mdivi_copy[\"control_10min\"][2],out_mdivi_copy[\"mdivi_10min\"][2]]\n",
    "fusion_mdivi_nellie_10min = [out_mdivi_copy[\"control_10min\"][3],out_mdivi_copy[\"mdivi_10min\"][3]]\n",
    "\n",
    "minimum_normal = np.min([len(x) for x in fission_mdivi_nellie])\n",
    "minimum_10min = np.min([len(x) for x in fission_mdivi_nellie_10min])\n",
    "\n",
    "fission_mdivi_nellie = np.array([x[0:minimum_normal] for x in fission_mdivi_nellie]).flatten()\n",
    "fusion_mdivi_nellie = np.array([x[0:minimum_normal] for x in fusion_mdivi_nellie]).flatten()\n",
    "fission_mdivi_nellie_10min = np.array([x[0:minimum_10min] for x in fission_mdivi_nellie_10min]).flatten()\n",
    "fusion_mdivi_nellie_10min = np.array([x[0:minimum_10min] for x in fusion_mdivi_nellie_10min]).flatten()\n"
   ]
  },
  {
   "cell_type": "markdown",
   "metadata": {},
   "source": [
    "### fission fusion algo output"
   ]
  },
  {
   "cell_type": "code",
   "execution_count": 8,
   "metadata": {},
   "outputs": [],
   "source": [
    "len(fusion_mdivi_meter[0]), len(fusion_mdivi_meter[1]), len(fusion_mdivi_meter[2]),  len(fusion_mdivi_meter[3])\n",
    "fusion_mdivi_meter[2] = fusion_mdivi_meter[2][0:61]\n",
    "fission_mdivi_meter[2] = fission_mdivi_meter[2][0:61]"
   ]
  },
  {
   "cell_type": "code",
   "execution_count": 9,
   "metadata": {},
   "outputs": [],
   "source": [
    "\n",
    "# control 10min, control 3, mdivi 10min, mdivi 3\n",
    "#extract result from mdivi (fission, self_fission, fusion, self_fusion) in 10 second and 1 second interval\n",
    "\n",
    "# 10 min fission\n",
    "fission_mdivi_10min = np.array([fission_mdivi[0],fission_mdivi[2] ])\n",
    "fusion_mdivi_10min = np.array([fusion_mdivi[0],fusion_mdivi[2] ])\n",
    "fission_mdivi_self_10min = np.array([fission_mdivi_self[0],fission_mdivi_self[2] ])\n",
    "fusion_mdivi_self_10min = np.array([fusion_mdivi_self[0],fusion_mdivi_self[2] ])\n",
    "fission_mdivi_10min_meter = np.array([fission_mdivi_meter[0],fission_mdivi_meter[2] ])\n",
    "fusion_mdivi_10min_meter = np.array([fusion_mdivi_meter[0],fusion_mdivi_meter[2] ])\n",
    "\n",
    "fission_mdivi_10min_adjusted = np.array([fission_mdivi_adjusted[0],fission_mdivi_adjusted[2] ])\n",
    "fusion_mdivi_10min_adjusted = np.array([fusion_mdivi_adjusted[0],fusion_mdivi_adjusted[2] ])\n",
    "\n",
    "# 1.3 second fission\n",
    "fission_mdivi = np.array([x[0:minimum_normal] for x in [fission_mdivi[1],fission_mdivi[3] ]])\n",
    "fusion_mdivi = np.array([x[0:minimum_normal] for x in[fusion_mdivi[1],fusion_mdivi[3] ]])\n",
    "fission_mdivi_self = np.array([x[0:minimum_normal] for x in[fission_mdivi_self[1],fission_mdivi_self[3] ]])\n",
    "fusion_mdivi_self = np.array([x[0:minimum_normal] for x in[fusion_mdivi_self[1],fusion_mdivi_self[3] ]])\n",
    "fission_mdivi_meter = np.array([x[0:minimum_normal] for x in[fission_mdivi_meter[1],fission_mdivi_meter[3] ]])\n",
    "fusion_mdivi_meter = np.array([x[0:minimum_normal] for x in[fusion_mdivi_meter[1],fusion_mdivi_meter[3] ]])\n",
    "\n",
    "fission_mdivi_adjusted = np.array([x[0:minimum_normal] for x in[fission_mdivi_adjusted[1],fission_mdivi_adjusted[3] ]])\n",
    "fusion_mdivi_adjusted =np.array([x[0:minimum_normal] for x in [fusion_mdivi_adjusted[1],fusion_mdivi_adjusted[3] ]])\n",
    "\n",
    "\n",
    "\n",
    "#all event\n",
    "fission_mdivi_all = fission_mdivi + fission_mdivi_self\n",
    "fusion_mdivi_all = fusion_mdivi + fusion_mdivi_self\n",
    "\n",
    "fission_mdivi_10min_all = fission_mdivi_10min + fission_mdivi_self_10min\n",
    "fusion_mdivi_10min_all = fusion_mdivi_10min + fusion_mdivi_self_10min\n",
    "\n",
    "minimum_tox = min(len(fission_tox[0]), len(fission_tox[1]), len(fission_tox[2]), len(fission_tox[3]))"
   ]
  },
  {
   "cell_type": "markdown",
   "metadata": {},
   "source": [
    "### Area and label number"
   ]
  },
  {
   "cell_type": "code",
   "execution_count": 10,
   "metadata": {},
   "outputs": [],
   "source": [
    "all_label = []\n",
    "all_area = []\n",
    "all_index = []\n",
    "all_raw_label = []\n",
    "label_path = \"../check_label&area/toxicity/\"\n",
    "\n",
    "files= os.listdir(label_path)\n",
    "all_name = [files[i][0:5] for i in range(len(files))]\n",
    "\n",
    "for file in files:\n",
    "    df = pd.read_csv(label_path + file)\n",
    "    index = np.expand_dims(np.arange(len(df)),axis=1)\n",
    "    \n",
    "    df_label = np.array(df[['label_num']])\n",
    "    #df_label = np.hstack((index, df_label))\n",
    "\n",
    "    df_area = np.array(df[['area']])\n",
    "    #df_area = np.hstack((index, df_area))\n",
    "\n",
    "    df_raw_label = np.array(df[['raw_label']])\n",
    "\n",
    "    all_label.append(df_label)\n",
    "    all_area.append(df_area)\n",
    "    all_index.append(index)\n",
    "    all_raw_label.append(df_raw_label)"
   ]
  },
  {
   "cell_type": "code",
   "execution_count": null,
   "metadata": {},
   "outputs": [],
   "source": []
  },
  {
   "cell_type": "markdown",
   "metadata": {},
   "source": [
    "## fission fusion ratio before and after the area threshold adjustment for toxicity data"
   ]
  },
  {
   "cell_type": "code",
   "execution_count": 429,
   "metadata": {},
   "outputs": [
    {
     "name": "stdout",
     "output_type": "stream",
     "text": [
      "759 1245 619 503\n",
      "616 914 479 441\n",
      "1.2321428571428572 1.3621444201312911 1.4036281179138321 1.1405895691609977\n"
     ]
    }
   ],
   "source": [
    "# \n",
    "print(np.sum(fission_tox_adjusted[0]),np.sum(fission_tox_adjusted[1]), np.sum(fission_tox_adjusted[2]), np.sum(fission_tox_adjusted[3]))\n",
    "print(np.sum(fusion_tox_adjusted[0]),np.sum(fusion_tox_adjusted[1]), np.sum(fusion_tox_adjusted[2]), np.sum(fusion_tox_adjusted[3]))\n",
    "\n",
    "print(np.sum(fission_tox_adjusted[0]) / np.sum(fusion_tox_adjusted[0]) ,np.sum(fission_tox_adjusted[1]) / np.sum(fusion_tox_adjusted[1]), \n",
    "      np.sum(fission_tox_adjusted[2]) / np.sum(fusion_tox_adjusted[3]), np.sum(fission_tox_adjusted[3]) / np.sum(fusion_tox_adjusted[3]))"
   ]
  },
  {
   "cell_type": "code",
   "execution_count": 430,
   "metadata": {},
   "outputs": [
    {
     "name": "stdout",
     "output_type": "stream",
     "text": [
      "880 1300 712 549\n",
      "883 1327 714 603\n",
      "0.9966024915062288 0.9796533534287868 1.1807628524046434 0.9104477611940298\n"
     ]
    }
   ],
   "source": [
    "print(np.sum(fission_tox[0]),np.sum(fission_tox[1]), np.sum(fission_tox[2]), np.sum(fission_tox[3]))\n",
    "print(np.sum(fusion_tox[0]),np.sum(fusion_tox[1]), np.sum(fusion_tox[2]), np.sum(fusion_tox[3]))\n",
    "\n",
    "print(np.sum(fission_tox[0]) / np.sum(fusion_tox[0]) ,np.sum(fission_tox[1]) / np.sum(fusion_tox[1]), \n",
    "      np.sum(fission_tox[2]) / np.sum(fusion_tox[3]), np.sum(fission_tox[3]) / np.sum(fusion_tox[3]))\n"
   ]
  },
  {
   "cell_type": "markdown",
   "metadata": {},
   "source": [
    "## fission fusion ratio before and after area threshold adjustment for MDIVI"
   ]
  },
  {
   "cell_type": "code",
   "execution_count": null,
   "metadata": {},
   "outputs": [
    {
     "name": "stdout",
     "output_type": "stream",
     "text": [
      "fission 394 367 216 217\n",
      "fusion 322 286 104 190\n",
      "control , mdivi, control 10min, mdivi 10min\n",
      "1.2236024844720497 1.2832167832167831 2.076923076923077 1.1421052631578947\n"
     ]
    }
   ],
   "source": [
    "#order: control , mdivi , control 10min, mdivi 10 min\n",
    "print(\"fission\", np.sum(fission_mdivi_adjusted[0]),np.sum(fission_mdivi_adjusted[1]), np.sum(fission_mdivi_10min_adjusted[0]), np.sum(fission_mdivi_10min_adjusted[1]))\n",
    "print(\"fusion\",np.sum(fusion_mdivi_adjusted[0]),np.sum(fusion_mdivi_adjusted[1]), np.sum(fission_mdivi_10min_adjusted[0]), np.sum(fission_mdivi_10min_adjusted[1]))\n",
    "\n",
    "print(\"control , mdivi, control 10min, mdivi 10min\")\n",
    "print(np.sum(fission_mdivi_adjusted[0]) / np.sum(fusion_mdivi_adjusted[0]) ,np.sum(fission_mdivi_adjusted[1]) / np.sum(fusion_mdivi_adjusted[1]), \n",
    "      np.sum(fission_mdivi_10min_adjusted[0]) / np.sum(fusion_mdivi_10min_adjusted[0]), np.sum(fission_mdivi_10min_adjusted[1]) / np.sum(fission_mdivi_10min_adjusted[1]))"
   ]
  },
  {
   "cell_type": "code",
   "execution_count": 34,
   "metadata": {},
   "outputs": [
    {
     "name": "stdout",
     "output_type": "stream",
     "text": [
      "fission 300 457 300 262\n",
      "fusion 286 470 286 298\n",
      "control , mdivi, control 10min, mdivi 10min\n",
      "1.048951048951049 0.9723404255319149 1.048951048951049 0.8791946308724832\n"
     ]
    }
   ],
   "source": [
    "#order: control , mdivi , control 10min, mdivi 10 min\n",
    "print(\"fission\",np.sum(fission_mdivi[0]),np.sum(fission_mdivi[1]), np.sum(fission_mdivi_10min[0]), np.sum(fission_mdivi_10min[1]))\n",
    "print(\"fusion\",np.sum(fusion_mdivi[0]),np.sum(fusion_mdivi[1]), np.sum(fusion_mdivi_10min[0]), np.sum(fusion_mdivi_10min[1]))\n",
    "\n",
    "print(\"control , mdivi, control 10min, mdivi 10min\")\n",
    "print(np.sum(fission_mdivi[0]) / np.sum(fusion_mdivi[0]) ,np.sum(fission_mdivi[1]) / np.sum(fusion_mdivi[1]), \n",
    "      np.sum(fission_mdivi_10min[0]) / np.sum(fusion_mdivi_10min[0]), np.sum(fission_mdivi_10min[1]) / np.sum(fusion_mdivi_10min[1]))"
   ]
  },
  {
   "cell_type": "markdown",
   "metadata": {},
   "source": [
    "## Regularization and data preparation"
   ]
  },
  {
   "cell_type": "code",
   "execution_count": 554,
   "metadata": {},
   "outputs": [],
   "source": [
    "#column name\n",
    "toxins = np.repeat(['control', 'FCCP', 'oligomycin', 'rotenone'], minimum_tox)\n",
    "toxins_mdivi = np.repeat(['control', 'mdivi'], minimum_normal)\n",
    "toxins_mdivi_10min = np.repeat(['control_10min', 'mdivi_10min'], minimum_10min)\n",
    "assess_method_tox = np.repeat(['algorithm' , 'mitometer'], minimum_tox*4)\n",
    "assess_mdivi = np.repeat(['algorithm' , 'mitometer'], minimum_normal*4)\n",
    "assess_mdivi_10min= np.repeat(['algorithm' , 'mitometer'], minimum_10min*4)"
   ]
  },
  {
   "cell_type": "markdown",
   "metadata": {},
   "source": [
    "### toxins"
   ]
  },
  {
   "cell_type": "code",
   "execution_count": 555,
   "metadata": {},
   "outputs": [
    {
     "name": "stderr",
     "output_type": "stream",
     "text": [
      "C:\\Users\\iceji\\AppData\\Local\\Temp\\ipykernel_15784\\2653447523.py:36: RuntimeWarning: divide by zero encountered in divide\n",
      "  ff_ratio_meter_tox = fission_tox_meter/ fusion_tox_meter\n",
      "C:\\Users\\iceji\\AppData\\Local\\Temp\\ipykernel_15784\\2653447523.py:36: RuntimeWarning: invalid value encountered in divide\n",
      "  ff_ratio_meter_tox = fission_tox_meter/ fusion_tox_meter\n"
     ]
    }
   ],
   "source": [
    "# data preparation with regularization (0 -> epsilon)\n",
    "# window == 62 137\n",
    "\n",
    "apply_regularization = False\n",
    "epsilon = 0.01\n",
    "\n",
    "fusion_tox,fusion_tox_pd = convert_to_sig_test(fusion_tox , toxins, regularization_=False, epsilon_=epsilon)\n",
    "fission_tox, fission_tox_pd = convert_to_sig_test(fission_tox, toxins, regularization_=False, epsilon_=epsilon)\n",
    "\n",
    "fusion_tox_adjusted,fusion_tox_adjusted_pd = convert_to_sig_test(fusion_tox_adjusted , toxins, regularization_=False, epsilon_=epsilon)\n",
    "fission_tox_adjusted, fission_tox_adjusted_pd = convert_to_sig_test(fission_tox_adjusted, toxins, regularization_=False, epsilon_=epsilon)\n",
    "\n",
    "fission_tox_self , fission_tox_self_pd= convert_to_sig_test(fission_tox_self,toxins, regularization_=False, epsilon_=epsilon)\n",
    "fusion_tox_self, fusion_tox_self_pd = convert_to_sig_test(fusion_tox_self, toxins,regularization_=False, epsilon_=epsilon)\n",
    "\n",
    "fusion_tox_meter , fusion_tox_meter_pd = convert_to_sig_test(fusion_tox_meter, toxins,regularization_=False, epsilon_=epsilon)\n",
    "fission_tox_meter, fission_tox_meter_pd = convert_to_sig_test(fission_tox_meter,toxins, regularization_=False, epsilon_=epsilon)\n",
    "\n",
    "fission_tox_nellie = pd.DataFrame({\"toxin\": toxins,'event': fission_tox_nellie})\n",
    "fusion_tox_nellie = pd.DataFrame({\"toxin\": toxins,'event': fusion_tox_nellie})\n",
    "\n",
    "fission_tox_all = fission_tox + fission_tox_self\n",
    "fusion_tox_all = fusion_tox + fusion_tox_self   \n",
    "fission_tox_all_pd = pd.DataFrame({\"toxin\": toxins,'event': fission_tox_all})\n",
    "fusion_tox_all_pd = pd.DataFrame({\"toxin\": toxins,'event': fusion_tox_all})\n",
    "\n",
    "fission_tox_adjusted_all = fission_tox_adjusted + fission_tox_self\n",
    "fusion_tox_adjusted_all = fusion_tox_adjusted + fusion_tox_self   \n",
    "fission_tox_adjusted_all_pd = pd.DataFrame({\"toxin\": toxins,'event': fission_tox_adjusted_all})\n",
    "fusion_tox_adjusted_all_pd = pd.DataFrame({\"toxin\": toxins,'event': fusion_tox_adjusted_all})\n",
    "\n",
    "#FF ratio\n",
    "ff_ratio = fission_tox / np.where(fusion_tox == 0, 1, fusion_tox)\n",
    "ff_ratio_all = fission_tox_all/np.where(fusion_tox_all == 0, 1, fusion_tox_all)\n",
    "ff_ratio_self = fission_tox_self/np.where(fusion_tox_self == 0, 1, fusion_tox_self)\n",
    "ff_ratio_meter_tox = fission_tox_meter/ fusion_tox_meter\n",
    "ff_ratio_adjusted = fission_tox_adjusted / np.where(fusion_tox_adjusted == 0, 1, fusion_tox_adjusted)\n",
    "\n",
    "ff_ratio_pd = pd.DataFrame({\"toxin\": toxins,'event': ff_ratio})\n",
    "ff_ratio_all_pd = pd.DataFrame({\"toxin\": toxins,'event': ff_ratio_all})\n",
    "ff_ratio_self_pd = pd.DataFrame({\"toxin\": toxins,'event': ff_ratio_self})\n",
    "ff_ratio_meter_pd = pd.DataFrame({\"toxin\": toxins,'event': ff_ratio_meter_tox})\n",
    "ff_ratio_adjusted_pd = pd.DataFrame({\"toxin\": toxins,'event': ff_ratio_adjusted})"
   ]
  },
  {
   "cell_type": "markdown",
   "metadata": {},
   "source": [
    "### MDIVI"
   ]
  },
  {
   "cell_type": "code",
   "execution_count": 556,
   "metadata": {},
   "outputs": [],
   "source": [
    "\n",
    "apply_regularization = False\n",
    "epsilon = 0.01\n",
    "\n",
    "''' 60s data'''\n",
    "fusion_mdivi , fusion_mdivi_pd= convert_to_sig_test(fusion_mdivi, col_value=toxins_mdivi,regularization_=False,epsilon_=epsilon)\n",
    "fission_mdivi, fission_mdivi_pd = convert_to_sig_test(fission_mdivi, col_value= toxins_mdivi, regularization_=False,epsilon_=epsilon)\n",
    "#new adjust data\n",
    "fusion_mdivi_adjusted , fusion_mdivi_adjusted_pd= convert_to_sig_test(fusion_mdivi_adjusted, col_value=toxins_mdivi,regularization_=False,epsilon_=epsilon)\n",
    "fission_mdivi_adjusted, fission_mdivi_adjusted_pd = convert_to_sig_test(fission_mdivi_adjusted, col_value= toxins_mdivi, regularization_=False,epsilon_=epsilon)\n",
    "\n",
    "fusion_mdivi_self , fusion_mdivi_self_pd= convert_to_sig_test(fusion_mdivi_self, col_value=toxins_mdivi,regularization_=False,epsilon_=epsilon)\n",
    "fission_mdivi_self, fission_mdivi_self_pd = convert_to_sig_test(fission_mdivi_self, col_value=toxins_mdivi,regularization_=False,epsilon_=epsilon)\n",
    "\n",
    "fusion_mdivi_meter, fusion_mdivi_meter_pd = convert_to_sig_test(fusion_mdivi_meter,col_value=toxins_mdivi, regularization_=False,epsilon_=epsilon)\n",
    "fission_mdivi_meter,fission_mdivi_meter_pd  = convert_to_sig_test(fission_mdivi_meter, col_value=toxins_mdivi, regularization_=False,epsilon_=epsilon)\n",
    "\n",
    "'''10 min data'''\n",
    "fission_mdivi_10min , fission_mdivi_10min_pd= convert_to_sig_test(fission_mdivi_10min, col_value= toxins_mdivi_10min,regularization_=False,epsilon_=epsilon)\n",
    "fusion_mdivi_10min , fusion_mdivi_10min_pd= convert_to_sig_test(fusion_mdivi_10min,col_value= toxins_mdivi_10min, regularization_=False,epsilon_=epsilon)\n",
    "\n",
    "fission_mdivi_10min_adjusted , fission_mdivi_10min_adjusted_pd= convert_to_sig_test(fission_mdivi_10min_adjusted, col_value= toxins_mdivi_10min,regularization_=False,epsilon_=epsilon)\n",
    "fusion_mdivi_10min_adjusted , fusion_mdivi_10min_adjusted_pd= convert_to_sig_test(fusion_mdivi_10min_adjusted,col_value= toxins_mdivi_10min, regularization_=False,epsilon_=epsilon)\n",
    "\n",
    "fission_mdivi_self_10min , fission_mdivi_self_10min_pd= convert_to_sig_test(fission_mdivi_self_10min,col_value=toxins_mdivi_10min, regularization_=False,epsilon_=epsilon)\n",
    "fusion_mdivi_self_10min, fusion_mdivi_self_10min_pd = convert_to_sig_test(fusion_mdivi_self_10min,col_value=toxins_mdivi_10min, regularization_=False,epsilon_=epsilon)\n",
    "\n",
    "fission_mdivi_10min_meter ,fission_mdivi_meter_10min_pd = convert_to_sig_test(fission_mdivi_10min_meter, col_value=toxins_mdivi_10min,regularization_=False,epsilon_=epsilon)\n",
    "fusion_mdivi_10min_meter, fusion_mdivi_meter_10min_pd = convert_to_sig_test(fusion_mdivi_10min_meter,col_value=toxins_mdivi_10min, regularization_=False,epsilon_=epsilon)\n"
   ]
  },
  {
   "cell_type": "code",
   "execution_count": 557,
   "metadata": {},
   "outputs": [
    {
     "name": "stdout",
     "output_type": "stream",
     "text": [
      "(278,)\n",
      "(278,)\n",
      "(122,)\n",
      "(122,)\n"
     ]
    }
   ],
   "source": [
    "print(fission_mdivi.shape)\n",
    "print(fission_mdivi_self.shape)\n",
    "\n",
    "print(toxins_mdivi_10min.shape)\n",
    "print(fission_mdivi_nellie_10min.shape)"
   ]
  },
  {
   "cell_type": "code",
   "execution_count": 558,
   "metadata": {},
   "outputs": [
    {
     "name": "stderr",
     "output_type": "stream",
     "text": [
      "C:\\Users\\iceji\\AppData\\Local\\Temp\\ipykernel_15784\\1807279383.py:21: RuntimeWarning: divide by zero encountered in divide\n",
      "  ff_ratio_mito_mdivi = fission_mdivi_meter / fusion_mdivi_meter\n",
      "C:\\Users\\iceji\\AppData\\Local\\Temp\\ipykernel_15784\\1807279383.py:21: RuntimeWarning: invalid value encountered in divide\n",
      "  ff_ratio_mito_mdivi = fission_mdivi_meter / fusion_mdivi_meter\n",
      "C:\\Users\\iceji\\AppData\\Local\\Temp\\ipykernel_15784\\1807279383.py:27: RuntimeWarning: divide by zero encountered in divide\n",
      "  ff_ratio_mito_mdivi_10min = fission_mdivi_10min_meter / fusion_mdivi_10min_meter\n",
      "C:\\Users\\iceji\\AppData\\Local\\Temp\\ipykernel_15784\\1807279383.py:27: RuntimeWarning: invalid value encountered in divide\n",
      "  ff_ratio_mito_mdivi_10min = fission_mdivi_10min_meter / fusion_mdivi_10min_meter\n"
     ]
    }
   ],
   "source": [
    "fission_mdivi_all_10min = fission_mdivi_10min + fission_mdivi_self_10min\n",
    "fusion_mdivi_all_10min = fusion_mdivi_10min + fusion_mdivi_self_10min\n",
    "fission_mdivi_all = fission_mdivi + fission_mdivi_self\n",
    "fusion_mdivi_all = fusion_mdivi + fusion_mdivi_self\n",
    "\n",
    "fission_mdivi_all_pd = pd.DataFrame({\"toxin\": toxins_mdivi,'event': fission_mdivi_all})\n",
    "fusion_mdivi_all_pd = pd.DataFrame({\"toxin\": toxins_mdivi,'event': fusion_mdivi_all})\n",
    "fission_mdivi_all_10min_pd = pd.DataFrame({\"toxin\": toxins_mdivi_10min,'event': fission_mdivi_all_10min})\n",
    "fusion_mdivi_all_10min_pd = pd.DataFrame({\"toxin\": toxins_mdivi_10min,'event': fusion_mdivi_all_10min})\n",
    "\n",
    "fission_mdivi_nellie = pd.DataFrame({\"toxin\": toxins_mdivi,'event': fission_mdivi_nellie})\n",
    "fusion_mdivi_nellie = pd.DataFrame({\"toxin\": toxins_mdivi,'event': fusion_mdivi_nellie})\n",
    "fission_mdivi_nellie_10min = pd.DataFrame({\"toxin\": toxins_mdivi_10min,'event': fission_mdivi_nellie_10min})\n",
    "fusion_mdivi_nellie_10min = pd.DataFrame({\"toxin\": toxins_mdivi_10min,'event': fusion_mdivi_nellie_10min})\n",
    "\n",
    "#for ff ratio\n",
    "ff_ratio_mdivi = fission_mdivi / np.where(fusion_mdivi == 0, 1, fusion_mdivi)\n",
    "ff_ratio_mdivi_adjusted = fission_mdivi_adjusted / np.where(fusion_mdivi_adjusted == 0, 1, fusion_mdivi_adjusted)\n",
    "ff_ratio_all_mdivi = fission_mdivi_all/np.where(fusion_mdivi_all == 0, 1, fusion_mdivi_all)\n",
    "ff_ratio_self_mdivi = fission_mdivi_self/np.where(fusion_mdivi_self == 0, 1, fusion_mdivi_self)\n",
    "ff_ratio_mito_mdivi = fission_mdivi_meter / fusion_mdivi_meter \n",
    "\n",
    "ff_ratio_mdivi_10min = fission_mdivi_10min / np.where(fusion_mdivi_10min == 0, 1, fusion_mdivi_10min) \n",
    "ff_ratio_mdivi_adjusted_10min = fission_mdivi_10min_adjusted /np.where(fusion_mdivi_10min_adjusted == 0, 1, fusion_mdivi_10min_adjusted)  \n",
    "ff_ratio_all_mdivi_10min = fission_mdivi_all_10min/np.where(fusion_mdivi_all_10min == 0, 1, fusion_mdivi_all_10min) \n",
    "ff_ratio_self_mdivi_10min = fission_mdivi_self_10min/np.where(fusion_mdivi_self_10min == 0, 1, fusion_mdivi_self_10min) \n",
    "ff_ratio_mito_mdivi_10min = fission_mdivi_10min_meter / fusion_mdivi_10min_meter\n",
    "\n",
    "ff_ratio_mdivi = pd.DataFrame({\"toxin\": toxins_mdivi,'event': ff_ratio_mdivi})\n",
    "ff_ratio_mdivi_adjusted = pd.DataFrame({\"toxin\": toxins_mdivi,'event': ff_ratio_mdivi_adjusted})\n",
    "ff_ratio_all_mdivi = pd.DataFrame({\"toxin\": toxins_mdivi,'event': ff_ratio_all_mdivi})\n",
    "ff_ratio_self_mdivi = pd.DataFrame({\"toxin\": toxins_mdivi,'event': ff_ratio_self_mdivi})\n",
    "ff_ratio_mito_mdivi = pd.DataFrame({\"toxin\": toxins_mdivi,'event': ff_ratio_mito_mdivi})\n",
    "\n",
    "ff_ratio_mdivi_10min = pd.DataFrame({\"toxin\": toxins_mdivi_10min,'event': ff_ratio_mdivi_10min})\n",
    "ff_ratio_mdivi_adjusted_10min = pd.DataFrame({\"toxin\": toxins_mdivi_10min,'event': ff_ratio_mdivi_adjusted_10min})\n",
    "ff_ratio_all_mdivi_10min = pd.DataFrame({\"toxin\": toxins_mdivi_10min,'event': ff_ratio_all_mdivi_10min})\n",
    "ff_ratio_self_mdivi_10min = pd.DataFrame({\"toxin\": toxins_mdivi_10min,'event': ff_ratio_self_mdivi_10min})\n",
    "ff_ratio_mito_mdivi_10min = pd.DataFrame({\"toxin\": toxins_mdivi_10min,'event': ff_ratio_mito_mdivi_10min})"
   ]
  },
  {
   "cell_type": "markdown",
   "metadata": {},
   "source": [
    "## Statistical Analysis\n",
    "Assumption before using ANOVA = \n",
    "1. Normality: each group should be normally distributed\n",
    "2. Homogeneity of variance: the variance of the residuals should be approximately equal for all groups\n",
    "3. Independent observations: the observations in each group must be independent of each other"
   ]
  },
  {
   "cell_type": "markdown",
   "metadata": {},
   "source": [
    "### Statistical analysis of toxins with my algorithm\n"
   ]
  },
  {
   "cell_type": "markdown",
   "metadata": {},
   "source": [
    "#### 1. check assumption"
   ]
  },
  {
   "cell_type": "code",
   "execution_count": 473,
   "metadata": {},
   "outputs": [
    {
     "name": "stdout",
     "output_type": "stream",
     "text": [
      "                   W          pval  normal\n",
      "toxin                                     \n",
      "control     0.968105  2.685394e-03   False\n",
      "FCCP        0.917609  4.214017e-07   False\n",
      "oligomycin  0.811430  5.477192e-12   False\n",
      "rotenone    0.926134  1.443198e-06   False\n",
      "               W          pval  equal_var\n",
      "levene  16.05322  5.172778e-10      False\n"
     ]
    }
   ],
   "source": [
    "# fission\n",
    "normality = pg.normality(data = fission_tox_pd, dv = 'event', group = 'toxin')\n",
    "homogeneity = pg.homoscedasticity(data = fission_tox_pd, dv = 'event', group = 'toxin')\n",
    "print(normality)\n",
    "print(homogeneity)"
   ]
  },
  {
   "cell_type": "code",
   "execution_count": 474,
   "metadata": {},
   "outputs": [
    {
     "name": "stdout",
     "output_type": "stream",
     "text": [
      "                   W          pval  normal\n",
      "toxin                                     \n",
      "control     0.976081  1.639644e-02   False\n",
      "FCCP        0.814869  7.298806e-12   False\n",
      "oligomycin  0.797365  1.754231e-12   False\n",
      "rotenone    0.955406  1.999841e-04   False\n",
      "                W          pval  equal_var\n",
      "levene  17.404154  8.383049e-11      False\n"
     ]
    }
   ],
   "source": [
    "#fusion\n",
    "normality = pg.normality(data = fusion_tox_pd, dv = 'event', group = 'toxin')\n",
    "homogeneity = pg.homoscedasticity(data = fusion_tox_pd, dv = 'event', group = 'toxin')\n",
    "print(normality)\n",
    "print(homogeneity)"
   ]
  },
  {
   "cell_type": "code",
   "execution_count": 475,
   "metadata": {},
   "outputs": [
    {
     "name": "stdout",
     "output_type": "stream",
     "text": [
      "                   W          pval  normal\n",
      "toxin                                     \n",
      "control          NaN  1.000000e+00    True\n",
      "FCCP        0.834626  4.567181e-11   False\n",
      "oligomycin       NaN  1.000000e+00    True\n",
      "rotenone         NaN  1.000000e+00    True\n",
      "         W  pval  equal_var\n",
      "levene NaN   NaN      False\n"
     ]
    }
   ],
   "source": [
    "# self ff ratio\n",
    "normality = pg.normality(data = ff_ratio_pd, dv = 'event', group = 'toxin')\n",
    "homogeneity = pg.homoscedasticity(data = ff_ratio_pd, dv = 'event', group = 'toxin')\n",
    "print(normality)\n",
    "print(homogeneity)"
   ]
  },
  {
   "cell_type": "code",
   "execution_count": 476,
   "metadata": {},
   "outputs": [
    {
     "name": "stdout",
     "output_type": "stream",
     "text": [
      "                   W          pval  normal\n",
      "toxin                                     \n",
      "control     0.418419  5.069909e-21   False\n",
      "FCCP        0.337935  3.074460e-22   False\n",
      "oligomycin  0.406667  3.307738e-21   False\n",
      "rotenone    0.586101  5.303815e-18   False\n",
      "                W          pval  equal_var\n",
      "levene  17.404154  8.383049e-11      False\n"
     ]
    }
   ],
   "source": [
    "#mitometer\n",
    "normality = pg.normality(data = fusion_tox_meter_pd, dv = 'event', group = 'toxin')\n",
    "homogeneity = pg.homoscedasticity(data = fusion_tox_pd, dv = 'event', group = 'toxin')\n",
    "print(normality)\n",
    "print(homogeneity)"
   ]
  },
  {
   "cell_type": "code",
   "execution_count": null,
   "metadata": {},
   "outputs": [
    {
     "name": "stdout",
     "output_type": "stream",
     "text": [
      "                   W          pval  normal\n",
      "toxin                                     \n",
      "control     0.721830  8.564392e-15   False\n",
      "FCCP        0.632281  5.195695e-17   False\n",
      "oligomycin  0.734259  1.903872e-14   False\n",
      "rotenone    0.636430  6.443203e-17   False\n",
      "               W      pval  equal_var\n",
      "levene  1.450961  0.227057       True\n"
     ]
    }
   ],
   "source": [
    "#from author\n",
    "normality = pg.normality(data = fusion_tox_nellie, dv = 'event', group = 'toxin')\n",
    "homogeneity = pg.homoscedasticity(data = fusion_tox_nellie, dv = 'event', group = 'toxin')\n",
    "print(normality)\n",
    "print(homogeneity)"
   ]
  },
  {
   "cell_type": "markdown",
   "metadata": {},
   "source": [
    "#### 2. Since the data are neither normal or having a equal variance, we will use kruskal\n",
    "\n",
    "Significance when P < 0.05"
   ]
  },
  {
   "cell_type": "code",
   "execution_count": 478,
   "metadata": {},
   "outputs": [
    {
     "name": "stdout",
     "output_type": "stream",
     "text": [
      "        Source  ddof1           H         p-unc\n",
      "Kruskal  toxin      3  141.446254  1.843361e-30\n",
      "        Source  ddof1           H         p-unc\n",
      "Kruskal  toxin      3  309.264552  9.830112e-67\n",
      "        Source  ddof1           H         p-unc\n",
      "Kruskal  toxin      3  118.797858  1.400645e-25\n",
      "        Source  ddof1           H         p-unc\n",
      "Kruskal  toxin      3  299.814119  1.091437e-64\n",
      "        Source  ddof1           H         p-unc\n",
      "Kruskal  toxin      3  293.827554  2.155829e-63\n",
      "        Source  ddof1           H         p-unc\n",
      "Kruskal  toxin      3  280.861015  1.378889e-60\n",
      " \n",
      " adjusted val\n",
      "        Source  ddof1           H         p-unc\n",
      "Kruskal  toxin      3  149.885528  2.789074e-32\n",
      "        Source  ddof1          H         p-unc\n",
      "Kruskal  toxin      3  69.520212  5.407429e-15\n",
      " \n",
      " mitometer\n",
      "        Source  ddof1          H         p-unc\n",
      "Kruskal  toxin      3  56.227515  3.756577e-12\n",
      "        Source  ddof1         H     p-unc\n",
      "Kruskal  toxin      3  19.84347  0.000183\n",
      " \n",
      " fission_fusion from author\n",
      "        Source  ddof1         H     p-unc\n",
      "Kruskal  toxin      3  0.333146  0.953679\n",
      "        Source  ddof1         H     p-unc\n",
      "Kruskal  toxin      3  1.575536  0.664949\n"
     ]
    }
   ],
   "source": [
    "#before area threshold \n",
    "# Chi square test score with DOF 3 and confidence 0.005 = 12.838\n",
    "print(pg.kruskal(dv = 'event', between =  'toxin', data = fission_tox_pd))\n",
    "print(pg.kruskal(dv = 'event', between =  'toxin', data = fission_tox_all_pd))\n",
    "print(pg.kruskal(dv = 'event', between =  'toxin', data = fusion_tox_pd))\n",
    "print(pg.kruskal(dv = 'event', between =  'toxin', data = fusion_tox_all_pd))\n",
    "print(pg.kruskal(dv = 'event', between =  'toxin', data = fission_tox_self_pd))\n",
    "print(pg.kruskal(dv = 'event', between =  'toxin', data = fusion_tox_self_pd))\n",
    "print(\" \")\n",
    "print(\" adjusted val\")\n",
    "print(pg.kruskal(dv = 'event', between =  'toxin', data = fission_tox_adjusted_pd))\n",
    "print(pg.kruskal(dv = 'event', between =  'toxin', data = fusion_tox_adjusted_pd))\n",
    "\n",
    "print(\" \")\n",
    "print(\" mitometer\")\n",
    "print(pg.kruskal(dv = 'event', between =  'toxin', data = fission_tox_meter_pd))\n",
    "print(pg.kruskal(dv = 'event', between =  'toxin', data = fusion_tox_meter_pd))\n",
    "\n",
    "print(\" \")\n",
    "print(\" fission_fusion from author\") # no significance diff from each group\n",
    "print(pg.kruskal(dv = 'event', between =  'toxin', data = fission_tox_nellie))\n",
    "print(pg.kruskal(dv = 'event', between =  'toxin', data = fusion_tox_nellie))\n",
    "# all P is less than 0.05  = all significant for four group of data (rank signed test are all diff)\n",
    "# reject null hypothesis, => means are different for each class (control, FCCP, oligomycin, rotenone)"
   ]
  },
  {
   "cell_type": "markdown",
   "metadata": {},
   "source": [
    "#### 3. Pairwise test for \n",
    "\n",
    "    3.1 fission & fusion before and after adjustment\n",
    "    3.2 fission & fusion all before and after adjustment\n",
    "    3.3 fission & fusion from mitometer  \n",
    "    3.4 fission & fusion from Author script? "
   ]
  },
  {
   "cell_type": "markdown",
   "metadata": {},
   "source": [
    "##### fission & fusion, adjusted fission & fusion, "
   ]
  },
  {
   "cell_type": "code",
   "execution_count": 480,
   "metadata": {},
   "outputs": [
    {
     "name": "stdout",
     "output_type": "stream",
     "text": [
      "fission\n",
      "  Contrast           A           B  Paired  Parametric    U-val alternative  \\\n",
      "0    toxin        FCCP     control   False       False  12972.5   two-sided   \n",
      "1    toxin        FCCP  oligomycin   False       False  14902.5   two-sided   \n",
      "2    toxin        FCCP    rotenone   False       False  16044.5   two-sided   \n",
      "3    toxin     control  oligomycin   False       False  11919.0   two-sided   \n",
      "4    toxin     control    rotenone   False       False  13918.5   two-sided   \n",
      "5    toxin  oligomycin    rotenone   False       False  12018.5   two-sided   \n",
      "\n",
      "          p-unc    hedges  \n",
      "0  4.005135e-08  0.719592  \n",
      "1  2.913402e-17  1.010290  \n",
      "2  2.173094e-24  1.342023  \n",
      "3  9.910068e-05  0.410057  \n",
      "4  3.532692e-12  0.877543  \n",
      "5  5.096362e-05  0.435099  \n"
     ]
    }
   ],
   "source": [
    "print(\"fission\") # shows all of then are significantly different \n",
    "#check the influence and correlation with Rank Biserial Correlation\n",
    "print(pg.pairwise_tests(dv = 'event', between =  'toxin', data = fission_tox_pd, parametric=False))"
   ]
  },
  {
   "cell_type": "code",
   "execution_count": 481,
   "metadata": {},
   "outputs": [
    {
     "name": "stdout",
     "output_type": "stream",
     "text": [
      "adjusted fission\n",
      "  Contrast           A           B  Paired  Parametric    U-val alternative  \\\n",
      "0    toxin        FCCP     control   False       False  13847.0   two-sided   \n",
      "1    toxin        FCCP  oligomycin   False       False  15440.0   two-sided   \n",
      "2    toxin        FCCP    rotenone   False       False  16133.0   two-sided   \n",
      "3    toxin     control  oligomycin   False       False  11968.0   two-sided   \n",
      "4    toxin     control    rotenone   False       False  13338.5   two-sided   \n",
      "5    toxin  oligomycin    rotenone   False       False  11522.0   two-sided   \n",
      "\n",
      "          p-unc    hedges  \n",
      "0  8.278303e-12  0.883908  \n",
      "1  1.737931e-20  1.143507  \n",
      "2  5.256822e-25  1.372996  \n",
      "3  7.127939e-05  0.390731  \n",
      "4  1.295858e-09  0.736712  \n",
      "5  9.884513e-04  0.337511  \n"
     ]
    }
   ],
   "source": [
    "print(\"adjusted fission\") # shows all of then are significantly different \n",
    "#check the influence and correlation with Rank Biserial Correlation\n",
    "print(pg.pairwise_tests(dv = 'event', between =  'toxin', data = fission_tox_adjusted_pd, parametric=False))"
   ]
  },
  {
   "cell_type": "code",
   "execution_count": 482,
   "metadata": {},
   "outputs": [
    {
     "name": "stdout",
     "output_type": "stream",
     "text": [
      "fusion\n",
      "  Contrast           A           B  Paired  Parametric    U-val alternative  \\\n",
      "0    toxin        FCCP     control   False       False  12709.5   two-sided   \n",
      "1    toxin        FCCP  oligomycin   False       False  14731.5   two-sided   \n",
      "2    toxin        FCCP    rotenone   False       False  15588.5   two-sided   \n",
      "3    toxin     control  oligomycin   False       False  12048.0   two-sided   \n",
      "4    toxin     control    rotenone   False       False  13153.5   two-sided   \n",
      "5    toxin  oligomycin    rotenone   False       False  10785.0   two-sided   \n",
      "\n",
      "          p-unc    hedges  \n",
      "0  3.595313e-07  0.680055  \n",
      "1  2.625353e-16  0.927720  \n",
      "2  2.176230e-21  1.152408  \n",
      "3  4.379838e-05  0.388110  \n",
      "4  7.499338e-09  0.728548  \n",
      "5  3.135341e-02  0.279210  \n"
     ]
    }
   ],
   "source": [
    "print(\"fusion\") # shows all of then are significantly different \n",
    "#check the influence and correlation with Rank Biserial Correlation\n",
    "print(pg.pairwise_tests(dv = 'event', between =  'toxin', data = fusion_tox_pd, parametric=False))"
   ]
  },
  {
   "cell_type": "code",
   "execution_count": 483,
   "metadata": {},
   "outputs": [
    {
     "name": "stdout",
     "output_type": "stream",
     "text": [
      "adjusted fusion\n",
      "  Contrast           A           B  Paired  Parametric    U-val alternative  \\\n",
      "0    toxin        FCCP     control   False       False  11703.0   two-sided   \n",
      "1    toxin        FCCP  oligomycin   False       False  13579.5   two-sided   \n",
      "2    toxin        FCCP    rotenone   False       False  13968.0   two-sided   \n",
      "3    toxin     control  oligomycin   False       False  11853.5   two-sided   \n",
      "4    toxin     control    rotenone   False       False  12310.5   two-sided   \n",
      "5    toxin  oligomycin    rotenone   False       False  10052.5   two-sided   \n",
      "\n",
      "          p-unc    hedges  \n",
      "0  3.799473e-04  0.524266  \n",
      "1  1.232068e-10  0.771274  \n",
      "2  2.088923e-12  0.844828  \n",
      "3  1.457693e-04  0.404589  \n",
      "4  6.887215e-06  0.527587  \n",
      "5  3.033447e-01  0.117255  \n"
     ]
    }
   ],
   "source": [
    "print(\"adjusted fusion\") # shows all of then are significantly different \n",
    "#check the influence and correlation with Rank Biserial Correlation\n",
    "print(pg.pairwise_tests(dv = 'event', between =  'toxin', data = fusion_tox_adjusted_pd, parametric=False))"
   ]
  },
  {
   "cell_type": "markdown",
   "metadata": {},
   "source": [
    "##### Fission all & fusion all (with self fission / fusion)"
   ]
  },
  {
   "cell_type": "code",
   "execution_count": 484,
   "metadata": {},
   "outputs": [
    {
     "name": "stdout",
     "output_type": "stream",
     "text": [
      "fission all\n",
      "  Contrast           A           B  Paired  Parametric    U-val alternative  \\\n",
      "0    toxin        FCCP     control   False       False  17638.0   two-sided   \n",
      "1    toxin        FCCP  oligomycin   False       False  18018.0   two-sided   \n",
      "2    toxin        FCCP    rotenone   False       False  18283.5   two-sided   \n",
      "3    toxin     control  oligomycin   False       False  12030.0   two-sided   \n",
      "4    toxin     control    rotenone   False       False  14999.5   two-sided   \n",
      "5    toxin  oligomycin    rotenone   False       False  13347.0   two-sided   \n",
      "\n",
      "          p-unc    hedges  \n",
      "0  2.347827e-36  1.975137  \n",
      "1  1.264395e-39  2.313399  \n",
      "2  5.355037e-42  2.731295  \n",
      "3  5.256215e-05  0.463075  \n",
      "4  9.485018e-18  1.134044  \n",
      "5  1.347043e-09  0.719766  \n"
     ]
    }
   ],
   "source": [
    "print(\"fission all\") # shows all of then are significantly different \n",
    "#check the influence and correlation with Rank Biserial Correlation\n",
    "print(pg.pairwise_tests(dv = 'event', between =  'toxin', data = fission_tox_all_pd, parametric=False))"
   ]
  },
  {
   "cell_type": "code",
   "execution_count": 485,
   "metadata": {},
   "outputs": [
    {
     "name": "stdout",
     "output_type": "stream",
     "text": [
      "fission adjusted all\n",
      "  Contrast           A           B  Paired  Parametric    U-val alternative  \\\n",
      "0    toxin        FCCP     control   False       False  17839.5   two-sided   \n",
      "1    toxin        FCCP  oligomycin   False       False  18108.0   two-sided   \n",
      "2    toxin        FCCP    rotenone   False       False  18277.5   two-sided   \n",
      "3    toxin     control  oligomycin   False       False  11982.5   two-sided   \n",
      "4    toxin     control    rotenone   False       False  14805.0   two-sided   \n",
      "5    toxin  oligomycin    rotenone   False       False  13056.5   two-sided   \n",
      "\n",
      "          p-unc    hedges  \n",
      "0  4.535529e-38  2.094018  \n",
      "1  2.001761e-40  2.404891  \n",
      "2  6.011068e-42  2.762994  \n",
      "3  7.118206e-05  0.450082  \n",
      "4  1.178115e-16  1.067153  \n",
      "5  1.931177e-08  0.666577  \n"
     ]
    }
   ],
   "source": [
    "print(\"fission adjusted all\") # shows all of then are significantly different \n",
    "#check the influence and correlation with Rank Biserial Correlation\n",
    "print(pg.pairwise_tests(dv = 'event', between =  'toxin', data = fission_tox_adjusted_all_pd, parametric=False))"
   ]
  },
  {
   "cell_type": "code",
   "execution_count": 486,
   "metadata": {},
   "outputs": [
    {
     "name": "stdout",
     "output_type": "stream",
     "text": [
      "fusion all\n",
      "  Contrast           A           B  Paired  Parametric    U-val alternative  \\\n",
      "0    toxin        FCCP     control   False       False  17770.0   two-sided   \n",
      "1    toxin        FCCP  oligomycin   False       False  18054.0   two-sided   \n",
      "2    toxin        FCCP    rotenone   False       False  18278.5   two-sided   \n",
      "3    toxin     control  oligomycin   False       False  11648.5   two-sided   \n",
      "4    toxin     control    rotenone   False       False  14308.5   two-sided   \n",
      "5    toxin  oligomycin    rotenone   False       False  12736.0   two-sided   \n",
      "\n",
      "          p-unc    hedges  \n",
      "0  1.719140e-37  1.994281  \n",
      "1  5.864976e-40  2.247352  \n",
      "2  5.921704e-42  2.554216  \n",
      "3  5.305908e-04  0.395257  \n",
      "4  5.201186e-14  0.924753  \n",
      "5  2.966336e-07  0.552846  \n"
     ]
    }
   ],
   "source": [
    "print(\"fusion all\") # shows all of then are significantly different \n",
    "#check the influence and correlation with Rank Biserial Correlation\n",
    "print(pg.pairwise_tests(dv = 'event', between =  'toxin', data = fusion_tox_all_pd, parametric=False))"
   ]
  },
  {
   "cell_type": "code",
   "execution_count": 487,
   "metadata": {},
   "outputs": [
    {
     "name": "stdout",
     "output_type": "stream",
     "text": [
      "fusion adjusted all\n",
      "  Contrast           A           B  Paired  Parametric    U-val alternative  \\\n",
      "0    toxin        FCCP     control   False       False  17638.0   two-sided   \n",
      "1    toxin        FCCP  oligomycin   False       False  17970.5   two-sided   \n",
      "2    toxin        FCCP    rotenone   False       False  18076.0   two-sided   \n",
      "3    toxin     control  oligomycin   False       False  11528.0   two-sided   \n",
      "4    toxin     control    rotenone   False       False  13919.5   two-sided   \n",
      "5    toxin  oligomycin    rotenone   False       False  12387.5   two-sided   \n",
      "\n",
      "          p-unc    hedges  \n",
      "0  2.222980e-36  1.937536  \n",
      "1  3.079332e-39  2.176325  \n",
      "2  3.792825e-40  2.381554  \n",
      "3  1.028182e-03  0.389669  \n",
      "4  4.042380e-12  0.810678  \n",
      "5  4.332942e-06  0.469190  \n"
     ]
    }
   ],
   "source": [
    "print(\"fusion adjusted all\") # shows all of then are significantly different \n",
    "#check the influence and correlation with Rank Biserial Correlation\n",
    "print(pg.pairwise_tests(dv = 'event', between =  'toxin', data = fusion_tox_adjusted_all_pd, parametric=False))"
   ]
  },
  {
   "cell_type": "markdown",
   "metadata": {},
   "source": [
    "##### Fission fusion from mitometer"
   ]
  },
  {
   "cell_type": "code",
   "execution_count": 491,
   "metadata": {},
   "outputs": [
    {
     "name": "stdout",
     "output_type": "stream",
     "text": [
      "fission mitometer\n",
      "  Contrast           A           B  Paired  Parametric    U-val alternative  \\\n",
      "0    toxin        FCCP     control   False       False  13272.5   two-sided   \n",
      "1    toxin        FCCP  oligomycin   False       False  12536.0   two-sided   \n",
      "2    toxin        FCCP    rotenone   False       False  10952.5   two-sided   \n",
      "3    toxin     control  oligomycin   False       False   8606.0   two-sided   \n",
      "4    toxin     control    rotenone   False       False   6989.0   two-sided   \n",
      "5    toxin  oligomycin    rotenone   False       False   7755.0   two-sided   \n",
      "\n",
      "          p-unc    hedges  \n",
      "0  1.545791e-11  0.827871  \n",
      "1  8.304499e-08  0.642336  \n",
      "2  9.553068e-03  0.344610  \n",
      "3  1.205285e-01 -0.207947  \n",
      "4  1.190099e-05 -0.549661  \n",
      "5  3.848848e-03 -0.335201  \n"
     ]
    }
   ],
   "source": [
    "print(\"fission mitometer\") # shows all of then are significantly different \n",
    "#check the influence and correlation with Rank Biserial Correlation\n",
    "print(pg.pairwise_tests(dv = 'event', between =  'toxin', data = fission_tox_meter_pd, parametric=False))"
   ]
  },
  {
   "cell_type": "code",
   "execution_count": 489,
   "metadata": {},
   "outputs": [
    {
     "name": "stdout",
     "output_type": "stream",
     "text": [
      "fusion mitometer\n",
      "  Contrast           A           B  Paired  Parametric   U-val alternative  \\\n",
      "0    toxin        FCCP     control   False       False  8957.0   two-sided   \n",
      "1    toxin        FCCP  oligomycin   False       False  9031.5   two-sided   \n",
      "2    toxin        FCCP    rotenone   False       False  7665.5   two-sided   \n",
      "3    toxin     control  oligomycin   False       False  9460.5   two-sided   \n",
      "4    toxin     control    rotenone   False       False  8082.5   two-sided   \n",
      "5    toxin  oligomycin    rotenone   False       False  8005.0   two-sided   \n",
      "\n",
      "      p-unc    hedges  \n",
      "0  0.242317 -0.167300  \n",
      "1  0.327657 -0.135699  \n",
      "2  0.000096 -0.515472  \n",
      "3  0.846050  0.033647  \n",
      "4  0.004733 -0.380774  \n",
      "5  0.002577 -0.410264  \n"
     ]
    }
   ],
   "source": [
    "print(\"fusion mitometer\") # shows all of then are significantly different \n",
    "#check the influence and correlation with Rank Biserial Correlation\n",
    "print(pg.pairwise_tests(dv = 'event', between =  'toxin', data = fusion_tox_meter_pd, parametric=False))"
   ]
  },
  {
   "cell_type": "markdown",
   "metadata": {},
   "source": [
    "##### fission fusion from nellie"
   ]
  },
  {
   "cell_type": "code",
   "execution_count": 559,
   "metadata": {},
   "outputs": [
    {
     "name": "stdout",
     "output_type": "stream",
     "text": [
      "fission nellie\n",
      "  Contrast           A           B  Paired  Parametric   U-val alternative  \\\n",
      "0    toxin        FCCP     control   False       False  9737.5   two-sided   \n",
      "1    toxin        FCCP  oligomycin   False       False  9591.0   two-sided   \n",
      "2    toxin        FCCP    rotenone   False       False  9534.0   two-sided   \n",
      "3    toxin     control  oligomycin   False       False  9295.0   two-sided   \n",
      "4    toxin     control    rotenone   False       False  9193.0   two-sided   \n",
      "5    toxin  oligomycin    rotenone   False       False  9257.0   two-sided   \n",
      "\n",
      "      p-unc    hedges  \n",
      "0  0.562350  0.241834  \n",
      "1  0.733129  0.117618  \n",
      "2  0.808087  0.216145  \n",
      "3  0.883703 -0.130909  \n",
      "4  0.756942 -0.026099  \n",
      "5  0.835985  0.104001  \n"
     ]
    }
   ],
   "source": [
    "print(\"fission nellie\") # shows all of then are significantly different \n",
    "#check the influence and correlation with Rank Biserial Correlation\n",
    "print(pg.pairwise_tests(dv = 'event', between =  'toxin', data = fission_tox_nellie, parametric=False))"
   ]
  },
  {
   "cell_type": "code",
   "execution_count": 493,
   "metadata": {},
   "outputs": [
    {
     "name": "stdout",
     "output_type": "stream",
     "text": [
      "fusion nellie\n",
      "  Contrast           A           B  Paired  Parametric    U-val alternative  \\\n",
      "0    toxin        FCCP     control   False       False   9686.5   two-sided   \n",
      "1    toxin        FCCP  oligomycin   False       False   9375.0   two-sided   \n",
      "2    toxin        FCCP    rotenone   False       False   9993.5   two-sided   \n",
      "3    toxin     control  oligomycin   False       False   9046.0   two-sided   \n",
      "4    toxin     control    rotenone   False       False   9738.0   two-sided   \n",
      "5    toxin  oligomycin    rotenone   False       False  10061.5   two-sided   \n",
      "\n",
      "      p-unc    hedges  \n",
      "0  0.620818  0.210180  \n",
      "1  0.988238  0.103245  \n",
      "2  0.312035  0.182241  \n",
      "3  0.580427 -0.127642  \n",
      "4  0.558297 -0.021260  \n",
      "5  0.262824  0.097177  \n"
     ]
    }
   ],
   "source": [
    "print(\"fusion nellie\") # shows all of then are significantly different \n",
    "#check the influence and correlation with Rank Biserial Correlation\n",
    "print(pg.pairwise_tests(dv = 'event', between =  'toxin', data = fusion_tox_nellie, parametric=False))"
   ]
  },
  {
   "cell_type": "markdown",
   "metadata": {},
   "source": [
    "##### fission / fusion ratio"
   ]
  },
  {
   "cell_type": "code",
   "execution_count": null,
   "metadata": {},
   "outputs": [
    {
     "name": "stdout",
     "output_type": "stream",
     "text": [
      "fusion nellie\n",
      "  Contrast           A           B  Paired  Parametric    U-val alternative  \\\n",
      "0    toxin        FCCP     control   False       False   9540.5   two-sided   \n",
      "1    toxin        FCCP  oligomycin   False       False   9351.5   two-sided   \n",
      "2    toxin        FCCP    rotenone   False       False  10036.0   two-sided   \n",
      "3    toxin     control  oligomycin   False       False   9235.5   two-sided   \n",
      "4    toxin     control    rotenone   False       False   9930.0   two-sided   \n",
      "5    toxin  oligomycin    rotenone   False       False  10062.5   two-sided   \n",
      "\n",
      "      p-unc    hedges  \n",
      "0  0.812515 -0.046525  \n",
      "1  0.960449 -0.034104  \n",
      "2  0.320659 -0.023997  \n",
      "3  0.820642  0.016766  \n",
      "4  0.405573  0.023766  \n",
      "5  0.300845  0.008470  \n"
     ]
    }
   ],
   "source": [
    "print(\"fission fusion ratio\") # shows all of then are significantly different \n",
    "#check the influence and correlation with Rank Biserial Correlation\n",
    "print(pg.pairwise_tests(dv = 'event', between =  'toxin', data = ff_ratio_pd, parametric=False))"
   ]
  },
  {
   "cell_type": "code",
   "execution_count": 562,
   "metadata": {},
   "outputs": [
    {
     "name": "stdout",
     "output_type": "stream",
     "text": [
      "fission fusion ratio adjusted\n",
      "  Contrast           A           B  Paired  Parametric    U-val alternative  \\\n",
      "0    toxin        FCCP     control   False       False  10187.0   two-sided   \n",
      "1    toxin        FCCP  oligomycin   False       False   9848.0   two-sided   \n",
      "2    toxin        FCCP    rotenone   False       False  10568.5   two-sided   \n",
      "3    toxin     control  oligomycin   False       False   9079.5   two-sided   \n",
      "4    toxin     control    rotenone   False       False   9789.0   two-sided   \n",
      "5    toxin  oligomycin    rotenone   False       False  10083.0   two-sided   \n",
      "\n",
      "      p-unc    hedges  \n",
      "0  0.221186  0.255388  \n",
      "1  0.479950  0.192338  \n",
      "2  0.070996  0.261485  \n",
      "3  0.642121 -0.068589  \n",
      "4  0.537543  0.006250  \n",
      "5  0.286639  0.075015  \n"
     ]
    }
   ],
   "source": [
    "print(\"fission fusion ratio adjusted\") # shows all of then are significantly different \n",
    "#check the influence and correlation with Rank Biserial Correlation\n",
    "print(pg.pairwise_tests(dv = 'event', between =  'toxin', data = ff_ratio_adjusted_pd, parametric=False))"
   ]
  },
  {
   "cell_type": "code",
   "execution_count": 563,
   "metadata": {},
   "outputs": [
    {
     "name": "stdout",
     "output_type": "stream",
     "text": [
      "fission fusion ratio all\n",
      "  Contrast           A           B  Paired  Parametric   U-val alternative  \\\n",
      "0    toxin        FCCP     control   False       False  9356.0   two-sided   \n",
      "1    toxin        FCCP  oligomycin   False       False  9721.0   two-sided   \n",
      "2    toxin        FCCP    rotenone   False       False  9803.0   two-sided   \n",
      "3    toxin     control  oligomycin   False       False  9694.0   two-sided   \n",
      "4    toxin     control    rotenone   False       False  9771.5   two-sided   \n",
      "5    toxin  oligomycin    rotenone   False       False  9402.5   two-sided   \n",
      "\n",
      "      p-unc    hedges  \n",
      "0  0.965943  0.094950  \n",
      "1  0.608361  0.136510  \n",
      "2  0.523799  0.064856  \n",
      "3  0.637469  0.054495  \n",
      "4  0.555551 -0.024607  \n",
      "5  0.978703 -0.069950  \n"
     ]
    }
   ],
   "source": [
    "print(\"fission fusion ratio all\") # shows all of then are significantly different \n",
    "#check the influence and correlation with Rank Biserial Correlation\n",
    "print(pg.pairwise_tests(dv = 'event', between =  'toxin', data = ff_ratio_all_pd, parametric=False))"
   ]
  },
  {
   "cell_type": "markdown",
   "metadata": {},
   "source": [
    "### Statistical testing of MDIVI with my algorithm"
   ]
  },
  {
   "cell_type": "markdown",
   "metadata": {},
   "source": [
    "#### 1. Check assumption"
   ]
  },
  {
   "cell_type": "code",
   "execution_count": 494,
   "metadata": {},
   "outputs": [
    {
     "name": "stdout",
     "output_type": "stream",
     "text": [
      "                W          pval  normal\n",
      "toxin                                  \n",
      "control  0.894909  1.831708e-08   False\n",
      "mdivi    0.872055  1.335167e-09   False\n",
      "               W      pval  equal_var\n",
      "levene  4.491263  0.034961      False\n"
     ]
    }
   ],
   "source": [
    "# fission mdivi\n",
    "normality = pg.normality(data = fission_mdivi_pd, dv = 'event', group = 'toxin')\n",
    "homogeneity = pg.homoscedasticity(data = fission_mdivi_pd, dv = 'event', group = 'toxin')\n",
    "print(normality)\n",
    "print(homogeneity)"
   ]
  },
  {
   "cell_type": "code",
   "execution_count": 496,
   "metadata": {},
   "outputs": [
    {
     "name": "stdout",
     "output_type": "stream",
     "text": [
      "                W          pval  normal\n",
      "toxin                                  \n",
      "control  0.932055  3.068881e-06   False\n",
      "mdivi    0.867810  8.487915e-10   False\n",
      "               W      pval  equal_var\n",
      "levene  2.288583  0.131473       True\n"
     ]
    }
   ],
   "source": [
    "normality = pg.normality(data = fusion_mdivi_pd, dv = 'event', group = 'toxin')\n",
    "homogeneity = pg.homoscedasticity(data = fusion_mdivi_pd, dv = 'event', group = 'toxin')\n",
    "print(normality)\n",
    "print(homogeneity)"
   ]
  },
  {
   "cell_type": "code",
   "execution_count": 495,
   "metadata": {},
   "outputs": [
    {
     "name": "stdout",
     "output_type": "stream",
     "text": [
      "                      W      pval  normal\n",
      "toxin                                    \n",
      "control_10min  0.971320  0.161929    True\n",
      "mdivi_10min    0.948128  0.011754   False\n",
      "               W     pval  equal_var\n",
      "levene  0.974486  0.32555       True\n"
     ]
    }
   ],
   "source": [
    "normality = pg.normality(data = fission_mdivi_10min_pd, dv = 'event', group = 'toxin')\n",
    "homogeneity = pg.homoscedasticity(data = fission_mdivi_10min_pd, dv = 'event', group = 'toxin')\n",
    "print(normality)\n",
    "print(homogeneity)"
   ]
  },
  {
   "cell_type": "code",
   "execution_count": 497,
   "metadata": {},
   "outputs": [
    {
     "name": "stdout",
     "output_type": "stream",
     "text": [
      "                      W      pval  normal\n",
      "toxin                                    \n",
      "control_10min  0.974518  0.232228    True\n",
      "mdivi_10min    0.925335  0.001141   False\n",
      "               W      pval  equal_var\n",
      "levene  2.091866  0.150692       True\n"
     ]
    }
   ],
   "source": [
    "normality = pg.normality(data = fusion_mdivi_10min_pd, dv = 'event', group = 'toxin')\n",
    "homogeneity = pg.homoscedasticity(data = fusion_mdivi_10min_pd, dv = 'event', group = 'toxin')\n",
    "print(normality)\n",
    "print(homogeneity)"
   ]
  },
  {
   "cell_type": "code",
   "execution_count": 498,
   "metadata": {},
   "outputs": [
    {
     "name": "stdout",
     "output_type": "stream",
     "text": [
      "                W          pval  normal\n",
      "toxin                                  \n",
      "control  0.559831  1.159752e-18   False\n",
      "mdivi    0.404555  2.195639e-21   False\n",
      "               W      pval  equal_var\n",
      "levene  6.242931  0.013051      False\n"
     ]
    }
   ],
   "source": [
    "normality = pg.normality(data = fusion_mdivi_meter_pd, dv = 'event', group = 'toxin')\n",
    "homogeneity = pg.homoscedasticity(data = fusion_mdivi_meter_pd, dv = 'event', group = 'toxin')\n",
    "print(normality)\n",
    "print(homogeneity)"
   ]
  },
  {
   "cell_type": "markdown",
   "metadata": {},
   "source": [
    "#### 2. Statistical testing with Mann-Whitney"
   ]
  },
  {
   "cell_type": "code",
   "execution_count": 511,
   "metadata": {},
   "outputs": [
    {
     "name": "stdout",
     "output_type": "stream",
     "text": [
      "10s interval \n",
      "       U-val alternative     p-val     RBC     CLES\n",
      "MWU  11209.0   two-sided  0.013898  0.1687  0.58435\n",
      "       U-val alternative     p-val       RBC      CLES\n",
      "MWU  10806.0   two-sided  0.064841  0.126681  0.563341\n",
      "       U-val alternative     p-val       RBC      CLES\n",
      "MWU  10922.5   two-sided  0.042347  0.138828  0.569414\n",
      "       U-val alternative     p-val       RBC      CLES\n",
      "MWU  10635.0   two-sided  0.111955  0.108852  0.554426\n",
      " \n",
      " 1 min interval\n",
      "      U-val alternative     p-val       RBC      CLES\n",
      "MWU  1815.5   two-sided  0.941486 -0.007923  0.496038\n",
      "      U-val alternative     p-val       RBC      CLES\n",
      "MWU  2184.0   two-sided  0.064136  0.193443  0.596721\n",
      "      U-val alternative     p-val      RBC      CLES\n",
      "MWU  1237.5   two-sided  0.001836 -0.32377  0.338115\n",
      "      U-val alternative     p-val       RBC      CLES\n",
      "MWU  1919.5   two-sided  0.639562  0.048907  0.524454\n"
     ]
    }
   ],
   "source": [
    "x = int((fusion_mdivi.shape[0])/2)\n",
    "# control = x, mdivi = y\n",
    "print(\"10s interval \")\n",
    "print(pg.mwu(fusion_mdivi[0:x] , fusion_mdivi[x:-1], alternative='two-sided'))\n",
    "print(pg.mwu(fission_mdivi[0:x] , fission_mdivi[x:-1], alternative='two-sided'))\n",
    "\n",
    "print(pg.mwu(fusion_mdivi_adjusted[0:x] , fusion_mdivi_adjusted[x:-1], alternative='two-sided'))\n",
    "print(pg.mwu(fission_mdivi_adjusted[0:x] , fission_mdivi_adjusted[x:-1], alternative='two-sided'))\n",
    "\n",
    "print(\" \")\n",
    "print(\" 1 min interval\")\n",
    "x = int((fusion_mdivi_10min.shape[0])/2)\n",
    "print(pg.mwu(fusion_mdivi_10min[0:x] , fusion_mdivi_10min[x:-1], alternative='two-sided'))\n",
    "print(pg.mwu(fission_mdivi_10min[0:x] , fission_mdivi_10min[x:-1], alternative='two-sided'))\n",
    "\n",
    "print(pg.mwu(fusion_mdivi_10min_adjusted[0:x] , fusion_mdivi_10min_adjusted[x:-1], alternative='two-sided'))\n",
    "print(pg.mwu(fission_mdivi_10min_adjusted[0:x] , fission_mdivi_10min_adjusted[x:-1], alternative='two-sided'))"
   ]
  },
  {
   "cell_type": "code",
   "execution_count": 513,
   "metadata": {},
   "outputs": [
    {
     "name": "stdout",
     "output_type": "stream",
     "text": [
      "10s interval \n",
      "      U-val alternative     p-val       RBC      CLES\n",
      "MWU  7134.0   two-sided  0.321286  0.082878  0.541439\n",
      "      U-val alternative     p-val       RBC      CLES\n",
      "MWU  6316.5   two-sided  0.622321 -0.041211  0.479394\n",
      " \n",
      " 1 min interval\n",
      "     U-val alternative     p-val       RBC      CLES\n",
      "MWU  977.5   two-sided  0.000009 -0.465847  0.267077\n",
      "     U-val alternative     p-val       RBC      CLES\n",
      "MWU  950.0   two-sided  0.000005 -0.480874  0.259563\n"
     ]
    }
   ],
   "source": [
    "print(\"10s interval \")\n",
    "print(pg.mwu(fusion_mdivi_all[0:x] , fusion_mdivi_all[x:-1], alternative='two-sided'))\n",
    "print(pg.mwu(fission_mdivi_all[0:x] , fission_mdivi_all[x:-1], alternative='two-sided'))\n",
    "\n",
    "\n",
    "print(\" \")\n",
    "print(\" 1 min interval\")\n",
    "print(pg.mwu(fusion_mdivi_all_10min[0:x] , fusion_mdivi_all_10min[x:-1], alternative='two-sided'))\n",
    "print(pg.mwu(fission_mdivi_all_10min[0:x] , fission_mdivi_all_10min[x:-1], alternative='two-sided'))"
   ]
  },
  {
   "cell_type": "code",
   "execution_count": null,
   "metadata": {},
   "outputs": [
    {
     "name": "stdout",
     "output_type": "stream",
     "text": [
      "       U-val alternative     p-val       RBC     CLES\n",
      "MWU  10698.0   two-sided  0.014368  0.115421  0.55771\n",
      "       U-val alternative     p-val       RBC      CLES\n",
      "MWU  10522.5   two-sided  0.063727  0.097122  0.548561\n"
     ]
    }
   ],
   "source": [
    "x = int((fusion_mdivi.shape[0])/2)\n",
    "# control = x, mdivi = y\n",
    "print(pg.mwu(fusion_mdivi_meter[0:x] , fusion_mdivi_meter[x:-1], alternative='two-sided'))\n",
    "print(pg.mwu(fission_mdivi_meter[0:x] , fission_mdivi_meter[x:-1], alternative='two-sided'))\n",
    "\n",
    "print(pg.mwu(fusion_mdivi_all[0:x] , fusion_mdivi_all[x:-1], alternative='two-sided'))\n",
    "print(pg.mwu(fission_mdivi_all[0:x] , fission_mdivi_all[x:-1], alternative='two-sided'))\n"
   ]
  },
  {
   "cell_type": "markdown",
   "metadata": {},
   "source": [
    "#### Fission fusion ratio\n"
   ]
  },
  {
   "cell_type": "code",
   "execution_count": 566,
   "metadata": {},
   "outputs": [
    {
     "name": "stdout",
     "output_type": "stream",
     "text": [
      "fission fusion ratio\n",
      "  Contrast        A      B  Paired  Parametric   U-val alternative     p-unc  \\\n",
      "0    toxin  control  mdivi   False       False  9753.0   two-sided  0.890563   \n",
      "\n",
      "     hedges  \n",
      "0 -0.227179  \n",
      " \n",
      "fission fusion ratio 10 min\n",
      "  Contrast              A            B  Paired  Parametric   U-val  \\\n",
      "0    toxin  control_10min  mdivi_10min   False       False  2073.0   \n",
      "\n",
      "  alternative     p-unc    hedges  \n",
      "0   two-sided  0.277183 -0.072235  \n"
     ]
    }
   ],
   "source": [
    "print(\"fission fusion ratio\") # shows all of then are significantly different \n",
    "#check the influence and correlation with Rank Biserial Correlation\n",
    "print(pg.pairwise_tests(dv = 'event', between =  'toxin', data = ff_ratio_mdivi, parametric=False))\n",
    "\n",
    "print(\" \")\n",
    "print(\"fission fusion ratio 10 min\") # shows all of then are significantly different \n",
    "#check the influence and correlation with Rank Biserial Correlation\n",
    "print(pg.pairwise_tests(dv = 'event', between =  'toxin', data = ff_ratio_mdivi_10min, parametric=False))"
   ]
  },
  {
   "cell_type": "code",
   "execution_count": 567,
   "metadata": {},
   "outputs": [
    {
     "name": "stdout",
     "output_type": "stream",
     "text": [
      "fission fusion ratio adjusted\n",
      "  Contrast        A      B  Paired  Parametric    U-val alternative     p-unc  \\\n",
      "0    toxin  control  mdivi   False       False  10080.0   two-sided  0.530682   \n",
      "\n",
      "     hedges  \n",
      "0 -0.112976  \n",
      " \n",
      "fission fusion ratio 10 min adjusted\n",
      "  Contrast              A            B  Paired  Parametric   U-val  \\\n",
      "0    toxin  control_10min  mdivi_10min   False       False  2285.0   \n",
      "\n",
      "  alternative     p-unc   hedges  \n",
      "0   two-sided  0.029476  0.02839  \n"
     ]
    }
   ],
   "source": [
    "print(\"fission fusion ratio adjusted\") # shows all of then are significantly different \n",
    "#check the influence and correlation with Rank Biserial Correlation\n",
    "print(pg.pairwise_tests(dv = 'event', between =  'toxin', data = ff_ratio_mdivi_adjusted, parametric=False))\n",
    "\n",
    "print(\" \")\n",
    "print(\"fission fusion ratio 10 min adjusted\") # shows all of then are significantly different \n",
    "#check the influence and correlation with Rank Biserial Correlation\n",
    "print(pg.pairwise_tests(dv = 'event', between =  'toxin', data = ff_ratio_mdivi_adjusted_10min, parametric=False))"
   ]
  },
  {
   "cell_type": "code",
   "execution_count": 568,
   "metadata": {},
   "outputs": [
    {
     "name": "stdout",
     "output_type": "stream",
     "text": [
      "fission fusion ratio all\n",
      "  Contrast        A      B  Paired  Parametric   U-val alternative     p-unc  \\\n",
      "0    toxin  control  mdivi   False       False  9365.0   two-sided  0.659733   \n",
      "\n",
      "     hedges  \n",
      "0 -0.012396  \n",
      " \n",
      "fission fusion ratio 10 min all\n",
      "  Contrast              A            B  Paired  Parametric   U-val  \\\n",
      "0    toxin  control_10min  mdivi_10min   False       False  1927.5   \n",
      "\n",
      "  alternative     p-unc    hedges  \n",
      "0   two-sided  0.733345 -0.015599  \n"
     ]
    }
   ],
   "source": [
    "print(\"fission fusion ratio all\") # shows all of then are significantly different \n",
    "#check the influence and correlation with Rank Biserial Correlation\n",
    "print(pg.pairwise_tests(dv = 'event', between =  'toxin', data = ff_ratio_all_mdivi, parametric=False))\n",
    "\n",
    "print(\" \")\n",
    "print(\"fission fusion ratio 10 min all\") # shows all of then are significantly different \n",
    "#check the influence and correlation with Rank Biserial Correlation\n",
    "print(pg.pairwise_tests(dv = 'event', between =  'toxin', data = ff_ratio_all_mdivi_10min, parametric=False))"
   ]
  },
  {
   "cell_type": "markdown",
   "metadata": {},
   "source": [
    "## Try two way anava analyze significance difference between two algorithm"
   ]
  },
  {
   "cell_type": "code",
   "execution_count": 56,
   "metadata": {},
   "outputs": [
    {
     "name": "stdout",
     "output_type": "stream",
     "text": [
      "                   W          pval  normal\n",
      "toxin                                     \n",
      "control     0.176764  6.816448e-33   False\n",
      "FCCP        0.578623  2.772587e-25   False\n",
      "oligomycin  0.354072  5.145356e-30   False\n",
      "rotenone    0.436756  1.885349e-28   False\n",
      "              W      pval  equal_var\n",
      "levene  5.00955  0.001875      False\n"
     ]
    }
   ],
   "source": [
    "#np.mean(ff_ratio_mito_mdivi[0:x])\n",
    "#np.mean(ff_ratio_mito_mdivi[x:-1])\n",
    "\n",
    "df_ff_all = pd.concat((df_ff_ratio ,df_ff_ratio_mito))\n",
    "\n",
    "\n",
    "normality = pg.normality(data = df_ff_all, dv = 'event', group = 'toxin')\n",
    "homogeneity = pg.homoscedasticity(data = df_ff_all, dv = 'event', group = 'toxin')\n",
    "print(normality)\n",
    "print(homogeneity)\n"
   ]
  },
  {
   "cell_type": "code",
   "execution_count": 66,
   "metadata": {},
   "outputs": [
    {
     "data": {
      "text/html": [
       "<div>\n",
       "<style scoped>\n",
       "    .dataframe tbody tr th:only-of-type {\n",
       "        vertical-align: middle;\n",
       "    }\n",
       "\n",
       "    .dataframe tbody tr th {\n",
       "        vertical-align: top;\n",
       "    }\n",
       "\n",
       "    .dataframe thead th {\n",
       "        text-align: right;\n",
       "    }\n",
       "</style>\n",
       "<table border=\"1\" class=\"dataframe\">\n",
       "  <thead>\n",
       "    <tr style=\"text-align: right;\">\n",
       "      <th></th>\n",
       "      <th>toxin</th>\n",
       "      <th>event</th>\n",
       "      <th>assessment method</th>\n",
       "    </tr>\n",
       "  </thead>\n",
       "  <tbody>\n",
       "    <tr>\n",
       "      <th>0</th>\n",
       "      <td>control</td>\n",
       "      <td>1.000000</td>\n",
       "      <td>algorithm</td>\n",
       "    </tr>\n",
       "    <tr>\n",
       "      <th>1</th>\n",
       "      <td>control</td>\n",
       "      <td>0.200000</td>\n",
       "      <td>algorithm</td>\n",
       "    </tr>\n",
       "    <tr>\n",
       "      <th>2</th>\n",
       "      <td>control</td>\n",
       "      <td>0.900000</td>\n",
       "      <td>algorithm</td>\n",
       "    </tr>\n",
       "    <tr>\n",
       "      <th>3</th>\n",
       "      <td>control</td>\n",
       "      <td>3.500000</td>\n",
       "      <td>algorithm</td>\n",
       "    </tr>\n",
       "    <tr>\n",
       "      <th>4</th>\n",
       "      <td>control</td>\n",
       "      <td>0.800000</td>\n",
       "      <td>algorithm</td>\n",
       "    </tr>\n",
       "    <tr>\n",
       "      <th>...</th>\n",
       "      <td>...</td>\n",
       "      <td>...</td>\n",
       "      <td>...</td>\n",
       "    </tr>\n",
       "    <tr>\n",
       "      <th>543</th>\n",
       "      <td>rotenone</td>\n",
       "      <td>0.005000</td>\n",
       "      <td>mitometer</td>\n",
       "    </tr>\n",
       "    <tr>\n",
       "      <th>544</th>\n",
       "      <td>rotenone</td>\n",
       "      <td>0.333333</td>\n",
       "      <td>mitometer</td>\n",
       "    </tr>\n",
       "    <tr>\n",
       "      <th>545</th>\n",
       "      <td>rotenone</td>\n",
       "      <td>0.003333</td>\n",
       "      <td>mitometer</td>\n",
       "    </tr>\n",
       "    <tr>\n",
       "      <th>546</th>\n",
       "      <td>rotenone</td>\n",
       "      <td>0.005000</td>\n",
       "      <td>mitometer</td>\n",
       "    </tr>\n",
       "    <tr>\n",
       "      <th>547</th>\n",
       "      <td>rotenone</td>\n",
       "      <td>1.000000</td>\n",
       "      <td>mitometer</td>\n",
       "    </tr>\n",
       "  </tbody>\n",
       "</table>\n",
       "<p>1096 rows × 3 columns</p>\n",
       "</div>"
      ],
      "text/plain": [
       "        toxin     event assessment method\n",
       "0     control  1.000000         algorithm\n",
       "1     control  0.200000         algorithm\n",
       "2     control  0.900000         algorithm\n",
       "3     control  3.500000         algorithm\n",
       "4     control  0.800000         algorithm\n",
       "..        ...       ...               ...\n",
       "543  rotenone  0.005000         mitometer\n",
       "544  rotenone  0.333333         mitometer\n",
       "545  rotenone  0.003333         mitometer\n",
       "546  rotenone  0.005000         mitometer\n",
       "547  rotenone  1.000000         mitometer\n",
       "\n",
       "[1096 rows x 3 columns]"
      ]
     },
     "execution_count": 66,
     "metadata": {},
     "output_type": "execute_result"
    }
   ],
   "source": [
    "df_ff_all[\"assessment method\"] = assess_method_tox\n",
    "df_ff_all"
   ]
  },
  {
   "cell_type": "code",
   "execution_count": 71,
   "metadata": {},
   "outputs": [
    {
     "data": {
      "text/html": [
       "<div>\n",
       "<style scoped>\n",
       "    .dataframe tbody tr th:only-of-type {\n",
       "        vertical-align: middle;\n",
       "    }\n",
       "\n",
       "    .dataframe tbody tr th {\n",
       "        vertical-align: top;\n",
       "    }\n",
       "\n",
       "    .dataframe thead th {\n",
       "        text-align: right;\n",
       "    }\n",
       "</style>\n",
       "<table border=\"1\" class=\"dataframe\">\n",
       "  <thead>\n",
       "    <tr style=\"text-align: right;\">\n",
       "      <th></th>\n",
       "      <th>Source</th>\n",
       "      <th>SS</th>\n",
       "      <th>DF</th>\n",
       "      <th>MS</th>\n",
       "      <th>F</th>\n",
       "      <th>p-unc</th>\n",
       "      <th>np2</th>\n",
       "    </tr>\n",
       "  </thead>\n",
       "  <tbody>\n",
       "    <tr>\n",
       "      <th>0</th>\n",
       "      <td>toxin</td>\n",
       "      <td>1.118693e+05</td>\n",
       "      <td>3</td>\n",
       "      <td>37289.774238</td>\n",
       "      <td>5.411805</td>\n",
       "      <td>1.070070e-03</td>\n",
       "      <td>0.014703</td>\n",
       "    </tr>\n",
       "    <tr>\n",
       "      <th>1</th>\n",
       "      <td>assessment method</td>\n",
       "      <td>4.165545e+05</td>\n",
       "      <td>1</td>\n",
       "      <td>416554.458726</td>\n",
       "      <td>60.453875</td>\n",
       "      <td>1.739071e-14</td>\n",
       "      <td>0.052639</td>\n",
       "    </tr>\n",
       "    <tr>\n",
       "      <th>2</th>\n",
       "      <td>toxin * assessment method</td>\n",
       "      <td>2.446709e+05</td>\n",
       "      <td>3</td>\n",
       "      <td>81556.954993</td>\n",
       "      <td>11.836229</td>\n",
       "      <td>1.243662e-07</td>\n",
       "      <td>0.031605</td>\n",
       "    </tr>\n",
       "    <tr>\n",
       "      <th>3</th>\n",
       "      <td>Residual</td>\n",
       "      <td>7.496811e+06</td>\n",
       "      <td>1088</td>\n",
       "      <td>6890.450889</td>\n",
       "      <td>NaN</td>\n",
       "      <td>NaN</td>\n",
       "      <td>NaN</td>\n",
       "    </tr>\n",
       "  </tbody>\n",
       "</table>\n",
       "</div>"
      ],
      "text/plain": [
       "                      Source            SS    DF             MS          F  \\\n",
       "0                      toxin  1.118693e+05     3   37289.774238   5.411805   \n",
       "1          assessment method  4.165545e+05     1  416554.458726  60.453875   \n",
       "2  toxin * assessment method  2.446709e+05     3   81556.954993  11.836229   \n",
       "3                   Residual  7.496811e+06  1088    6890.450889        NaN   \n",
       "\n",
       "          p-unc       np2  \n",
       "0  1.070070e-03  0.014703  \n",
       "1  1.739071e-14  0.052639  \n",
       "2  1.243662e-07  0.031605  \n",
       "3           NaN       NaN  "
      ]
     },
     "execution_count": 71,
     "metadata": {},
     "output_type": "execute_result"
    }
   ],
   "source": [
    "pg.anova(data= df_ff_all, dv = \"event\", between= ['toxin' , 'assessment method'])"
   ]
  },
  {
   "cell_type": "code",
   "execution_count": 74,
   "metadata": {},
   "outputs": [
    {
     "data": {
      "text/html": [
       "<div>\n",
       "<style scoped>\n",
       "    .dataframe tbody tr th:only-of-type {\n",
       "        vertical-align: middle;\n",
       "    }\n",
       "\n",
       "    .dataframe tbody tr th {\n",
       "        vertical-align: top;\n",
       "    }\n",
       "\n",
       "    .dataframe thead th {\n",
       "        text-align: right;\n",
       "    }\n",
       "</style>\n",
       "<table border=\"1\" class=\"dataframe\">\n",
       "  <thead>\n",
       "    <tr style=\"text-align: right;\">\n",
       "      <th></th>\n",
       "      <th>A</th>\n",
       "      <th>B</th>\n",
       "      <th>mean(A)</th>\n",
       "      <th>mean(B)</th>\n",
       "      <th>diff</th>\n",
       "      <th>se</th>\n",
       "      <th>T</th>\n",
       "      <th>p-tukey</th>\n",
       "      <th>hedges</th>\n",
       "    </tr>\n",
       "  </thead>\n",
       "  <tbody>\n",
       "    <tr>\n",
       "      <th>0</th>\n",
       "      <td>algorithm</td>\n",
       "      <td>mitometer</td>\n",
       "      <td>10.289456</td>\n",
       "      <td>49.280119</td>\n",
       "      <td>-38.990662</td>\n",
       "      <td>5.11851</td>\n",
       "      <td>-7.617581</td>\n",
       "      <td>0.0</td>\n",
       "      <td>-0.459879</td>\n",
       "    </tr>\n",
       "  </tbody>\n",
       "</table>\n",
       "</div>"
      ],
      "text/plain": [
       "           A          B    mean(A)    mean(B)       diff       se         T  \\\n",
       "0  algorithm  mitometer  10.289456  49.280119 -38.990662  5.11851 -7.617581   \n",
       "\n",
       "   p-tukey    hedges  \n",
       "0      0.0 -0.459879  "
      ]
     },
     "execution_count": 74,
     "metadata": {},
     "output_type": "execute_result"
    }
   ],
   "source": [
    "pg.pairwise_tukey(data= df_ff_all, dv = \"event\", between= 'assessment method')"
   ]
  },
  {
   "cell_type": "code",
   "execution_count": 75,
   "metadata": {},
   "outputs": [
    {
     "data": {
      "text/html": [
       "<div>\n",
       "<style scoped>\n",
       "    .dataframe tbody tr th:only-of-type {\n",
       "        vertical-align: middle;\n",
       "    }\n",
       "\n",
       "    .dataframe tbody tr th {\n",
       "        vertical-align: top;\n",
       "    }\n",
       "\n",
       "    .dataframe thead th {\n",
       "        text-align: right;\n",
       "    }\n",
       "</style>\n",
       "<table border=\"1\" class=\"dataframe\">\n",
       "  <thead>\n",
       "    <tr style=\"text-align: right;\">\n",
       "      <th></th>\n",
       "      <th>A</th>\n",
       "      <th>B</th>\n",
       "      <th>mean(A)</th>\n",
       "      <th>mean(B)</th>\n",
       "      <th>diff</th>\n",
       "      <th>se</th>\n",
       "      <th>T</th>\n",
       "      <th>p-tukey</th>\n",
       "      <th>hedges</th>\n",
       "    </tr>\n",
       "  </thead>\n",
       "  <tbody>\n",
       "    <tr>\n",
       "      <th>0</th>\n",
       "      <td>FCCP</td>\n",
       "      <td>control</td>\n",
       "      <td>45.061731</td>\n",
       "      <td>21.788031</td>\n",
       "      <td>23.273700</td>\n",
       "      <td>7.384502</td>\n",
       "      <td>3.151695</td>\n",
       "      <td>0.009035</td>\n",
       "      <td>0.236466</td>\n",
       "    </tr>\n",
       "    <tr>\n",
       "      <th>1</th>\n",
       "      <td>FCCP</td>\n",
       "      <td>oligomycin</td>\n",
       "      <td>45.061731</td>\n",
       "      <td>19.646674</td>\n",
       "      <td>25.415057</td>\n",
       "      <td>7.384502</td>\n",
       "      <td>3.441675</td>\n",
       "      <td>0.003357</td>\n",
       "      <td>0.343601</td>\n",
       "    </tr>\n",
       "    <tr>\n",
       "      <th>2</th>\n",
       "      <td>FCCP</td>\n",
       "      <td>rotenone</td>\n",
       "      <td>45.061731</td>\n",
       "      <td>32.642714</td>\n",
       "      <td>12.419016</td>\n",
       "      <td>7.384502</td>\n",
       "      <td>1.681768</td>\n",
       "      <td>0.333804</td>\n",
       "      <td>0.146130</td>\n",
       "    </tr>\n",
       "    <tr>\n",
       "      <th>3</th>\n",
       "      <td>control</td>\n",
       "      <td>oligomycin</td>\n",
       "      <td>21.788031</td>\n",
       "      <td>19.646674</td>\n",
       "      <td>2.141357</td>\n",
       "      <td>7.384502</td>\n",
       "      <td>0.289980</td>\n",
       "      <td>0.991508</td>\n",
       "      <td>0.024309</td>\n",
       "    </tr>\n",
       "    <tr>\n",
       "      <th>4</th>\n",
       "      <td>control</td>\n",
       "      <td>rotenone</td>\n",
       "      <td>21.788031</td>\n",
       "      <td>32.642714</td>\n",
       "      <td>-10.854684</td>\n",
       "      <td>7.384502</td>\n",
       "      <td>-1.469928</td>\n",
       "      <td>0.456126</td>\n",
       "      <td>-0.111299</td>\n",
       "    </tr>\n",
       "    <tr>\n",
       "      <th>5</th>\n",
       "      <td>oligomycin</td>\n",
       "      <td>rotenone</td>\n",
       "      <td>19.646674</td>\n",
       "      <td>32.642714</td>\n",
       "      <td>-12.996040</td>\n",
       "      <td>7.384502</td>\n",
       "      <td>-1.759908</td>\n",
       "      <td>0.293417</td>\n",
       "      <td>-0.178590</td>\n",
       "    </tr>\n",
       "  </tbody>\n",
       "</table>\n",
       "</div>"
      ],
      "text/plain": [
       "            A           B    mean(A)    mean(B)       diff        se  \\\n",
       "0        FCCP     control  45.061731  21.788031  23.273700  7.384502   \n",
       "1        FCCP  oligomycin  45.061731  19.646674  25.415057  7.384502   \n",
       "2        FCCP    rotenone  45.061731  32.642714  12.419016  7.384502   \n",
       "3     control  oligomycin  21.788031  19.646674   2.141357  7.384502   \n",
       "4     control    rotenone  21.788031  32.642714 -10.854684  7.384502   \n",
       "5  oligomycin    rotenone  19.646674  32.642714 -12.996040  7.384502   \n",
       "\n",
       "          T   p-tukey    hedges  \n",
       "0  3.151695  0.009035  0.236466  \n",
       "1  3.441675  0.003357  0.343601  \n",
       "2  1.681768  0.333804  0.146130  \n",
       "3  0.289980  0.991508  0.024309  \n",
       "4 -1.469928  0.456126 -0.111299  \n",
       "5 -1.759908  0.293417 -0.178590  "
      ]
     },
     "execution_count": 75,
     "metadata": {},
     "output_type": "execute_result"
    }
   ],
   "source": [
    "pg.pairwise_tukey(data= df_ff_all, dv = \"event\", between= 'toxin')"
   ]
  }
 ],
 "metadata": {
  "kernelspec": {
   "display_name": "napari-env",
   "language": "python",
   "name": "python3"
  },
  "language_info": {
   "codemirror_mode": {
    "name": "ipython",
    "version": 3
   },
   "file_extension": ".py",
   "mimetype": "text/x-python",
   "name": "python",
   "nbconvert_exporter": "python",
   "pygments_lexer": "ipython3",
   "version": "3.10.15"
  }
 },
 "nbformat": 4,
 "nbformat_minor": 2
}
