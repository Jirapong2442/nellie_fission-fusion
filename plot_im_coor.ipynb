{
 "cells": [
  {
   "cell_type": "code",
   "execution_count": 52,
   "metadata": {},
   "outputs": [],
   "source": [
    "import tifffile\n",
    "import numpy as np\n",
    "import pandas as pd\n",
    "import cv2\n",
    "from scipy.ndimage import center_of_mass, extrema\n",
    "import napari \n",
    "import matplotlib.pyplot as plt\n",
    "from skimage import measure"
   ]
  },
  {
   "cell_type": "code",
   "execution_count": 53,
   "metadata": {},
   "outputs": [],
   "source": [
    "scalling_x = 22\n",
    "scalling_y = 20\n",
    "translation_x = 200 # 422.5\n",
    "translation_y = 200 # 336"
   ]
  },
  {
   "cell_type": "markdown",
   "metadata": {},
   "source": [
    "# load function and image"
   ]
  },
  {
   "cell_type": "code",
   "execution_count": 38,
   "metadata": {},
   "outputs": [],
   "source": [
    "def get_coor (path_to_log_file,rescaleX,rescaleY):\n",
    "    with open(path_to_log_file, \"r\", encoding='utf-8-sig') as f:\n",
    "        string = f.read()\n",
    "        lines = string.split(\"\\n\")\n",
    "        num = 1\n",
    "        event_num = []\n",
    "        x_coordinates = []\n",
    "        y_coordinates = []\n",
    "        for line in lines:\n",
    "\n",
    "            if len(line ) != 0:\n",
    "                if (int(num) - 1)% 3  == 0: \n",
    "                    event_num.append(num)\n",
    "                    num+=1\n",
    "                \n",
    "                else: \n",
    "                    y = line[1:-1].split(',')[1]\n",
    "                    x = line[1:-1].split(',')[0]\n",
    "                    y_coordinates.append((rescaleY * (-float(y)))+translation_x-scalling_y)\n",
    "                    x_coordinates.append((rescaleX * float(x))+ translation_y-scalling_x)\n",
    "                    #note: with center simulation Y -20 X -35\n",
    "                    # \n",
    "                    num+=1\n",
    "    return len(event_num) , pd.DataFrame({'y_coordinates': y_coordinates, 'x_coordinates': x_coordinates}) "
   ]
  },
  {
   "cell_type": "code",
   "execution_count": 39,
   "metadata": {},
   "outputs": [
    {
     "data": {
      "text/plain": [
       "(1.0, 1.0)"
      ]
     },
     "execution_count": 39,
     "metadata": {},
     "output_type": "execute_result"
    }
   ],
   "source": [
    "# Load tiff file and log position\n",
    "im_path = \"D:/Internship/NTU/simulation/with_center/multi_center_resized.ome.tif\"\n",
    "im = tifffile.imread(im_path)\n",
    "rescaling_y = im.shape[1]/400\n",
    "rescaling_x = im.shape[2]/400\n",
    "rescaling_y,rescaling_x"
   ]
  },
  {
   "cell_type": "code",
   "execution_count": 40,
   "metadata": {},
   "outputs": [],
   "source": [
    "event_all_log = []\n",
    "with open(\"D:/Internship/NTU/simulation/with_center/nonzero_frames_final.log\", \"r\", encoding='utf-8-sig') as f:\n",
    "    string = f.read()\n",
    "    lines = string.split(\"\\n\")\n",
    "    for line in lines:\n",
    "        if len(line ) != 0:\n",
    "            events = line.split(\":\")[1].split(\",\")\n",
    "            frame = line.split(\":\")[0].split()[1]\n",
    "           \n",
    "            if len(events) == 1 :\n",
    "                continue\n",
    "            else:\n",
    "                num_events = [x.split(\"=\")[1] for x in events]\n",
    "                x= int(num_events[0]) + float(num_events[1])\n",
    "                num = [float(frame),x,float(num_events[2])]\n",
    "                event_all_log.append(num)"
   ]
  },
  {
   "cell_type": "code",
   "execution_count": 41,
   "metadata": {},
   "outputs": [
    {
     "name": "stdout",
     "output_type": "stream",
     "text": [
      "all_fusion 62.0\n",
      "all_fission 61.0\n"
     ]
    }
   ],
   "source": [
    "# frame , fusion, fission \n",
    "event_all_log = (np.transpose(np.array(event_all_log)))\n",
    "print(f\"all_fusion {np.sum(event_all_log[1])}\")\n",
    "print(f\"all_fission {np.sum(event_all_log[2])}\")\n"
   ]
  },
  {
   "cell_type": "code",
   "execution_count": 42,
   "metadata": {},
   "outputs": [
    {
     "data": {
      "text/plain": [
       "array([[  1.,   4.,   6.,   7.,  11.,  12.,  14.,  15.,  16.,  17.,  18.,\n",
       "         19.,  20.,  21.,  22.,  23.,  25.,  27.,  28.,  29.,  33.,  34.,\n",
       "         35.,  36.,  37.,  40.,  41.,  42.,  43.,  44.,  47.,  48.,  49.,\n",
       "         52.,  54.,  55.,  56.,  58.,  59.,  60.,  61.,  62.,  63.,  64.,\n",
       "         65.,  67.,  69.,  71.,  72.,  73.,  74.,  75.,  76.,  78.,  79.,\n",
       "         80.,  82.,  85.,  86.,  87.,  88.,  90.,  91.,  92.,  93.,  94.,\n",
       "         95.,  97.,  99., 100.],\n",
       "       [  1.,   0.,   1.,   1.,   0.,   1.,   1.,   0.,   1.,   1.,   2.,\n",
       "          0.,   1.,   1.,   1.,   1.,   1.,   0.,   1.,   3.,   1.,   1.,\n",
       "          2.,   0.,   1.,   0.,   1.,   2.,   0.,   2.,   2.,   0.,   1.,\n",
       "          1.,   1.,   1.,   1.,   0.,   1.,   0.,   1.,   1.,   1.,   1.,\n",
       "          1.,   1.,   1.,   0.,   0.,   1.,   0.,   1.,   2.,   0.,   0.,\n",
       "          1.,   1.,   2.,   1.,   0.,   2.,   1.,   0.,   2.,   1.,   1.,\n",
       "          1.,   1.,   1.,   0.],\n",
       "       [  0.,   1.,   0.,   0.,   1.,   0.,   1.,   1.,   0.,   1.,   1.,\n",
       "          2.,   0.,   0.,   1.,   1.,   1.,   2.,   0.,   2.,   2.,   0.,\n",
       "          2.,   1.,   1.,   1.,   1.,   2.,   1.,   1.,   0.,   1.,   2.,\n",
       "          0.,   1.,   0.,   1.,   1.,   0.,   1.,   2.,   2.,   2.,   0.,\n",
       "          0.,   1.,   0.,   1.,   1.,   0.,   1.,   0.,   1.,   1.,   2.,\n",
       "          0.,   1.,   1.,   1.,   1.,   0.,   1.,   3.,   0.,   0.,   1.,\n",
       "          0.,   1.,   1.,   2.]])"
      ]
     },
     "execution_count": 42,
     "metadata": {},
     "output_type": "execute_result"
    }
   ],
   "source": [
    "event_all_log"
   ]
  },
  {
   "cell_type": "code",
   "execution_count": 43,
   "metadata": {},
   "outputs": [
    {
     "name": "stdout",
     "output_type": "stream",
     "text": [
      "num_fusion 60\n",
      "num_fission 61\n"
     ]
    },
    {
     "data": {
      "application/vnd.microsoft.datawrangler.viewer.v0+json": {
       "columns": [
        {
         "name": "index",
         "rawType": "int64",
         "type": "integer"
        },
        {
         "name": "y_coordinates",
         "rawType": "float64",
         "type": "float"
        },
        {
         "name": "x_coordinates",
         "rawType": "float64",
         "type": "float"
        }
       ],
       "ref": "ddbb1ff9-6c36-4e26-b623-f6cadb1bad73",
       "rows": [
        [
         "0",
         "176.96922",
         "184.39292"
        ],
        [
         "1",
         "176.53138",
         "188.2503"
        ],
        [
         "2",
         "187.4433",
         "206.2154"
        ],
        [
         "3",
         "190.7563",
         "208.3738"
        ],
        [
         "4",
         "192.3046",
         "175.07611"
        ],
        [
         "5",
         "192.7606",
         "172.50951"
        ],
        [
         "6",
         "192.9082",
         "144.0649"
        ],
        [
         "7",
         "191.6724",
         "144.88389999999998"
        ],
        [
         "8",
         "244.02589999999998",
         "235.02870000000001"
        ],
        [
         "9",
         "241.6562",
         "233.4411"
        ],
        [
         "10",
         "188.02152",
         "150.00560000000002"
        ],
        [
         "11",
         "185.97183",
         "145.3298"
        ],
        [
         "12",
         "149.3605",
         "236.14260000000002"
        ],
        [
         "13",
         "146.03390000000002",
         "232.8476"
        ],
        [
         "14",
         "197.0191",
         "171.84889"
        ],
        [
         "15",
         "201.2549",
         "171.67282"
        ],
        [
         "16",
         "112.77679999999998",
         "210.9044"
        ],
        [
         "17",
         "108.49459999999999",
         "210.9552"
        ],
        [
         "18",
         "167.2587",
         "158.409"
        ],
        [
         "19",
         "169.264",
         "156.6836"
        ],
        [
         "20",
         "167.2587",
         "158.409"
        ],
        [
         "21",
         "162.8807",
         "156.1859"
        ],
        [
         "22",
         "203.2423",
         "223.2977"
        ],
        [
         "23",
         "206.2685",
         "226.1662"
        ],
        [
         "24",
         "188.07748",
         "164.853"
        ],
        [
         "25",
         "185.4616",
         "161.3641"
        ],
        [
         "26",
         "142.54579999999999",
         "238.7002"
        ],
        [
         "27",
         "144.2573",
         "236.2597"
        ],
        [
         "28",
         "203.1094",
         "171.4877"
        ],
        [
         "29",
         "199.5538",
         "171.59381"
        ],
        [
         "30",
         "113.32850000000002",
         "210.8348"
        ],
        [
         "31",
         "107.2305",
         "211.1836"
        ],
        [
         "32",
         "126.51420000000002",
         "220.25"
        ],
        [
         "33",
         "125.0531",
         "219.4948"
        ],
        [
         "34",
         "170.42289",
         "130.8658"
        ],
        [
         "35",
         "174.3434",
         "131.8171"
        ],
        [
         "36",
         "215.1592",
         "170.22065"
        ],
        [
         "37",
         "220.4767",
         "169.10853"
        ],
        [
         "38",
         "163.2089",
         "155.7794"
        ],
        [
         "39",
         "163.9001",
         "153.2707"
        ],
        [
         "40",
         "191.1147",
         "147.5414"
        ],
        [
         "41",
         "190.1802",
         "144.8429"
        ],
        [
         "42",
         "241.35520000000002",
         "242.55309999999997"
        ],
        [
         "43",
         "241.0693",
         "244.2054"
        ],
        [
         "44",
         "118.28",
         "209.611"
        ],
        [
         "45",
         "114.1671",
         "211.5489"
        ],
        [
         "46",
         "131.1162",
         "226.3128"
        ],
        [
         "47",
         "134.06380000000001",
         "230.153"
        ],
        [
         "48",
         "163.9371",
         "156.76409999999998"
        ],
        [
         "49",
         "161.0373",
         "159.2974"
        ]
       ],
       "shape": {
        "columns": 2,
        "rows": 120
       }
      },
      "text/html": [
       "<div>\n",
       "<style scoped>\n",
       "    .dataframe tbody tr th:only-of-type {\n",
       "        vertical-align: middle;\n",
       "    }\n",
       "\n",
       "    .dataframe tbody tr th {\n",
       "        vertical-align: top;\n",
       "    }\n",
       "\n",
       "    .dataframe thead th {\n",
       "        text-align: right;\n",
       "    }\n",
       "</style>\n",
       "<table border=\"1\" class=\"dataframe\">\n",
       "  <thead>\n",
       "    <tr style=\"text-align: right;\">\n",
       "      <th></th>\n",
       "      <th>y_coordinates</th>\n",
       "      <th>x_coordinates</th>\n",
       "    </tr>\n",
       "  </thead>\n",
       "  <tbody>\n",
       "    <tr>\n",
       "      <th>0</th>\n",
       "      <td>176.96922</td>\n",
       "      <td>184.39292</td>\n",
       "    </tr>\n",
       "    <tr>\n",
       "      <th>1</th>\n",
       "      <td>176.53138</td>\n",
       "      <td>188.25030</td>\n",
       "    </tr>\n",
       "    <tr>\n",
       "      <th>2</th>\n",
       "      <td>187.44330</td>\n",
       "      <td>206.21540</td>\n",
       "    </tr>\n",
       "    <tr>\n",
       "      <th>3</th>\n",
       "      <td>190.75630</td>\n",
       "      <td>208.37380</td>\n",
       "    </tr>\n",
       "    <tr>\n",
       "      <th>4</th>\n",
       "      <td>192.30460</td>\n",
       "      <td>175.07611</td>\n",
       "    </tr>\n",
       "    <tr>\n",
       "      <th>...</th>\n",
       "      <td>...</td>\n",
       "      <td>...</td>\n",
       "    </tr>\n",
       "    <tr>\n",
       "      <th>115</th>\n",
       "      <td>271.65960</td>\n",
       "      <td>163.81670</td>\n",
       "    </tr>\n",
       "    <tr>\n",
       "      <th>116</th>\n",
       "      <td>193.00420</td>\n",
       "      <td>211.35980</td>\n",
       "    </tr>\n",
       "    <tr>\n",
       "      <th>117</th>\n",
       "      <td>196.92170</td>\n",
       "      <td>213.30460</td>\n",
       "    </tr>\n",
       "    <tr>\n",
       "      <th>118</th>\n",
       "      <td>242.49980</td>\n",
       "      <td>241.77250</td>\n",
       "    </tr>\n",
       "    <tr>\n",
       "      <th>119</th>\n",
       "      <td>239.24340</td>\n",
       "      <td>239.65850</td>\n",
       "    </tr>\n",
       "  </tbody>\n",
       "</table>\n",
       "<p>120 rows × 2 columns</p>\n",
       "</div>"
      ],
      "text/plain": [
       "     y_coordinates  x_coordinates\n",
       "0        176.96922      184.39292\n",
       "1        176.53138      188.25030\n",
       "2        187.44330      206.21540\n",
       "3        190.75630      208.37380\n",
       "4        192.30460      175.07611\n",
       "..             ...            ...\n",
       "115      271.65960      163.81670\n",
       "116      193.00420      211.35980\n",
       "117      196.92170      213.30460\n",
       "118      242.49980      241.77250\n",
       "119      239.24340      239.65850\n",
       "\n",
       "[120 rows x 2 columns]"
      ]
     },
     "execution_count": 43,
     "metadata": {},
     "output_type": "execute_result"
    }
   ],
   "source": [
    "num_fission,fission_coor = get_coor(\"D:/Internship/NTU/simulation/with_center/fission_position_2.log\", rescaling_x, rescaling_y)\n",
    "num_fusion,fusion_coor = get_coor(\"D:/Internship/NTU/simulation/with_center/fusion_position_2.log\", rescaling_x, rescaling_y)\n",
    "\n",
    "print(f\"num_fusion {num_fusion}\")\n",
    "print(f\"num_fission {num_fission}\")\n",
    "fusion_coor\n"
   ]
  },
  {
   "cell_type": "code",
   "execution_count": 44,
   "metadata": {},
   "outputs": [],
   "source": [
    "# append frame in the coordinate array. \n",
    "# each frame consistingg of at least 2 coordinates, one for each fusion and fission event\n",
    "fusion_frames = []\n",
    "fission_frames = []\n",
    "\n",
    "fusion_idx = 0\n",
    "fission_idx = 0\n",
    "\n",
    "for x in range(len(event_all_log[0])):\n",
    "    if event_all_log[1][x] > 0 :\n",
    "        frame = event_all_log[0][x]\n",
    "        r_frame = np.repeat(frame,event_all_log[1][x]*2 )\n",
    "        if x == 0:\n",
    "            fusion_frames = r_frame\n",
    "        else:\n",
    "            fusion_frames = np.concatenate((fusion_frames,r_frame))\n",
    "        fusion_idx += 1\n",
    "    if event_all_log[2][x] > 0:\n",
    "        frame = event_all_log[0][x]\n",
    "        r_frame = np.repeat(frame,event_all_log[2][x]*2 )\n",
    "\n",
    "        if x == 0:\n",
    "            fission_frames = r_frame\n",
    "        else:\n",
    "            fission_frames = np.concatenate((fission_frames,r_frame))\n",
    "\n",
    "        fission_idx += 1\n",
    "\n",
    "# Assign the lists as new columns in your DataFrames\n",
    "fusion_coor['frame'] = fusion_frames[:-4]\n",
    "fission_coor['frame'] = fission_frames"
   ]
  },
  {
   "cell_type": "code",
   "execution_count": 45,
   "metadata": {},
   "outputs": [],
   "source": [
    "# need 2 loop coz frame are different\n",
    "fusion_coords = []\n",
    "for f in range(len(fusion_coor['frame'])):\n",
    "    frame = int(fusion_coor.iloc[f,2])\n",
    "    target_frame = im[frame]\n",
    "    coor = np.append( fusion_coor.iloc[f,0], fusion_coor.iloc[f,1]) # x,y coordinates or yx?\n",
    "    fusion_coords.append(np.append(frame, coor))\n",
    "\n",
    "fission_coords = []\n",
    "for f in range(len(fission_coor['frame'])):\n",
    "    frame = int(fission_coor.iloc[f,2])\n",
    "    target_frame = im[frame]\n",
    "    coor = np.append( fission_coor.iloc[f,0], fission_coor.iloc[f,1]) # x,y coordinates or yx?\n",
    "    fission_coords.append(np.append(frame, coor))\n"
   ]
  },
  {
   "cell_type": "code",
   "execution_count": 46,
   "metadata": {},
   "outputs": [
    {
     "data": {
      "application/vnd.microsoft.datawrangler.viewer.v0+json": {
       "columns": [
        {
         "name": "index",
         "rawType": "int64",
         "type": "integer"
        },
        {
         "name": "y_coordinates",
         "rawType": "float64",
         "type": "float"
        },
        {
         "name": "x_coordinates",
         "rawType": "float64",
         "type": "float"
        },
        {
         "name": "frame",
         "rawType": "float64",
         "type": "float"
        }
       ],
       "ref": "e538748b-6a6b-4ad7-8e01-55d0ce5a8f9e",
       "rows": [
        [
         "0",
         "176.96922",
         "184.39292",
         "1.0"
        ],
        [
         "1",
         "176.53138",
         "188.2503",
         "1.0"
        ],
        [
         "2",
         "187.4433",
         "206.2154",
         "6.0"
        ],
        [
         "3",
         "190.7563",
         "208.3738",
         "6.0"
        ],
        [
         "4",
         "192.3046",
         "175.07611",
         "7.0"
        ],
        [
         "5",
         "192.7606",
         "172.50951",
         "7.0"
        ],
        [
         "6",
         "192.9082",
         "144.0649",
         "12.0"
        ],
        [
         "7",
         "191.6724",
         "144.88389999999998",
         "12.0"
        ],
        [
         "8",
         "244.02589999999998",
         "235.02870000000001",
         "14.0"
        ],
        [
         "9",
         "241.6562",
         "233.4411",
         "14.0"
        ],
        [
         "10",
         "188.02152",
         "150.00560000000002",
         "16.0"
        ],
        [
         "11",
         "185.97183",
         "145.3298",
         "16.0"
        ],
        [
         "12",
         "149.3605",
         "236.14260000000002",
         "17.0"
        ],
        [
         "13",
         "146.03390000000002",
         "232.8476",
         "17.0"
        ],
        [
         "14",
         "197.0191",
         "171.84889",
         "18.0"
        ],
        [
         "15",
         "201.2549",
         "171.67282",
         "18.0"
        ],
        [
         "16",
         "112.77679999999998",
         "210.9044",
         "18.0"
        ],
        [
         "17",
         "108.49459999999999",
         "210.9552",
         "18.0"
        ],
        [
         "18",
         "167.2587",
         "158.409",
         "20.0"
        ],
        [
         "19",
         "169.264",
         "156.6836",
         "20.0"
        ],
        [
         "20",
         "167.2587",
         "158.409",
         "21.0"
        ],
        [
         "21",
         "162.8807",
         "156.1859",
         "21.0"
        ],
        [
         "22",
         "203.2423",
         "223.2977",
         "22.0"
        ],
        [
         "23",
         "206.2685",
         "226.1662",
         "22.0"
        ],
        [
         "24",
         "188.07748",
         "164.853",
         "23.0"
        ],
        [
         "25",
         "185.4616",
         "161.3641",
         "23.0"
        ],
        [
         "26",
         "142.54579999999999",
         "238.7002",
         "25.0"
        ],
        [
         "27",
         "144.2573",
         "236.2597",
         "25.0"
        ],
        [
         "28",
         "203.1094",
         "171.4877",
         "28.0"
        ],
        [
         "29",
         "199.5538",
         "171.59381",
         "28.0"
        ],
        [
         "30",
         "113.32850000000002",
         "210.8348",
         "29.0"
        ],
        [
         "31",
         "107.2305",
         "211.1836",
         "29.0"
        ],
        [
         "32",
         "126.51420000000002",
         "220.25",
         "29.0"
        ],
        [
         "33",
         "125.0531",
         "219.4948",
         "29.0"
        ],
        [
         "34",
         "170.42289",
         "130.8658",
         "29.0"
        ],
        [
         "35",
         "174.3434",
         "131.8171",
         "29.0"
        ],
        [
         "36",
         "215.1592",
         "170.22065",
         "33.0"
        ],
        [
         "37",
         "220.4767",
         "169.10853",
         "33.0"
        ],
        [
         "38",
         "163.2089",
         "155.7794",
         "34.0"
        ],
        [
         "39",
         "163.9001",
         "153.2707",
         "34.0"
        ],
        [
         "40",
         "191.1147",
         "147.5414",
         "35.0"
        ],
        [
         "41",
         "190.1802",
         "144.8429",
         "35.0"
        ],
        [
         "42",
         "241.35520000000002",
         "242.55309999999997",
         "35.0"
        ],
        [
         "43",
         "241.0693",
         "244.2054",
         "35.0"
        ],
        [
         "44",
         "118.28",
         "209.611",
         "37.0"
        ],
        [
         "45",
         "114.1671",
         "211.5489",
         "37.0"
        ],
        [
         "46",
         "131.1162",
         "226.3128",
         "41.0"
        ],
        [
         "47",
         "134.06380000000001",
         "230.153",
         "41.0"
        ],
        [
         "48",
         "163.9371",
         "156.76409999999998",
         "42.0"
        ],
        [
         "49",
         "161.0373",
         "159.2974",
         "42.0"
        ]
       ],
       "shape": {
        "columns": 3,
        "rows": 120
       }
      },
      "text/html": [
       "<div>\n",
       "<style scoped>\n",
       "    .dataframe tbody tr th:only-of-type {\n",
       "        vertical-align: middle;\n",
       "    }\n",
       "\n",
       "    .dataframe tbody tr th {\n",
       "        vertical-align: top;\n",
       "    }\n",
       "\n",
       "    .dataframe thead th {\n",
       "        text-align: right;\n",
       "    }\n",
       "</style>\n",
       "<table border=\"1\" class=\"dataframe\">\n",
       "  <thead>\n",
       "    <tr style=\"text-align: right;\">\n",
       "      <th></th>\n",
       "      <th>y_coordinates</th>\n",
       "      <th>x_coordinates</th>\n",
       "      <th>frame</th>\n",
       "    </tr>\n",
       "  </thead>\n",
       "  <tbody>\n",
       "    <tr>\n",
       "      <th>0</th>\n",
       "      <td>176.96922</td>\n",
       "      <td>184.39292</td>\n",
       "      <td>1.0</td>\n",
       "    </tr>\n",
       "    <tr>\n",
       "      <th>1</th>\n",
       "      <td>176.53138</td>\n",
       "      <td>188.25030</td>\n",
       "      <td>1.0</td>\n",
       "    </tr>\n",
       "    <tr>\n",
       "      <th>2</th>\n",
       "      <td>187.44330</td>\n",
       "      <td>206.21540</td>\n",
       "      <td>6.0</td>\n",
       "    </tr>\n",
       "    <tr>\n",
       "      <th>3</th>\n",
       "      <td>190.75630</td>\n",
       "      <td>208.37380</td>\n",
       "      <td>6.0</td>\n",
       "    </tr>\n",
       "    <tr>\n",
       "      <th>4</th>\n",
       "      <td>192.30460</td>\n",
       "      <td>175.07611</td>\n",
       "      <td>7.0</td>\n",
       "    </tr>\n",
       "    <tr>\n",
       "      <th>...</th>\n",
       "      <td>...</td>\n",
       "      <td>...</td>\n",
       "      <td>...</td>\n",
       "    </tr>\n",
       "    <tr>\n",
       "      <th>115</th>\n",
       "      <td>271.65960</td>\n",
       "      <td>163.81670</td>\n",
       "      <td>93.0</td>\n",
       "    </tr>\n",
       "    <tr>\n",
       "      <th>116</th>\n",
       "      <td>193.00420</td>\n",
       "      <td>211.35980</td>\n",
       "      <td>94.0</td>\n",
       "    </tr>\n",
       "    <tr>\n",
       "      <th>117</th>\n",
       "      <td>196.92170</td>\n",
       "      <td>213.30460</td>\n",
       "      <td>94.0</td>\n",
       "    </tr>\n",
       "    <tr>\n",
       "      <th>118</th>\n",
       "      <td>242.49980</td>\n",
       "      <td>241.77250</td>\n",
       "      <td>95.0</td>\n",
       "    </tr>\n",
       "    <tr>\n",
       "      <th>119</th>\n",
       "      <td>239.24340</td>\n",
       "      <td>239.65850</td>\n",
       "      <td>95.0</td>\n",
       "    </tr>\n",
       "  </tbody>\n",
       "</table>\n",
       "<p>120 rows × 3 columns</p>\n",
       "</div>"
      ],
      "text/plain": [
       "     y_coordinates  x_coordinates  frame\n",
       "0        176.96922      184.39292    1.0\n",
       "1        176.53138      188.25030    1.0\n",
       "2        187.44330      206.21540    6.0\n",
       "3        190.75630      208.37380    6.0\n",
       "4        192.30460      175.07611    7.0\n",
       "..             ...            ...    ...\n",
       "115      271.65960      163.81670   93.0\n",
       "116      193.00420      211.35980   94.0\n",
       "117      196.92170      213.30460   94.0\n",
       "118      242.49980      241.77250   95.0\n",
       "119      239.24340      239.65850   95.0\n",
       "\n",
       "[120 rows x 3 columns]"
      ]
     },
     "execution_count": 46,
     "metadata": {},
     "output_type": "execute_result"
    }
   ],
   "source": [
    "fusion_coor"
   ]
  },
  {
   "cell_type": "code",
   "execution_count": 47,
   "metadata": {},
   "outputs": [
    {
     "data": {
      "text/plain": [
       "[array([  1.     , 176.96922, 184.39292]),\n",
       " array([  1.     , 176.53138, 188.2503 ]),\n",
       " array([  6.    , 187.4433, 206.2154]),\n",
       " array([  6.    , 190.7563, 208.3738]),\n",
       " array([  7.     , 192.3046 , 175.07611]),\n",
       " array([  7.     , 192.7606 , 172.50951]),\n",
       " array([ 12.    , 192.9082, 144.0649]),\n",
       " array([ 12.    , 191.6724, 144.8839]),\n",
       " array([ 14.    , 244.0259, 235.0287]),\n",
       " array([ 14.    , 241.6562, 233.4411]),\n",
       " array([ 16.     , 188.02152, 150.0056 ]),\n",
       " array([ 16.     , 185.97183, 145.3298 ]),\n",
       " array([ 17.    , 149.3605, 236.1426]),\n",
       " array([ 17.    , 146.0339, 232.8476]),\n",
       " array([ 18.     , 197.0191 , 171.84889]),\n",
       " array([ 18.     , 201.2549 , 171.67282]),\n",
       " array([ 18.    , 112.7768, 210.9044]),\n",
       " array([ 18.    , 108.4946, 210.9552]),\n",
       " array([ 20.    , 167.2587, 158.409 ]),\n",
       " array([ 20.    , 169.264 , 156.6836]),\n",
       " array([ 21.    , 167.2587, 158.409 ]),\n",
       " array([ 21.    , 162.8807, 156.1859]),\n",
       " array([ 22.    , 203.2423, 223.2977]),\n",
       " array([ 22.    , 206.2685, 226.1662]),\n",
       " array([ 23.     , 188.07748, 164.853  ]),\n",
       " array([ 23.    , 185.4616, 161.3641]),\n",
       " array([ 25.    , 142.5458, 238.7002]),\n",
       " array([ 25.    , 144.2573, 236.2597]),\n",
       " array([ 28.    , 203.1094, 171.4877]),\n",
       " array([ 28.     , 199.5538 , 171.59381]),\n",
       " array([ 29.    , 113.3285, 210.8348]),\n",
       " array([ 29.    , 107.2305, 211.1836]),\n",
       " array([ 29.    , 126.5142, 220.25  ]),\n",
       " array([ 29.    , 125.0531, 219.4948]),\n",
       " array([ 29.     , 170.42289, 130.8658 ]),\n",
       " array([ 29.    , 174.3434, 131.8171]),\n",
       " array([ 33.     , 215.1592 , 170.22065]),\n",
       " array([ 33.     , 220.4767 , 169.10853]),\n",
       " array([ 34.    , 163.2089, 155.7794]),\n",
       " array([ 34.    , 163.9001, 153.2707]),\n",
       " array([ 35.    , 191.1147, 147.5414]),\n",
       " array([ 35.    , 190.1802, 144.8429]),\n",
       " array([ 35.    , 241.3552, 242.5531]),\n",
       " array([ 35.    , 241.0693, 244.2054]),\n",
       " array([ 37.   , 118.28 , 209.611]),\n",
       " array([ 37.    , 114.1671, 211.5489]),\n",
       " array([ 41.    , 131.1162, 226.3128]),\n",
       " array([ 41.    , 134.0638, 230.153 ]),\n",
       " array([ 42.    , 163.9371, 156.7641]),\n",
       " array([ 42.    , 161.0373, 159.2974]),\n",
       " array([ 42.    , 203.6849, 224.4891]),\n",
       " array([ 42.    , 207.4373, 226.9833]),\n",
       " array([ 44.    , 239.1721, 233.6094]),\n",
       " array([ 44.    , 237.9115, 236.2996]),\n",
       " array([ 44.    , 137.9247, 126.373 ]),\n",
       " array([ 44.    , 142.3532, 124.3529]),\n",
       " array([ 47.      , 169.6886  , 177.279544]),\n",
       " array([ 47.     , 171.54112, 180.34239]),\n",
       " array([ 47.     , 197.352  , 170.70814]),\n",
       " array([ 47.     , 201.5957 , 171.93894]),\n",
       " array([ 49.    , 271.2135, 165.729 ]),\n",
       " array([ 49.    , 272.748 , 162.0276]),\n",
       " array([ 52.    , 123.7227, 213.1321]),\n",
       " array([ 52.    , 121.2217, 209.7416]),\n",
       " array([ 54.    , 197.1364, 219.7416]),\n",
       " array([ 54.    , 200.2172, 215.2089]),\n",
       " array([ 55.     , 222.9476 , 169.61039]),\n",
       " array([ 55.     , 227.5753 , 169.54927]),\n",
       " array([ 56.    , 123.9033, 213.5195]),\n",
       " array([ 56.    , 119.7344, 213.0633]),\n",
       " array([ 59.    , 142.3629, 125.3229]),\n",
       " array([ 59.    , 149.8735, 126.1615]),\n",
       " array([ 61.     , 178.02923, 185.07451]),\n",
       " array([ 61.     , 174.25177, 182.85503]),\n",
       " array([ 62.    , 245.2529, 235.9487]),\n",
       " array([ 62.    , 246.273 , 238.4203]),\n",
       " array([ 63.    , 122.7821, 210.524 ]),\n",
       " array([ 63.    , 126.0155, 214.6838]),\n",
       " array([ 64.     , 185.23449, 208.7259 ]),\n",
       " array([ 64.     , 189.82822, 207.7222 ]),\n",
       " array([ 65.    , 169.5901, 129.5851]),\n",
       " array([ 65.     , 174.34053, 130.318  ]),\n",
       " array([ 67.      , 169.1799  , 178.188604]),\n",
       " array([ 67.     , 171.80926, 181.92962]),\n",
       " array([ 69.    , 206.2009, 225.0061]),\n",
       " array([ 69.    , 209.1868, 226.8975]),\n",
       " array([ 73.    , 141.61  , 253.1079]),\n",
       " array([ 73.    , 140.3175, 255.6878]),\n",
       " array([ 75.    , 158.1293, 163.8643]),\n",
       " array([ 75.    , 160.7296, 161.4908]),\n",
       " array([ 76.    , 161.6791, 155.8642]),\n",
       " array([ 76.    , 164.9583, 154.9823]),\n",
       " array([ 76.     , 170.96183, 179.18601]),\n",
       " array([ 76.     , 171.14361, 173.82175]),\n",
       " array([ 80.    , 163.0654, 158.0375]),\n",
       " array([ 80.    , 161.3942, 161.6678]),\n",
       " array([ 82.     , 210.5263 , 170.87146]),\n",
       " array([ 82.     , 214.2415 , 170.92405]),\n",
       " array([ 85.    , 259.8408, 167.6262]),\n",
       " array([ 85.     , 263.6812 , 169.43069]),\n",
       " array([ 85.     , 185.89837, 140.7525 ]),\n",
       " array([ 85.    , 187.6319, 144.12  ]),\n",
       " array([ 86.    , 143.5752, 252.866 ]),\n",
       " array([ 86.    , 140.3116, 255.5224]),\n",
       " array([ 88.     , 231.4066 , 170.67408]),\n",
       " array([ 88.     , 235.4164 , 172.07147]),\n",
       " array([ 88.     , 188.65955, 151.8168 ]),\n",
       " array([ 88.     , 185.21989, 145.8356 ]),\n",
       " array([ 90.     , 188.65955, 151.8168 ]),\n",
       " array([ 90.     , 182.36918, 152.6806 ]),\n",
       " array([ 92.     , 187.10801, 145.0926 ]),\n",
       " array([ 92.     , 186.82854, 147.318  ]),\n",
       " array([ 92.     , 197.2465 , 169.82553]),\n",
       " array([ 92.    , 201.6003, 170.218 ]),\n",
       " array([ 93.    , 267.9088, 165.0371]),\n",
       " array([ 93.    , 271.6596, 163.8167]),\n",
       " array([ 94.    , 193.0042, 211.3598]),\n",
       " array([ 94.    , 196.9217, 213.3046]),\n",
       " array([ 95.    , 242.4998, 241.7725]),\n",
       " array([ 95.    , 239.2434, 239.6585])]"
      ]
     },
     "execution_count": 47,
     "metadata": {},
     "output_type": "execute_result"
    }
   ],
   "source": [
    "fusion_coords"
   ]
  },
  {
   "cell_type": "code",
   "execution_count": 48,
   "metadata": {},
   "outputs": [
    {
     "data": {
      "application/vnd.microsoft.datawrangler.viewer.v0+json": {
       "columns": [
        {
         "name": "index",
         "rawType": "int64",
         "type": "integer"
        },
        {
         "name": "y_coordinates",
         "rawType": "float64",
         "type": "float"
        },
        {
         "name": "x_coordinates",
         "rawType": "float64",
         "type": "float"
        },
        {
         "name": "frame",
         "rawType": "float64",
         "type": "float"
        }
       ],
       "ref": "88c86023-06f2-4b16-b0be-5d7adf483f9a",
       "rows": [
        [
         "0",
         "187.81628",
         "206.0722",
         "4.0"
        ],
        [
         "1",
         "191.1201",
         "208.209",
         "4.0"
        ],
        [
         "2",
         "111.7723",
         "210.6155",
         "11.0"
        ],
        [
         "3",
         "107.6133",
         "210.0919",
         "11.0"
        ],
        [
         "4",
         "239.03820000000002",
         "236.0575",
         "14.0"
        ],
        [
         "5",
         "239.8788",
         "232.2904",
         "14.0"
        ],
        [
         "6",
         "184.77515",
         "180.67571",
         "15.0"
        ],
        [
         "7",
         "187.35983",
         "177.561732",
         "15.0"
        ],
        [
         "8",
         "147.6572",
         "233.9687",
         "17.0"
        ],
        [
         "9",
         "144.1173",
         "235.84839999999997",
         "17.0"
        ],
        [
         "10",
         "197.1738",
         "172.00737",
         "18.0"
        ],
        [
         "11",
         "201.1245",
         "171.84211",
         "18.0"
        ],
        [
         "12",
         "203.2609",
         "223.3449",
         "19.0"
        ],
        [
         "13",
         "206.4113",
         "226.2612",
         "19.0"
        ],
        [
         "14",
         "173.48914",
         "159.8734",
         "19.0"
        ],
        [
         "15",
         "177.34471",
         "158.901",
         "19.0"
        ],
        [
         "16",
         "167.8487",
         "157.807",
         "22.0"
        ],
        [
         "17",
         "164.9774",
         "160.4604",
         "22.0"
        ],
        [
         "18",
         "221.6942",
         "168.82737",
         "23.0"
        ],
        [
         "19",
         "217.7948",
         "170.15378",
         "23.0"
        ],
        [
         "20",
         "185.41202",
         "165.327",
         "25.0"
        ],
        [
         "21",
         "185.74023",
         "161.4102",
         "25.0"
        ],
        [
         "22",
         "145.1682",
         "235.3014",
         "27.0"
        ],
        [
         "23",
         "140.8219",
         "235.53289999999998",
         "27.0"
        ],
        [
         "24",
         "108.81290000000001",
         "211.643",
         "27.0"
        ],
        [
         "25",
         "112.613",
         "210.7046",
         "27.0"
        ],
        [
         "26",
         "201.9036",
         "172.47724",
         "29.0"
        ],
        [
         "27",
         "197.8834",
         "172.03925",
         "29.0"
        ],
        [
         "28",
         "128.4273",
         "221.7874",
         "29.0"
        ],
        [
         "29",
         "126.5564",
         "218.15030000000002",
         "29.0"
        ],
        [
         "30",
         "170.16872",
         "131.0251",
         "33.0"
        ],
        [
         "31",
         "174.09382",
         "131.6184",
         "33.0"
        ],
        [
         "32",
         "113.7114",
         "210.72039999999998",
         "33.0"
        ],
        [
         "33",
         "117.7279",
         "209.57150000000001",
         "33.0"
        ],
        [
         "34",
         "166.3509",
         "154.333",
         "35.0"
        ],
        [
         "35",
         "163.4432",
         "151.4892",
         "35.0"
        ],
        [
         "36",
         "189.35069",
         "143.2502",
         "35.0"
        ],
        [
         "37",
         "192.5777",
         "145.3638",
         "35.0"
        ],
        [
         "38",
         "133.1694",
         "229.923",
         "36.0"
        ],
        [
         "39",
         "130.3679",
         "226.6453",
         "36.0"
        ],
        [
         "40",
         "238.733",
         "243.85540000000003",
         "37.0"
        ],
        [
         "41",
         "241.6664",
         "246.94420000000002",
         "37.0"
        ],
        [
         "42",
         "203.9771",
         "224.5347",
         "40.0"
        ],
        [
         "43",
         "206.9899",
         "226.9488",
         "40.0"
        ],
        [
         "44",
         "142.7385",
         "126.94639999999998",
         "41.0"
        ],
        [
         "45",
         "138.8547",
         "127.56909999999999",
         "41.0"
        ],
        [
         "46",
         "243.74490000000003",
         "233.74110000000002",
         "42.0"
        ],
        [
         "47",
         "244.5865",
         "239.3603",
         "42.0"
        ],
        [
         "48",
         "171.49231",
         "180.01954",
         "42.0"
        ],
        [
         "49",
         "168.6517",
         "177.102814",
         "42.0"
        ]
       ],
       "shape": {
        "columns": 3,
        "rows": 122
       }
      },
      "text/html": [
       "<div>\n",
       "<style scoped>\n",
       "    .dataframe tbody tr th:only-of-type {\n",
       "        vertical-align: middle;\n",
       "    }\n",
       "\n",
       "    .dataframe tbody tr th {\n",
       "        vertical-align: top;\n",
       "    }\n",
       "\n",
       "    .dataframe thead th {\n",
       "        text-align: right;\n",
       "    }\n",
       "</style>\n",
       "<table border=\"1\" class=\"dataframe\">\n",
       "  <thead>\n",
       "    <tr style=\"text-align: right;\">\n",
       "      <th></th>\n",
       "      <th>y_coordinates</th>\n",
       "      <th>x_coordinates</th>\n",
       "      <th>frame</th>\n",
       "    </tr>\n",
       "  </thead>\n",
       "  <tbody>\n",
       "    <tr>\n",
       "      <th>0</th>\n",
       "      <td>187.81628</td>\n",
       "      <td>206.07220</td>\n",
       "      <td>4.0</td>\n",
       "    </tr>\n",
       "    <tr>\n",
       "      <th>1</th>\n",
       "      <td>191.12010</td>\n",
       "      <td>208.20900</td>\n",
       "      <td>4.0</td>\n",
       "    </tr>\n",
       "    <tr>\n",
       "      <th>2</th>\n",
       "      <td>111.77230</td>\n",
       "      <td>210.61550</td>\n",
       "      <td>11.0</td>\n",
       "    </tr>\n",
       "    <tr>\n",
       "      <th>3</th>\n",
       "      <td>107.61330</td>\n",
       "      <td>210.09190</td>\n",
       "      <td>11.0</td>\n",
       "    </tr>\n",
       "    <tr>\n",
       "      <th>4</th>\n",
       "      <td>239.03820</td>\n",
       "      <td>236.05750</td>\n",
       "      <td>14.0</td>\n",
       "    </tr>\n",
       "    <tr>\n",
       "      <th>...</th>\n",
       "      <td>...</td>\n",
       "      <td>...</td>\n",
       "      <td>...</td>\n",
       "    </tr>\n",
       "    <tr>\n",
       "      <th>117</th>\n",
       "      <td>238.94210</td>\n",
       "      <td>239.69310</td>\n",
       "      <td>99.0</td>\n",
       "    </tr>\n",
       "    <tr>\n",
       "      <th>118</th>\n",
       "      <td>191.85450</td>\n",
       "      <td>143.72230</td>\n",
       "      <td>100.0</td>\n",
       "    </tr>\n",
       "    <tr>\n",
       "      <th>119</th>\n",
       "      <td>187.77895</td>\n",
       "      <td>145.01420</td>\n",
       "      <td>100.0</td>\n",
       "    </tr>\n",
       "    <tr>\n",
       "      <th>120</th>\n",
       "      <td>247.78230</td>\n",
       "      <td>170.03168</td>\n",
       "      <td>100.0</td>\n",
       "    </tr>\n",
       "    <tr>\n",
       "      <th>121</th>\n",
       "      <td>243.60300</td>\n",
       "      <td>171.06915</td>\n",
       "      <td>100.0</td>\n",
       "    </tr>\n",
       "  </tbody>\n",
       "</table>\n",
       "<p>122 rows × 3 columns</p>\n",
       "</div>"
      ],
      "text/plain": [
       "     y_coordinates  x_coordinates  frame\n",
       "0        187.81628      206.07220    4.0\n",
       "1        191.12010      208.20900    4.0\n",
       "2        111.77230      210.61550   11.0\n",
       "3        107.61330      210.09190   11.0\n",
       "4        239.03820      236.05750   14.0\n",
       "..             ...            ...    ...\n",
       "117      238.94210      239.69310   99.0\n",
       "118      191.85450      143.72230  100.0\n",
       "119      187.77895      145.01420  100.0\n",
       "120      247.78230      170.03168  100.0\n",
       "121      243.60300      171.06915  100.0\n",
       "\n",
       "[122 rows x 3 columns]"
      ]
     },
     "execution_count": 48,
     "metadata": {},
     "output_type": "execute_result"
    }
   ],
   "source": [
    "fission_coor"
   ]
  },
  {
   "cell_type": "markdown",
   "metadata": {},
   "source": [
    "# run visualization"
   ]
  },
  {
   "cell_type": "code",
   "execution_count": 49,
   "metadata": {},
   "outputs": [],
   "source": [
    "middle = np.array([1, translation_y- scalling_y, translation_x-scalling_x])[np.newaxis, :]  # shape (1, 3)\n",
    "for i in range(1, im.shape[0]):\n",
    "    new_row = np.array([i+1, translation_y-scalling_y, translation_x-scalling_x])[np.newaxis, :]\n",
    "    middle = np.vstack((middle, new_row))"
   ]
  },
  {
   "cell_type": "code",
   "execution_count": 118,
   "metadata": {},
   "outputs": [
    {
     "data": {
      "text/plain": [
       "'\\nmiddle = np.array([1, 200, 200])[np.newaxis, :]  # shape (1, 3)\\nfor i in range(1, im.shape[0]):\\n    new_row = np.array([i+1, 200, 200])[np.newaxis, :]\\n    middle = np.vstack((middle, new_row))\\n'"
      ]
     },
     "execution_count": 118,
     "metadata": {},
     "output_type": "execute_result"
    }
   ],
   "source": [
    "'''\n",
    "middle = np.array([1, 200, 200])[np.newaxis, :]  # shape (1, 3)\n",
    "for i in range(1, im.shape[0]):\n",
    "    new_row = np.array([i+1, 200, 200])[np.newaxis, :]\n",
    "    middle = np.vstack((middle, new_row))\n",
    "'''\n"
   ]
  },
  {
   "cell_type": "code",
   "execution_count": 50,
   "metadata": {},
   "outputs": [],
   "source": [
    "# Y is in the first column and X is in the second. \n",
    "test_coord = [np.array([2,0,0]), np.array([2,422.5,0]), np.array([2,845,0]), \n",
    "              np.array([2,0,336]), np.array([2,0,672]), np.array([2,422.5,336]),np.array([  2    , 302.5515, 404.3512])]\n",
    "label = [0,1,2,3,4,5,9] "
   ]
  },
  {
   "cell_type": "code",
   "execution_count": 51,
   "metadata": {},
   "outputs": [],
   "source": [
    "#show image\n",
    "viewer = napari.Viewer()\n",
    "viewer.add_labels(im, name =\"labeled image\")\n",
    "viewer.add_points(middle, face_color='white', size =5, name = \"central point\")\n",
    "viewer.add_points(fusion_coords, face_color='yellow', size =5, name = \"fussion\")\n",
    "viewer.add_points(fission_coords, face_color='green', size =5, name = \"fission\")\n",
    "viewer.add_points(test_coord, face_color='yellow', size =1 , text = label, name = \"label number\")\n",
    "napari.run()\n",
    "\n",
    "#TODO is it the correct position of this iamghe"
   ]
  },
  {
   "cell_type": "code",
   "execution_count": 121,
   "metadata": {},
   "outputs": [
    {
     "data": {
      "text/plain": [
       "'\\n#show image\\nviewer = napari.Viewer()\\nviewer.add_labels(im, name =\"labeled image\")\\nviewer.add_points(middle, face_color=\\'white\\', size =5, name = \"label number\")\\nviewer.add_points(test_coord, face_color=\\'yellow\\', size =1 , text = label, name = \"label number\")\\nnapari.run()\\n'"
      ]
     },
     "execution_count": 121,
     "metadata": {},
     "output_type": "execute_result"
    }
   ],
   "source": [
    "'''\n",
    "#show image\n",
    "viewer = napari.Viewer()\n",
    "viewer.add_labels(im, name =\"labeled image\")\n",
    "viewer.add_points(middle, face_color='white', size =5, name = \"label number\")\n",
    "viewer.add_points(test_coord, face_color='yellow', size =1 , text = label, name = \"label number\")\n",
    "napari.run()\n",
    "'''\n"
   ]
  }
 ],
 "metadata": {
  "kernelspec": {
   "display_name": "napari-env",
   "language": "python",
   "name": "python3"
  },
  "language_info": {
   "codemirror_mode": {
    "name": "ipython",
    "version": 3
   },
   "file_extension": ".py",
   "mimetype": "text/x-python",
   "name": "python",
   "nbconvert_exporter": "python",
   "pygments_lexer": "ipython3",
   "version": "3.10.15"
  }
 },
 "nbformat": 4,
 "nbformat_minor": 2
}
