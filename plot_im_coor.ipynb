{
 "cells": [
  {
   "cell_type": "code",
   "execution_count": 7,
   "metadata": {},
   "outputs": [],
   "source": [
    "import tifffile\n",
    "import numpy as np\n",
    "import pandas as pd\n",
    "import cv2\n",
    "from scipy.ndimage import center_of_mass, extrema\n",
    "import napari \n",
    "import matplotlib.pyplot as plt\n",
    "from skimage import measure\n",
    "import os"
   ]
  },
  {
   "cell_type": "code",
   "execution_count": 8,
   "metadata": {},
   "outputs": [],
   "source": [
    "scalling_x = 20 #20\n",
    "scalling_y = 12#25\n",
    "translation_x = 200 # 422.5\n",
    "translation_y = 200 # 336\n",
    "\n",
    "#dir\n",
    "main_dir = \"D:/Internship/NTU/simulation/simulation_with_center/pdb/\"\n",
    "area_estimation_dir = \"./nellie_output/simulated/low_stride/low_stride1/\"\n",
    "\n",
    "im_path = area_estimation_dir + \"pdb.ome-TYX-T1p0_Y0p15_X0p15-ch0-t0_to_299-im_obj_label_reassigned.ome.tif\"\n",
    "path = area_estimation_dir + \"pdb_event.csv\"\n",
    "feature_csv = area_estimation_dir +  \"pdb.ome-TYX-T1p0_Y0p15_X0p15-ch0-t0_to_299-features_organelles.csv\""
   ]
  },
  {
   "cell_type": "markdown",
   "metadata": {},
   "source": [
    "# load function and image"
   ]
  },
  {
   "cell_type": "code",
   "execution_count": 9,
   "metadata": {},
   "outputs": [],
   "source": [
    "def get_coor (path_to_log_file,rescaleX,rescaleY):\n",
    "    with open(path_to_log_file, \"r\", encoding='utf-8-sig') as f:\n",
    "        string = f.read()\n",
    "        lines = string.split(\"\\n\")\n",
    "        num = 1\n",
    "        event_num = []\n",
    "        x_coordinates = []\n",
    "        y_coordinates = []\n",
    "        for line in lines:\n",
    "\n",
    "            if len(line ) != 0:\n",
    "                if (int(num) - 1)% 3  == 0: \n",
    "                    event_num.append(num)\n",
    "                    num+=1\n",
    "                \n",
    "                else: \n",
    "                    y = line[1:-1].split(',')[1]\n",
    "                    x = line[1:-1].split(',')[0]\n",
    "                    y_coordinates.append((rescaleY * (-float(y)))+translation_y-scalling_y)\n",
    "                    x_coordinates.append((rescaleX * float(x))+ translation_x-scalling_x)\n",
    "                    #note: with center simulation Y -20 X -35\n",
    "                    # \n",
    "                    num+=1\n",
    "    return len(event_num) , pd.DataFrame({'y_coordinates': y_coordinates, 'x_coordinates': x_coordinates}) "
   ]
  },
  {
   "cell_type": "code",
   "execution_count": 10,
   "metadata": {},
   "outputs": [
    {
     "data": {
      "text/plain": [
       "(1.0, 1.0)"
      ]
     },
     "execution_count": 10,
     "metadata": {},
     "output_type": "execute_result"
    }
   ],
   "source": [
    "# Load tiff file and log position\n",
    "#im_path = \"D:/Internship/NTU/simulation/with_center/simulation1/multi_center_resized.ome.tif\"\n",
    "#im_path = main_dir + \"low_stride.ome.tif\"\n",
    "im = tifffile.imread(im_path)\n",
    "rescaling_y = im.shape[1]/400\n",
    "rescaling_x = im.shape[2]/400\n",
    "rescaling_y,rescaling_x"
   ]
  },
  {
   "cell_type": "code",
   "execution_count": 11,
   "metadata": {},
   "outputs": [
    {
     "data": {
      "text/plain": [
       "(300, 400, 400)"
      ]
     },
     "execution_count": 11,
     "metadata": {},
     "output_type": "execute_result"
    }
   ],
   "source": [
    "im.shape"
   ]
  },
  {
   "cell_type": "code",
   "execution_count": 12,
   "metadata": {},
   "outputs": [],
   "source": [
    "event_all_log = []\n",
    "path_nonZero = main_dir + \"nonzero_frames_final.log\"\n",
    "with open(path_nonZero, \"r\", encoding='utf-8-sig') as f:\n",
    "    string = f.read()\n",
    "    lines = string.split(\"\\n\")\n",
    "    for line in lines:\n",
    "        if len(line ) != 0:\n",
    "            events = line.split(\":\")[1].split(\",\")\n",
    "            frame = line.split(\":\")[0].split()[1]\n",
    "           \n",
    "            if len(events) == 1 :\n",
    "                continue\n",
    "            else:\n",
    "                num_events = [x.split(\"=\")[1] for x in events]\n",
    "                x= int(num_events[0]) + float(num_events[1])\n",
    "                num = [float(frame)-2,x,float(num_events[2])]\n",
    "                event_all_log.append(num)"
   ]
  },
  {
   "cell_type": "code",
   "execution_count": 13,
   "metadata": {},
   "outputs": [
    {
     "name": "stdout",
     "output_type": "stream",
     "text": [
      "all_fusion 12.0\n",
      "all_fission 10.0\n"
     ]
    }
   ],
   "source": [
    "# frame , fusion, fission \n",
    "event_all_log = (np.transpose(np.array(event_all_log)))\n",
    "print(f\"all_fusion {np.sum(event_all_log[1])}\")\n",
    "print(f\"all_fission {np.sum(event_all_log[2])}\")\n"
   ]
  },
  {
   "cell_type": "code",
   "execution_count": 14,
   "metadata": {},
   "outputs": [
    {
     "name": "stdout",
     "output_type": "stream",
     "text": [
      "num_fusion 12\n",
      "num_fission 10\n"
     ]
    },
    {
     "data": {
      "application/vnd.microsoft.datawrangler.viewer.v0+json": {
       "columns": [
        {
         "name": "index",
         "rawType": "int64",
         "type": "integer"
        },
        {
         "name": "y_coordinates",
         "rawType": "float64",
         "type": "float"
        },
        {
         "name": "x_coordinates",
         "rawType": "float64",
         "type": "float"
        }
       ],
       "ref": "9c45b5f6-8c67-4d94-b829-5fe9b54492e5",
       "rows": [
        [
         "0",
         "135.1783",
         "223.1584"
        ],
        [
         "1",
         "134.4939",
         "227.0486"
        ],
        [
         "2",
         "244.95799999999997",
         "172.68748"
        ],
        [
         "3",
         "249.0811",
         "172.30324"
        ],
        [
         "4",
         "156.7277",
         "128.6422"
        ],
        [
         "5",
         "160.4583",
         "128.11509999999998"
        ],
        [
         "6",
         "181.40208",
         "192.47899999999998"
        ],
        [
         "7",
         "177.9734",
         "190.5754"
        ],
        [
         "8",
         "160.6936",
         "128.48669999999998"
        ],
        [
         "9",
         "156.6294",
         "129.2862"
        ],
        [
         "10",
         "176.213",
         "169.7047"
        ],
        [
         "11",
         "175.8285",
         "165.711"
        ],
        [
         "12",
         "172.0116",
         "131.19"
        ],
        [
         "13",
         "167.9451",
         "130.2481"
        ],
        [
         "14",
         "185.55024",
         "189.46798"
        ],
        [
         "15",
         "182.04796",
         "192.4124"
        ],
        [
         "16",
         "210.8063",
         "170.61953"
        ],
        [
         "17",
         "206.6448",
         "170.78684"
        ],
        [
         "18",
         "185.73299",
         "189.35743"
        ],
        [
         "19",
         "189.39502",
         "189.36518"
        ]
       ],
       "shape": {
        "columns": 2,
        "rows": 20
       }
      },
      "text/html": [
       "<div>\n",
       "<style scoped>\n",
       "    .dataframe tbody tr th:only-of-type {\n",
       "        vertical-align: middle;\n",
       "    }\n",
       "\n",
       "    .dataframe tbody tr th {\n",
       "        vertical-align: top;\n",
       "    }\n",
       "\n",
       "    .dataframe thead th {\n",
       "        text-align: right;\n",
       "    }\n",
       "</style>\n",
       "<table border=\"1\" class=\"dataframe\">\n",
       "  <thead>\n",
       "    <tr style=\"text-align: right;\">\n",
       "      <th></th>\n",
       "      <th>y_coordinates</th>\n",
       "      <th>x_coordinates</th>\n",
       "    </tr>\n",
       "  </thead>\n",
       "  <tbody>\n",
       "    <tr>\n",
       "      <th>0</th>\n",
       "      <td>135.17830</td>\n",
       "      <td>223.15840</td>\n",
       "    </tr>\n",
       "    <tr>\n",
       "      <th>1</th>\n",
       "      <td>134.49390</td>\n",
       "      <td>227.04860</td>\n",
       "    </tr>\n",
       "    <tr>\n",
       "      <th>2</th>\n",
       "      <td>244.95800</td>\n",
       "      <td>172.68748</td>\n",
       "    </tr>\n",
       "    <tr>\n",
       "      <th>3</th>\n",
       "      <td>249.08110</td>\n",
       "      <td>172.30324</td>\n",
       "    </tr>\n",
       "    <tr>\n",
       "      <th>4</th>\n",
       "      <td>156.72770</td>\n",
       "      <td>128.64220</td>\n",
       "    </tr>\n",
       "    <tr>\n",
       "      <th>5</th>\n",
       "      <td>160.45830</td>\n",
       "      <td>128.11510</td>\n",
       "    </tr>\n",
       "    <tr>\n",
       "      <th>6</th>\n",
       "      <td>181.40208</td>\n",
       "      <td>192.47900</td>\n",
       "    </tr>\n",
       "    <tr>\n",
       "      <th>7</th>\n",
       "      <td>177.97340</td>\n",
       "      <td>190.57540</td>\n",
       "    </tr>\n",
       "    <tr>\n",
       "      <th>8</th>\n",
       "      <td>160.69360</td>\n",
       "      <td>128.48670</td>\n",
       "    </tr>\n",
       "    <tr>\n",
       "      <th>9</th>\n",
       "      <td>156.62940</td>\n",
       "      <td>129.28620</td>\n",
       "    </tr>\n",
       "    <tr>\n",
       "      <th>10</th>\n",
       "      <td>176.21300</td>\n",
       "      <td>169.70470</td>\n",
       "    </tr>\n",
       "    <tr>\n",
       "      <th>11</th>\n",
       "      <td>175.82850</td>\n",
       "      <td>165.71100</td>\n",
       "    </tr>\n",
       "    <tr>\n",
       "      <th>12</th>\n",
       "      <td>172.01160</td>\n",
       "      <td>131.19000</td>\n",
       "    </tr>\n",
       "    <tr>\n",
       "      <th>13</th>\n",
       "      <td>167.94510</td>\n",
       "      <td>130.24810</td>\n",
       "    </tr>\n",
       "    <tr>\n",
       "      <th>14</th>\n",
       "      <td>185.55024</td>\n",
       "      <td>189.46798</td>\n",
       "    </tr>\n",
       "    <tr>\n",
       "      <th>15</th>\n",
       "      <td>182.04796</td>\n",
       "      <td>192.41240</td>\n",
       "    </tr>\n",
       "    <tr>\n",
       "      <th>16</th>\n",
       "      <td>210.80630</td>\n",
       "      <td>170.61953</td>\n",
       "    </tr>\n",
       "    <tr>\n",
       "      <th>17</th>\n",
       "      <td>206.64480</td>\n",
       "      <td>170.78684</td>\n",
       "    </tr>\n",
       "    <tr>\n",
       "      <th>18</th>\n",
       "      <td>185.73299</td>\n",
       "      <td>189.35743</td>\n",
       "    </tr>\n",
       "    <tr>\n",
       "      <th>19</th>\n",
       "      <td>189.39502</td>\n",
       "      <td>189.36518</td>\n",
       "    </tr>\n",
       "  </tbody>\n",
       "</table>\n",
       "</div>"
      ],
      "text/plain": [
       "    y_coordinates  x_coordinates\n",
       "0       135.17830      223.15840\n",
       "1       134.49390      227.04860\n",
       "2       244.95800      172.68748\n",
       "3       249.08110      172.30324\n",
       "4       156.72770      128.64220\n",
       "5       160.45830      128.11510\n",
       "6       181.40208      192.47900\n",
       "7       177.97340      190.57540\n",
       "8       160.69360      128.48670\n",
       "9       156.62940      129.28620\n",
       "10      176.21300      169.70470\n",
       "11      175.82850      165.71100\n",
       "12      172.01160      131.19000\n",
       "13      167.94510      130.24810\n",
       "14      185.55024      189.46798\n",
       "15      182.04796      192.41240\n",
       "16      210.80630      170.61953\n",
       "17      206.64480      170.78684\n",
       "18      185.73299      189.35743\n",
       "19      189.39502      189.36518"
      ]
     },
     "execution_count": 14,
     "metadata": {},
     "output_type": "execute_result"
    }
   ],
   "source": [
    "path1_fis = main_dir + \"fission_position_2.log\"\n",
    "path1_fus = main_dir+ \"fusion_position_2.log\"\n",
    "\n",
    "num_fission,fission_coor = get_coor(path1_fis, rescaling_x, rescaling_y)\n",
    "num_fusion,fusion_coor = get_coor(path1_fus, rescaling_x, rescaling_y)\n",
    "\n",
    "print(f\"num_fusion {num_fusion}\")\n",
    "print(f\"num_fission {num_fission}\")\n",
    "fission_coor\n"
   ]
  },
  {
   "cell_type": "code",
   "execution_count": 15,
   "metadata": {},
   "outputs": [],
   "source": [
    "# append frame in the coordinate array. \n",
    "# each frame consistingg of at least 2 coordinates, one for each fusion and fission event\n",
    "fusion_frames = []\n",
    "fission_frames = []\n",
    "\n",
    "fusion_idx = 0\n",
    "fission_idx = 0\n",
    "\n",
    "for x in range(len(event_all_log[0])):\n",
    "    if event_all_log[1][x] > 0 :\n",
    "        frame = event_all_log[0][x]\n",
    "        r_frame = np.repeat(frame,event_all_log[1][x]*2 )\n",
    "        if x == 0:\n",
    "            fusion_frames = r_frame\n",
    "        else:\n",
    "            fusion_frames = np.concatenate((fusion_frames,r_frame))\n",
    "        fusion_idx += 1\n",
    "    if event_all_log[2][x] > 0:\n",
    "        frame = event_all_log[0][x]\n",
    "        r_frame = np.repeat(frame,event_all_log[2][x]*2 )\n",
    "\n",
    "        if x == 0:\n",
    "            fission_frames = r_frame\n",
    "        else:\n",
    "            fission_frames = np.concatenate((fission_frames,r_frame))\n",
    "\n",
    "        fission_idx += 1\n",
    "\n",
    "# Assign the lists as new columns in your DataFrames\n",
    "fusion_coor['frame'] = fusion_frames\n",
    "fission_coor['frame'] = fission_frames"
   ]
  },
  {
   "cell_type": "code",
   "execution_count": 16,
   "metadata": {},
   "outputs": [],
   "source": [
    "# need 2 loop coz frame are different\n",
    "fusion_coords = []\n",
    "for f in range(len(fusion_coor['frame'])):\n",
    "    frame = int(fusion_coor.iloc[f,2])\n",
    "    target_frame = im[frame]\n",
    "    coor = np.append( fusion_coor.iloc[f,0], fusion_coor.iloc[f,1]) # x,y coordinates or yx?\n",
    "    fusion_coords.append(np.append(frame, coor))\n",
    "\n",
    "fission_coords = []\n",
    "for f in range(len(fission_coor['frame'])):\n",
    "    frame = int(fission_coor.iloc[f,2])\n",
    "    target_frame = im[frame]\n",
    "    coor = np.append( fission_coor.iloc[f,0], fission_coor.iloc[f,1]) # x,y coordinates or yx?\n",
    "    fission_coords.append(np.append(frame, coor))\n"
   ]
  },
  {
   "cell_type": "markdown",
   "metadata": {},
   "source": [
    "# check data\n"
   ]
  },
  {
   "cell_type": "code",
   "execution_count": 17,
   "metadata": {},
   "outputs": [
    {
     "data": {
      "application/vnd.microsoft.datawrangler.viewer.v0+json": {
       "columns": [
        {
         "name": "index",
         "rawType": "int64",
         "type": "integer"
        },
        {
         "name": "y_coordinates",
         "rawType": "float64",
         "type": "float"
        },
        {
         "name": "x_coordinates",
         "rawType": "float64",
         "type": "float"
        },
        {
         "name": "frame",
         "rawType": "float64",
         "type": "float"
        }
       ],
       "ref": "584d8a09-f395-42cc-b6a4-acfb9f9e7190",
       "rows": [
        [
         "0",
         "135.1783",
         "223.1584",
         "1.0"
        ],
        [
         "1",
         "134.4939",
         "227.0486",
         "1.0"
        ],
        [
         "2",
         "244.95799999999997",
         "172.68748",
         "35.0"
        ],
        [
         "3",
         "249.0811",
         "172.30324",
         "35.0"
        ],
        [
         "4",
         "156.7277",
         "128.6422",
         "144.0"
        ],
        [
         "5",
         "160.4583",
         "128.11509999999998",
         "144.0"
        ],
        [
         "6",
         "181.40208",
         "192.47899999999998",
         "180.0"
        ],
        [
         "7",
         "177.9734",
         "190.5754",
         "180.0"
        ],
        [
         "8",
         "160.6936",
         "128.48669999999998",
         "188.0"
        ],
        [
         "9",
         "156.6294",
         "129.2862",
         "188.0"
        ],
        [
         "10",
         "176.213",
         "169.7047",
         "192.0"
        ],
        [
         "11",
         "175.8285",
         "165.711",
         "192.0"
        ],
        [
         "12",
         "172.0116",
         "131.19",
         "235.0"
        ],
        [
         "13",
         "167.9451",
         "130.2481",
         "235.0"
        ],
        [
         "14",
         "185.55024",
         "189.46798",
         "279.0"
        ],
        [
         "15",
         "182.04796",
         "192.4124",
         "279.0"
        ],
        [
         "16",
         "210.8063",
         "170.61953",
         "284.0"
        ],
        [
         "17",
         "206.6448",
         "170.78684",
         "284.0"
        ],
        [
         "18",
         "185.73299",
         "189.35743",
         "296.0"
        ],
        [
         "19",
         "189.39502",
         "189.36518",
         "296.0"
        ]
       ],
       "shape": {
        "columns": 3,
        "rows": 20
       }
      },
      "text/html": [
       "<div>\n",
       "<style scoped>\n",
       "    .dataframe tbody tr th:only-of-type {\n",
       "        vertical-align: middle;\n",
       "    }\n",
       "\n",
       "    .dataframe tbody tr th {\n",
       "        vertical-align: top;\n",
       "    }\n",
       "\n",
       "    .dataframe thead th {\n",
       "        text-align: right;\n",
       "    }\n",
       "</style>\n",
       "<table border=\"1\" class=\"dataframe\">\n",
       "  <thead>\n",
       "    <tr style=\"text-align: right;\">\n",
       "      <th></th>\n",
       "      <th>y_coordinates</th>\n",
       "      <th>x_coordinates</th>\n",
       "      <th>frame</th>\n",
       "    </tr>\n",
       "  </thead>\n",
       "  <tbody>\n",
       "    <tr>\n",
       "      <th>0</th>\n",
       "      <td>135.17830</td>\n",
       "      <td>223.15840</td>\n",
       "      <td>1.0</td>\n",
       "    </tr>\n",
       "    <tr>\n",
       "      <th>1</th>\n",
       "      <td>134.49390</td>\n",
       "      <td>227.04860</td>\n",
       "      <td>1.0</td>\n",
       "    </tr>\n",
       "    <tr>\n",
       "      <th>2</th>\n",
       "      <td>244.95800</td>\n",
       "      <td>172.68748</td>\n",
       "      <td>35.0</td>\n",
       "    </tr>\n",
       "    <tr>\n",
       "      <th>3</th>\n",
       "      <td>249.08110</td>\n",
       "      <td>172.30324</td>\n",
       "      <td>35.0</td>\n",
       "    </tr>\n",
       "    <tr>\n",
       "      <th>4</th>\n",
       "      <td>156.72770</td>\n",
       "      <td>128.64220</td>\n",
       "      <td>144.0</td>\n",
       "    </tr>\n",
       "    <tr>\n",
       "      <th>5</th>\n",
       "      <td>160.45830</td>\n",
       "      <td>128.11510</td>\n",
       "      <td>144.0</td>\n",
       "    </tr>\n",
       "    <tr>\n",
       "      <th>6</th>\n",
       "      <td>181.40208</td>\n",
       "      <td>192.47900</td>\n",
       "      <td>180.0</td>\n",
       "    </tr>\n",
       "    <tr>\n",
       "      <th>7</th>\n",
       "      <td>177.97340</td>\n",
       "      <td>190.57540</td>\n",
       "      <td>180.0</td>\n",
       "    </tr>\n",
       "    <tr>\n",
       "      <th>8</th>\n",
       "      <td>160.69360</td>\n",
       "      <td>128.48670</td>\n",
       "      <td>188.0</td>\n",
       "    </tr>\n",
       "    <tr>\n",
       "      <th>9</th>\n",
       "      <td>156.62940</td>\n",
       "      <td>129.28620</td>\n",
       "      <td>188.0</td>\n",
       "    </tr>\n",
       "    <tr>\n",
       "      <th>10</th>\n",
       "      <td>176.21300</td>\n",
       "      <td>169.70470</td>\n",
       "      <td>192.0</td>\n",
       "    </tr>\n",
       "    <tr>\n",
       "      <th>11</th>\n",
       "      <td>175.82850</td>\n",
       "      <td>165.71100</td>\n",
       "      <td>192.0</td>\n",
       "    </tr>\n",
       "    <tr>\n",
       "      <th>12</th>\n",
       "      <td>172.01160</td>\n",
       "      <td>131.19000</td>\n",
       "      <td>235.0</td>\n",
       "    </tr>\n",
       "    <tr>\n",
       "      <th>13</th>\n",
       "      <td>167.94510</td>\n",
       "      <td>130.24810</td>\n",
       "      <td>235.0</td>\n",
       "    </tr>\n",
       "    <tr>\n",
       "      <th>14</th>\n",
       "      <td>185.55024</td>\n",
       "      <td>189.46798</td>\n",
       "      <td>279.0</td>\n",
       "    </tr>\n",
       "    <tr>\n",
       "      <th>15</th>\n",
       "      <td>182.04796</td>\n",
       "      <td>192.41240</td>\n",
       "      <td>279.0</td>\n",
       "    </tr>\n",
       "    <tr>\n",
       "      <th>16</th>\n",
       "      <td>210.80630</td>\n",
       "      <td>170.61953</td>\n",
       "      <td>284.0</td>\n",
       "    </tr>\n",
       "    <tr>\n",
       "      <th>17</th>\n",
       "      <td>206.64480</td>\n",
       "      <td>170.78684</td>\n",
       "      <td>284.0</td>\n",
       "    </tr>\n",
       "    <tr>\n",
       "      <th>18</th>\n",
       "      <td>185.73299</td>\n",
       "      <td>189.35743</td>\n",
       "      <td>296.0</td>\n",
       "    </tr>\n",
       "    <tr>\n",
       "      <th>19</th>\n",
       "      <td>189.39502</td>\n",
       "      <td>189.36518</td>\n",
       "      <td>296.0</td>\n",
       "    </tr>\n",
       "  </tbody>\n",
       "</table>\n",
       "</div>"
      ],
      "text/plain": [
       "    y_coordinates  x_coordinates  frame\n",
       "0       135.17830      223.15840    1.0\n",
       "1       134.49390      227.04860    1.0\n",
       "2       244.95800      172.68748   35.0\n",
       "3       249.08110      172.30324   35.0\n",
       "4       156.72770      128.64220  144.0\n",
       "5       160.45830      128.11510  144.0\n",
       "6       181.40208      192.47900  180.0\n",
       "7       177.97340      190.57540  180.0\n",
       "8       160.69360      128.48670  188.0\n",
       "9       156.62940      129.28620  188.0\n",
       "10      176.21300      169.70470  192.0\n",
       "11      175.82850      165.71100  192.0\n",
       "12      172.01160      131.19000  235.0\n",
       "13      167.94510      130.24810  235.0\n",
       "14      185.55024      189.46798  279.0\n",
       "15      182.04796      192.41240  279.0\n",
       "16      210.80630      170.61953  284.0\n",
       "17      206.64480      170.78684  284.0\n",
       "18      185.73299      189.35743  296.0\n",
       "19      189.39502      189.36518  296.0"
      ]
     },
     "execution_count": 17,
     "metadata": {},
     "output_type": "execute_result"
    }
   ],
   "source": [
    "fission_coor"
   ]
  },
  {
   "cell_type": "code",
   "execution_count": 18,
   "metadata": {},
   "outputs": [
    {
     "data": {
      "text/plain": [
       "[array([  6.     , 185.74517, 189.03531]),\n",
       " array([  6.     , 186.98184, 192.7074 ]),\n",
       " array([  8.    , 203.2661, 145.8333]),\n",
       " array([  8.    , 202.4806, 148.3896]),\n",
       " array([  9.    , 134.861 , 223.2359]),\n",
       " array([  9.    , 134.6771, 227.478 ]),\n",
       " array([ 15.    , 165.3222, 181.4928]),\n",
       " array([ 15.     , 163.1886 , 178.72855]),\n",
       " array([ 30.    , 199.1727, 168.6733]),\n",
       " array([ 30.     , 200.768  , 172.45567]),\n",
       " array([ 49.     , 247.0053 , 171.68413]),\n",
       " array([ 49.    , 246.7502, 171.2589]),\n",
       " array([164.    , 156.2949, 128.8944]),\n",
       " array([164.    , 160.761 , 128.2933]),\n",
       " array([191.     , 178.41332, 191.4283 ]),\n",
       " array([191.    , 176.9939, 190.7898]),\n",
       " array([196.     , 197.89665, 152.2893 ]),\n",
       " array([196.     , 194.40576, 151.1789 ]),\n",
       " array([247.    , 162.0945, 125.9883]),\n",
       " array([247.    , 157.2665, 129.0759]),\n",
       " array([276.    , 165.2708, 130.336 ]),\n",
       " array([276.    , 170.7143, 131.2755]),\n",
       " array([286.    , 172.3895, 161.5802]),\n",
       " array([286.    , 175.3092, 164.0606])]"
      ]
     },
     "execution_count": 18,
     "metadata": {},
     "output_type": "execute_result"
    }
   ],
   "source": [
    "fusion_coords"
   ]
  },
  {
   "cell_type": "code",
   "execution_count": 19,
   "metadata": {},
   "outputs": [
    {
     "data": {
      "application/vnd.microsoft.datawrangler.viewer.v0+json": {
       "columns": [
        {
         "name": "index",
         "rawType": "int64",
         "type": "integer"
        },
        {
         "name": "y_coordinates",
         "rawType": "float64",
         "type": "float"
        },
        {
         "name": "x_coordinates",
         "rawType": "float64",
         "type": "float"
        },
        {
         "name": "frame",
         "rawType": "float64",
         "type": "float"
        }
       ],
       "ref": "5bdc6dbe-5b39-4e31-9127-3819a36837f7",
       "rows": [
        [
         "0",
         "185.74517",
         "189.03531",
         "6.0"
        ],
        [
         "1",
         "186.98184",
         "192.7074",
         "6.0"
        ],
        [
         "2",
         "203.2661",
         "145.8333",
         "8.0"
        ],
        [
         "3",
         "202.4806",
         "148.3896",
         "8.0"
        ],
        [
         "4",
         "134.861",
         "223.23590000000002",
         "9.0"
        ],
        [
         "5",
         "134.6771",
         "227.478",
         "9.0"
        ],
        [
         "6",
         "165.3222",
         "181.4928",
         "15.0"
        ],
        [
         "7",
         "163.1886",
         "178.72855",
         "15.0"
        ],
        [
         "8",
         "199.1727",
         "168.6733",
         "30.0"
        ],
        [
         "9",
         "200.768",
         "172.45567",
         "30.0"
        ],
        [
         "10",
         "247.00529999999998",
         "171.68413",
         "49.0"
        ],
        [
         "11",
         "246.7502",
         "171.2589",
         "49.0"
        ],
        [
         "12",
         "156.29489999999998",
         "128.8944",
         "164.0"
        ],
        [
         "13",
         "160.761",
         "128.2933",
         "164.0"
        ],
        [
         "14",
         "178.41332",
         "191.4283",
         "191.0"
        ],
        [
         "15",
         "176.9939",
         "190.7898",
         "191.0"
        ],
        [
         "16",
         "197.89665",
         "152.2893",
         "196.0"
        ],
        [
         "17",
         "194.40576",
         "151.1789",
         "196.0"
        ],
        [
         "18",
         "162.0945",
         "125.98830000000001",
         "247.0"
        ],
        [
         "19",
         "157.2665",
         "129.0759",
         "247.0"
        ],
        [
         "20",
         "165.2708",
         "130.336",
         "276.0"
        ],
        [
         "21",
         "170.7143",
         "131.2755",
         "276.0"
        ],
        [
         "22",
         "172.3895",
         "161.5802",
         "286.0"
        ],
        [
         "23",
         "175.3092",
         "164.0606",
         "286.0"
        ]
       ],
       "shape": {
        "columns": 3,
        "rows": 24
       }
      },
      "text/html": [
       "<div>\n",
       "<style scoped>\n",
       "    .dataframe tbody tr th:only-of-type {\n",
       "        vertical-align: middle;\n",
       "    }\n",
       "\n",
       "    .dataframe tbody tr th {\n",
       "        vertical-align: top;\n",
       "    }\n",
       "\n",
       "    .dataframe thead th {\n",
       "        text-align: right;\n",
       "    }\n",
       "</style>\n",
       "<table border=\"1\" class=\"dataframe\">\n",
       "  <thead>\n",
       "    <tr style=\"text-align: right;\">\n",
       "      <th></th>\n",
       "      <th>y_coordinates</th>\n",
       "      <th>x_coordinates</th>\n",
       "      <th>frame</th>\n",
       "    </tr>\n",
       "  </thead>\n",
       "  <tbody>\n",
       "    <tr>\n",
       "      <th>0</th>\n",
       "      <td>185.74517</td>\n",
       "      <td>189.03531</td>\n",
       "      <td>6.0</td>\n",
       "    </tr>\n",
       "    <tr>\n",
       "      <th>1</th>\n",
       "      <td>186.98184</td>\n",
       "      <td>192.70740</td>\n",
       "      <td>6.0</td>\n",
       "    </tr>\n",
       "    <tr>\n",
       "      <th>2</th>\n",
       "      <td>203.26610</td>\n",
       "      <td>145.83330</td>\n",
       "      <td>8.0</td>\n",
       "    </tr>\n",
       "    <tr>\n",
       "      <th>3</th>\n",
       "      <td>202.48060</td>\n",
       "      <td>148.38960</td>\n",
       "      <td>8.0</td>\n",
       "    </tr>\n",
       "    <tr>\n",
       "      <th>4</th>\n",
       "      <td>134.86100</td>\n",
       "      <td>223.23590</td>\n",
       "      <td>9.0</td>\n",
       "    </tr>\n",
       "    <tr>\n",
       "      <th>5</th>\n",
       "      <td>134.67710</td>\n",
       "      <td>227.47800</td>\n",
       "      <td>9.0</td>\n",
       "    </tr>\n",
       "    <tr>\n",
       "      <th>6</th>\n",
       "      <td>165.32220</td>\n",
       "      <td>181.49280</td>\n",
       "      <td>15.0</td>\n",
       "    </tr>\n",
       "    <tr>\n",
       "      <th>7</th>\n",
       "      <td>163.18860</td>\n",
       "      <td>178.72855</td>\n",
       "      <td>15.0</td>\n",
       "    </tr>\n",
       "    <tr>\n",
       "      <th>8</th>\n",
       "      <td>199.17270</td>\n",
       "      <td>168.67330</td>\n",
       "      <td>30.0</td>\n",
       "    </tr>\n",
       "    <tr>\n",
       "      <th>9</th>\n",
       "      <td>200.76800</td>\n",
       "      <td>172.45567</td>\n",
       "      <td>30.0</td>\n",
       "    </tr>\n",
       "    <tr>\n",
       "      <th>10</th>\n",
       "      <td>247.00530</td>\n",
       "      <td>171.68413</td>\n",
       "      <td>49.0</td>\n",
       "    </tr>\n",
       "    <tr>\n",
       "      <th>11</th>\n",
       "      <td>246.75020</td>\n",
       "      <td>171.25890</td>\n",
       "      <td>49.0</td>\n",
       "    </tr>\n",
       "    <tr>\n",
       "      <th>12</th>\n",
       "      <td>156.29490</td>\n",
       "      <td>128.89440</td>\n",
       "      <td>164.0</td>\n",
       "    </tr>\n",
       "    <tr>\n",
       "      <th>13</th>\n",
       "      <td>160.76100</td>\n",
       "      <td>128.29330</td>\n",
       "      <td>164.0</td>\n",
       "    </tr>\n",
       "    <tr>\n",
       "      <th>14</th>\n",
       "      <td>178.41332</td>\n",
       "      <td>191.42830</td>\n",
       "      <td>191.0</td>\n",
       "    </tr>\n",
       "    <tr>\n",
       "      <th>15</th>\n",
       "      <td>176.99390</td>\n",
       "      <td>190.78980</td>\n",
       "      <td>191.0</td>\n",
       "    </tr>\n",
       "    <tr>\n",
       "      <th>16</th>\n",
       "      <td>197.89665</td>\n",
       "      <td>152.28930</td>\n",
       "      <td>196.0</td>\n",
       "    </tr>\n",
       "    <tr>\n",
       "      <th>17</th>\n",
       "      <td>194.40576</td>\n",
       "      <td>151.17890</td>\n",
       "      <td>196.0</td>\n",
       "    </tr>\n",
       "    <tr>\n",
       "      <th>18</th>\n",
       "      <td>162.09450</td>\n",
       "      <td>125.98830</td>\n",
       "      <td>247.0</td>\n",
       "    </tr>\n",
       "    <tr>\n",
       "      <th>19</th>\n",
       "      <td>157.26650</td>\n",
       "      <td>129.07590</td>\n",
       "      <td>247.0</td>\n",
       "    </tr>\n",
       "    <tr>\n",
       "      <th>20</th>\n",
       "      <td>165.27080</td>\n",
       "      <td>130.33600</td>\n",
       "      <td>276.0</td>\n",
       "    </tr>\n",
       "    <tr>\n",
       "      <th>21</th>\n",
       "      <td>170.71430</td>\n",
       "      <td>131.27550</td>\n",
       "      <td>276.0</td>\n",
       "    </tr>\n",
       "    <tr>\n",
       "      <th>22</th>\n",
       "      <td>172.38950</td>\n",
       "      <td>161.58020</td>\n",
       "      <td>286.0</td>\n",
       "    </tr>\n",
       "    <tr>\n",
       "      <th>23</th>\n",
       "      <td>175.30920</td>\n",
       "      <td>164.06060</td>\n",
       "      <td>286.0</td>\n",
       "    </tr>\n",
       "  </tbody>\n",
       "</table>\n",
       "</div>"
      ],
      "text/plain": [
       "    y_coordinates  x_coordinates  frame\n",
       "0       185.74517      189.03531    6.0\n",
       "1       186.98184      192.70740    6.0\n",
       "2       203.26610      145.83330    8.0\n",
       "3       202.48060      148.38960    8.0\n",
       "4       134.86100      223.23590    9.0\n",
       "5       134.67710      227.47800    9.0\n",
       "6       165.32220      181.49280   15.0\n",
       "7       163.18860      178.72855   15.0\n",
       "8       199.17270      168.67330   30.0\n",
       "9       200.76800      172.45567   30.0\n",
       "10      247.00530      171.68413   49.0\n",
       "11      246.75020      171.25890   49.0\n",
       "12      156.29490      128.89440  164.0\n",
       "13      160.76100      128.29330  164.0\n",
       "14      178.41332      191.42830  191.0\n",
       "15      176.99390      190.78980  191.0\n",
       "16      197.89665      152.28930  196.0\n",
       "17      194.40576      151.17890  196.0\n",
       "18      162.09450      125.98830  247.0\n",
       "19      157.26650      129.07590  247.0\n",
       "20      165.27080      130.33600  276.0\n",
       "21      170.71430      131.27550  276.0\n",
       "22      172.38950      161.58020  286.0\n",
       "23      175.30920      164.06060  286.0"
      ]
     },
     "execution_count": 19,
     "metadata": {},
     "output_type": "execute_result"
    }
   ],
   "source": [
    "fusion_coor"
   ]
  },
  {
   "cell_type": "markdown",
   "metadata": {},
   "source": [
    "# Load fission fusion frome my script"
   ]
  },
  {
   "cell_type": "code",
   "execution_count": 20,
   "metadata": {},
   "outputs": [],
   "source": [
    "df = pd.read_csv(path)\n",
    "\n",
    "mask_fusion = df['isFusion'].astype(int) == 1\n",
    "fission_event = df[~mask_fusion]\n",
    "fusion_event = df[mask_fusion]"
   ]
  },
  {
   "cell_type": "code",
   "execution_count": 21,
   "metadata": {},
   "outputs": [
    {
     "data": {
      "application/vnd.microsoft.datawrangler.viewer.v0+json": {
       "columns": [
        {
         "name": "index",
         "rawType": "int64",
         "type": "integer"
        },
        {
         "name": "Volume_pre",
         "rawType": "float64",
         "type": "float"
        },
        {
         "name": "Volume_post",
         "rawType": "float64",
         "type": "float"
        },
        {
         "name": "Distance",
         "rawType": "float64",
         "type": "float"
        },
        {
         "name": "Nearest_Label",
         "rawType": "float64",
         "type": "float"
        },
        {
         "name": "y_corr",
         "rawType": "float64",
         "type": "float"
        },
        {
         "name": "x_corr",
         "rawType": "float64",
         "type": "float"
        },
        {
         "name": "Volume_diff",
         "rawType": "float64",
         "type": "float"
        },
        {
         "name": "isFusion",
         "rawType": "float64",
         "type": "float"
        },
        {
         "name": "Frame",
         "rawType": "float64",
         "type": "float"
        },
        {
         "name": "Label",
         "rawType": "float64",
         "type": "float"
        }
       ],
       "ref": "a03e0e2b-f511-47c7-935e-4514342ae594",
       "rows": [
        [
         "0",
         "0.0",
         "0.0",
         "0.0",
         "0.0",
         "117.7557251908397",
         "218.3740458015267",
         "0.0",
         "0.0",
         "1.0",
         "1.0"
        ],
        [
         "1",
         "0.0",
         "0.0",
         "0.0",
         "0.0",
         "134.93069306930693",
         "254.93069306930693",
         "0.0",
         "0.0",
         "1.0",
         "1.0"
        ],
        [
         "3",
         "0.0",
         "0.0",
         "0.0",
         "0.0",
         "135.8090909090909",
         "113.60909090909092",
         "0.0",
         "0.0",
         "144.0",
         "2.0"
        ],
        [
         "4",
         "0.0",
         "0.0",
         "0.0",
         "0.0",
         "137.16190476190476",
         "113.8",
         "0.0",
         "0.0",
         "188.0",
         "2.0"
        ],
        [
         "5",
         "0.0",
         "0.0",
         "0.0",
         "0.0",
         "137.00884955752213",
         "113.03539823008848",
         "0.0",
         "0.0",
         "235.0",
         "2.0"
        ],
        [
         "6",
         "0.0",
         "0.0",
         "0.0",
         "0.0",
         "159.0408163265306",
         "114.73469387755102",
         "0.0",
         "0.0",
         "235.0",
         "2.0"
        ],
        [
         "8",
         "0.0",
         "0.0",
         "0.0",
         "0.0",
         "183.27650273224043",
         "146.87431693989072",
         "0.0",
         "0.0",
         "284.0",
         "2.0"
        ],
        [
         "9",
         "0.0",
         "0.0",
         "0.0",
         "0.0",
         "179.20541958041957",
         "152.7674825174825",
         "0.0",
         "0.0",
         "287.0",
         "2.0"
        ],
        [
         "10",
         "0.0",
         "0.0",
         "0.0",
         "0.0",
         "170.83582089552235",
         "190.7462686567164",
         "0.0",
         "0.0",
         "5.0",
         "3.0"
        ],
        [
         "11",
         "0.0",
         "0.0",
         "0.0",
         "0.0",
         "189.6599552572707",
         "167.59955257270693",
         "0.0",
         "0.0",
         "5.0",
         "3.0"
        ],
        [
         "14",
         "0.0",
         "0.0",
         "0.0",
         "0.0",
         "204.8090490797546",
         "161.1319018404908",
         "0.0",
         "0.0",
         "194.0",
         "3.0"
        ],
        [
         "15",
         "0.0",
         "0.0",
         "0.0",
         "0.0",
         "183.99115044247787",
         "150.91150442477877",
         "0.0",
         "0.0",
         "194.0",
         "3.0"
        ],
        [
         "17",
         "0.0",
         "0.0",
         "0.0",
         "0.0",
         "179.2544080604534",
         "152.6943744752309",
         "0.0",
         "0.0",
         "286.0",
         "3.0"
        ],
        [
         "18",
         "0.0",
         "0.0",
         "0.0",
         "0.0",
         "177.95689655172413",
         "179.95689655172413",
         "0.0",
         "0.0",
         "296.0",
         "3.0"
        ],
        [
         "19",
         "0.0",
         "0.0",
         "0.0",
         "0.0",
         "165.7508896797153",
         "166.00711743772243",
         "0.0",
         "0.0",
         "180.0",
         "4.0"
        ],
        [
         "20",
         "0.0",
         "0.0",
         "0.0",
         "0.0",
         "167.20394736842104",
         "168.18421052631578",
         "0.0",
         "0.0",
         "279.0",
         "4.0"
        ],
        [
         "21",
         "0.0",
         "0.0",
         "0.0",
         "0.0",
         "189.0",
         "179.5",
         "0.0",
         "0.0",
         "0.0",
         "5.0"
        ],
        [
         "22",
         "0.0",
         "0.0",
         "0.0",
         "0.0",
         "189.0",
         "178.5",
         "0.0",
         "0.0",
         "162.0",
         "5.0"
        ],
        [
         "23",
         "0.0",
         "0.0",
         "0.0",
         "0.0",
         "189.0",
         "181.5",
         "0.0",
         "0.0",
         "162.0",
         "5.0"
        ],
        [
         "25",
         "0.0",
         "0.0",
         "0.0",
         "0.0",
         "189.0",
         "182.5",
         "0.0",
         "0.0",
         "0.0",
         "6.0"
        ],
        [
         "26",
         "0.0",
         "0.0",
         "0.0",
         "0.0",
         "189.0",
         "182.5",
         "0.0",
         "0.0",
         "73.0",
         "6.0"
        ],
        [
         "27",
         "0.0",
         "0.0",
         "0.0",
         "0.0",
         "189.5",
         "182.5",
         "0.0",
         "0.0",
         "82.0",
         "6.0"
        ],
        [
         "28",
         "0.0",
         "0.0",
         "0.0",
         "0.0",
         "243.3032581453634",
         "255.13784461152883",
         "0.0",
         "0.0",
         "0.0",
         "7.0"
        ],
        [
         "29",
         "0.0",
         "0.0",
         "0.0",
         "0.0",
         "289.374269005848",
         "169.97076023391813",
         "0.0",
         "0.0",
         "35.0",
         "8.0"
        ],
        [
         "30",
         "0.0",
         "0.0",
         "0.0",
         "0.0",
         "204.61161387631972",
         "161.1447963800905",
         "0.0",
         "0.0",
         "192.0",
         "8.0"
        ],
        [
         "31",
         "0.0",
         "0.0",
         "0.0",
         "0.0",
         "206.6857610474632",
         "153.54009819967266",
         "0.0",
         "0.0",
         "279.0",
         "8.0"
        ]
       ],
       "shape": {
        "columns": 10,
        "rows": 26
       }
      },
      "text/html": [
       "<div>\n",
       "<style scoped>\n",
       "    .dataframe tbody tr th:only-of-type {\n",
       "        vertical-align: middle;\n",
       "    }\n",
       "\n",
       "    .dataframe tbody tr th {\n",
       "        vertical-align: top;\n",
       "    }\n",
       "\n",
       "    .dataframe thead th {\n",
       "        text-align: right;\n",
       "    }\n",
       "</style>\n",
       "<table border=\"1\" class=\"dataframe\">\n",
       "  <thead>\n",
       "    <tr style=\"text-align: right;\">\n",
       "      <th></th>\n",
       "      <th>Volume_pre</th>\n",
       "      <th>Volume_post</th>\n",
       "      <th>Distance</th>\n",
       "      <th>Nearest_Label</th>\n",
       "      <th>y_corr</th>\n",
       "      <th>x_corr</th>\n",
       "      <th>Volume_diff</th>\n",
       "      <th>isFusion</th>\n",
       "      <th>Frame</th>\n",
       "      <th>Label</th>\n",
       "    </tr>\n",
       "  </thead>\n",
       "  <tbody>\n",
       "    <tr>\n",
       "      <th>0</th>\n",
       "      <td>0.0</td>\n",
       "      <td>0.0</td>\n",
       "      <td>0.0</td>\n",
       "      <td>0.0</td>\n",
       "      <td>117.755725</td>\n",
       "      <td>218.374046</td>\n",
       "      <td>0.0</td>\n",
       "      <td>0.0</td>\n",
       "      <td>1.0</td>\n",
       "      <td>1.0</td>\n",
       "    </tr>\n",
       "    <tr>\n",
       "      <th>1</th>\n",
       "      <td>0.0</td>\n",
       "      <td>0.0</td>\n",
       "      <td>0.0</td>\n",
       "      <td>0.0</td>\n",
       "      <td>134.930693</td>\n",
       "      <td>254.930693</td>\n",
       "      <td>0.0</td>\n",
       "      <td>0.0</td>\n",
       "      <td>1.0</td>\n",
       "      <td>1.0</td>\n",
       "    </tr>\n",
       "    <tr>\n",
       "      <th>3</th>\n",
       "      <td>0.0</td>\n",
       "      <td>0.0</td>\n",
       "      <td>0.0</td>\n",
       "      <td>0.0</td>\n",
       "      <td>135.809091</td>\n",
       "      <td>113.609091</td>\n",
       "      <td>0.0</td>\n",
       "      <td>0.0</td>\n",
       "      <td>144.0</td>\n",
       "      <td>2.0</td>\n",
       "    </tr>\n",
       "    <tr>\n",
       "      <th>4</th>\n",
       "      <td>0.0</td>\n",
       "      <td>0.0</td>\n",
       "      <td>0.0</td>\n",
       "      <td>0.0</td>\n",
       "      <td>137.161905</td>\n",
       "      <td>113.800000</td>\n",
       "      <td>0.0</td>\n",
       "      <td>0.0</td>\n",
       "      <td>188.0</td>\n",
       "      <td>2.0</td>\n",
       "    </tr>\n",
       "    <tr>\n",
       "      <th>5</th>\n",
       "      <td>0.0</td>\n",
       "      <td>0.0</td>\n",
       "      <td>0.0</td>\n",
       "      <td>0.0</td>\n",
       "      <td>137.008850</td>\n",
       "      <td>113.035398</td>\n",
       "      <td>0.0</td>\n",
       "      <td>0.0</td>\n",
       "      <td>235.0</td>\n",
       "      <td>2.0</td>\n",
       "    </tr>\n",
       "    <tr>\n",
       "      <th>6</th>\n",
       "      <td>0.0</td>\n",
       "      <td>0.0</td>\n",
       "      <td>0.0</td>\n",
       "      <td>0.0</td>\n",
       "      <td>159.040816</td>\n",
       "      <td>114.734694</td>\n",
       "      <td>0.0</td>\n",
       "      <td>0.0</td>\n",
       "      <td>235.0</td>\n",
       "      <td>2.0</td>\n",
       "    </tr>\n",
       "    <tr>\n",
       "      <th>8</th>\n",
       "      <td>0.0</td>\n",
       "      <td>0.0</td>\n",
       "      <td>0.0</td>\n",
       "      <td>0.0</td>\n",
       "      <td>183.276503</td>\n",
       "      <td>146.874317</td>\n",
       "      <td>0.0</td>\n",
       "      <td>0.0</td>\n",
       "      <td>284.0</td>\n",
       "      <td>2.0</td>\n",
       "    </tr>\n",
       "    <tr>\n",
       "      <th>9</th>\n",
       "      <td>0.0</td>\n",
       "      <td>0.0</td>\n",
       "      <td>0.0</td>\n",
       "      <td>0.0</td>\n",
       "      <td>179.205420</td>\n",
       "      <td>152.767483</td>\n",
       "      <td>0.0</td>\n",
       "      <td>0.0</td>\n",
       "      <td>287.0</td>\n",
       "      <td>2.0</td>\n",
       "    </tr>\n",
       "    <tr>\n",
       "      <th>10</th>\n",
       "      <td>0.0</td>\n",
       "      <td>0.0</td>\n",
       "      <td>0.0</td>\n",
       "      <td>0.0</td>\n",
       "      <td>170.835821</td>\n",
       "      <td>190.746269</td>\n",
       "      <td>0.0</td>\n",
       "      <td>0.0</td>\n",
       "      <td>5.0</td>\n",
       "      <td>3.0</td>\n",
       "    </tr>\n",
       "    <tr>\n",
       "      <th>11</th>\n",
       "      <td>0.0</td>\n",
       "      <td>0.0</td>\n",
       "      <td>0.0</td>\n",
       "      <td>0.0</td>\n",
       "      <td>189.659955</td>\n",
       "      <td>167.599553</td>\n",
       "      <td>0.0</td>\n",
       "      <td>0.0</td>\n",
       "      <td>5.0</td>\n",
       "      <td>3.0</td>\n",
       "    </tr>\n",
       "    <tr>\n",
       "      <th>14</th>\n",
       "      <td>0.0</td>\n",
       "      <td>0.0</td>\n",
       "      <td>0.0</td>\n",
       "      <td>0.0</td>\n",
       "      <td>204.809049</td>\n",
       "      <td>161.131902</td>\n",
       "      <td>0.0</td>\n",
       "      <td>0.0</td>\n",
       "      <td>194.0</td>\n",
       "      <td>3.0</td>\n",
       "    </tr>\n",
       "    <tr>\n",
       "      <th>15</th>\n",
       "      <td>0.0</td>\n",
       "      <td>0.0</td>\n",
       "      <td>0.0</td>\n",
       "      <td>0.0</td>\n",
       "      <td>183.991150</td>\n",
       "      <td>150.911504</td>\n",
       "      <td>0.0</td>\n",
       "      <td>0.0</td>\n",
       "      <td>194.0</td>\n",
       "      <td>3.0</td>\n",
       "    </tr>\n",
       "    <tr>\n",
       "      <th>17</th>\n",
       "      <td>0.0</td>\n",
       "      <td>0.0</td>\n",
       "      <td>0.0</td>\n",
       "      <td>0.0</td>\n",
       "      <td>179.254408</td>\n",
       "      <td>152.694374</td>\n",
       "      <td>0.0</td>\n",
       "      <td>0.0</td>\n",
       "      <td>286.0</td>\n",
       "      <td>3.0</td>\n",
       "    </tr>\n",
       "    <tr>\n",
       "      <th>18</th>\n",
       "      <td>0.0</td>\n",
       "      <td>0.0</td>\n",
       "      <td>0.0</td>\n",
       "      <td>0.0</td>\n",
       "      <td>177.956897</td>\n",
       "      <td>179.956897</td>\n",
       "      <td>0.0</td>\n",
       "      <td>0.0</td>\n",
       "      <td>296.0</td>\n",
       "      <td>3.0</td>\n",
       "    </tr>\n",
       "    <tr>\n",
       "      <th>19</th>\n",
       "      <td>0.0</td>\n",
       "      <td>0.0</td>\n",
       "      <td>0.0</td>\n",
       "      <td>0.0</td>\n",
       "      <td>165.750890</td>\n",
       "      <td>166.007117</td>\n",
       "      <td>0.0</td>\n",
       "      <td>0.0</td>\n",
       "      <td>180.0</td>\n",
       "      <td>4.0</td>\n",
       "    </tr>\n",
       "    <tr>\n",
       "      <th>20</th>\n",
       "      <td>0.0</td>\n",
       "      <td>0.0</td>\n",
       "      <td>0.0</td>\n",
       "      <td>0.0</td>\n",
       "      <td>167.203947</td>\n",
       "      <td>168.184211</td>\n",
       "      <td>0.0</td>\n",
       "      <td>0.0</td>\n",
       "      <td>279.0</td>\n",
       "      <td>4.0</td>\n",
       "    </tr>\n",
       "    <tr>\n",
       "      <th>21</th>\n",
       "      <td>0.0</td>\n",
       "      <td>0.0</td>\n",
       "      <td>0.0</td>\n",
       "      <td>0.0</td>\n",
       "      <td>189.000000</td>\n",
       "      <td>179.500000</td>\n",
       "      <td>0.0</td>\n",
       "      <td>0.0</td>\n",
       "      <td>0.0</td>\n",
       "      <td>5.0</td>\n",
       "    </tr>\n",
       "    <tr>\n",
       "      <th>22</th>\n",
       "      <td>0.0</td>\n",
       "      <td>0.0</td>\n",
       "      <td>0.0</td>\n",
       "      <td>0.0</td>\n",
       "      <td>189.000000</td>\n",
       "      <td>178.500000</td>\n",
       "      <td>0.0</td>\n",
       "      <td>0.0</td>\n",
       "      <td>162.0</td>\n",
       "      <td>5.0</td>\n",
       "    </tr>\n",
       "    <tr>\n",
       "      <th>23</th>\n",
       "      <td>0.0</td>\n",
       "      <td>0.0</td>\n",
       "      <td>0.0</td>\n",
       "      <td>0.0</td>\n",
       "      <td>189.000000</td>\n",
       "      <td>181.500000</td>\n",
       "      <td>0.0</td>\n",
       "      <td>0.0</td>\n",
       "      <td>162.0</td>\n",
       "      <td>5.0</td>\n",
       "    </tr>\n",
       "    <tr>\n",
       "      <th>25</th>\n",
       "      <td>0.0</td>\n",
       "      <td>0.0</td>\n",
       "      <td>0.0</td>\n",
       "      <td>0.0</td>\n",
       "      <td>189.000000</td>\n",
       "      <td>182.500000</td>\n",
       "      <td>0.0</td>\n",
       "      <td>0.0</td>\n",
       "      <td>0.0</td>\n",
       "      <td>6.0</td>\n",
       "    </tr>\n",
       "    <tr>\n",
       "      <th>26</th>\n",
       "      <td>0.0</td>\n",
       "      <td>0.0</td>\n",
       "      <td>0.0</td>\n",
       "      <td>0.0</td>\n",
       "      <td>189.000000</td>\n",
       "      <td>182.500000</td>\n",
       "      <td>0.0</td>\n",
       "      <td>0.0</td>\n",
       "      <td>73.0</td>\n",
       "      <td>6.0</td>\n",
       "    </tr>\n",
       "    <tr>\n",
       "      <th>27</th>\n",
       "      <td>0.0</td>\n",
       "      <td>0.0</td>\n",
       "      <td>0.0</td>\n",
       "      <td>0.0</td>\n",
       "      <td>189.500000</td>\n",
       "      <td>182.500000</td>\n",
       "      <td>0.0</td>\n",
       "      <td>0.0</td>\n",
       "      <td>82.0</td>\n",
       "      <td>6.0</td>\n",
       "    </tr>\n",
       "    <tr>\n",
       "      <th>28</th>\n",
       "      <td>0.0</td>\n",
       "      <td>0.0</td>\n",
       "      <td>0.0</td>\n",
       "      <td>0.0</td>\n",
       "      <td>243.303258</td>\n",
       "      <td>255.137845</td>\n",
       "      <td>0.0</td>\n",
       "      <td>0.0</td>\n",
       "      <td>0.0</td>\n",
       "      <td>7.0</td>\n",
       "    </tr>\n",
       "    <tr>\n",
       "      <th>29</th>\n",
       "      <td>0.0</td>\n",
       "      <td>0.0</td>\n",
       "      <td>0.0</td>\n",
       "      <td>0.0</td>\n",
       "      <td>289.374269</td>\n",
       "      <td>169.970760</td>\n",
       "      <td>0.0</td>\n",
       "      <td>0.0</td>\n",
       "      <td>35.0</td>\n",
       "      <td>8.0</td>\n",
       "    </tr>\n",
       "    <tr>\n",
       "      <th>30</th>\n",
       "      <td>0.0</td>\n",
       "      <td>0.0</td>\n",
       "      <td>0.0</td>\n",
       "      <td>0.0</td>\n",
       "      <td>204.611614</td>\n",
       "      <td>161.144796</td>\n",
       "      <td>0.0</td>\n",
       "      <td>0.0</td>\n",
       "      <td>192.0</td>\n",
       "      <td>8.0</td>\n",
       "    </tr>\n",
       "    <tr>\n",
       "      <th>31</th>\n",
       "      <td>0.0</td>\n",
       "      <td>0.0</td>\n",
       "      <td>0.0</td>\n",
       "      <td>0.0</td>\n",
       "      <td>206.685761</td>\n",
       "      <td>153.540098</td>\n",
       "      <td>0.0</td>\n",
       "      <td>0.0</td>\n",
       "      <td>279.0</td>\n",
       "      <td>8.0</td>\n",
       "    </tr>\n",
       "  </tbody>\n",
       "</table>\n",
       "</div>"
      ],
      "text/plain": [
       "    Volume_pre  Volume_post  Distance  Nearest_Label      y_corr      x_corr  \\\n",
       "0          0.0          0.0       0.0            0.0  117.755725  218.374046   \n",
       "1          0.0          0.0       0.0            0.0  134.930693  254.930693   \n",
       "3          0.0          0.0       0.0            0.0  135.809091  113.609091   \n",
       "4          0.0          0.0       0.0            0.0  137.161905  113.800000   \n",
       "5          0.0          0.0       0.0            0.0  137.008850  113.035398   \n",
       "6          0.0          0.0       0.0            0.0  159.040816  114.734694   \n",
       "8          0.0          0.0       0.0            0.0  183.276503  146.874317   \n",
       "9          0.0          0.0       0.0            0.0  179.205420  152.767483   \n",
       "10         0.0          0.0       0.0            0.0  170.835821  190.746269   \n",
       "11         0.0          0.0       0.0            0.0  189.659955  167.599553   \n",
       "14         0.0          0.0       0.0            0.0  204.809049  161.131902   \n",
       "15         0.0          0.0       0.0            0.0  183.991150  150.911504   \n",
       "17         0.0          0.0       0.0            0.0  179.254408  152.694374   \n",
       "18         0.0          0.0       0.0            0.0  177.956897  179.956897   \n",
       "19         0.0          0.0       0.0            0.0  165.750890  166.007117   \n",
       "20         0.0          0.0       0.0            0.0  167.203947  168.184211   \n",
       "21         0.0          0.0       0.0            0.0  189.000000  179.500000   \n",
       "22         0.0          0.0       0.0            0.0  189.000000  178.500000   \n",
       "23         0.0          0.0       0.0            0.0  189.000000  181.500000   \n",
       "25         0.0          0.0       0.0            0.0  189.000000  182.500000   \n",
       "26         0.0          0.0       0.0            0.0  189.000000  182.500000   \n",
       "27         0.0          0.0       0.0            0.0  189.500000  182.500000   \n",
       "28         0.0          0.0       0.0            0.0  243.303258  255.137845   \n",
       "29         0.0          0.0       0.0            0.0  289.374269  169.970760   \n",
       "30         0.0          0.0       0.0            0.0  204.611614  161.144796   \n",
       "31         0.0          0.0       0.0            0.0  206.685761  153.540098   \n",
       "\n",
       "    Volume_diff  isFusion  Frame  Label  \n",
       "0           0.0       0.0    1.0    1.0  \n",
       "1           0.0       0.0    1.0    1.0  \n",
       "3           0.0       0.0  144.0    2.0  \n",
       "4           0.0       0.0  188.0    2.0  \n",
       "5           0.0       0.0  235.0    2.0  \n",
       "6           0.0       0.0  235.0    2.0  \n",
       "8           0.0       0.0  284.0    2.0  \n",
       "9           0.0       0.0  287.0    2.0  \n",
       "10          0.0       0.0    5.0    3.0  \n",
       "11          0.0       0.0    5.0    3.0  \n",
       "14          0.0       0.0  194.0    3.0  \n",
       "15          0.0       0.0  194.0    3.0  \n",
       "17          0.0       0.0  286.0    3.0  \n",
       "18          0.0       0.0  296.0    3.0  \n",
       "19          0.0       0.0  180.0    4.0  \n",
       "20          0.0       0.0  279.0    4.0  \n",
       "21          0.0       0.0    0.0    5.0  \n",
       "22          0.0       0.0  162.0    5.0  \n",
       "23          0.0       0.0  162.0    5.0  \n",
       "25          0.0       0.0    0.0    6.0  \n",
       "26          0.0       0.0   73.0    6.0  \n",
       "27          0.0       0.0   82.0    6.0  \n",
       "28          0.0       0.0    0.0    7.0  \n",
       "29          0.0       0.0   35.0    8.0  \n",
       "30          0.0       0.0  192.0    8.0  \n",
       "31          0.0       0.0  279.0    8.0  "
      ]
     },
     "execution_count": 21,
     "metadata": {},
     "output_type": "execute_result"
    }
   ],
   "source": [
    "fission_event"
   ]
  },
  {
   "cell_type": "code",
   "execution_count": 22,
   "metadata": {},
   "outputs": [
    {
     "data": {
      "application/vnd.microsoft.datawrangler.viewer.v0+json": {
       "columns": [
        {
         "name": "index",
         "rawType": "int64",
         "type": "integer"
        },
        {
         "name": "Volume_pre",
         "rawType": "float64",
         "type": "float"
        },
        {
         "name": "Volume_post",
         "rawType": "float64",
         "type": "float"
        },
        {
         "name": "Distance",
         "rawType": "float64",
         "type": "float"
        },
        {
         "name": "Nearest_Label",
         "rawType": "float64",
         "type": "float"
        },
        {
         "name": "y_corr",
         "rawType": "float64",
         "type": "float"
        },
        {
         "name": "x_corr",
         "rawType": "float64",
         "type": "float"
        },
        {
         "name": "Volume_diff",
         "rawType": "float64",
         "type": "float"
        },
        {
         "name": "isFusion",
         "rawType": "float64",
         "type": "float"
        },
        {
         "name": "Frame",
         "rawType": "float64",
         "type": "float"
        },
        {
         "name": "Label",
         "rawType": "float64",
         "type": "float"
        }
       ],
       "ref": "b5d8f1a1-8209-4fa4-8f7e-1f50689e75ca",
       "rows": [
        [
         "2",
         "0.0",
         "0.0",
         "0.0",
         "0.0",
         "129.35824175824175",
         "244.0241758241758",
         "0.0",
         "1.0",
         "8.0",
         "1.0"
        ],
        [
         "7",
         "0.0",
         "0.0",
         "0.0",
         "0.0",
         "144.04605263157896",
         "113.86842105263158",
         "0.0",
         "1.0",
         "247.0",
         "2.0"
        ],
        [
         "12",
         "0.0",
         "0.0",
         "0.0",
         "0.0",
         "185.30795847750863",
         "172.85294117647058",
         "0.0",
         "1.0",
         "6.0",
         "3.0"
        ],
        [
         "13",
         "0.4499999999999999",
         "0.4049999999999999",
         "43.05423775563079",
         "5.0",
         "189.0",
         "180.0",
         "2.1599999999999966",
         "1.0",
         "171.0",
         "3.0"
        ],
        [
         "16",
         "0.0",
         "0.0",
         "0.0",
         "0.0",
         "203.2380640941792",
         "160.2753433616743",
         "0.0",
         "1.0",
         "196.0",
         "3.0"
        ],
        [
         "24",
         "0.0",
         "0.0",
         "0.0",
         "0.0",
         "188.5625",
         "180.0",
         "0.0",
         "1.0",
         "163.0",
         "5.0"
        ]
       ],
       "shape": {
        "columns": 10,
        "rows": 6
       }
      },
      "text/html": [
       "<div>\n",
       "<style scoped>\n",
       "    .dataframe tbody tr th:only-of-type {\n",
       "        vertical-align: middle;\n",
       "    }\n",
       "\n",
       "    .dataframe tbody tr th {\n",
       "        vertical-align: top;\n",
       "    }\n",
       "\n",
       "    .dataframe thead th {\n",
       "        text-align: right;\n",
       "    }\n",
       "</style>\n",
       "<table border=\"1\" class=\"dataframe\">\n",
       "  <thead>\n",
       "    <tr style=\"text-align: right;\">\n",
       "      <th></th>\n",
       "      <th>Volume_pre</th>\n",
       "      <th>Volume_post</th>\n",
       "      <th>Distance</th>\n",
       "      <th>Nearest_Label</th>\n",
       "      <th>y_corr</th>\n",
       "      <th>x_corr</th>\n",
       "      <th>Volume_diff</th>\n",
       "      <th>isFusion</th>\n",
       "      <th>Frame</th>\n",
       "      <th>Label</th>\n",
       "    </tr>\n",
       "  </thead>\n",
       "  <tbody>\n",
       "    <tr>\n",
       "      <th>2</th>\n",
       "      <td>0.00</td>\n",
       "      <td>0.000</td>\n",
       "      <td>0.000000</td>\n",
       "      <td>0.0</td>\n",
       "      <td>129.358242</td>\n",
       "      <td>244.024176</td>\n",
       "      <td>0.00</td>\n",
       "      <td>1.0</td>\n",
       "      <td>8.0</td>\n",
       "      <td>1.0</td>\n",
       "    </tr>\n",
       "    <tr>\n",
       "      <th>7</th>\n",
       "      <td>0.00</td>\n",
       "      <td>0.000</td>\n",
       "      <td>0.000000</td>\n",
       "      <td>0.0</td>\n",
       "      <td>144.046053</td>\n",
       "      <td>113.868421</td>\n",
       "      <td>0.00</td>\n",
       "      <td>1.0</td>\n",
       "      <td>247.0</td>\n",
       "      <td>2.0</td>\n",
       "    </tr>\n",
       "    <tr>\n",
       "      <th>12</th>\n",
       "      <td>0.00</td>\n",
       "      <td>0.000</td>\n",
       "      <td>0.000000</td>\n",
       "      <td>0.0</td>\n",
       "      <td>185.307958</td>\n",
       "      <td>172.852941</td>\n",
       "      <td>0.00</td>\n",
       "      <td>1.0</td>\n",
       "      <td>6.0</td>\n",
       "      <td>3.0</td>\n",
       "    </tr>\n",
       "    <tr>\n",
       "      <th>13</th>\n",
       "      <td>0.45</td>\n",
       "      <td>0.405</td>\n",
       "      <td>43.054238</td>\n",
       "      <td>5.0</td>\n",
       "      <td>189.000000</td>\n",
       "      <td>180.000000</td>\n",
       "      <td>2.16</td>\n",
       "      <td>1.0</td>\n",
       "      <td>171.0</td>\n",
       "      <td>3.0</td>\n",
       "    </tr>\n",
       "    <tr>\n",
       "      <th>16</th>\n",
       "      <td>0.00</td>\n",
       "      <td>0.000</td>\n",
       "      <td>0.000000</td>\n",
       "      <td>0.0</td>\n",
       "      <td>203.238064</td>\n",
       "      <td>160.275343</td>\n",
       "      <td>0.00</td>\n",
       "      <td>1.0</td>\n",
       "      <td>196.0</td>\n",
       "      <td>3.0</td>\n",
       "    </tr>\n",
       "    <tr>\n",
       "      <th>24</th>\n",
       "      <td>0.00</td>\n",
       "      <td>0.000</td>\n",
       "      <td>0.000000</td>\n",
       "      <td>0.0</td>\n",
       "      <td>188.562500</td>\n",
       "      <td>180.000000</td>\n",
       "      <td>0.00</td>\n",
       "      <td>1.0</td>\n",
       "      <td>163.0</td>\n",
       "      <td>5.0</td>\n",
       "    </tr>\n",
       "  </tbody>\n",
       "</table>\n",
       "</div>"
      ],
      "text/plain": [
       "    Volume_pre  Volume_post   Distance  Nearest_Label      y_corr      x_corr  \\\n",
       "2         0.00        0.000   0.000000            0.0  129.358242  244.024176   \n",
       "7         0.00        0.000   0.000000            0.0  144.046053  113.868421   \n",
       "12        0.00        0.000   0.000000            0.0  185.307958  172.852941   \n",
       "13        0.45        0.405  43.054238            5.0  189.000000  180.000000   \n",
       "16        0.00        0.000   0.000000            0.0  203.238064  160.275343   \n",
       "24        0.00        0.000   0.000000            0.0  188.562500  180.000000   \n",
       "\n",
       "    Volume_diff  isFusion  Frame  Label  \n",
       "2          0.00       1.0    8.0    1.0  \n",
       "7          0.00       1.0  247.0    2.0  \n",
       "12         0.00       1.0    6.0    3.0  \n",
       "13         2.16       1.0  171.0    3.0  \n",
       "16         0.00       1.0  196.0    3.0  \n",
       "24         0.00       1.0  163.0    5.0  "
      ]
     },
     "execution_count": 22,
     "metadata": {},
     "output_type": "execute_result"
    }
   ],
   "source": [
    "fusion_event"
   ]
  },
  {
   "cell_type": "code",
   "execution_count": 23,
   "metadata": {},
   "outputs": [],
   "source": [
    "df_fission = pd.DataFrame({\n",
    "    'frame': fission_event['Frame'],\n",
    "    'x_coordinates': fission_event['x_corr'],\n",
    "    'y_coordinates': fission_event['y_corr'],\n",
    "})\n",
    "\n",
    "df_fusion = pd.DataFrame({\n",
    "    'frame': fusion_event['Frame'],\n",
    "    'x_coordinates': fusion_event['x_corr'],\n",
    "    'y_coordinates': fusion_event['y_corr'],\n",
    "})"
   ]
  },
  {
   "cell_type": "code",
   "execution_count": 24,
   "metadata": {},
   "outputs": [
    {
     "data": {
      "application/vnd.microsoft.datawrangler.viewer.v0+json": {
       "columns": [
        {
         "name": "index",
         "rawType": "int64",
         "type": "integer"
        },
        {
         "name": "Volume_pre",
         "rawType": "float64",
         "type": "float"
        },
        {
         "name": "Volume_post",
         "rawType": "float64",
         "type": "float"
        },
        {
         "name": "Distance",
         "rawType": "float64",
         "type": "float"
        },
        {
         "name": "Nearest_Label",
         "rawType": "float64",
         "type": "float"
        },
        {
         "name": "y_corr",
         "rawType": "float64",
         "type": "float"
        },
        {
         "name": "x_corr",
         "rawType": "float64",
         "type": "float"
        },
        {
         "name": "Volume_diff",
         "rawType": "float64",
         "type": "float"
        },
        {
         "name": "isFusion",
         "rawType": "float64",
         "type": "float"
        },
        {
         "name": "Frame",
         "rawType": "float64",
         "type": "float"
        },
        {
         "name": "Label",
         "rawType": "float64",
         "type": "float"
        }
       ],
       "ref": "43aed568-16eb-4450-b13a-d229fc6b000a",
       "rows": [],
       "shape": {
        "columns": 10,
        "rows": 0
       }
      },
      "text/html": [
       "<div>\n",
       "<style scoped>\n",
       "    .dataframe tbody tr th:only-of-type {\n",
       "        vertical-align: middle;\n",
       "    }\n",
       "\n",
       "    .dataframe tbody tr th {\n",
       "        vertical-align: top;\n",
       "    }\n",
       "\n",
       "    .dataframe thead th {\n",
       "        text-align: right;\n",
       "    }\n",
       "</style>\n",
       "<table border=\"1\" class=\"dataframe\">\n",
       "  <thead>\n",
       "    <tr style=\"text-align: right;\">\n",
       "      <th></th>\n",
       "      <th>Volume_pre</th>\n",
       "      <th>Volume_post</th>\n",
       "      <th>Distance</th>\n",
       "      <th>Nearest_Label</th>\n",
       "      <th>y_corr</th>\n",
       "      <th>x_corr</th>\n",
       "      <th>Volume_diff</th>\n",
       "      <th>isFusion</th>\n",
       "      <th>Frame</th>\n",
       "      <th>Label</th>\n",
       "    </tr>\n",
       "  </thead>\n",
       "  <tbody>\n",
       "  </tbody>\n",
       "</table>\n",
       "</div>"
      ],
      "text/plain": [
       "Empty DataFrame\n",
       "Columns: [Volume_pre, Volume_post, Distance, Nearest_Label, y_corr, x_corr, Volume_diff, isFusion, Frame, Label]\n",
       "Index: []"
      ]
     },
     "execution_count": 24,
     "metadata": {},
     "output_type": "execute_result"
    }
   ],
   "source": [
    "df[df['Frame'] == 9]"
   ]
  },
  {
   "cell_type": "code",
   "execution_count": 25,
   "metadata": {},
   "outputs": [],
   "source": [
    "fis_arr = df_fission.to_numpy()\n",
    "fis_arr = fis_arr[:,[0,2,1]] # frame, y_coordinates, x_coordinates\n",
    "fus_arr= df_fusion.to_numpy()# frame, y_coordinates, x_coordinates\n",
    "fus_arr = fus_arr[:,[0,2,1]] # frame, y_coordinates, x_coordinates\n",
    "list_fis = []\n",
    "list_fis = [np.array(fis_list) for fis_list in fis_arr]\n",
    "list_fus = []\n",
    "list_fus = [np.array(fus_list) for fus_list in fus_arr]"
   ]
  },
  {
   "cell_type": "code",
   "execution_count": 26,
   "metadata": {},
   "outputs": [
    {
     "data": {
      "text/plain": [
       "[array([  8.        , 129.35824176, 244.02417582]),\n",
       " array([247.        , 144.04605263, 113.86842105]),\n",
       " array([  6.        , 185.30795848, 172.85294118]),\n",
       " array([171., 189., 180.]),\n",
       " array([196.        , 203.23806409, 160.27534336]),\n",
       " array([163.    , 188.5625, 180.    ])]"
      ]
     },
     "execution_count": 26,
     "metadata": {},
     "output_type": "execute_result"
    }
   ],
   "source": [
    "list_fus"
   ]
  },
  {
   "cell_type": "code",
   "execution_count": 27,
   "metadata": {},
   "outputs": [
    {
     "data": {
      "text/plain": [
       "[array([  1.        , 117.75572519, 218.3740458 ]),\n",
       " array([  1.        , 134.93069307, 254.93069307]),\n",
       " array([144.        , 135.80909091, 113.60909091]),\n",
       " array([188.        , 137.16190476, 113.8       ]),\n",
       " array([235.        , 137.00884956, 113.03539823]),\n",
       " array([235.        , 159.04081633, 114.73469388]),\n",
       " array([284.        , 183.27650273, 146.87431694]),\n",
       " array([287.        , 179.20541958, 152.76748252]),\n",
       " array([  5.        , 170.8358209 , 190.74626866]),\n",
       " array([  5.        , 189.65995526, 167.59955257]),\n",
       " array([194.        , 204.80904908, 161.13190184]),\n",
       " array([194.        , 183.99115044, 150.91150442]),\n",
       " array([286.        , 179.25440806, 152.69437448]),\n",
       " array([296.        , 177.95689655, 179.95689655]),\n",
       " array([180.        , 165.75088968, 166.00711744]),\n",
       " array([279.        , 167.20394737, 168.18421053]),\n",
       " array([  0. , 189. , 179.5]),\n",
       " array([162. , 189. , 178.5]),\n",
       " array([162. , 189. , 181.5]),\n",
       " array([  0. , 189. , 182.5]),\n",
       " array([ 73. , 189. , 182.5]),\n",
       " array([ 82. , 189.5, 182.5]),\n",
       " array([  0.        , 243.30325815, 255.13784461]),\n",
       " array([ 35.        , 289.37426901, 169.97076023]),\n",
       " array([192.        , 204.61161388, 161.14479638]),\n",
       " array([279.        , 206.68576105, 153.5400982 ])]"
      ]
     },
     "execution_count": 27,
     "metadata": {},
     "output_type": "execute_result"
    }
   ],
   "source": [
    "list_fis"
   ]
  },
  {
   "cell_type": "markdown",
   "metadata": {},
   "source": [
    "# visualize tiff"
   ]
  },
  {
   "cell_type": "code",
   "execution_count": 28,
   "metadata": {},
   "outputs": [],
   "source": [
    "middle = np.array([1, translation_y- scalling_y, translation_x-scalling_x])[np.newaxis, :]  # shape (1, 3)\n",
    "for i in range(1, im.shape[0]):\n",
    "    new_row = np.array([i+1, translation_y-scalling_y, translation_x-scalling_x])[np.newaxis, :]\n",
    "    middle = np.vstack((middle, new_row))\n",
    "\n",
    "tiff = \"D:/Internship/NTU/simulation/simulation_with_center/pdb/pdb.ome.tif\"\n",
    "im_tif = tifffile.imread(tiff)\n",
    "n_frames = im_tif.shape[0]"
   ]
  },
  {
   "cell_type": "code",
   "execution_count": 29,
   "metadata": {},
   "outputs": [],
   "source": [
    "square_size = 10  # pixels\n",
    "image_resolution = [400, 400] \n",
    "square_vertices = [\n",
    "    [\n",
    "        [t, 0, 0],  # Top-left\n",
    "        [t, 0, image_resolution[0]],  # Top-right\n",
    "        [t, image_resolution[1], image_resolution[0]],  # Bottom-right\n",
    "        [t, image_resolution[1], 0]  # Bottom-left\n",
    "    ]\n",
    "    for t in range(n_frames)\n",
    "]"
   ]
  },
  {
   "cell_type": "code",
   "execution_count": 30,
   "metadata": {},
   "outputs": [
    {
     "data": {
      "text/plain": [
       "<Shapes layer 'Frame Boundary Square' at 0x26b169e3970>"
      ]
     },
     "execution_count": 30,
     "metadata": {},
     "output_type": "execute_result"
    }
   ],
   "source": [
    "viewer = napari.Viewer()\n",
    "viewer.add_labels(im_tif, name =\"labeled image\")\n",
    "viewer.add_points(middle, face_color='white', size =2, name = \"central point\")\n",
    "viewer.add_points(fusion_coords, face_color='yellow', size =2, name = \"fusion_node\")\n",
    "viewer.add_points(fission_coords, face_color='yellow', size =2, name = \"fission_node\")\n",
    "viewer.add_shapes(\n",
    "    square_vertices,\n",
    "    shape_type=\"rectangle\",\n",
    "    edge_color=\"red\",\n",
    "    face_color=\"transparent\",\n",
    "    edge_width=2,\n",
    "    name=\"Frame Boundary Square\"\n",
    ")"
   ]
  },
  {
   "cell_type": "markdown",
   "metadata": {},
   "source": [
    "# run visualization"
   ]
  },
  {
   "cell_type": "code",
   "execution_count": 131,
   "metadata": {},
   "outputs": [],
   "source": [
    "middle = np.array([1, translation_y- scalling_y, translation_x-scalling_x])[np.newaxis, :]  # shape (1, 3)\n",
    "for i in range(1, im.shape[0]):\n",
    "    new_row = np.array([i+1, translation_y-scalling_y, translation_x-scalling_x])[np.newaxis, :]\n",
    "    middle = np.vstack((middle, new_row))"
   ]
  },
  {
   "cell_type": "code",
   "execution_count": 132,
   "metadata": {},
   "outputs": [],
   "source": [
    "frames = im.shape[0]\n",
    "centroids = []\n",
    "labels= []\n",
    "\n",
    "nellie_df_2d = pd.read_csv(feature_csv)\n",
    "\n",
    "for frame in range(frames):\n",
    "        labeled_im_frame = im[frame]\n",
    "        unique_label = np.unique(labeled_im_frame)\n",
    "        unique_label = unique_label[unique_label != 0]\n",
    "        num_features = len(unique_label) \n",
    "\n",
    "        # !!!!!cannot find a label since it always start over if we use range(len(unique_label))\n",
    "        for label in unique_label:\n",
    "            all_extrema = center_of_mass(labeled_im_frame == label)\n",
    "            centroid = all_extrema#[3]\n",
    "            centroid = np.array(list(centroid))\n",
    "            centroids.append(np.append(frame, centroid))\n",
    "            \n",
    "            nellie_df_2d_label = nellie_df_2d[nellie_df_2d['label'] == label]\n",
    "            reassigned_label = nellie_df_2d_label['reassigned_label_raw']\n",
    "            labels.append(int(list(reassigned_label)[0]))\n",
    "        #add number of assigned label\n",
    "            #if label == contour_label:\n",
    "             #       contours = get_label_contour(labeled_im_frame, label)\n",
    "              #      for contour in contours:\n",
    "               #         contour_points.append(np.column_stack((np.full(len(contour), frame), contour)))\n",
    "\n",
    "    "
   ]
  },
  {
   "cell_type": "code",
   "execution_count": 133,
   "metadata": {},
   "outputs": [],
   "source": [
    "#show image\n",
    "viewer = napari.Viewer()\n",
    "viewer.add_labels(im, name =\"labeled image\")\n",
    "viewer.add_points(middle, face_color='white', size =2, name = \"central point\")\n",
    "viewer.add_points(fusion_coords, face_color='yellow', size =2, name = \"fusion_node\")\n",
    "viewer.add_points(fission_coords, face_color='yellow', size =2, name = \"fission_node\")\n",
    "\n",
    "viewer.add_points(list_fis, face_color='green', size =2, name = \"fission_area\")\n",
    "viewer.add_points(list_fus, face_color='green', size =2, name = \"fusion_area\")\n",
    "\n",
    "viewer.add_points(centroids, text = labels, size =0.5, name = \"label number\")\n",
    "napari.run()\n",
    "\n",
    "#TODO is it the correct position of this iamghe"
   ]
  },
  {
   "cell_type": "markdown",
   "metadata": {},
   "source": [
    "# Back up"
   ]
  },
  {
   "cell_type": "code",
   "execution_count": null,
   "metadata": {},
   "outputs": [],
   "source": [
    "'''\n",
    "#show image\n",
    "viewer = napari.Viewer()\n",
    "viewer.add_labels(im, name =\"labeled image\")\n",
    "viewer.add_points(middle, face_color='white', size =5, name = \"label number\")\n",
    "viewer.add_points(test_coord, face_color='yellow', size =1 , text = label, name = \"label number\")\n",
    "napari.run()\n",
    "'''\n"
   ]
  },
  {
   "cell_type": "code",
   "execution_count": null,
   "metadata": {},
   "outputs": [],
   "source": [
    "import numpy as np\n",
    "import matplotlib.pyplot as plt\n",
    "from scipy import ndimage\n",
    "\n",
    "# Create a 2D binary image\n",
    "img = np.array([[0, 2, 2, 0],\n",
    "                [0, 2, 2, 0],\n",
    "                [0, 2, 2, 0],\n",
    "                [0, 0, 0, 0]])\n",
    "\n",
    "# Calculate center of mass\n",
    "com = ndimage.center_of_mass(img)\n",
    "print(com)\n",
    "# Plot the image and center of mass\n",
    "plt.imshow(img, cmap='gray')\n",
    "plt.scatter(com[1], com[0], c='red', marker='x', s=100)  # Swap row, column for plotting\n",
    "plt.title('Center of Mass')\n",
    "plt.show()"
   ]
  }
 ],
 "metadata": {
  "kernelspec": {
   "display_name": "napari-env",
   "language": "python",
   "name": "python3"
  },
  "language_info": {
   "codemirror_mode": {
    "name": "ipython",
    "version": 3
   },
   "file_extension": ".py",
   "mimetype": "text/x-python",
   "name": "python",
   "nbconvert_exporter": "python",
   "pygments_lexer": "ipython3",
   "version": "3.10.15"
  }
 },
 "nbformat": 4,
 "nbformat_minor": 2
}
