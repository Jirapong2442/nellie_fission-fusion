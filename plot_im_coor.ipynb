{
 "cells": [
  {
   "cell_type": "code",
   "execution_count": 1,
   "metadata": {},
   "outputs": [],
   "source": [
    "import tifffile\n",
    "import numpy as np\n",
    "import pandas as pd\n",
    "import cv2\n",
    "from scipy.ndimage import center_of_mass, extrema\n",
    "import napari \n",
    "import matplotlib.pyplot as plt\n",
    "from skimage import measure\n",
    "import os"
   ]
  },
  {
   "cell_type": "code",
   "execution_count": 2,
   "metadata": {},
   "outputs": [],
   "source": [
    "scalling_x = 10 #22\n",
    "scalling_y =  10#20\n",
    "translation_x = 200 # 422.5\n",
    "translation_y = 200 # 336\n",
    "main_dir = \"D:/Internship/NTU/simulation/with_center/simulation3/\""
   ]
  },
  {
   "cell_type": "markdown",
   "metadata": {},
   "source": [
    "# load function and image"
   ]
  },
  {
   "cell_type": "code",
   "execution_count": 3,
   "metadata": {},
   "outputs": [],
   "source": [
    "def get_coor (path_to_log_file,rescaleX,rescaleY):\n",
    "    with open(path_to_log_file, \"r\", encoding='utf-8-sig') as f:\n",
    "        string = f.read()\n",
    "        lines = string.split(\"\\n\")\n",
    "        num = 1\n",
    "        event_num = []\n",
    "        x_coordinates = []\n",
    "        y_coordinates = []\n",
    "        for line in lines:\n",
    "\n",
    "            if len(line ) != 0:\n",
    "                if (int(num) - 1)% 3  == 0: \n",
    "                    event_num.append(num)\n",
    "                    num+=1\n",
    "                \n",
    "                else: \n",
    "                    y = line[1:-1].split(',')[1]\n",
    "                    x = line[1:-1].split(',')[0]\n",
    "                    y_coordinates.append((rescaleY * (-float(y)))+translation_x-scalling_y)\n",
    "                    x_coordinates.append((rescaleX * float(x))+ translation_y-scalling_x)\n",
    "                    #note: with center simulation Y -20 X -35\n",
    "                    # \n",
    "                    num+=1\n",
    "    return len(event_num) , pd.DataFrame({'y_coordinates': y_coordinates, 'x_coordinates': x_coordinates}) "
   ]
  },
  {
   "cell_type": "code",
   "execution_count": 4,
   "metadata": {},
   "outputs": [
    {
     "data": {
      "text/plain": [
       "(1.0, 1.0)"
      ]
     },
     "execution_count": 4,
     "metadata": {},
     "output_type": "execute_result"
    }
   ],
   "source": [
    "# Load tiff file and log position\n",
    "#im_path = \"D:/Internship/NTU/simulation/with_center/simulation1/multi_center_resized.ome.tif\"\n",
    "im_path = main_dir + \"particle.ome.tif\"\n",
    "im = tifffile.imread(im_path)\n",
    "rescaling_y = im.shape[1]/400\n",
    "rescaling_x = im.shape[2]/400\n",
    "rescaling_y,rescaling_x"
   ]
  },
  {
   "cell_type": "code",
   "execution_count": 5,
   "metadata": {},
   "outputs": [
    {
     "data": {
      "text/plain": [
       "(501, 400, 400)"
      ]
     },
     "execution_count": 5,
     "metadata": {},
     "output_type": "execute_result"
    }
   ],
   "source": [
    "im.shape"
   ]
  },
  {
   "cell_type": "code",
   "execution_count": 6,
   "metadata": {},
   "outputs": [],
   "source": [
    "event_all_log = []\n",
    "path = main_dir + \"nonzero_frames_final.log\"\n",
    "with open(path, \"r\", encoding='utf-8-sig') as f:\n",
    "    string = f.read()\n",
    "    lines = string.split(\"\\n\")\n",
    "    for line in lines:\n",
    "        if len(line ) != 0:\n",
    "            events = line.split(\":\")[1].split(\",\")\n",
    "            frame = line.split(\":\")[0].split()[1]\n",
    "           \n",
    "            if len(events) == 1 :\n",
    "                continue\n",
    "            else:\n",
    "                num_events = [x.split(\"=\")[1] for x in events]\n",
    "                x= int(num_events[0]) + float(num_events[1])\n",
    "                num = [float(frame),x,float(num_events[2])]\n",
    "                event_all_log.append(num)"
   ]
  },
  {
   "cell_type": "code",
   "execution_count": 7,
   "metadata": {},
   "outputs": [
    {
     "name": "stdout",
     "output_type": "stream",
     "text": [
      "all_fusion 29.0\n",
      "all_fission 29.0\n"
     ]
    }
   ],
   "source": [
    "# frame , fusion, fission \n",
    "event_all_log = (np.transpose(np.array(event_all_log)))\n",
    "print(f\"all_fusion {np.sum(event_all_log[1])}\")\n",
    "print(f\"all_fission {np.sum(event_all_log[2])}\")\n"
   ]
  },
  {
   "cell_type": "code",
   "execution_count": 8,
   "metadata": {},
   "outputs": [
    {
     "data": {
      "text/plain": [
       "array([[ 14.,  21.,  24.,  26.,  28.,  29.,  50.,  63.,  74.,  82.,  85.,\n",
       "         86.,  87.,  88.,  89.,  93., 106., 108., 174., 179., 180., 181.,\n",
       "        199., 203., 208., 214., 242., 245., 248., 272., 276., 278., 298.,\n",
       "        312., 314., 317., 324., 331., 335., 336., 346., 350., 353., 354.,\n",
       "        381., 382., 389., 394., 401., 405., 427., 429., 434., 455., 489.,\n",
       "        499.],\n",
       "       [  1.,   1.,   0.,   0.,   0.,   1.,   1.,   0.,   0.,   0.,   1.,\n",
       "          1.,   0.,   1.,   1.,   1.,   0.,   1.,   0.,   0.,   0.,   1.,\n",
       "          1.,   0.,   1.,   1.,   0.,   1.,   0.,   0.,   1.,   1.,   0.,\n",
       "          1.,   0.,   1.,   0.,   0.,   1.,   1.,   1.,   0.,   1.,   0.,\n",
       "          0.,   1.,   0.,   0.,   1.,   1.,   0.,   1.,   1.,   1.,   0.,\n",
       "          0.],\n",
       "       [  0.,   0.,   1.,   1.,   1.,   0.,   0.,   1.,   1.,   1.,   0.,\n",
       "          0.,   1.,   0.,   0.,   0.,   1.,   0.,   1.,   1.,   1.,   0.,\n",
       "          0.,   1.,   0.,   0.,   1.,   0.,   1.,   1.,   0.,   1.,   1.,\n",
       "          0.,   1.,   0.,   1.,   1.,   0.,   1.,   0.,   1.,   0.,   1.,\n",
       "          1.,   0.,   1.,   1.,   0.,   0.,   1.,   0.,   0.,   0.,   1.,\n",
       "          1.]])"
      ]
     },
     "execution_count": 8,
     "metadata": {},
     "output_type": "execute_result"
    }
   ],
   "source": [
    "event_all_log"
   ]
  },
  {
   "cell_type": "code",
   "execution_count": 9,
   "metadata": {},
   "outputs": [
    {
     "name": "stdout",
     "output_type": "stream",
     "text": [
      "num_fusion 29\n",
      "num_fission 29\n"
     ]
    },
    {
     "data": {
      "application/vnd.microsoft.datawrangler.viewer.v0+json": {
       "columns": [
        {
         "name": "index",
         "rawType": "int64",
         "type": "integer"
        },
        {
         "name": "y_coordinates",
         "rawType": "float64",
         "type": "float"
        },
        {
         "name": "x_coordinates",
         "rawType": "float64",
         "type": "float"
        }
       ],
       "ref": "f127134b-9944-4a55-a557-76b009c559a3",
       "rows": [
        [
         "0",
         "185.17895",
         "198.40235"
        ],
        [
         "1",
         "186.79624",
         "203.5257"
        ],
        [
         "2",
         "187.44127",
         "205.2996"
        ],
        [
         "3",
         "188.93201",
         "207.224"
        ],
        [
         "4",
         "200.4844",
         "184.59508"
        ],
        [
         "5",
         "201.2253",
         "182.67497"
        ],
        [
         "6",
         "206.9746",
         "225.3987"
        ],
        [
         "7",
         "210.0984",
         "228.2494"
        ],
        [
         "8",
         "182.05516",
         "198.32774"
        ],
        [
         "9",
         "183.4639",
         "202.9179"
        ],
        [
         "10",
         "247.0679",
         "243.5438"
        ],
        [
         "11",
         "246.82999999999998",
         "247.73669999999998"
        ],
        [
         "12",
         "187.73803",
         "168.6903"
        ],
        [
         "13",
         "184.45341",
         "171.1241"
        ],
        [
         "14",
         "131.6955",
         "227.9121"
        ],
        [
         "15",
         "136.53730000000002",
         "229.6379"
        ],
        [
         "16",
         "142.0061",
         "245.4214"
        ],
        [
         "17",
         "137.6202",
         "241.7999"
        ],
        [
         "18",
         "142.0061",
         "245.4214"
        ],
        [
         "19",
         "140.5979",
         "247.36880000000002"
        ],
        [
         "20",
         "166.1847",
         "200.8907"
        ],
        [
         "21",
         "169.0949",
         "198.19283000000001"
        ],
        [
         "22",
         "166.5903",
         "195.33877"
        ],
        [
         "23",
         "166.2819",
         "190.440614"
        ],
        [
         "24",
         "212.4428",
         "230.78629999999998"
        ],
        [
         "25",
         "214.4495",
         "234.8068"
        ],
        [
         "26",
         "192.64924",
         "163.3568"
        ],
        [
         "27",
         "197.63636",
         "160.61599999999999"
        ],
        [
         "28",
         "169.1026",
         "139.9456"
        ],
        [
         "29",
         "160.8442",
         "139.9812"
        ],
        [
         "30",
         "184.8582",
         "198.08595"
        ],
        [
         "31",
         "181.36688",
         "200.6958"
        ],
        [
         "32",
         "253.4796",
         "184.64917"
        ],
        [
         "33",
         "256.3799",
         "180.95959"
        ],
        [
         "34",
         "202.489",
         "147.9392"
        ],
        [
         "35",
         "205.573",
         "150.2276"
        ],
        [
         "36",
         "253.8976",
         "256.1024"
        ],
        [
         "37",
         "255.2299",
         "259.0646"
        ],
        [
         "38",
         "176.8084",
         "188.21391"
        ],
        [
         "39",
         "180.27261",
         "191.59892"
        ],
        [
         "40",
         "147.5595",
         "249.97680000000003"
        ],
        [
         "41",
         "151.0667",
         "251.8356"
        ],
        [
         "42",
         "233.0956",
         "246.99790000000002"
        ],
        [
         "43",
         "232.6",
         "247.9126"
        ],
        [
         "44",
         "198.67732",
         "183.19226"
        ],
        [
         "45",
         "199.04309",
         "179.5857"
        ],
        [
         "46",
         "170.3178",
         "139.0078"
        ],
        [
         "47",
         "175.482",
         "139.5129"
        ],
        [
         "48",
         "133.5273",
         "222.4031"
        ],
        [
         "49",
         "134.3853",
         "226.2681"
        ]
       ],
       "shape": {
        "columns": 2,
        "rows": 58
       }
      },
      "text/html": [
       "<div>\n",
       "<style scoped>\n",
       "    .dataframe tbody tr th:only-of-type {\n",
       "        vertical-align: middle;\n",
       "    }\n",
       "\n",
       "    .dataframe tbody tr th {\n",
       "        vertical-align: top;\n",
       "    }\n",
       "\n",
       "    .dataframe thead th {\n",
       "        text-align: right;\n",
       "    }\n",
       "</style>\n",
       "<table border=\"1\" class=\"dataframe\">\n",
       "  <thead>\n",
       "    <tr style=\"text-align: right;\">\n",
       "      <th></th>\n",
       "      <th>y_coordinates</th>\n",
       "      <th>x_coordinates</th>\n",
       "    </tr>\n",
       "  </thead>\n",
       "  <tbody>\n",
       "    <tr>\n",
       "      <th>0</th>\n",
       "      <td>185.17895</td>\n",
       "      <td>198.402350</td>\n",
       "    </tr>\n",
       "    <tr>\n",
       "      <th>1</th>\n",
       "      <td>186.79624</td>\n",
       "      <td>203.525700</td>\n",
       "    </tr>\n",
       "    <tr>\n",
       "      <th>2</th>\n",
       "      <td>187.44127</td>\n",
       "      <td>205.299600</td>\n",
       "    </tr>\n",
       "    <tr>\n",
       "      <th>3</th>\n",
       "      <td>188.93201</td>\n",
       "      <td>207.224000</td>\n",
       "    </tr>\n",
       "    <tr>\n",
       "      <th>4</th>\n",
       "      <td>200.48440</td>\n",
       "      <td>184.595080</td>\n",
       "    </tr>\n",
       "    <tr>\n",
       "      <th>5</th>\n",
       "      <td>201.22530</td>\n",
       "      <td>182.674970</td>\n",
       "    </tr>\n",
       "    <tr>\n",
       "      <th>6</th>\n",
       "      <td>206.97460</td>\n",
       "      <td>225.398700</td>\n",
       "    </tr>\n",
       "    <tr>\n",
       "      <th>7</th>\n",
       "      <td>210.09840</td>\n",
       "      <td>228.249400</td>\n",
       "    </tr>\n",
       "    <tr>\n",
       "      <th>8</th>\n",
       "      <td>182.05516</td>\n",
       "      <td>198.327740</td>\n",
       "    </tr>\n",
       "    <tr>\n",
       "      <th>9</th>\n",
       "      <td>183.46390</td>\n",
       "      <td>202.917900</td>\n",
       "    </tr>\n",
       "    <tr>\n",
       "      <th>10</th>\n",
       "      <td>247.06790</td>\n",
       "      <td>243.543800</td>\n",
       "    </tr>\n",
       "    <tr>\n",
       "      <th>11</th>\n",
       "      <td>246.83000</td>\n",
       "      <td>247.736700</td>\n",
       "    </tr>\n",
       "    <tr>\n",
       "      <th>12</th>\n",
       "      <td>187.73803</td>\n",
       "      <td>168.690300</td>\n",
       "    </tr>\n",
       "    <tr>\n",
       "      <th>13</th>\n",
       "      <td>184.45341</td>\n",
       "      <td>171.124100</td>\n",
       "    </tr>\n",
       "    <tr>\n",
       "      <th>14</th>\n",
       "      <td>131.69550</td>\n",
       "      <td>227.912100</td>\n",
       "    </tr>\n",
       "    <tr>\n",
       "      <th>15</th>\n",
       "      <td>136.53730</td>\n",
       "      <td>229.637900</td>\n",
       "    </tr>\n",
       "    <tr>\n",
       "      <th>16</th>\n",
       "      <td>142.00610</td>\n",
       "      <td>245.421400</td>\n",
       "    </tr>\n",
       "    <tr>\n",
       "      <th>17</th>\n",
       "      <td>137.62020</td>\n",
       "      <td>241.799900</td>\n",
       "    </tr>\n",
       "    <tr>\n",
       "      <th>18</th>\n",
       "      <td>142.00610</td>\n",
       "      <td>245.421400</td>\n",
       "    </tr>\n",
       "    <tr>\n",
       "      <th>19</th>\n",
       "      <td>140.59790</td>\n",
       "      <td>247.368800</td>\n",
       "    </tr>\n",
       "    <tr>\n",
       "      <th>20</th>\n",
       "      <td>166.18470</td>\n",
       "      <td>200.890700</td>\n",
       "    </tr>\n",
       "    <tr>\n",
       "      <th>21</th>\n",
       "      <td>169.09490</td>\n",
       "      <td>198.192830</td>\n",
       "    </tr>\n",
       "    <tr>\n",
       "      <th>22</th>\n",
       "      <td>166.59030</td>\n",
       "      <td>195.338770</td>\n",
       "    </tr>\n",
       "    <tr>\n",
       "      <th>23</th>\n",
       "      <td>166.28190</td>\n",
       "      <td>190.440614</td>\n",
       "    </tr>\n",
       "    <tr>\n",
       "      <th>24</th>\n",
       "      <td>212.44280</td>\n",
       "      <td>230.786300</td>\n",
       "    </tr>\n",
       "    <tr>\n",
       "      <th>25</th>\n",
       "      <td>214.44950</td>\n",
       "      <td>234.806800</td>\n",
       "    </tr>\n",
       "    <tr>\n",
       "      <th>26</th>\n",
       "      <td>192.64924</td>\n",
       "      <td>163.356800</td>\n",
       "    </tr>\n",
       "    <tr>\n",
       "      <th>27</th>\n",
       "      <td>197.63636</td>\n",
       "      <td>160.616000</td>\n",
       "    </tr>\n",
       "    <tr>\n",
       "      <th>28</th>\n",
       "      <td>169.10260</td>\n",
       "      <td>139.945600</td>\n",
       "    </tr>\n",
       "    <tr>\n",
       "      <th>29</th>\n",
       "      <td>160.84420</td>\n",
       "      <td>139.981200</td>\n",
       "    </tr>\n",
       "    <tr>\n",
       "      <th>30</th>\n",
       "      <td>184.85820</td>\n",
       "      <td>198.085950</td>\n",
       "    </tr>\n",
       "    <tr>\n",
       "      <th>31</th>\n",
       "      <td>181.36688</td>\n",
       "      <td>200.695800</td>\n",
       "    </tr>\n",
       "    <tr>\n",
       "      <th>32</th>\n",
       "      <td>253.47960</td>\n",
       "      <td>184.649170</td>\n",
       "    </tr>\n",
       "    <tr>\n",
       "      <th>33</th>\n",
       "      <td>256.37990</td>\n",
       "      <td>180.959590</td>\n",
       "    </tr>\n",
       "    <tr>\n",
       "      <th>34</th>\n",
       "      <td>202.48900</td>\n",
       "      <td>147.939200</td>\n",
       "    </tr>\n",
       "    <tr>\n",
       "      <th>35</th>\n",
       "      <td>205.57300</td>\n",
       "      <td>150.227600</td>\n",
       "    </tr>\n",
       "    <tr>\n",
       "      <th>36</th>\n",
       "      <td>253.89760</td>\n",
       "      <td>256.102400</td>\n",
       "    </tr>\n",
       "    <tr>\n",
       "      <th>37</th>\n",
       "      <td>255.22990</td>\n",
       "      <td>259.064600</td>\n",
       "    </tr>\n",
       "    <tr>\n",
       "      <th>38</th>\n",
       "      <td>176.80840</td>\n",
       "      <td>188.213910</td>\n",
       "    </tr>\n",
       "    <tr>\n",
       "      <th>39</th>\n",
       "      <td>180.27261</td>\n",
       "      <td>191.598920</td>\n",
       "    </tr>\n",
       "    <tr>\n",
       "      <th>40</th>\n",
       "      <td>147.55950</td>\n",
       "      <td>249.976800</td>\n",
       "    </tr>\n",
       "    <tr>\n",
       "      <th>41</th>\n",
       "      <td>151.06670</td>\n",
       "      <td>251.835600</td>\n",
       "    </tr>\n",
       "    <tr>\n",
       "      <th>42</th>\n",
       "      <td>233.09560</td>\n",
       "      <td>246.997900</td>\n",
       "    </tr>\n",
       "    <tr>\n",
       "      <th>43</th>\n",
       "      <td>232.60000</td>\n",
       "      <td>247.912600</td>\n",
       "    </tr>\n",
       "    <tr>\n",
       "      <th>44</th>\n",
       "      <td>198.67732</td>\n",
       "      <td>183.192260</td>\n",
       "    </tr>\n",
       "    <tr>\n",
       "      <th>45</th>\n",
       "      <td>199.04309</td>\n",
       "      <td>179.585700</td>\n",
       "    </tr>\n",
       "    <tr>\n",
       "      <th>46</th>\n",
       "      <td>170.31780</td>\n",
       "      <td>139.007800</td>\n",
       "    </tr>\n",
       "    <tr>\n",
       "      <th>47</th>\n",
       "      <td>175.48200</td>\n",
       "      <td>139.512900</td>\n",
       "    </tr>\n",
       "    <tr>\n",
       "      <th>48</th>\n",
       "      <td>133.52730</td>\n",
       "      <td>222.403100</td>\n",
       "    </tr>\n",
       "    <tr>\n",
       "      <th>49</th>\n",
       "      <td>134.38530</td>\n",
       "      <td>226.268100</td>\n",
       "    </tr>\n",
       "    <tr>\n",
       "      <th>50</th>\n",
       "      <td>275.88570</td>\n",
       "      <td>194.681990</td>\n",
       "    </tr>\n",
       "    <tr>\n",
       "      <th>51</th>\n",
       "      <td>273.13750</td>\n",
       "      <td>186.008620</td>\n",
       "    </tr>\n",
       "    <tr>\n",
       "      <th>52</th>\n",
       "      <td>188.19624</td>\n",
       "      <td>167.102000</td>\n",
       "    </tr>\n",
       "    <tr>\n",
       "      <th>53</th>\n",
       "      <td>185.07217</td>\n",
       "      <td>169.984100</td>\n",
       "    </tr>\n",
       "    <tr>\n",
       "      <th>54</th>\n",
       "      <td>206.42750</td>\n",
       "      <td>225.586900</td>\n",
       "    </tr>\n",
       "    <tr>\n",
       "      <th>55</th>\n",
       "      <td>210.21950</td>\n",
       "      <td>229.202900</td>\n",
       "    </tr>\n",
       "    <tr>\n",
       "      <th>56</th>\n",
       "      <td>263.14650</td>\n",
       "      <td>181.168000</td>\n",
       "    </tr>\n",
       "    <tr>\n",
       "      <th>57</th>\n",
       "      <td>267.13690</td>\n",
       "      <td>182.786630</td>\n",
       "    </tr>\n",
       "  </tbody>\n",
       "</table>\n",
       "</div>"
      ],
      "text/plain": [
       "    y_coordinates  x_coordinates\n",
       "0       185.17895     198.402350\n",
       "1       186.79624     203.525700\n",
       "2       187.44127     205.299600\n",
       "3       188.93201     207.224000\n",
       "4       200.48440     184.595080\n",
       "5       201.22530     182.674970\n",
       "6       206.97460     225.398700\n",
       "7       210.09840     228.249400\n",
       "8       182.05516     198.327740\n",
       "9       183.46390     202.917900\n",
       "10      247.06790     243.543800\n",
       "11      246.83000     247.736700\n",
       "12      187.73803     168.690300\n",
       "13      184.45341     171.124100\n",
       "14      131.69550     227.912100\n",
       "15      136.53730     229.637900\n",
       "16      142.00610     245.421400\n",
       "17      137.62020     241.799900\n",
       "18      142.00610     245.421400\n",
       "19      140.59790     247.368800\n",
       "20      166.18470     200.890700\n",
       "21      169.09490     198.192830\n",
       "22      166.59030     195.338770\n",
       "23      166.28190     190.440614\n",
       "24      212.44280     230.786300\n",
       "25      214.44950     234.806800\n",
       "26      192.64924     163.356800\n",
       "27      197.63636     160.616000\n",
       "28      169.10260     139.945600\n",
       "29      160.84420     139.981200\n",
       "30      184.85820     198.085950\n",
       "31      181.36688     200.695800\n",
       "32      253.47960     184.649170\n",
       "33      256.37990     180.959590\n",
       "34      202.48900     147.939200\n",
       "35      205.57300     150.227600\n",
       "36      253.89760     256.102400\n",
       "37      255.22990     259.064600\n",
       "38      176.80840     188.213910\n",
       "39      180.27261     191.598920\n",
       "40      147.55950     249.976800\n",
       "41      151.06670     251.835600\n",
       "42      233.09560     246.997900\n",
       "43      232.60000     247.912600\n",
       "44      198.67732     183.192260\n",
       "45      199.04309     179.585700\n",
       "46      170.31780     139.007800\n",
       "47      175.48200     139.512900\n",
       "48      133.52730     222.403100\n",
       "49      134.38530     226.268100\n",
       "50      275.88570     194.681990\n",
       "51      273.13750     186.008620\n",
       "52      188.19624     167.102000\n",
       "53      185.07217     169.984100\n",
       "54      206.42750     225.586900\n",
       "55      210.21950     229.202900\n",
       "56      263.14650     181.168000\n",
       "57      267.13690     182.786630"
      ]
     },
     "execution_count": 9,
     "metadata": {},
     "output_type": "execute_result"
    }
   ],
   "source": [
    "path1_fis = main_dir + \"fission_position_2.log\"\n",
    "path1_fus = main_dir+ \"/fusion_position_2.log\"\n",
    "\n",
    "\n",
    "\n",
    "num_fission,fission_coor = get_coor(path1_fis, rescaling_x, rescaling_y)\n",
    "num_fusion,fusion_coor = get_coor(path1_fus, rescaling_x, rescaling_y)\n",
    "\n",
    "print(f\"num_fusion {num_fusion}\")\n",
    "print(f\"num_fission {num_fission}\")\n",
    "fusion_coor\n"
   ]
  },
  {
   "cell_type": "code",
   "execution_count": 10,
   "metadata": {},
   "outputs": [],
   "source": [
    "# append frame in the coordinate array. \n",
    "# each frame consistingg of at least 2 coordinates, one for each fusion and fission event\n",
    "fusion_frames = []\n",
    "fission_frames = []\n",
    "\n",
    "fusion_idx = 0\n",
    "fission_idx = 0\n",
    "\n",
    "for x in range(len(event_all_log[0])):\n",
    "    if event_all_log[1][x] > 0 :\n",
    "        frame = event_all_log[0][x]\n",
    "        r_frame = np.repeat(frame,event_all_log[1][x]*2 )\n",
    "        if x == 0:\n",
    "            fusion_frames = r_frame\n",
    "        else:\n",
    "            fusion_frames = np.concatenate((fusion_frames,r_frame))\n",
    "        fusion_idx += 1\n",
    "    if event_all_log[2][x] > 0:\n",
    "        frame = event_all_log[0][x]\n",
    "        r_frame = np.repeat(frame,event_all_log[2][x]*2 )\n",
    "\n",
    "        if x == 0:\n",
    "            fission_frames = r_frame\n",
    "        else:\n",
    "            fission_frames = np.concatenate((fission_frames,r_frame))\n",
    "\n",
    "        fission_idx += 1\n",
    "\n",
    "# Assign the lists as new columns in your DataFrames\n",
    "fusion_coor['frame'] = fusion_frames\n",
    "fission_coor['frame'] = fission_frames"
   ]
  },
  {
   "cell_type": "code",
   "execution_count": 11,
   "metadata": {},
   "outputs": [],
   "source": [
    "# need 2 loop coz frame are different\n",
    "fusion_coords = []\n",
    "for f in range(len(fusion_coor['frame'])):\n",
    "    frame = int(fusion_coor.iloc[f,2])\n",
    "    target_frame = im[frame]\n",
    "    coor = np.append( fusion_coor.iloc[f,0], fusion_coor.iloc[f,1]) # x,y coordinates or yx?\n",
    "    fusion_coords.append(np.append(frame, coor))\n",
    "\n",
    "fission_coords = []\n",
    "for f in range(len(fission_coor['frame'])):\n",
    "    frame = int(fission_coor.iloc[f,2])\n",
    "    target_frame = im[frame]\n",
    "    coor = np.append( fission_coor.iloc[f,0], fission_coor.iloc[f,1]) # x,y coordinates or yx?\n",
    "    fission_coords.append(np.append(frame, coor))\n"
   ]
  },
  {
   "cell_type": "code",
   "execution_count": 12,
   "metadata": {},
   "outputs": [
    {
     "data": {
      "application/vnd.microsoft.datawrangler.viewer.v0+json": {
       "columns": [
        {
         "name": "index",
         "rawType": "int64",
         "type": "integer"
        },
        {
         "name": "y_coordinates",
         "rawType": "float64",
         "type": "float"
        },
        {
         "name": "x_coordinates",
         "rawType": "float64",
         "type": "float"
        },
        {
         "name": "frame",
         "rawType": "float64",
         "type": "float"
        }
       ],
       "ref": "e364b8ca-9fec-4839-bedc-6402f2d4c3eb",
       "rows": [
        [
         "0",
         "185.17895",
         "198.40235",
         "14.0"
        ],
        [
         "1",
         "186.79624",
         "203.5257",
         "14.0"
        ],
        [
         "2",
         "187.44127",
         "205.2996",
         "21.0"
        ],
        [
         "3",
         "188.93201",
         "207.224",
         "21.0"
        ],
        [
         "4",
         "200.4844",
         "184.59508",
         "29.0"
        ],
        [
         "5",
         "201.2253",
         "182.67497",
         "29.0"
        ],
        [
         "6",
         "206.9746",
         "225.3987",
         "50.0"
        ],
        [
         "7",
         "210.0984",
         "228.2494",
         "50.0"
        ],
        [
         "8",
         "182.05516",
         "198.32774",
         "85.0"
        ],
        [
         "9",
         "183.4639",
         "202.9179",
         "85.0"
        ],
        [
         "10",
         "247.0679",
         "243.5438",
         "86.0"
        ],
        [
         "11",
         "246.82999999999998",
         "247.73669999999998",
         "86.0"
        ],
        [
         "12",
         "187.73803",
         "168.6903",
         "88.0"
        ],
        [
         "13",
         "184.45341",
         "171.1241",
         "88.0"
        ],
        [
         "14",
         "131.6955",
         "227.9121",
         "89.0"
        ],
        [
         "15",
         "136.53730000000002",
         "229.6379",
         "89.0"
        ],
        [
         "16",
         "142.0061",
         "245.4214",
         "93.0"
        ],
        [
         "17",
         "137.6202",
         "241.7999",
         "93.0"
        ],
        [
         "18",
         "142.0061",
         "245.4214",
         "108.0"
        ],
        [
         "19",
         "140.5979",
         "247.36880000000002",
         "108.0"
        ],
        [
         "20",
         "166.1847",
         "200.8907",
         "181.0"
        ],
        [
         "21",
         "169.0949",
         "198.19283000000001",
         "181.0"
        ],
        [
         "22",
         "166.5903",
         "195.33877",
         "199.0"
        ],
        [
         "23",
         "166.2819",
         "190.440614",
         "199.0"
        ],
        [
         "24",
         "212.4428",
         "230.78629999999998",
         "208.0"
        ],
        [
         "25",
         "214.4495",
         "234.8068",
         "208.0"
        ],
        [
         "26",
         "192.64924",
         "163.3568",
         "214.0"
        ],
        [
         "27",
         "197.63636",
         "160.61599999999999",
         "214.0"
        ],
        [
         "28",
         "169.1026",
         "139.9456",
         "245.0"
        ],
        [
         "29",
         "160.8442",
         "139.9812",
         "245.0"
        ],
        [
         "30",
         "184.8582",
         "198.08595",
         "276.0"
        ],
        [
         "31",
         "181.36688",
         "200.6958",
         "276.0"
        ],
        [
         "32",
         "253.4796",
         "184.64917",
         "278.0"
        ],
        [
         "33",
         "256.3799",
         "180.95959",
         "278.0"
        ],
        [
         "34",
         "202.489",
         "147.9392",
         "312.0"
        ],
        [
         "35",
         "205.573",
         "150.2276",
         "312.0"
        ],
        [
         "36",
         "253.8976",
         "256.1024",
         "317.0"
        ],
        [
         "37",
         "255.2299",
         "259.0646",
         "317.0"
        ],
        [
         "38",
         "176.8084",
         "188.21391",
         "335.0"
        ],
        [
         "39",
         "180.27261",
         "191.59892",
         "335.0"
        ],
        [
         "40",
         "147.5595",
         "249.97680000000003",
         "336.0"
        ],
        [
         "41",
         "151.0667",
         "251.8356",
         "336.0"
        ],
        [
         "42",
         "233.0956",
         "246.99790000000002",
         "346.0"
        ],
        [
         "43",
         "232.6",
         "247.9126",
         "346.0"
        ],
        [
         "44",
         "198.67732",
         "183.19226",
         "353.0"
        ],
        [
         "45",
         "199.04309",
         "179.5857",
         "353.0"
        ],
        [
         "46",
         "170.3178",
         "139.0078",
         "382.0"
        ],
        [
         "47",
         "175.482",
         "139.5129",
         "382.0"
        ],
        [
         "48",
         "133.5273",
         "222.4031",
         "401.0"
        ],
        [
         "49",
         "134.3853",
         "226.2681",
         "401.0"
        ]
       ],
       "shape": {
        "columns": 3,
        "rows": 58
       }
      },
      "text/html": [
       "<div>\n",
       "<style scoped>\n",
       "    .dataframe tbody tr th:only-of-type {\n",
       "        vertical-align: middle;\n",
       "    }\n",
       "\n",
       "    .dataframe tbody tr th {\n",
       "        vertical-align: top;\n",
       "    }\n",
       "\n",
       "    .dataframe thead th {\n",
       "        text-align: right;\n",
       "    }\n",
       "</style>\n",
       "<table border=\"1\" class=\"dataframe\">\n",
       "  <thead>\n",
       "    <tr style=\"text-align: right;\">\n",
       "      <th></th>\n",
       "      <th>y_coordinates</th>\n",
       "      <th>x_coordinates</th>\n",
       "      <th>frame</th>\n",
       "    </tr>\n",
       "  </thead>\n",
       "  <tbody>\n",
       "    <tr>\n",
       "      <th>0</th>\n",
       "      <td>185.17895</td>\n",
       "      <td>198.402350</td>\n",
       "      <td>14.0</td>\n",
       "    </tr>\n",
       "    <tr>\n",
       "      <th>1</th>\n",
       "      <td>186.79624</td>\n",
       "      <td>203.525700</td>\n",
       "      <td>14.0</td>\n",
       "    </tr>\n",
       "    <tr>\n",
       "      <th>2</th>\n",
       "      <td>187.44127</td>\n",
       "      <td>205.299600</td>\n",
       "      <td>21.0</td>\n",
       "    </tr>\n",
       "    <tr>\n",
       "      <th>3</th>\n",
       "      <td>188.93201</td>\n",
       "      <td>207.224000</td>\n",
       "      <td>21.0</td>\n",
       "    </tr>\n",
       "    <tr>\n",
       "      <th>4</th>\n",
       "      <td>200.48440</td>\n",
       "      <td>184.595080</td>\n",
       "      <td>29.0</td>\n",
       "    </tr>\n",
       "    <tr>\n",
       "      <th>5</th>\n",
       "      <td>201.22530</td>\n",
       "      <td>182.674970</td>\n",
       "      <td>29.0</td>\n",
       "    </tr>\n",
       "    <tr>\n",
       "      <th>6</th>\n",
       "      <td>206.97460</td>\n",
       "      <td>225.398700</td>\n",
       "      <td>50.0</td>\n",
       "    </tr>\n",
       "    <tr>\n",
       "      <th>7</th>\n",
       "      <td>210.09840</td>\n",
       "      <td>228.249400</td>\n",
       "      <td>50.0</td>\n",
       "    </tr>\n",
       "    <tr>\n",
       "      <th>8</th>\n",
       "      <td>182.05516</td>\n",
       "      <td>198.327740</td>\n",
       "      <td>85.0</td>\n",
       "    </tr>\n",
       "    <tr>\n",
       "      <th>9</th>\n",
       "      <td>183.46390</td>\n",
       "      <td>202.917900</td>\n",
       "      <td>85.0</td>\n",
       "    </tr>\n",
       "    <tr>\n",
       "      <th>10</th>\n",
       "      <td>247.06790</td>\n",
       "      <td>243.543800</td>\n",
       "      <td>86.0</td>\n",
       "    </tr>\n",
       "    <tr>\n",
       "      <th>11</th>\n",
       "      <td>246.83000</td>\n",
       "      <td>247.736700</td>\n",
       "      <td>86.0</td>\n",
       "    </tr>\n",
       "    <tr>\n",
       "      <th>12</th>\n",
       "      <td>187.73803</td>\n",
       "      <td>168.690300</td>\n",
       "      <td>88.0</td>\n",
       "    </tr>\n",
       "    <tr>\n",
       "      <th>13</th>\n",
       "      <td>184.45341</td>\n",
       "      <td>171.124100</td>\n",
       "      <td>88.0</td>\n",
       "    </tr>\n",
       "    <tr>\n",
       "      <th>14</th>\n",
       "      <td>131.69550</td>\n",
       "      <td>227.912100</td>\n",
       "      <td>89.0</td>\n",
       "    </tr>\n",
       "    <tr>\n",
       "      <th>15</th>\n",
       "      <td>136.53730</td>\n",
       "      <td>229.637900</td>\n",
       "      <td>89.0</td>\n",
       "    </tr>\n",
       "    <tr>\n",
       "      <th>16</th>\n",
       "      <td>142.00610</td>\n",
       "      <td>245.421400</td>\n",
       "      <td>93.0</td>\n",
       "    </tr>\n",
       "    <tr>\n",
       "      <th>17</th>\n",
       "      <td>137.62020</td>\n",
       "      <td>241.799900</td>\n",
       "      <td>93.0</td>\n",
       "    </tr>\n",
       "    <tr>\n",
       "      <th>18</th>\n",
       "      <td>142.00610</td>\n",
       "      <td>245.421400</td>\n",
       "      <td>108.0</td>\n",
       "    </tr>\n",
       "    <tr>\n",
       "      <th>19</th>\n",
       "      <td>140.59790</td>\n",
       "      <td>247.368800</td>\n",
       "      <td>108.0</td>\n",
       "    </tr>\n",
       "    <tr>\n",
       "      <th>20</th>\n",
       "      <td>166.18470</td>\n",
       "      <td>200.890700</td>\n",
       "      <td>181.0</td>\n",
       "    </tr>\n",
       "    <tr>\n",
       "      <th>21</th>\n",
       "      <td>169.09490</td>\n",
       "      <td>198.192830</td>\n",
       "      <td>181.0</td>\n",
       "    </tr>\n",
       "    <tr>\n",
       "      <th>22</th>\n",
       "      <td>166.59030</td>\n",
       "      <td>195.338770</td>\n",
       "      <td>199.0</td>\n",
       "    </tr>\n",
       "    <tr>\n",
       "      <th>23</th>\n",
       "      <td>166.28190</td>\n",
       "      <td>190.440614</td>\n",
       "      <td>199.0</td>\n",
       "    </tr>\n",
       "    <tr>\n",
       "      <th>24</th>\n",
       "      <td>212.44280</td>\n",
       "      <td>230.786300</td>\n",
       "      <td>208.0</td>\n",
       "    </tr>\n",
       "    <tr>\n",
       "      <th>25</th>\n",
       "      <td>214.44950</td>\n",
       "      <td>234.806800</td>\n",
       "      <td>208.0</td>\n",
       "    </tr>\n",
       "    <tr>\n",
       "      <th>26</th>\n",
       "      <td>192.64924</td>\n",
       "      <td>163.356800</td>\n",
       "      <td>214.0</td>\n",
       "    </tr>\n",
       "    <tr>\n",
       "      <th>27</th>\n",
       "      <td>197.63636</td>\n",
       "      <td>160.616000</td>\n",
       "      <td>214.0</td>\n",
       "    </tr>\n",
       "    <tr>\n",
       "      <th>28</th>\n",
       "      <td>169.10260</td>\n",
       "      <td>139.945600</td>\n",
       "      <td>245.0</td>\n",
       "    </tr>\n",
       "    <tr>\n",
       "      <th>29</th>\n",
       "      <td>160.84420</td>\n",
       "      <td>139.981200</td>\n",
       "      <td>245.0</td>\n",
       "    </tr>\n",
       "    <tr>\n",
       "      <th>30</th>\n",
       "      <td>184.85820</td>\n",
       "      <td>198.085950</td>\n",
       "      <td>276.0</td>\n",
       "    </tr>\n",
       "    <tr>\n",
       "      <th>31</th>\n",
       "      <td>181.36688</td>\n",
       "      <td>200.695800</td>\n",
       "      <td>276.0</td>\n",
       "    </tr>\n",
       "    <tr>\n",
       "      <th>32</th>\n",
       "      <td>253.47960</td>\n",
       "      <td>184.649170</td>\n",
       "      <td>278.0</td>\n",
       "    </tr>\n",
       "    <tr>\n",
       "      <th>33</th>\n",
       "      <td>256.37990</td>\n",
       "      <td>180.959590</td>\n",
       "      <td>278.0</td>\n",
       "    </tr>\n",
       "    <tr>\n",
       "      <th>34</th>\n",
       "      <td>202.48900</td>\n",
       "      <td>147.939200</td>\n",
       "      <td>312.0</td>\n",
       "    </tr>\n",
       "    <tr>\n",
       "      <th>35</th>\n",
       "      <td>205.57300</td>\n",
       "      <td>150.227600</td>\n",
       "      <td>312.0</td>\n",
       "    </tr>\n",
       "    <tr>\n",
       "      <th>36</th>\n",
       "      <td>253.89760</td>\n",
       "      <td>256.102400</td>\n",
       "      <td>317.0</td>\n",
       "    </tr>\n",
       "    <tr>\n",
       "      <th>37</th>\n",
       "      <td>255.22990</td>\n",
       "      <td>259.064600</td>\n",
       "      <td>317.0</td>\n",
       "    </tr>\n",
       "    <tr>\n",
       "      <th>38</th>\n",
       "      <td>176.80840</td>\n",
       "      <td>188.213910</td>\n",
       "      <td>335.0</td>\n",
       "    </tr>\n",
       "    <tr>\n",
       "      <th>39</th>\n",
       "      <td>180.27261</td>\n",
       "      <td>191.598920</td>\n",
       "      <td>335.0</td>\n",
       "    </tr>\n",
       "    <tr>\n",
       "      <th>40</th>\n",
       "      <td>147.55950</td>\n",
       "      <td>249.976800</td>\n",
       "      <td>336.0</td>\n",
       "    </tr>\n",
       "    <tr>\n",
       "      <th>41</th>\n",
       "      <td>151.06670</td>\n",
       "      <td>251.835600</td>\n",
       "      <td>336.0</td>\n",
       "    </tr>\n",
       "    <tr>\n",
       "      <th>42</th>\n",
       "      <td>233.09560</td>\n",
       "      <td>246.997900</td>\n",
       "      <td>346.0</td>\n",
       "    </tr>\n",
       "    <tr>\n",
       "      <th>43</th>\n",
       "      <td>232.60000</td>\n",
       "      <td>247.912600</td>\n",
       "      <td>346.0</td>\n",
       "    </tr>\n",
       "    <tr>\n",
       "      <th>44</th>\n",
       "      <td>198.67732</td>\n",
       "      <td>183.192260</td>\n",
       "      <td>353.0</td>\n",
       "    </tr>\n",
       "    <tr>\n",
       "      <th>45</th>\n",
       "      <td>199.04309</td>\n",
       "      <td>179.585700</td>\n",
       "      <td>353.0</td>\n",
       "    </tr>\n",
       "    <tr>\n",
       "      <th>46</th>\n",
       "      <td>170.31780</td>\n",
       "      <td>139.007800</td>\n",
       "      <td>382.0</td>\n",
       "    </tr>\n",
       "    <tr>\n",
       "      <th>47</th>\n",
       "      <td>175.48200</td>\n",
       "      <td>139.512900</td>\n",
       "      <td>382.0</td>\n",
       "    </tr>\n",
       "    <tr>\n",
       "      <th>48</th>\n",
       "      <td>133.52730</td>\n",
       "      <td>222.403100</td>\n",
       "      <td>401.0</td>\n",
       "    </tr>\n",
       "    <tr>\n",
       "      <th>49</th>\n",
       "      <td>134.38530</td>\n",
       "      <td>226.268100</td>\n",
       "      <td>401.0</td>\n",
       "    </tr>\n",
       "    <tr>\n",
       "      <th>50</th>\n",
       "      <td>275.88570</td>\n",
       "      <td>194.681990</td>\n",
       "      <td>405.0</td>\n",
       "    </tr>\n",
       "    <tr>\n",
       "      <th>51</th>\n",
       "      <td>273.13750</td>\n",
       "      <td>186.008620</td>\n",
       "      <td>405.0</td>\n",
       "    </tr>\n",
       "    <tr>\n",
       "      <th>52</th>\n",
       "      <td>188.19624</td>\n",
       "      <td>167.102000</td>\n",
       "      <td>429.0</td>\n",
       "    </tr>\n",
       "    <tr>\n",
       "      <th>53</th>\n",
       "      <td>185.07217</td>\n",
       "      <td>169.984100</td>\n",
       "      <td>429.0</td>\n",
       "    </tr>\n",
       "    <tr>\n",
       "      <th>54</th>\n",
       "      <td>206.42750</td>\n",
       "      <td>225.586900</td>\n",
       "      <td>434.0</td>\n",
       "    </tr>\n",
       "    <tr>\n",
       "      <th>55</th>\n",
       "      <td>210.21950</td>\n",
       "      <td>229.202900</td>\n",
       "      <td>434.0</td>\n",
       "    </tr>\n",
       "    <tr>\n",
       "      <th>56</th>\n",
       "      <td>263.14650</td>\n",
       "      <td>181.168000</td>\n",
       "      <td>455.0</td>\n",
       "    </tr>\n",
       "    <tr>\n",
       "      <th>57</th>\n",
       "      <td>267.13690</td>\n",
       "      <td>182.786630</td>\n",
       "      <td>455.0</td>\n",
       "    </tr>\n",
       "  </tbody>\n",
       "</table>\n",
       "</div>"
      ],
      "text/plain": [
       "    y_coordinates  x_coordinates  frame\n",
       "0       185.17895     198.402350   14.0\n",
       "1       186.79624     203.525700   14.0\n",
       "2       187.44127     205.299600   21.0\n",
       "3       188.93201     207.224000   21.0\n",
       "4       200.48440     184.595080   29.0\n",
       "5       201.22530     182.674970   29.0\n",
       "6       206.97460     225.398700   50.0\n",
       "7       210.09840     228.249400   50.0\n",
       "8       182.05516     198.327740   85.0\n",
       "9       183.46390     202.917900   85.0\n",
       "10      247.06790     243.543800   86.0\n",
       "11      246.83000     247.736700   86.0\n",
       "12      187.73803     168.690300   88.0\n",
       "13      184.45341     171.124100   88.0\n",
       "14      131.69550     227.912100   89.0\n",
       "15      136.53730     229.637900   89.0\n",
       "16      142.00610     245.421400   93.0\n",
       "17      137.62020     241.799900   93.0\n",
       "18      142.00610     245.421400  108.0\n",
       "19      140.59790     247.368800  108.0\n",
       "20      166.18470     200.890700  181.0\n",
       "21      169.09490     198.192830  181.0\n",
       "22      166.59030     195.338770  199.0\n",
       "23      166.28190     190.440614  199.0\n",
       "24      212.44280     230.786300  208.0\n",
       "25      214.44950     234.806800  208.0\n",
       "26      192.64924     163.356800  214.0\n",
       "27      197.63636     160.616000  214.0\n",
       "28      169.10260     139.945600  245.0\n",
       "29      160.84420     139.981200  245.0\n",
       "30      184.85820     198.085950  276.0\n",
       "31      181.36688     200.695800  276.0\n",
       "32      253.47960     184.649170  278.0\n",
       "33      256.37990     180.959590  278.0\n",
       "34      202.48900     147.939200  312.0\n",
       "35      205.57300     150.227600  312.0\n",
       "36      253.89760     256.102400  317.0\n",
       "37      255.22990     259.064600  317.0\n",
       "38      176.80840     188.213910  335.0\n",
       "39      180.27261     191.598920  335.0\n",
       "40      147.55950     249.976800  336.0\n",
       "41      151.06670     251.835600  336.0\n",
       "42      233.09560     246.997900  346.0\n",
       "43      232.60000     247.912600  346.0\n",
       "44      198.67732     183.192260  353.0\n",
       "45      199.04309     179.585700  353.0\n",
       "46      170.31780     139.007800  382.0\n",
       "47      175.48200     139.512900  382.0\n",
       "48      133.52730     222.403100  401.0\n",
       "49      134.38530     226.268100  401.0\n",
       "50      275.88570     194.681990  405.0\n",
       "51      273.13750     186.008620  405.0\n",
       "52      188.19624     167.102000  429.0\n",
       "53      185.07217     169.984100  429.0\n",
       "54      206.42750     225.586900  434.0\n",
       "55      210.21950     229.202900  434.0\n",
       "56      263.14650     181.168000  455.0\n",
       "57      267.13690     182.786630  455.0"
      ]
     },
     "execution_count": 12,
     "metadata": {},
     "output_type": "execute_result"
    }
   ],
   "source": [
    "fusion_coor"
   ]
  },
  {
   "cell_type": "code",
   "execution_count": 13,
   "metadata": {},
   "outputs": [
    {
     "data": {
      "text/plain": [
       "[array([ 14.     , 185.17895, 198.40235]),\n",
       " array([ 14.     , 186.79624, 203.5257 ]),\n",
       " array([ 21.     , 187.44127, 205.2996 ]),\n",
       " array([ 21.     , 188.93201, 207.224  ]),\n",
       " array([ 29.     , 200.4844 , 184.59508]),\n",
       " array([ 29.     , 201.2253 , 182.67497]),\n",
       " array([ 50.    , 206.9746, 225.3987]),\n",
       " array([ 50.    , 210.0984, 228.2494]),\n",
       " array([ 85.     , 182.05516, 198.32774]),\n",
       " array([ 85.    , 183.4639, 202.9179]),\n",
       " array([ 86.    , 247.0679, 243.5438]),\n",
       " array([ 86.    , 246.83  , 247.7367]),\n",
       " array([ 88.     , 187.73803, 168.6903 ]),\n",
       " array([ 88.     , 184.45341, 171.1241 ]),\n",
       " array([ 89.    , 131.6955, 227.9121]),\n",
       " array([ 89.    , 136.5373, 229.6379]),\n",
       " array([ 93.    , 142.0061, 245.4214]),\n",
       " array([ 93.    , 137.6202, 241.7999]),\n",
       " array([108.    , 142.0061, 245.4214]),\n",
       " array([108.    , 140.5979, 247.3688]),\n",
       " array([181.    , 166.1847, 200.8907]),\n",
       " array([181.     , 169.0949 , 198.19283]),\n",
       " array([199.     , 166.5903 , 195.33877]),\n",
       " array([199.      , 166.2819  , 190.440614]),\n",
       " array([208.    , 212.4428, 230.7863]),\n",
       " array([208.    , 214.4495, 234.8068]),\n",
       " array([214.     , 192.64924, 163.3568 ]),\n",
       " array([214.     , 197.63636, 160.616  ]),\n",
       " array([245.    , 169.1026, 139.9456]),\n",
       " array([245.    , 160.8442, 139.9812]),\n",
       " array([276.     , 184.8582 , 198.08595]),\n",
       " array([276.     , 181.36688, 200.6958 ]),\n",
       " array([278.     , 253.4796 , 184.64917]),\n",
       " array([278.     , 256.3799 , 180.95959]),\n",
       " array([312.    , 202.489 , 147.9392]),\n",
       " array([312.    , 205.573 , 150.2276]),\n",
       " array([317.    , 253.8976, 256.1024]),\n",
       " array([317.    , 255.2299, 259.0646]),\n",
       " array([335.     , 176.8084 , 188.21391]),\n",
       " array([335.     , 180.27261, 191.59892]),\n",
       " array([336.    , 147.5595, 249.9768]),\n",
       " array([336.    , 151.0667, 251.8356]),\n",
       " array([346.    , 233.0956, 246.9979]),\n",
       " array([346.    , 232.6   , 247.9126]),\n",
       " array([353.     , 198.67732, 183.19226]),\n",
       " array([353.     , 199.04309, 179.5857 ]),\n",
       " array([382.    , 170.3178, 139.0078]),\n",
       " array([382.    , 175.482 , 139.5129]),\n",
       " array([401.    , 133.5273, 222.4031]),\n",
       " array([401.    , 134.3853, 226.2681]),\n",
       " array([405.     , 275.8857 , 194.68199]),\n",
       " array([405.     , 273.1375 , 186.00862]),\n",
       " array([429.     , 188.19624, 167.102  ]),\n",
       " array([429.     , 185.07217, 169.9841 ]),\n",
       " array([434.    , 206.4275, 225.5869]),\n",
       " array([434.    , 210.2195, 229.2029]),\n",
       " array([455.    , 263.1465, 181.168 ]),\n",
       " array([455.     , 267.1369 , 182.78663])]"
      ]
     },
     "execution_count": 13,
     "metadata": {},
     "output_type": "execute_result"
    }
   ],
   "source": [
    "fusion_coords"
   ]
  },
  {
   "cell_type": "code",
   "execution_count": 14,
   "metadata": {},
   "outputs": [
    {
     "data": {
      "application/vnd.microsoft.datawrangler.viewer.v0+json": {
       "columns": [
        {
         "name": "index",
         "rawType": "int64",
         "type": "integer"
        },
        {
         "name": "y_coordinates",
         "rawType": "float64",
         "type": "float"
        },
        {
         "name": "x_coordinates",
         "rawType": "float64",
         "type": "float"
        },
        {
         "name": "frame",
         "rawType": "float64",
         "type": "float"
        }
       ],
       "ref": "9f90888b-4cb6-43c4-8f19-00c47e95102b",
       "rows": [
        [
         "0",
         "135.5823",
         "227.9232",
         "24.0"
        ],
        [
         "1",
         "136.1366",
         "232.1291",
         "24.0"
        ],
        [
         "2",
         "274.4855",
         "182.12373",
         "26.0"
        ],
        [
         "3",
         "278.44870000000003",
         "180.18735",
         "26.0"
        ],
        [
         "4",
         "207.1115",
         "225.7364",
         "28.0"
        ],
        [
         "5",
         "209.9377",
         "228.3919",
         "28.0"
        ],
        [
         "6",
         "139.9377",
         "250.15730000000002",
         "63.0"
        ],
        [
         "7",
         "142.36860000000001",
         "246.35399999999998",
         "63.0"
        ],
        [
         "8",
         "184.50648",
         "171.3134",
         "74.0"
        ],
        [
         "9",
         "187.75841",
         "168.628",
         "74.0"
        ],
        [
         "10",
         "247.88889999999998",
         "245.351",
         "82.0"
        ],
        [
         "11",
         "245.7825",
         "248.7176",
         "82.0"
        ],
        [
         "12",
         "183.29159",
         "203.0983",
         "87.0"
        ],
        [
         "13",
         "187.36203",
         "203.5573",
         "87.0"
        ],
        [
         "14",
         "138.7219",
         "244.3832",
         "106.0"
        ],
        [
         "15",
         "139.6806",
         "247.25419999999997",
         "106.0"
        ],
        [
         "16",
         "171.2149",
         "198.96037",
         "174.0"
        ],
        [
         "17",
         "167.5529",
         "197.37303",
         "174.0"
        ],
        [
         "18",
         "214.8943",
         "234.58440000000002",
         "179.0"
        ],
        [
         "19",
         "212.5717",
         "231.2652",
         "179.0"
        ],
        [
         "20",
         "177.8615",
         "192.11886",
         "180.0"
        ],
        [
         "21",
         "176.3314",
         "188.27297",
         "180.0"
        ],
        [
         "22",
         "160.833",
         "140.25",
         "203.0"
        ],
        [
         "23",
         "164.5247",
         "139.8409",
         "203.0"
        ],
        [
         "24",
         "205.6046",
         "150.6723",
         "242.0"
        ],
        [
         "25",
         "203.421",
         "147.4173",
         "242.0"
        ],
        [
         "26",
         "184.78205",
         "197.12159",
         "248.0"
        ],
        [
         "27",
         "181.7588",
         "200.347",
         "248.0"
        ],
        [
         "28",
         "257.7765",
         "182.53979",
         "272.0"
        ],
        [
         "29",
         "254.17200000000003",
         "181.88816",
         "272.0"
        ],
        [
         "30",
         "170.7945",
         "139.9009",
         "278.0"
        ],
        [
         "31",
         "174.6642",
         "140.8005",
         "278.0"
        ],
        [
         "32",
         "256.264",
         "257.9546",
         "298.0"
        ],
        [
         "33",
         "252.61200000000002",
         "256.0252",
         "298.0"
        ],
        [
         "34",
         "150.9554",
         "251.853",
         "314.0"
        ],
        [
         "35",
         "147.613",
         "249.68849999999998",
         "314.0"
        ],
        [
         "36",
         "159.32319999999999",
         "138.063",
         "324.0"
        ],
        [
         "37",
         "155.5676",
         "136.7542",
         "324.0"
        ],
        [
         "38",
         "184.69864",
         "170.1228",
         "331.0"
        ],
        [
         "39",
         "187.85205",
         "167.3521",
         "331.0"
        ],
        [
         "40",
         "229.4467",
         "246.9916",
         "336.0"
        ],
        [
         "41",
         "232.6092",
         "249.70960000000002",
         "336.0"
        ],
        [
         "42",
         "198.9719",
         "179.4051",
         "350.0"
        ],
        [
         "43",
         "198.80051",
         "183.7253",
         "350.0"
        ],
        [
         "44",
         "210.153",
         "227.994",
         "354.0"
        ],
        [
         "45",
         "206.8552",
         "225.36419999999998",
         "354.0"
        ],
        [
         "46",
         "275.716",
         "189.393464",
         "381.0"
        ],
        [
         "47",
         "274.1762",
         "185.60053",
         "381.0"
        ],
        [
         "48",
         "130.71370000000002",
         "225.5528",
         "389.0"
        ],
        [
         "49",
         "132.96699999999998",
         "222.2097",
         "389.0"
        ]
       ],
       "shape": {
        "columns": 3,
        "rows": 58
       }
      },
      "text/html": [
       "<div>\n",
       "<style scoped>\n",
       "    .dataframe tbody tr th:only-of-type {\n",
       "        vertical-align: middle;\n",
       "    }\n",
       "\n",
       "    .dataframe tbody tr th {\n",
       "        vertical-align: top;\n",
       "    }\n",
       "\n",
       "    .dataframe thead th {\n",
       "        text-align: right;\n",
       "    }\n",
       "</style>\n",
       "<table border=\"1\" class=\"dataframe\">\n",
       "  <thead>\n",
       "    <tr style=\"text-align: right;\">\n",
       "      <th></th>\n",
       "      <th>y_coordinates</th>\n",
       "      <th>x_coordinates</th>\n",
       "      <th>frame</th>\n",
       "    </tr>\n",
       "  </thead>\n",
       "  <tbody>\n",
       "    <tr>\n",
       "      <th>0</th>\n",
       "      <td>135.58230</td>\n",
       "      <td>227.923200</td>\n",
       "      <td>24.0</td>\n",
       "    </tr>\n",
       "    <tr>\n",
       "      <th>1</th>\n",
       "      <td>136.13660</td>\n",
       "      <td>232.129100</td>\n",
       "      <td>24.0</td>\n",
       "    </tr>\n",
       "    <tr>\n",
       "      <th>2</th>\n",
       "      <td>274.48550</td>\n",
       "      <td>182.123730</td>\n",
       "      <td>26.0</td>\n",
       "    </tr>\n",
       "    <tr>\n",
       "      <th>3</th>\n",
       "      <td>278.44870</td>\n",
       "      <td>180.187350</td>\n",
       "      <td>26.0</td>\n",
       "    </tr>\n",
       "    <tr>\n",
       "      <th>4</th>\n",
       "      <td>207.11150</td>\n",
       "      <td>225.736400</td>\n",
       "      <td>28.0</td>\n",
       "    </tr>\n",
       "    <tr>\n",
       "      <th>5</th>\n",
       "      <td>209.93770</td>\n",
       "      <td>228.391900</td>\n",
       "      <td>28.0</td>\n",
       "    </tr>\n",
       "    <tr>\n",
       "      <th>6</th>\n",
       "      <td>139.93770</td>\n",
       "      <td>250.157300</td>\n",
       "      <td>63.0</td>\n",
       "    </tr>\n",
       "    <tr>\n",
       "      <th>7</th>\n",
       "      <td>142.36860</td>\n",
       "      <td>246.354000</td>\n",
       "      <td>63.0</td>\n",
       "    </tr>\n",
       "    <tr>\n",
       "      <th>8</th>\n",
       "      <td>184.50648</td>\n",
       "      <td>171.313400</td>\n",
       "      <td>74.0</td>\n",
       "    </tr>\n",
       "    <tr>\n",
       "      <th>9</th>\n",
       "      <td>187.75841</td>\n",
       "      <td>168.628000</td>\n",
       "      <td>74.0</td>\n",
       "    </tr>\n",
       "    <tr>\n",
       "      <th>10</th>\n",
       "      <td>247.88890</td>\n",
       "      <td>245.351000</td>\n",
       "      <td>82.0</td>\n",
       "    </tr>\n",
       "    <tr>\n",
       "      <th>11</th>\n",
       "      <td>245.78250</td>\n",
       "      <td>248.717600</td>\n",
       "      <td>82.0</td>\n",
       "    </tr>\n",
       "    <tr>\n",
       "      <th>12</th>\n",
       "      <td>183.29159</td>\n",
       "      <td>203.098300</td>\n",
       "      <td>87.0</td>\n",
       "    </tr>\n",
       "    <tr>\n",
       "      <th>13</th>\n",
       "      <td>187.36203</td>\n",
       "      <td>203.557300</td>\n",
       "      <td>87.0</td>\n",
       "    </tr>\n",
       "    <tr>\n",
       "      <th>14</th>\n",
       "      <td>138.72190</td>\n",
       "      <td>244.383200</td>\n",
       "      <td>106.0</td>\n",
       "    </tr>\n",
       "    <tr>\n",
       "      <th>15</th>\n",
       "      <td>139.68060</td>\n",
       "      <td>247.254200</td>\n",
       "      <td>106.0</td>\n",
       "    </tr>\n",
       "    <tr>\n",
       "      <th>16</th>\n",
       "      <td>171.21490</td>\n",
       "      <td>198.960370</td>\n",
       "      <td>174.0</td>\n",
       "    </tr>\n",
       "    <tr>\n",
       "      <th>17</th>\n",
       "      <td>167.55290</td>\n",
       "      <td>197.373030</td>\n",
       "      <td>174.0</td>\n",
       "    </tr>\n",
       "    <tr>\n",
       "      <th>18</th>\n",
       "      <td>214.89430</td>\n",
       "      <td>234.584400</td>\n",
       "      <td>179.0</td>\n",
       "    </tr>\n",
       "    <tr>\n",
       "      <th>19</th>\n",
       "      <td>212.57170</td>\n",
       "      <td>231.265200</td>\n",
       "      <td>179.0</td>\n",
       "    </tr>\n",
       "    <tr>\n",
       "      <th>20</th>\n",
       "      <td>177.86150</td>\n",
       "      <td>192.118860</td>\n",
       "      <td>180.0</td>\n",
       "    </tr>\n",
       "    <tr>\n",
       "      <th>21</th>\n",
       "      <td>176.33140</td>\n",
       "      <td>188.272970</td>\n",
       "      <td>180.0</td>\n",
       "    </tr>\n",
       "    <tr>\n",
       "      <th>22</th>\n",
       "      <td>160.83300</td>\n",
       "      <td>140.250000</td>\n",
       "      <td>203.0</td>\n",
       "    </tr>\n",
       "    <tr>\n",
       "      <th>23</th>\n",
       "      <td>164.52470</td>\n",
       "      <td>139.840900</td>\n",
       "      <td>203.0</td>\n",
       "    </tr>\n",
       "    <tr>\n",
       "      <th>24</th>\n",
       "      <td>205.60460</td>\n",
       "      <td>150.672300</td>\n",
       "      <td>242.0</td>\n",
       "    </tr>\n",
       "    <tr>\n",
       "      <th>25</th>\n",
       "      <td>203.42100</td>\n",
       "      <td>147.417300</td>\n",
       "      <td>242.0</td>\n",
       "    </tr>\n",
       "    <tr>\n",
       "      <th>26</th>\n",
       "      <td>184.78205</td>\n",
       "      <td>197.121590</td>\n",
       "      <td>248.0</td>\n",
       "    </tr>\n",
       "    <tr>\n",
       "      <th>27</th>\n",
       "      <td>181.75880</td>\n",
       "      <td>200.347000</td>\n",
       "      <td>248.0</td>\n",
       "    </tr>\n",
       "    <tr>\n",
       "      <th>28</th>\n",
       "      <td>257.77650</td>\n",
       "      <td>182.539790</td>\n",
       "      <td>272.0</td>\n",
       "    </tr>\n",
       "    <tr>\n",
       "      <th>29</th>\n",
       "      <td>254.17200</td>\n",
       "      <td>181.888160</td>\n",
       "      <td>272.0</td>\n",
       "    </tr>\n",
       "    <tr>\n",
       "      <th>30</th>\n",
       "      <td>170.79450</td>\n",
       "      <td>139.900900</td>\n",
       "      <td>278.0</td>\n",
       "    </tr>\n",
       "    <tr>\n",
       "      <th>31</th>\n",
       "      <td>174.66420</td>\n",
       "      <td>140.800500</td>\n",
       "      <td>278.0</td>\n",
       "    </tr>\n",
       "    <tr>\n",
       "      <th>32</th>\n",
       "      <td>256.26400</td>\n",
       "      <td>257.954600</td>\n",
       "      <td>298.0</td>\n",
       "    </tr>\n",
       "    <tr>\n",
       "      <th>33</th>\n",
       "      <td>252.61200</td>\n",
       "      <td>256.025200</td>\n",
       "      <td>298.0</td>\n",
       "    </tr>\n",
       "    <tr>\n",
       "      <th>34</th>\n",
       "      <td>150.95540</td>\n",
       "      <td>251.853000</td>\n",
       "      <td>314.0</td>\n",
       "    </tr>\n",
       "    <tr>\n",
       "      <th>35</th>\n",
       "      <td>147.61300</td>\n",
       "      <td>249.688500</td>\n",
       "      <td>314.0</td>\n",
       "    </tr>\n",
       "    <tr>\n",
       "      <th>36</th>\n",
       "      <td>159.32320</td>\n",
       "      <td>138.063000</td>\n",
       "      <td>324.0</td>\n",
       "    </tr>\n",
       "    <tr>\n",
       "      <th>37</th>\n",
       "      <td>155.56760</td>\n",
       "      <td>136.754200</td>\n",
       "      <td>324.0</td>\n",
       "    </tr>\n",
       "    <tr>\n",
       "      <th>38</th>\n",
       "      <td>184.69864</td>\n",
       "      <td>170.122800</td>\n",
       "      <td>331.0</td>\n",
       "    </tr>\n",
       "    <tr>\n",
       "      <th>39</th>\n",
       "      <td>187.85205</td>\n",
       "      <td>167.352100</td>\n",
       "      <td>331.0</td>\n",
       "    </tr>\n",
       "    <tr>\n",
       "      <th>40</th>\n",
       "      <td>229.44670</td>\n",
       "      <td>246.991600</td>\n",
       "      <td>336.0</td>\n",
       "    </tr>\n",
       "    <tr>\n",
       "      <th>41</th>\n",
       "      <td>232.60920</td>\n",
       "      <td>249.709600</td>\n",
       "      <td>336.0</td>\n",
       "    </tr>\n",
       "    <tr>\n",
       "      <th>42</th>\n",
       "      <td>198.97190</td>\n",
       "      <td>179.405100</td>\n",
       "      <td>350.0</td>\n",
       "    </tr>\n",
       "    <tr>\n",
       "      <th>43</th>\n",
       "      <td>198.80051</td>\n",
       "      <td>183.725300</td>\n",
       "      <td>350.0</td>\n",
       "    </tr>\n",
       "    <tr>\n",
       "      <th>44</th>\n",
       "      <td>210.15300</td>\n",
       "      <td>227.994000</td>\n",
       "      <td>354.0</td>\n",
       "    </tr>\n",
       "    <tr>\n",
       "      <th>45</th>\n",
       "      <td>206.85520</td>\n",
       "      <td>225.364200</td>\n",
       "      <td>354.0</td>\n",
       "    </tr>\n",
       "    <tr>\n",
       "      <th>46</th>\n",
       "      <td>275.71600</td>\n",
       "      <td>189.393464</td>\n",
       "      <td>381.0</td>\n",
       "    </tr>\n",
       "    <tr>\n",
       "      <th>47</th>\n",
       "      <td>274.17620</td>\n",
       "      <td>185.600530</td>\n",
       "      <td>381.0</td>\n",
       "    </tr>\n",
       "    <tr>\n",
       "      <th>48</th>\n",
       "      <td>130.71370</td>\n",
       "      <td>225.552800</td>\n",
       "      <td>389.0</td>\n",
       "    </tr>\n",
       "    <tr>\n",
       "      <th>49</th>\n",
       "      <td>132.96700</td>\n",
       "      <td>222.209700</td>\n",
       "      <td>389.0</td>\n",
       "    </tr>\n",
       "    <tr>\n",
       "      <th>50</th>\n",
       "      <td>197.86427</td>\n",
       "      <td>186.754810</td>\n",
       "      <td>394.0</td>\n",
       "    </tr>\n",
       "    <tr>\n",
       "      <th>51</th>\n",
       "      <td>195.74361</td>\n",
       "      <td>190.369281</td>\n",
       "      <td>394.0</td>\n",
       "    </tr>\n",
       "    <tr>\n",
       "      <th>52</th>\n",
       "      <td>266.81240</td>\n",
       "      <td>181.982460</td>\n",
       "      <td>427.0</td>\n",
       "    </tr>\n",
       "    <tr>\n",
       "      <th>53</th>\n",
       "      <td>263.13520</td>\n",
       "      <td>180.613410</td>\n",
       "      <td>427.0</td>\n",
       "    </tr>\n",
       "    <tr>\n",
       "      <th>54</th>\n",
       "      <td>282.88390</td>\n",
       "      <td>167.850100</td>\n",
       "      <td>489.0</td>\n",
       "    </tr>\n",
       "    <tr>\n",
       "      <th>55</th>\n",
       "      <td>282.92300</td>\n",
       "      <td>171.842900</td>\n",
       "      <td>489.0</td>\n",
       "    </tr>\n",
       "    <tr>\n",
       "      <th>56</th>\n",
       "      <td>244.52290</td>\n",
       "      <td>253.319600</td>\n",
       "      <td>499.0</td>\n",
       "    </tr>\n",
       "    <tr>\n",
       "      <th>57</th>\n",
       "      <td>248.93240</td>\n",
       "      <td>254.279600</td>\n",
       "      <td>499.0</td>\n",
       "    </tr>\n",
       "  </tbody>\n",
       "</table>\n",
       "</div>"
      ],
      "text/plain": [
       "    y_coordinates  x_coordinates  frame\n",
       "0       135.58230     227.923200   24.0\n",
       "1       136.13660     232.129100   24.0\n",
       "2       274.48550     182.123730   26.0\n",
       "3       278.44870     180.187350   26.0\n",
       "4       207.11150     225.736400   28.0\n",
       "5       209.93770     228.391900   28.0\n",
       "6       139.93770     250.157300   63.0\n",
       "7       142.36860     246.354000   63.0\n",
       "8       184.50648     171.313400   74.0\n",
       "9       187.75841     168.628000   74.0\n",
       "10      247.88890     245.351000   82.0\n",
       "11      245.78250     248.717600   82.0\n",
       "12      183.29159     203.098300   87.0\n",
       "13      187.36203     203.557300   87.0\n",
       "14      138.72190     244.383200  106.0\n",
       "15      139.68060     247.254200  106.0\n",
       "16      171.21490     198.960370  174.0\n",
       "17      167.55290     197.373030  174.0\n",
       "18      214.89430     234.584400  179.0\n",
       "19      212.57170     231.265200  179.0\n",
       "20      177.86150     192.118860  180.0\n",
       "21      176.33140     188.272970  180.0\n",
       "22      160.83300     140.250000  203.0\n",
       "23      164.52470     139.840900  203.0\n",
       "24      205.60460     150.672300  242.0\n",
       "25      203.42100     147.417300  242.0\n",
       "26      184.78205     197.121590  248.0\n",
       "27      181.75880     200.347000  248.0\n",
       "28      257.77650     182.539790  272.0\n",
       "29      254.17200     181.888160  272.0\n",
       "30      170.79450     139.900900  278.0\n",
       "31      174.66420     140.800500  278.0\n",
       "32      256.26400     257.954600  298.0\n",
       "33      252.61200     256.025200  298.0\n",
       "34      150.95540     251.853000  314.0\n",
       "35      147.61300     249.688500  314.0\n",
       "36      159.32320     138.063000  324.0\n",
       "37      155.56760     136.754200  324.0\n",
       "38      184.69864     170.122800  331.0\n",
       "39      187.85205     167.352100  331.0\n",
       "40      229.44670     246.991600  336.0\n",
       "41      232.60920     249.709600  336.0\n",
       "42      198.97190     179.405100  350.0\n",
       "43      198.80051     183.725300  350.0\n",
       "44      210.15300     227.994000  354.0\n",
       "45      206.85520     225.364200  354.0\n",
       "46      275.71600     189.393464  381.0\n",
       "47      274.17620     185.600530  381.0\n",
       "48      130.71370     225.552800  389.0\n",
       "49      132.96700     222.209700  389.0\n",
       "50      197.86427     186.754810  394.0\n",
       "51      195.74361     190.369281  394.0\n",
       "52      266.81240     181.982460  427.0\n",
       "53      263.13520     180.613410  427.0\n",
       "54      282.88390     167.850100  489.0\n",
       "55      282.92300     171.842900  489.0\n",
       "56      244.52290     253.319600  499.0\n",
       "57      248.93240     254.279600  499.0"
      ]
     },
     "execution_count": 14,
     "metadata": {},
     "output_type": "execute_result"
    }
   ],
   "source": [
    "fission_coor"
   ]
  },
  {
   "cell_type": "markdown",
   "metadata": {},
   "source": [
    "# Load fission fusion frome my script"
   ]
  },
  {
   "cell_type": "code",
   "execution_count": 46,
   "metadata": {},
   "outputs": [
    {
     "data": {
      "application/vnd.microsoft.datawrangler.viewer.v0+json": {
       "columns": [
        {
         "name": "index",
         "rawType": "int64",
         "type": "integer"
        },
        {
         "name": "Volume_pre",
         "rawType": "float64",
         "type": "float"
        },
        {
         "name": "Volume_post",
         "rawType": "float64",
         "type": "float"
        },
        {
         "name": "Distance",
         "rawType": "float64",
         "type": "float"
        },
        {
         "name": "Nearest_Label",
         "rawType": "float64",
         "type": "float"
        },
        {
         "name": "y_corr",
         "rawType": "float64",
         "type": "float"
        },
        {
         "name": "x_corr",
         "rawType": "float64",
         "type": "float"
        },
        {
         "name": "Volume_diff",
         "rawType": "float64",
         "type": "float"
        },
        {
         "name": "isFusion",
         "rawType": "float64",
         "type": "float"
        },
        {
         "name": "Frame",
         "rawType": "float64",
         "type": "float"
        },
        {
         "name": "Label",
         "rawType": "float64",
         "type": "float"
        }
       ],
       "ref": "d0ceab4a-eb86-449a-be31-1c883a0b0255",
       "rows": [
        [
         "0",
         "0.18",
         "0.315",
         "27.30781434649196",
         "6.0",
         "188.92857142857144",
         "194.0",
         "0.3150000000000013",
         "1.0",
         "0.0",
         "1.0"
        ],
        [
         "1",
         "0.135",
         "0.315",
         "27.30781434649196",
         "6.0",
         "188.92857142857144",
         "194.0",
         "0.3150000000000013",
         "1.0",
         "0.0",
         "1.0"
        ],
        [
         "2",
         "3.375",
         "3.555",
         "27.30781434649196",
         "4.0",
         "166.2594936708861",
         "173.66455696202533",
         "0.3150000000000013",
         "1.0",
         "0.0",
         "1.0"
        ],
        [
         "3",
         "8.055",
         "11.115",
         "27.30781434649196",
         "5.0",
         "249.4757085020243",
         "242.32793522267207",
         "0.3150000000000013",
         "1.0",
         "0.0",
         "1.0"
        ],
        [
         "4",
         "0.4049999999999999",
         "11.115",
         "27.30781434649196",
         "5.0",
         "249.4757085020243",
         "242.32793522267207",
         "0.3150000000000013",
         "1.0",
         "0.0",
         "1.0"
        ],
        [
         "5",
         "1.215",
         "11.115",
         "27.30781434649196",
         "5.0",
         "249.4757085020243",
         "242.32793522267207",
         "0.3150000000000013",
         "1.0",
         "0.0",
         "1.0"
        ],
        [
         "6",
         "1.485",
         "11.115",
         "27.30781434649196",
         "5.0",
         "249.4757085020243",
         "242.32793522267207",
         "0.3150000000000013",
         "1.0",
         "0.0",
         "1.0"
        ],
        [
         "7",
         "11.25",
         "11.43",
         "27.30781434649196",
         "3.0",
         "181.248031496063",
         "189.6791338582677",
         "0.3150000000000013",
         "1.0",
         "0.0",
         "1.0"
        ],
        [
         "8",
         "0.0",
         "0.0",
         "0.0",
         "0.0",
         "212.57894736842104",
         "122.60526315789474",
         "-0.4724999999999983",
         "0.0",
         "7.0",
         "1.0"
        ],
        [
         "9",
         "0.0",
         "0.0",
         "0.0",
         "0.0",
         "226.15625",
         "113.73958333333331",
         "-0.4724999999999983",
         "0.0",
         "7.0",
         "1.0"
        ],
        [
         "10",
         "0.0",
         "0.0",
         "0.0",
         "0.0",
         "258.3035143769968",
         "145.7188498402556",
         "-0.4724999999999983",
         "0.0",
         "7.0",
         "1.0"
        ],
        [
         "11",
         "0.0",
         "0.0",
         "0.0",
         "0.0",
         "212.57894736842104",
         "122.60526315789474",
         "0.5399999999999991",
         "1.0",
         "7.0",
         "1.0"
        ],
        [
         "12",
         "0.0",
         "0.0",
         "0.0",
         "0.0",
         "226.15625",
         "113.73958333333331",
         "0.5399999999999991",
         "1.0",
         "7.0",
         "1.0"
        ],
        [
         "13",
         "0.0",
         "0.0",
         "0.0",
         "0.0",
         "258.3035143769968",
         "145.7188498402556",
         "0.5399999999999991",
         "1.0",
         "7.0",
         "1.0"
        ],
        [
         "14",
         "0.18",
         "0.3374999999999999",
         "14.064763035650474",
         "6.0",
         "189.26666666666668",
         "193.66666666666663",
         "0.4725000000000001",
         "1.0",
         "8.0",
         "1.0"
        ],
        [
         "15",
         "0.18",
         "0.3374999999999999",
         "14.064763035650474",
         "6.0",
         "189.26666666666668",
         "193.66666666666663",
         "0.4725000000000001",
         "1.0",
         "8.0",
         "1.0"
        ],
        [
         "16",
         "0.3825",
         "0.4499999999999999",
         "27.76097476378265",
         "3.0",
         "196.85",
         "193.15",
         "0.4725000000000001",
         "1.0",
         "8.0",
         "1.0"
        ],
        [
         "17",
         "0.3825",
         "1.3275",
         "27.76097476378265",
         "3.0",
         "187.77966101694915",
         "204.89830508474577",
         "0.4725000000000001",
         "1.0",
         "8.0",
         "1.0"
        ],
        [
         "18",
         "0.4725",
         "6.547499999999999",
         "27.76097476378265",
         "3.0",
         "170.4810996563574",
         "192.45017182130584",
         "0.4725000000000001",
         "1.0",
         "8.0",
         "1.0"
        ],
        [
         "19",
         "0.0",
         "0.0",
         "0.0",
         "0.0",
         "267.5561497326203",
         "151.91978609625667",
         "-0.495000000000001",
         "0.0",
         "10.0",
         "1.0"
        ],
        [
         "20",
         "0.0",
         "0.0",
         "0.0",
         "0.0",
         "232.34628975265016",
         "126.21201413427562",
         "-0.495000000000001",
         "0.0",
         "10.0",
         "1.0"
        ],
        [
         "21",
         "0.0",
         "0.0",
         "0.0",
         "0.0",
         "226.6190476190476",
         "117.42857142857144",
         "-0.9899999999999984",
         "0.0",
         "12.0",
         "1.0"
        ],
        [
         "22",
         "0.0",
         "0.0",
         "0.0",
         "0.0",
         "226.5",
         "103.5",
         "-0.9899999999999984",
         "0.0",
         "12.0",
         "1.0"
        ],
        [
         "23",
         "0.0",
         "0.0",
         "0.0",
         "0.0",
         "218.43661971830983",
         "124.09859154929578",
         "-0.9899999999999984",
         "0.0",
         "12.0",
         "1.0"
        ],
        [
         "24",
         "0.0",
         "0.0",
         "0.0",
         "0.0",
         "259.2451612903226",
         "146.5774193548387",
         "-0.9899999999999984",
         "0.0",
         "12.0",
         "1.0"
        ],
        [
         "25",
         "0.0",
         "0.0",
         "0.0",
         "0.0",
         "226.33333333333331",
         "106.05128205128206",
         "-1.1925000000000026",
         "0.0",
         "17.0",
         "1.0"
        ],
        [
         "26",
         "0.0",
         "0.0",
         "0.0",
         "0.0",
         "253.4878048780488",
         "156.2439024390244",
         "-1.1925000000000026",
         "0.0",
         "17.0",
         "1.0"
        ],
        [
         "27",
         "0.0",
         "0.0",
         "0.0",
         "0.0",
         "247.6646884272997",
         "136.38575667655786",
         "-1.1925000000000026",
         "0.0",
         "17.0",
         "1.0"
        ],
        [
         "28",
         "2.565",
         "7.5825",
         "30.665939890826028",
         "1.0",
         "247.6646884272997",
         "136.38575667655786",
         "0.6525000000000016",
         "1.0",
         "17.0",
         "1.0"
        ],
        [
         "29",
         "3.8025",
         "3.9375",
         "2.623510596980448",
         "3.0",
         "197.22285714285715",
         "182.3142857142857",
         "0.6525000000000016",
         "1.0",
         "17.0",
         "1.0"
        ],
        [
         "30",
         "0.0",
         "0.0",
         "0.0",
         "0.0",
         "254.6941176470588",
         "153.1764705882353",
         "0.8324999999999996",
         "1.0",
         "18.0",
         "1.0"
        ],
        [
         "31",
         "0.0",
         "0.0",
         "0.0",
         "0.0",
         "276.07894736842104",
         "149.0",
         "0.8324999999999996",
         "1.0",
         "18.0",
         "1.0"
        ],
        [
         "32",
         "0.0",
         "0.0",
         "0.0",
         "0.0",
         "229.6558704453441",
         "124.49797570850204",
         "0.8324999999999996",
         "1.0",
         "18.0",
         "1.0"
        ],
        [
         "33",
         "11.565",
         "21.2175",
         "25.09127021711453",
         "3.0",
         "180.01802757158006",
         "222.83881230116648",
         "0.3375000000000003",
         "1.0",
         "23.0",
         "1.0"
        ],
        [
         "34",
         "0.0",
         "0.0",
         "0.0",
         "0.0",
         "223.00704225352112",
         "118.7112676056338",
         "-0.6974999999999998",
         "0.0",
         "25.0",
         "1.0"
        ],
        [
         "35",
         "0.0",
         "0.0",
         "0.0",
         "0.0",
         "260.0726643598616",
         "146.80276816608998",
         "-0.6974999999999998",
         "0.0",
         "25.0",
         "1.0"
        ],
        [
         "36",
         "1.5525",
         "0.5175",
         "54.87796332966116",
         "1.0",
         "282.2173913043478",
         "148.20289855072463",
         "-1.0574999999999992",
         "0.0",
         "28.0",
         "1.0"
        ],
        [
         "37",
         "20.1375",
         "12.825",
         "1.9525624189766533",
         "3.0",
         "163.39441340782122",
         "181.97430167597764",
         "-1.0574999999999992",
         "0.0",
         "28.0",
         "1.0"
        ],
        [
         "38",
         "0.0",
         "0.0",
         "0.0",
         "0.0",
         "225.5",
         "124.60714285714286",
         "-1.4849999999999994",
         "0.0",
         "30.0",
         "1.0"
        ],
        [
         "39",
         "0.0",
         "0.0",
         "0.0",
         "0.0",
         "214.7058823529412",
         "121.76470588235294",
         "-1.4849999999999994",
         "0.0",
         "30.0",
         "1.0"
        ],
        [
         "40",
         "0.0",
         "0.0",
         "0.0",
         "0.0",
         "254.24324324324328",
         "157.35135135135135",
         "-1.4849999999999994",
         "0.0",
         "30.0",
         "1.0"
        ],
        [
         "41",
         "0.0",
         "0.0",
         "0.0",
         "0.0",
         "256.030303030303",
         "146.46969696969697",
         "-1.4849999999999994",
         "0.0",
         "30.0",
         "1.0"
        ],
        [
         "42",
         "0.0",
         "0.0",
         "0.0",
         "0.0",
         "276.8317757009346",
         "149.62616822429908",
         "-1.4849999999999994",
         "0.0",
         "30.0",
         "1.0"
        ],
        [
         "43",
         "0.0",
         "0.0",
         "0.0",
         "0.0",
         "225.5",
         "124.60714285714286",
         "0.3150000000000004",
         "1.0",
         "30.0",
         "1.0"
        ],
        [
         "44",
         "0.0",
         "0.0",
         "0.0",
         "0.0",
         "214.7058823529412",
         "121.76470588235294",
         "0.3150000000000004",
         "1.0",
         "30.0",
         "1.0"
        ],
        [
         "45",
         "0.0",
         "0.0",
         "0.0",
         "0.0",
         "254.24324324324328",
         "157.35135135135135",
         "0.3150000000000004",
         "1.0",
         "30.0",
         "1.0"
        ],
        [
         "46",
         "0.0",
         "0.0",
         "0.0",
         "0.0",
         "256.030303030303",
         "146.46969696969697",
         "0.3150000000000004",
         "1.0",
         "30.0",
         "1.0"
        ],
        [
         "47",
         "0.0",
         "0.0",
         "0.0",
         "0.0",
         "276.8317757009346",
         "149.62616822429908",
         "0.3150000000000004",
         "1.0",
         "30.0",
         "1.0"
        ],
        [
         "48",
         "0.0",
         "0.0",
         "0.0",
         "0.0",
         "255.0897435897436",
         "152.2948717948718",
         "-1.6874999999999991",
         "0.0",
         "36.0",
         "1.0"
        ],
        [
         "49",
         "0.0",
         "0.0",
         "0.0",
         "0.0",
         "275.7196261682243",
         "149.20560747663552",
         "-1.6874999999999991",
         "0.0",
         "36.0",
         "1.0"
        ]
       ],
       "shape": {
        "columns": 10,
        "rows": 493
       }
      },
      "text/html": [
       "<div>\n",
       "<style scoped>\n",
       "    .dataframe tbody tr th:only-of-type {\n",
       "        vertical-align: middle;\n",
       "    }\n",
       "\n",
       "    .dataframe tbody tr th {\n",
       "        vertical-align: top;\n",
       "    }\n",
       "\n",
       "    .dataframe thead th {\n",
       "        text-align: right;\n",
       "    }\n",
       "</style>\n",
       "<table border=\"1\" class=\"dataframe\">\n",
       "  <thead>\n",
       "    <tr style=\"text-align: right;\">\n",
       "      <th></th>\n",
       "      <th>Volume_pre</th>\n",
       "      <th>Volume_post</th>\n",
       "      <th>Distance</th>\n",
       "      <th>Nearest_Label</th>\n",
       "      <th>y_corr</th>\n",
       "      <th>x_corr</th>\n",
       "      <th>Volume_diff</th>\n",
       "      <th>isFusion</th>\n",
       "      <th>Frame</th>\n",
       "      <th>Label</th>\n",
       "    </tr>\n",
       "  </thead>\n",
       "  <tbody>\n",
       "    <tr>\n",
       "      <th>0</th>\n",
       "      <td>0.1800</td>\n",
       "      <td>0.315</td>\n",
       "      <td>27.307814</td>\n",
       "      <td>6.0</td>\n",
       "      <td>188.928571</td>\n",
       "      <td>194.000000</td>\n",
       "      <td>0.3150</td>\n",
       "      <td>1.0</td>\n",
       "      <td>0.0</td>\n",
       "      <td>1.0</td>\n",
       "    </tr>\n",
       "    <tr>\n",
       "      <th>1</th>\n",
       "      <td>0.1350</td>\n",
       "      <td>0.315</td>\n",
       "      <td>27.307814</td>\n",
       "      <td>6.0</td>\n",
       "      <td>188.928571</td>\n",
       "      <td>194.000000</td>\n",
       "      <td>0.3150</td>\n",
       "      <td>1.0</td>\n",
       "      <td>0.0</td>\n",
       "      <td>1.0</td>\n",
       "    </tr>\n",
       "    <tr>\n",
       "      <th>2</th>\n",
       "      <td>3.3750</td>\n",
       "      <td>3.555</td>\n",
       "      <td>27.307814</td>\n",
       "      <td>4.0</td>\n",
       "      <td>166.259494</td>\n",
       "      <td>173.664557</td>\n",
       "      <td>0.3150</td>\n",
       "      <td>1.0</td>\n",
       "      <td>0.0</td>\n",
       "      <td>1.0</td>\n",
       "    </tr>\n",
       "    <tr>\n",
       "      <th>3</th>\n",
       "      <td>8.0550</td>\n",
       "      <td>11.115</td>\n",
       "      <td>27.307814</td>\n",
       "      <td>5.0</td>\n",
       "      <td>249.475709</td>\n",
       "      <td>242.327935</td>\n",
       "      <td>0.3150</td>\n",
       "      <td>1.0</td>\n",
       "      <td>0.0</td>\n",
       "      <td>1.0</td>\n",
       "    </tr>\n",
       "    <tr>\n",
       "      <th>4</th>\n",
       "      <td>0.4050</td>\n",
       "      <td>11.115</td>\n",
       "      <td>27.307814</td>\n",
       "      <td>5.0</td>\n",
       "      <td>249.475709</td>\n",
       "      <td>242.327935</td>\n",
       "      <td>0.3150</td>\n",
       "      <td>1.0</td>\n",
       "      <td>0.0</td>\n",
       "      <td>1.0</td>\n",
       "    </tr>\n",
       "    <tr>\n",
       "      <th>...</th>\n",
       "      <td>...</td>\n",
       "      <td>...</td>\n",
       "      <td>...</td>\n",
       "      <td>...</td>\n",
       "      <td>...</td>\n",
       "      <td>...</td>\n",
       "      <td>...</td>\n",
       "      <td>...</td>\n",
       "      <td>...</td>\n",
       "      <td>...</td>\n",
       "    </tr>\n",
       "    <tr>\n",
       "      <th>488</th>\n",
       "      <td>7.4250</td>\n",
       "      <td>6.885</td>\n",
       "      <td>9.147006</td>\n",
       "      <td>2.0</td>\n",
       "      <td>137.490909</td>\n",
       "      <td>179.124242</td>\n",
       "      <td>-0.5400</td>\n",
       "      <td>0.0</td>\n",
       "      <td>87.0</td>\n",
       "      <td>7.0</td>\n",
       "    </tr>\n",
       "    <tr>\n",
       "      <th>489</th>\n",
       "      <td>0.0000</td>\n",
       "      <td>0.000</td>\n",
       "      <td>0.000000</td>\n",
       "      <td>0.0</td>\n",
       "      <td>176.000000</td>\n",
       "      <td>287.159483</td>\n",
       "      <td>-8.1450</td>\n",
       "      <td>0.0</td>\n",
       "      <td>88.0</td>\n",
       "      <td>7.0</td>\n",
       "    </tr>\n",
       "    <tr>\n",
       "      <th>490</th>\n",
       "      <td>0.0000</td>\n",
       "      <td>0.000</td>\n",
       "      <td>0.000000</td>\n",
       "      <td>0.0</td>\n",
       "      <td>171.771739</td>\n",
       "      <td>300.543478</td>\n",
       "      <td>-7.2000</td>\n",
       "      <td>0.0</td>\n",
       "      <td>96.0</td>\n",
       "      <td>7.0</td>\n",
       "    </tr>\n",
       "    <tr>\n",
       "      <th>491</th>\n",
       "      <td>1.1025</td>\n",
       "      <td>5.580</td>\n",
       "      <td>6.437347</td>\n",
       "      <td>5.0</td>\n",
       "      <td>261.584677</td>\n",
       "      <td>263.024194</td>\n",
       "      <td>0.8775</td>\n",
       "      <td>1.0</td>\n",
       "      <td>97.0</td>\n",
       "      <td>7.0</td>\n",
       "    </tr>\n",
       "    <tr>\n",
       "      <th>492</th>\n",
       "      <td>4.0725</td>\n",
       "      <td>5.580</td>\n",
       "      <td>6.437347</td>\n",
       "      <td>5.0</td>\n",
       "      <td>261.584677</td>\n",
       "      <td>263.024194</td>\n",
       "      <td>0.8775</td>\n",
       "      <td>1.0</td>\n",
       "      <td>97.0</td>\n",
       "      <td>7.0</td>\n",
       "    </tr>\n",
       "  </tbody>\n",
       "</table>\n",
       "<p>493 rows × 10 columns</p>\n",
       "</div>"
      ],
      "text/plain": [
       "     Volume_pre  Volume_post   Distance  Nearest_Label      y_corr  \\\n",
       "0        0.1800        0.315  27.307814            6.0  188.928571   \n",
       "1        0.1350        0.315  27.307814            6.0  188.928571   \n",
       "2        3.3750        3.555  27.307814            4.0  166.259494   \n",
       "3        8.0550       11.115  27.307814            5.0  249.475709   \n",
       "4        0.4050       11.115  27.307814            5.0  249.475709   \n",
       "..          ...          ...        ...            ...         ...   \n",
       "488      7.4250        6.885   9.147006            2.0  137.490909   \n",
       "489      0.0000        0.000   0.000000            0.0  176.000000   \n",
       "490      0.0000        0.000   0.000000            0.0  171.771739   \n",
       "491      1.1025        5.580   6.437347            5.0  261.584677   \n",
       "492      4.0725        5.580   6.437347            5.0  261.584677   \n",
       "\n",
       "         x_corr  Volume_diff  isFusion  Frame  Label  \n",
       "0    194.000000       0.3150       1.0    0.0    1.0  \n",
       "1    194.000000       0.3150       1.0    0.0    1.0  \n",
       "2    173.664557       0.3150       1.0    0.0    1.0  \n",
       "3    242.327935       0.3150       1.0    0.0    1.0  \n",
       "4    242.327935       0.3150       1.0    0.0    1.0  \n",
       "..          ...          ...       ...    ...    ...  \n",
       "488  179.124242      -0.5400       0.0   87.0    7.0  \n",
       "489  287.159483      -8.1450       0.0   88.0    7.0  \n",
       "490  300.543478      -7.2000       0.0   96.0    7.0  \n",
       "491  263.024194       0.8775       1.0   97.0    7.0  \n",
       "492  263.024194       0.8775       1.0   97.0    7.0  \n",
       "\n",
       "[493 rows x 10 columns]"
      ]
     },
     "execution_count": 46,
     "metadata": {},
     "output_type": "execute_result"
    }
   ],
   "source": [
    "path = \"D:/Internship/NTU/simulation/with_center/algo_output/center_resize_simulation_event.csv\"\n",
    "df = pd.read_csv(path)\n",
    "df"
   ]
  },
  {
   "cell_type": "code",
   "execution_count": 47,
   "metadata": {},
   "outputs": [
    {
     "data": {
      "application/vnd.microsoft.datawrangler.viewer.v0+json": {
       "columns": [
        {
         "name": "index",
         "rawType": "int64",
         "type": "integer"
        },
        {
         "name": "isFusion",
         "rawType": "bool",
         "type": "boolean"
        }
       ],
       "ref": "7cb591fd-6e6e-4bb0-b46f-7e74bc3396f0",
       "rows": [
        [
         "0",
         "True"
        ],
        [
         "1",
         "True"
        ],
        [
         "2",
         "True"
        ],
        [
         "3",
         "True"
        ],
        [
         "4",
         "True"
        ],
        [
         "5",
         "True"
        ],
        [
         "6",
         "True"
        ],
        [
         "7",
         "True"
        ],
        [
         "8",
         "False"
        ],
        [
         "9",
         "False"
        ],
        [
         "10",
         "False"
        ],
        [
         "11",
         "True"
        ],
        [
         "12",
         "True"
        ],
        [
         "13",
         "True"
        ],
        [
         "14",
         "True"
        ],
        [
         "15",
         "True"
        ],
        [
         "16",
         "True"
        ],
        [
         "17",
         "True"
        ],
        [
         "18",
         "True"
        ],
        [
         "19",
         "False"
        ],
        [
         "20",
         "False"
        ],
        [
         "21",
         "False"
        ],
        [
         "22",
         "False"
        ],
        [
         "23",
         "False"
        ],
        [
         "24",
         "False"
        ],
        [
         "25",
         "False"
        ],
        [
         "26",
         "False"
        ],
        [
         "27",
         "False"
        ],
        [
         "28",
         "True"
        ],
        [
         "29",
         "True"
        ],
        [
         "30",
         "True"
        ],
        [
         "31",
         "True"
        ],
        [
         "32",
         "True"
        ],
        [
         "33",
         "True"
        ],
        [
         "34",
         "False"
        ],
        [
         "35",
         "False"
        ],
        [
         "36",
         "False"
        ],
        [
         "37",
         "False"
        ],
        [
         "38",
         "False"
        ],
        [
         "39",
         "False"
        ],
        [
         "40",
         "False"
        ],
        [
         "41",
         "False"
        ],
        [
         "42",
         "False"
        ],
        [
         "43",
         "True"
        ],
        [
         "44",
         "True"
        ],
        [
         "45",
         "True"
        ],
        [
         "46",
         "True"
        ],
        [
         "47",
         "True"
        ],
        [
         "48",
         "False"
        ],
        [
         "49",
         "False"
        ]
       ],
       "shape": {
        "columns": 1,
        "rows": 493
       }
      },
      "text/plain": [
       "0       True\n",
       "1       True\n",
       "2       True\n",
       "3       True\n",
       "4       True\n",
       "       ...  \n",
       "488    False\n",
       "489    False\n",
       "490    False\n",
       "491     True\n",
       "492     True\n",
       "Name: isFusion, Length: 493, dtype: bool"
      ]
     },
     "execution_count": 47,
     "metadata": {},
     "output_type": "execute_result"
    }
   ],
   "source": [
    "mask_fusion = df['isFusion'].astype(int) == 1\n",
    "mask_fusion"
   ]
  },
  {
   "cell_type": "code",
   "execution_count": 49,
   "metadata": {},
   "outputs": [],
   "source": [
    "fission_event = df[~mask_fusion]\n",
    "fusion_event = df[mask_fusion]"
   ]
  },
  {
   "cell_type": "code",
   "execution_count": 50,
   "metadata": {},
   "outputs": [],
   "source": [
    "df_fission = pd.DataFrame({\n",
    "    'frame': fission_event['Frame'],\n",
    "    'isFusion': fission_event['isFusion'],\n",
    "    'x_coordinates': fission_event['x_corr'],\n",
    "    'y_coordinates': fission_event['y_corr'],\n",
    "})\n",
    "\n",
    "df_fusion = pd.DataFrame({\n",
    "    'frame': fusion_event['Frame'],\n",
    "    'isFusion': fusion_event['isFusion'],\n",
    "    'x_coordinates': fusion_event['x_corr'],\n",
    "    'y_coordinates': fusion_event['y_corr'],\n",
    "})"
   ]
  },
  {
   "cell_type": "markdown",
   "metadata": {},
   "source": [
    "# run visualization"
   ]
  },
  {
   "cell_type": "code",
   "execution_count": 32,
   "metadata": {},
   "outputs": [],
   "source": [
    "middle = np.array([1, translation_y- scalling_y, translation_x-scalling_x])[np.newaxis, :]  # shape (1, 3)\n",
    "for i in range(1, im.shape[0]):\n",
    "    new_row = np.array([i+1, translation_y-scalling_y, translation_x-scalling_x])[np.newaxis, :]\n",
    "    middle = np.vstack((middle, new_row))"
   ]
  },
  {
   "cell_type": "code",
   "execution_count": 33,
   "metadata": {},
   "outputs": [
    {
     "data": {
      "text/plain": [
       "'\\nmiddle = np.array([1, 200, 200])[np.newaxis, :]  # shape (1, 3)\\nfor i in range(1, im.shape[0]):\\n    new_row = np.array([i+1, 200, 200])[np.newaxis, :]\\n    middle = np.vstack((middle, new_row))\\n'"
      ]
     },
     "execution_count": 33,
     "metadata": {},
     "output_type": "execute_result"
    }
   ],
   "source": [
    "'''\n",
    "middle = np.array([1, 200, 200])[np.newaxis, :]  # shape (1, 3)\n",
    "for i in range(1, im.shape[0]):\n",
    "    new_row = np.array([i+1, 200, 200])[np.newaxis, :]\n",
    "    middle = np.vstack((middle, new_row))\n",
    "'''\n"
   ]
  },
  {
   "cell_type": "code",
   "execution_count": 34,
   "metadata": {},
   "outputs": [],
   "source": [
    "# Y is in the first column and X is in the second. \n",
    "test_coord = [np.array([2,0,0]), np.array([2,422.5,0]), np.array([2,845,0]), \n",
    "              np.array([2,0,336]), np.array([2,0,672]), np.array([2,422.5,336]),np.array([  2    , 302.5515, 404.3512])]\n",
    "label = [0,1,2,3,4,5,9] "
   ]
  },
  {
   "cell_type": "code",
   "execution_count": 35,
   "metadata": {},
   "outputs": [],
   "source": [
    "#show image\n",
    "viewer = napari.Viewer()\n",
    "viewer.add_labels(im, name =\"labeled image\")\n",
    "viewer.add_points(middle, face_color='white', size =2, name = \"central point\")\n",
    "viewer.add_points(fusion_coords, face_color='yellow', size =2, name = \"fussion\")\n",
    "viewer.add_points(fission_coords, face_color='green', size =2, name = \"fission\")\n",
    "viewer.add_points(test_coord, face_color='yellow', size =1 , text = label, name = \"label number\")\n",
    "napari.run()\n",
    "\n",
    "#TODO is it the correct position of this iamghe"
   ]
  },
  {
   "cell_type": "code",
   "execution_count": 36,
   "metadata": {},
   "outputs": [
    {
     "data": {
      "text/plain": [
       "'\\n#show image\\nviewer = napari.Viewer()\\nviewer.add_labels(im, name =\"labeled image\")\\nviewer.add_points(middle, face_color=\\'white\\', size =5, name = \"label number\")\\nviewer.add_points(test_coord, face_color=\\'yellow\\', size =1 , text = label, name = \"label number\")\\nnapari.run()\\n'"
      ]
     },
     "execution_count": 36,
     "metadata": {},
     "output_type": "execute_result"
    }
   ],
   "source": [
    "'''\n",
    "#show image\n",
    "viewer = napari.Viewer()\n",
    "viewer.add_labels(im, name =\"labeled image\")\n",
    "viewer.add_points(middle, face_color='white', size =5, name = \"label number\")\n",
    "viewer.add_points(test_coord, face_color='yellow', size =1 , text = label, name = \"label number\")\n",
    "napari.run()\n",
    "'''\n"
   ]
  }
 ],
 "metadata": {
  "kernelspec": {
   "display_name": "napari-env",
   "language": "python",
   "name": "python3"
  },
  "language_info": {
   "codemirror_mode": {
    "name": "ipython",
    "version": 3
   },
   "file_extension": ".py",
   "mimetype": "text/x-python",
   "name": "python",
   "nbconvert_exporter": "python",
   "pygments_lexer": "ipython3",
   "version": "3.10.15"
  }
 },
 "nbformat": 4,
 "nbformat_minor": 2
}
